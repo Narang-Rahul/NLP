{
  "nbformat": 4,
  "nbformat_minor": 0,
  "metadata": {
    "colab": {
      "name": "NLP _Project_Round_2(18UCS036-18UCS100-18UCS101)",
      "provenance": [],
      "collapsed_sections": []
    },
    "kernelspec": {
      "display_name": "Python 3",
      "name": "python3"
    }
  },
  "cells": [
    {
      "cell_type": "code",
      "metadata": {
        "colab": {
          "base_uri": "https://localhost:8080/"
        },
        "id": "h20G4B7GPyMj",
        "outputId": "5f5ea71e-8b8f-4702-eac3-28d5ce28ee77"
      },
      "source": [
        "# Load the Drive helper and mount\n",
        "from google.colab import drive\n",
        "drive.mount('/content/drive') "
      ],
      "execution_count": 149,
      "outputs": [
        {
          "output_type": "stream",
          "text": [
            "Drive already mounted at /content/drive; to attempt to forcibly remount, call drive.mount(\"/content/drive\", force_remount=True).\n"
          ],
          "name": "stdout"
        }
      ]
    },
    {
      "cell_type": "code",
      "metadata": {
        "colab": {
          "base_uri": "https://localhost:8080/"
        },
        "id": "b0YFoGAdQPST",
        "outputId": "a3298504-acb2-4530-f1b2-824f4c051b05"
      },
      "source": [
        "import os\n",
        "import re\n",
        "import pandas as pd\n",
        "import plotly.express as px\n",
        "import spacy \n",
        "import numpy as np\n",
        "import inflect\n",
        "from collections import OrderedDict\n",
        "os.chdir(\"/content/drive/My Drive/NLP\")\n",
        "!ls"
      ],
      "execution_count": 150,
      "outputs": [
        {
          "output_type": "stream",
          "text": [
            " demofile2.txt\t\t    'moby dic.txt'\t   Uly.txt\n",
            "'moby dic_clean.txt'\t     Uly_clean.txt\n",
            "'moby dic_final_clean.txt'   Uly_final_clean.txt\n"
          ],
          "name": "stdout"
        }
      ]
    },
    {
      "cell_type": "code",
      "metadata": {
        "colab": {
          "base_uri": "https://localhost:8080/"
        },
        "id": "xlit9OgwQqRI",
        "outputId": "a9e3ddf4-28fc-476c-cd17-bb9ae2e9643d"
      },
      "source": [
        "import nltk,re, pprint\n",
        "from nltk import word_tokenize\n",
        "from nltk import pos_tag\n",
        "from nltk.corpus import stopwords\n",
        "from wordcloud import WordCloud, STOPWORDS \n",
        "import matplotlib.pyplot as plt\n",
        "from nltk import FreqDist\n",
        "from nltk.stem.porter import PorterStemmer\n",
        "\n",
        "nltk.download('brown')\n",
        "nltk.download('tagsets') \n",
        "nltk.download('averaged_perceptron_tagger')\n",
        "nltk.download('punkt')\n",
        "nltk.download('stopwords')"
      ],
      "execution_count": 151,
      "outputs": [
        {
          "output_type": "stream",
          "text": [
            "[nltk_data] Downloading package brown to /root/nltk_data...\n",
            "[nltk_data]   Package brown is already up-to-date!\n",
            "[nltk_data] Downloading package tagsets to /root/nltk_data...\n",
            "[nltk_data]   Package tagsets is already up-to-date!\n",
            "[nltk_data] Downloading package averaged_perceptron_tagger to\n",
            "[nltk_data]     /root/nltk_data...\n",
            "[nltk_data]   Package averaged_perceptron_tagger is already up-to-\n",
            "[nltk_data]       date!\n",
            "[nltk_data] Downloading package punkt to /root/nltk_data...\n",
            "[nltk_data]   Package punkt is already up-to-date!\n",
            "[nltk_data] Downloading package stopwords to /root/nltk_data...\n",
            "[nltk_data]   Package stopwords is already up-to-date!\n"
          ],
          "name": "stdout"
        },
        {
          "output_type": "execute_result",
          "data": {
            "text/plain": [
              "True"
            ]
          },
          "metadata": {
            "tags": []
          },
          "execution_count": 151
        }
      ]
    },
    {
      "cell_type": "code",
      "metadata": {
        "id": "hurg5hw_RmGv"
      },
      "source": [
        "# Moby Dick or The Whale, Novel by Herman Melville\n",
        "\n",
        "f = open('moby dic.txt')\n",
        "t1 = f.read()"
      ],
      "execution_count": 152,
      "outputs": []
    },
    {
      "cell_type": "code",
      "metadata": {
        "colab": {
          "base_uri": "https://localhost:8080/",
          "height": 69
        },
        "id": "CEA_S7x_SQ34",
        "outputId": "ac34a812-b568-4b5d-968c-8dfca54c3349"
      },
      "source": [
        "#lets first look at what we have read\n",
        "t1[:500] #print first 500 character"
      ],
      "execution_count": 153,
      "outputs": [
        {
          "output_type": "execute_result",
          "data": {
            "application/vnd.google.colaboratory.intrinsic+json": {
              "type": "string"
            },
            "text/plain": [
              "'\\ufeff\\nThe Project Gutenberg EBook of Moby Dick; or The Whale, by Herman\\nMelville\\n\\nThis eBook is for the use of anyone anywhere at no cost and with almost\\nno restrictions whatsoever.  You may copy it, give it away or re-use it\\nunder the terms of the Project Gutenberg License included with this\\neBook or online at www.gutenberg.org\\n\\n\\nTitle: Moby Dick; or The Whale\\n\\nAuthor: Herman Melville\\n\\nRelease Date: December 25, 2008 [EBook #2701] Last Updated: December 3,\\n2017\\n\\nLanguage: English\\n\\nCharacter set enc'"
            ]
          },
          "metadata": {
            "tags": []
          },
          "execution_count": 153
        }
      ]
    },
    {
      "cell_type": "code",
      "metadata": {
        "id": "3nXvr_vyg63i"
      },
      "source": [
        "#since the data is not clean, manually removing thing such as table of contents and also the last section of license by Guenberg "
      ],
      "execution_count": 154,
      "outputs": []
    },
    {
      "cell_type": "code",
      "metadata": {
        "colab": {
          "base_uri": "https://localhost:8080/",
          "height": 69
        },
        "id": "zlhjs1YelJxN",
        "outputId": "974c393f-189a-4aad-fb2f-f66f040e6b67"
      },
      "source": [
        "#lets see how the new data looks like\n",
        "f = open('moby dic_clean.txt')\n",
        "t1 = f.read()\n",
        "t1[:500]"
      ],
      "execution_count": 155,
      "outputs": [
        {
          "output_type": "execute_result",
          "data": {
            "application/vnd.google.colaboratory.intrinsic+json": {
              "type": "string"
            },
            "text/plain": [
              "'\\ufeff\\nCHAPTER 1. Loomings.\\n\\nCall me Ishmael. Some years ago—never mind how long precisely—having\\nlittle or no money in my purse, and nothing particular to interest me\\non shore, I thought I would sail about a little and see the watery part\\nof the world. It is a way I have of driving off the spleen and\\nregulating the circulation. Whenever I find myself growing grim about\\nthe mouth; whenever it is a damp, drizzly November in my soul; whenever\\nI find myself involuntarily pausing before coffin warehouses'"
            ]
          },
          "metadata": {
            "tags": []
          },
          "execution_count": 155
        }
      ]
    },
    {
      "cell_type": "code",
      "metadata": {
        "colab": {
          "base_uri": "https://localhost:8080/"
        },
        "id": "LQuHbY3Fmzr_",
        "outputId": "733d482d-9dc5-4112-851b-db5f2943fa70"
      },
      "source": [
        "#better but we would like to delete all the chapter titles and so on\n",
        "#but lets first find them\n",
        "\n",
        "chapter = re.findall(r'CHAPTER \\d+. [\\w| ]+',t1)\n",
        "print(len(chapter))\n",
        "print(chapter[:10])"
      ],
      "execution_count": 156,
      "outputs": [
        {
          "output_type": "stream",
          "text": [
            "135\n",
            "['CHAPTER 1. Loomings', 'CHAPTER 2. The Carpet', 'CHAPTER 3. The Spouter', 'CHAPTER 4. The Counterpane', 'CHAPTER 5. Breakfast', 'CHAPTER 6. The Street', 'CHAPTER 7. The Chapel', 'CHAPTER 8. The Pulpit', 'CHAPTER 9. The Sermon', 'CHAPTER 10. A Bosom Friend']\n"
          ],
          "name": "stdout"
        }
      ]
    },
    {
      "cell_type": "code",
      "metadata": {
        "id": "G7LY2UT9niY2"
      },
      "source": [
        "#since we know there are 135 chapters in moby dick, our regex is working\n",
        "#now lets remove them\n",
        "t1 = re.sub(r'CHAPTER \\d+. [\\w| ]+','',t1) "
      ],
      "execution_count": 157,
      "outputs": []
    },
    {
      "cell_type": "code",
      "metadata": {
        "colab": {
          "base_uri": "https://localhost:8080/",
          "height": 69
        },
        "id": "XiMlvYyCpemu",
        "outputId": "866e451d-e229-4bfe-926d-1ad7fd0e7f04"
      },
      "source": [
        "#now lets see that chapter names are removed or not\n",
        "t1[:500]"
      ],
      "execution_count": 158,
      "outputs": [
        {
          "output_type": "execute_result",
          "data": {
            "application/vnd.google.colaboratory.intrinsic+json": {
              "type": "string"
            },
            "text/plain": [
              "'\\ufeff\\n.\\n\\nCall me Ishmael. Some years ago—never mind how long precisely—having\\nlittle or no money in my purse, and nothing particular to interest me\\non shore, I thought I would sail about a little and see the watery part\\nof the world. It is a way I have of driving off the spleen and\\nregulating the circulation. Whenever I find myself growing grim about\\nthe mouth; whenever it is a damp, drizzly November in my soul; whenever\\nI find myself involuntarily pausing before coffin warehouses, and\\nbringing up t'"
            ]
          },
          "metadata": {
            "tags": []
          },
          "execution_count": 158
        }
      ]
    },
    {
      "cell_type": "code",
      "metadata": {
        "colab": {
          "base_uri": "https://localhost:8080/"
        },
        "id": "HZmoiChcplpD",
        "outputId": "18c4cbfe-8938-4c32-f8bb-f57e4b134925"
      },
      "source": [
        "special = re.findall(r'\\w+[^a-zA-z ]+\\w+',t1)\n",
        "print(special[:10])\n",
        "special = re.findall(r\"\\w+\\n\\w+\",t1)\n",
        "print(special[:10])\n",
        "special = re.findall(r\"[^0-9a-zA-Z]+\",t1)\n",
        "print(special[:10])\n"
      ],
      "execution_count": 159,
      "outputs": [
        {
          "output_type": "stream",
          "text": [
            "['ago—never', 'precisely—having', 'me\\non', 'part\\nof', 'and\\nregulating', 'about\\nthe', 'whenever\\nI', 'and\\nbringing', 'whenever\\nmy', 'moral\\nprinciple']\n",
            "['having\\nlittle', 'me\\non', 'part\\nof', 'and\\nregulating', 'about\\nthe', 'whenever\\nI', 'and\\nbringing', 'whenever\\nmy', 'moral\\nprinciple', 'and\\nmethodically']\n",
            "['\\ufeff\\n.\\n\\n', ' ', ' ', '. ', ' ', ' ', '—', ' ', ' ', ' ']\n"
          ],
          "name": "stdout"
        }
      ]
    },
    {
      "cell_type": "code",
      "metadata": {
        "colab": {
          "base_uri": "https://localhost:8080/",
          "height": 69
        },
        "id": "oxIJY-3zqXHb",
        "outputId": "b259d675-7e63-494d-f798-f053dcab5a9f"
      },
      "source": [
        "#now we would like to split the words with \\n with a space\n",
        "t1 = re.sub(r'\\n',' ',t1) \n",
        "t1[:500]"
      ],
      "execution_count": 160,
      "outputs": [
        {
          "output_type": "execute_result",
          "data": {
            "application/vnd.google.colaboratory.intrinsic+json": {
              "type": "string"
            },
            "text/plain": [
              "'\\ufeff .  Call me Ishmael. Some years ago—never mind how long precisely—having little or no money in my purse, and nothing particular to interest me on shore, I thought I would sail about a little and see the watery part of the world. It is a way I have of driving off the spleen and regulating the circulation. Whenever I find myself growing grim about the mouth; whenever it is a damp, drizzly November in my soul; whenever I find myself involuntarily pausing before coffin warehouses, and bringing up t'"
            ]
          },
          "metadata": {
            "tags": []
          },
          "execution_count": 160
        }
      ]
    },
    {
      "cell_type": "code",
      "metadata": {
        "colab": {
          "base_uri": "https://localhost:8080/"
        },
        "id": "j7GDAPBGsTsA",
        "outputId": "df935655-2813-4f06-be0d-7066f3fc8c1a"
      },
      "source": [
        "special = re.findall(r'\\ufeff .',t1)\r\n",
        "print(special)\r\n"
      ],
      "execution_count": 161,
      "outputs": [
        {
          "output_type": "stream",
          "text": [
            "['\\ufeff .']\n"
          ],
          "name": "stdout"
        }
      ]
    },
    {
      "cell_type": "code",
      "metadata": {
        "colab": {
          "base_uri": "https://localhost:8080/",
          "height": 69
        },
        "id": "cVRziyvYyEVb",
        "outputId": "aefb46f5-8923-499d-cbdb-f6ecbcdbbe2f"
      },
      "source": [
        "t1 = re.sub(r'\\ufeff .','',t1)\r\n",
        "t1[:500]"
      ],
      "execution_count": 162,
      "outputs": [
        {
          "output_type": "execute_result",
          "data": {
            "application/vnd.google.colaboratory.intrinsic+json": {
              "type": "string"
            },
            "text/plain": [
              "'  Call me Ishmael. Some years ago—never mind how long precisely—having little or no money in my purse, and nothing particular to interest me on shore, I thought I would sail about a little and see the watery part of the world. It is a way I have of driving off the spleen and regulating the circulation. Whenever I find myself growing grim about the mouth; whenever it is a damp, drizzly November in my soul; whenever I find myself involuntarily pausing before coffin warehouses, and bringing up the '"
            ]
          },
          "metadata": {
            "tags": []
          },
          "execution_count": 162
        }
      ]
    },
    {
      "cell_type": "code",
      "metadata": {
        "colab": {
          "base_uri": "https://localhost:8080/",
          "height": 69
        },
        "id": "BARbv7Tc0A-H",
        "outputId": "6ba84f7d-e847-4e15-e398-2e7257811429"
      },
      "source": [
        "# now lets load our second book\n",
        "f = open('Uly.txt')\n",
        "t2 = f.read()\n",
        "t2[:500]"
      ],
      "execution_count": 163,
      "outputs": [
        {
          "output_type": "execute_result",
          "data": {
            "application/vnd.google.colaboratory.intrinsic+json": {
              "type": "string"
            },
            "text/plain": [
              "'\\ufeff\\nThe Project Gutenberg EBook of Ulysses, by James Joyce\\n\\nThis eBook is for the use of anyone anywhere at no cost and with\\nalmost no restrictions whatsoever. You may copy it, give it away or\\nre-use it under the terms of the Project Gutenberg License included\\nwith this eBook or online at www.gutenberg.org\\n\\n\\nTitle: Ulysses\\n\\nAuthor: James Joyce\\n\\nRelease Date: August 1, 2008 [EBook #4300]\\nLast Updated: December 27, 2019\\n\\nLanguage: English\\n\\nCharacter set encoding: UTF-8\\n\\n*** START OF THIS PROJECT GUT'"
            ]
          },
          "metadata": {
            "tags": []
          },
          "execution_count": 163
        }
      ]
    },
    {
      "cell_type": "code",
      "metadata": {
        "colab": {
          "base_uri": "https://localhost:8080/",
          "height": 69
        },
        "id": "OYyEklBQ0jqB",
        "outputId": "37ef7326-f377-4afb-f2f7-6e506f874798"
      },
      "source": [
        "#since the data is not clean, manually removing thing such as table of contents and also the last section of license by Guenberg \n",
        "#lets see how the new data looks like\n",
        "f = open('Uly_clean.txt')\n",
        "t2 = f.read()\n",
        "t2[:500]"
      ],
      "execution_count": 164,
      "outputs": [
        {
          "output_type": "execute_result",
          "data": {
            "application/vnd.google.colaboratory.intrinsic+json": {
              "type": "string"
            },
            "text/plain": [
              "'\\ufeff\\n— I —\\n\\n\\n[ 1 ]\\n\\nStately, plump Buck Mulligan came from the stairhead, bearing a bowl of\\nlather on which a mirror and a razor lay crossed. A yellow\\ndressinggown, ungirdled, was sustained gently behind him on the mild\\nmorning air. He held the bowl aloft and intoned:\\n\\n—_Introibo ad altare Dei_.\\n\\nHalted, he peered down the dark winding stairs and called out coarsely:\\n\\n—Come up, Kinch! Come up, you fearful jesuit!\\n\\nSolemnly he came forward and mounted the round gunrest. He faced about\\nand blessed gr'"
            ]
          },
          "metadata": {
            "tags": []
          },
          "execution_count": 164
        }
      ]
    },
    {
      "cell_type": "code",
      "metadata": {
        "colab": {
          "base_uri": "https://localhost:8080/"
        },
        "id": "LkLXWQC51AJS",
        "outputId": "832a672a-9587-48f0-e258-0fb5d93a30cf"
      },
      "source": [
        "#better but we would like to delete all the chapter 1 and so on\n",
        "#but lets first find them\n",
        "\n",
        "chapter2 = re.findall(r'\\[ \\d+ \\]',t2)\n",
        "print(len(chapter2))\n",
        "print(chapter2[:10])"
      ],
      "execution_count": 165,
      "outputs": [
        {
          "output_type": "stream",
          "text": [
            "18\n",
            "['[ 1 ]', '[ 2 ]', '[ 3 ]', '[ 4 ]', '[ 5 ]', '[ 6 ]', '[ 7 ]', '[ 8 ]', '[ 9 ]', '[ 10 ]']\n"
          ],
          "name": "stdout"
        }
      ]
    },
    {
      "cell_type": "code",
      "metadata": {
        "colab": {
          "base_uri": "https://localhost:8080/",
          "height": 52
        },
        "id": "iPFj5-5e1WMO",
        "outputId": "54127c82-247b-4b04-de90-d06091cb8057"
      },
      "source": [
        "t2 = re.sub(r'\\[ \\d+ \\]',\"\",t2)\n",
        "t2[:250] "
      ],
      "execution_count": 166,
      "outputs": [
        {
          "output_type": "execute_result",
          "data": {
            "application/vnd.google.colaboratory.intrinsic+json": {
              "type": "string"
            },
            "text/plain": [
              "'\\ufeff\\n— I —\\n\\n\\n\\n\\nStately, plump Buck Mulligan came from the stairhead, bearing a bowl of\\nlather on which a mirror and a razor lay crossed. A yellow\\ndressinggown, ungirdled, was sustained gently behind him on the mild\\nmorning air. He held the bowl aloft an'"
            ]
          },
          "metadata": {
            "tags": []
          },
          "execution_count": 166
        }
      ]
    },
    {
      "cell_type": "code",
      "metadata": {
        "colab": {
          "base_uri": "https://localhost:8080/",
          "height": 69
        },
        "id": "lZLDBJfJ2ei-",
        "outputId": "3aa6f5aa-6798-46af-d8ae-05e3607d9619"
      },
      "source": [
        "#now we would like to split the words with \\n with a space\n",
        "t2 = re.sub(r'\\n',' ',t2) \n",
        "t2[:500]"
      ],
      "execution_count": 167,
      "outputs": [
        {
          "output_type": "execute_result",
          "data": {
            "application/vnd.google.colaboratory.intrinsic+json": {
              "type": "string"
            },
            "text/plain": [
              "'\\ufeff — I —     Stately, plump Buck Mulligan came from the stairhead, bearing a bowl of lather on which a mirror and a razor lay crossed. A yellow dressinggown, ungirdled, was sustained gently behind him on the mild morning air. He held the bowl aloft and intoned:  —_Introibo ad altare Dei_.  Halted, he peered down the dark winding stairs and called out coarsely:  —Come up, Kinch! Come up, you fearful jesuit!  Solemnly he came forward and mounted the round gunrest. He faced about and blessed gravely'"
            ]
          },
          "metadata": {
            "tags": []
          },
          "execution_count": 167
        }
      ]
    },
    {
      "cell_type": "code",
      "metadata": {
        "colab": {
          "base_uri": "https://localhost:8080/",
          "height": 69
        },
        "id": "6cLjybvMtRVJ",
        "outputId": "5e981f57-ee98-4247-aa09-5bd3bc944e49"
      },
      "source": [
        "t2 = re.sub(r'[  ]+',' ',t2) \r\n",
        "t2[:500]"
      ],
      "execution_count": 168,
      "outputs": [
        {
          "output_type": "execute_result",
          "data": {
            "application/vnd.google.colaboratory.intrinsic+json": {
              "type": "string"
            },
            "text/plain": [
              "'\\ufeff — I — Stately, plump Buck Mulligan came from the stairhead, bearing a bowl of lather on which a mirror and a razor lay crossed. A yellow dressinggown, ungirdled, was sustained gently behind him on the mild morning air. He held the bowl aloft and intoned: —_Introibo ad altare Dei_. Halted, he peered down the dark winding stairs and called out coarsely: —Come up, Kinch! Come up, you fearful jesuit! Solemnly he came forward and mounted the round gunrest. He faced about and blessed gravely thrice '"
            ]
          },
          "metadata": {
            "tags": []
          },
          "execution_count": 168
        }
      ]
    },
    {
      "cell_type": "code",
      "metadata": {
        "colab": {
          "base_uri": "https://localhost:8080/"
        },
        "id": "A4tANto2tpel",
        "outputId": "78c5faa2-6d9b-4e4c-a8b0-766478e36810"
      },
      "source": [
        "special = re.findall(r'\\w+[^a-zA-z ]+\\w+',t2)\r\n",
        "print(special[:10])\r\n",
        "special = re.findall(r\"\\w+\\n\\w+\",t2)\r\n",
        "print(special[:10])\r\n",
        "special = re.findall(r\"[^0-9a-zA-Z]+\",t2)\r\n",
        "print(special[:10])"
      ],
      "execution_count": 169,
      "outputs": [
        {
          "output_type": "stream",
          "text": [
            "['preacher’s', 'Mulligan’s', 'hasn’t', 'isn’t', 'you’re', 'can’t', 'knife-blade', 'don’t', 'I’m', 'Stephen’s']\n",
            "[]\n",
            "['\\ufeff — ', ' — ', ', ', ' ', ' ', ' ', ' ', ' ', ' ', ', ']\n"
          ],
          "name": "stdout"
        }
      ]
    },
    {
      "cell_type": "code",
      "metadata": {
        "colab": {
          "base_uri": "https://localhost:8080/",
          "height": 69
        },
        "id": "wAZS958X2oms",
        "outputId": "53be0178-5ebc-4021-a247-ea7dc4e99ecb"
      },
      "source": [
        "#now we would like to split the words with special characters with a space\n",
        "t2 = re.sub(r'\\ufeff — ','',t2) \n",
        "t2[:500]"
      ],
      "execution_count": 170,
      "outputs": [
        {
          "output_type": "execute_result",
          "data": {
            "application/vnd.google.colaboratory.intrinsic+json": {
              "type": "string"
            },
            "text/plain": [
              "'I — Stately, plump Buck Mulligan came from the stairhead, bearing a bowl of lather on which a mirror and a razor lay crossed. A yellow dressinggown, ungirdled, was sustained gently behind him on the mild morning air. He held the bowl aloft and intoned: —_Introibo ad altare Dei_. Halted, he peered down the dark winding stairs and called out coarsely: —Come up, Kinch! Come up, you fearful jesuit! Solemnly he came forward and mounted the round gunrest. He faced about and blessed gravely thrice the '"
            ]
          },
          "metadata": {
            "tags": []
          },
          "execution_count": 170
        }
      ]
    },
    {
      "cell_type": "code",
      "metadata": {
        "colab": {
          "base_uri": "https://localhost:8080/"
        },
        "id": "CWGL3mCx36l0",
        "outputId": "c19e4495-7ac1-4e39-c3ea-5b248d405850"
      },
      "source": [
        "#lets calculate the total tokens(number of words) of each book\n",
        "token_t1=word_tokenize(t1)\n",
        "token_t2=word_tokenize(t2)\n",
        "print(len(token_t1))\n",
        "print(\"- Moby Dick\\n\")\n",
        "print(len(token_t2))\n",
        "print(\"- Ulysses\\n\")"
      ],
      "execution_count": 171,
      "outputs": [
        {
          "output_type": "stream",
          "text": [
            "249652\n",
            "- Moby Dick\n",
            "\n",
            "322802\n",
            "- Ulysses\n",
            "\n"
          ],
          "name": "stdout"
        }
      ]
    },
    {
      "cell_type": "code",
      "metadata": {
        "colab": {
          "base_uri": "https://localhost:8080/"
        },
        "id": "NpUaA6FT6saN",
        "outputId": "62d11d5a-605b-4511-c9fb-042c254eb0ba"
      },
      "source": [
        "#vocabulary of each book\n",
        "vocab1 = list(set(token_t1))\n",
        "print(len(vocab1))\n",
        "print(\"- Moby Dick\\n\")\n",
        "vocab2 = list(set(token_t2))\n",
        "print(len(vocab2))\n",
        "print(\"- Ulysses\\n\")"
      ],
      "execution_count": 172,
      "outputs": [
        {
          "output_type": "stream",
          "text": [
            "21171\n",
            "- Moby Dick\n",
            "\n",
            "35020\n",
            "- Ulysses\n",
            "\n"
          ],
          "name": "stdout"
        }
      ]
    },
    {
      "cell_type": "code",
      "metadata": {
        "id": "Wt-aYRuH1rQg"
      },
      "source": [
        "#tagging t1 using penn treebank tagger\n",
        "tag1 = pos_tag(token_t1)\n",
        "tag2 = pos_tag(token_t2)"
      ],
      "execution_count": 173,
      "outputs": []
    },
    {
      "cell_type": "code",
      "metadata": {
        "colab": {
          "base_uri": "https://localhost:8080/"
        },
        "id": "DnX3LBFg2eBc",
        "outputId": "0d7e55b5-2902-45ec-b9ef-486af1c50b51"
      },
      "source": [
        "tag1[:20]"
      ],
      "execution_count": 174,
      "outputs": [
        {
          "output_type": "execute_result",
          "data": {
            "text/plain": [
              "[('Call', 'VB'),\n",
              " ('me', 'PRP'),\n",
              " ('Ishmael', 'NNP'),\n",
              " ('.', '.'),\n",
              " ('Some', 'DT'),\n",
              " ('years', 'NNS'),\n",
              " ('ago—never', 'RB'),\n",
              " ('mind', 'VB'),\n",
              " ('how', 'WRB'),\n",
              " ('long', 'JJ'),\n",
              " ('precisely—having', 'JJ'),\n",
              " ('little', 'JJ'),\n",
              " ('or', 'CC'),\n",
              " ('no', 'DT'),\n",
              " ('money', 'NN'),\n",
              " ('in', 'IN'),\n",
              " ('my', 'PRP$'),\n",
              " ('purse', 'NN'),\n",
              " (',', ','),\n",
              " ('and', 'CC')]"
            ]
          },
          "metadata": {
            "tags": []
          },
          "execution_count": 174
        }
      ]
    },
    {
      "cell_type": "code",
      "metadata": {
        "colab": {
          "base_uri": "https://localhost:8080/"
        },
        "id": "f2qKAzsJ2pQ6",
        "outputId": "291ecfe8-041a-406a-b094-cff0364e6f64"
      },
      "source": [
        "tag2[:20]"
      ],
      "execution_count": 175,
      "outputs": [
        {
          "output_type": "execute_result",
          "data": {
            "text/plain": [
              "[('I', 'PRP'),\n",
              " ('—', 'VBP'),\n",
              " ('Stately', 'RB'),\n",
              " (',', ','),\n",
              " ('plump', 'JJ'),\n",
              " ('Buck', 'NNP'),\n",
              " ('Mulligan', 'NNP'),\n",
              " ('came', 'VBD'),\n",
              " ('from', 'IN'),\n",
              " ('the', 'DT'),\n",
              " ('stairhead', 'NN'),\n",
              " (',', ','),\n",
              " ('bearing', 'VBG'),\n",
              " ('a', 'DT'),\n",
              " ('bowl', 'NN'),\n",
              " ('of', 'IN'),\n",
              " ('lather', 'NN'),\n",
              " ('on', 'IN'),\n",
              " ('which', 'WDT'),\n",
              " ('a', 'DT')]"
            ]
          },
          "metadata": {
            "tags": []
          },
          "execution_count": 175
        }
      ]
    },
    {
      "cell_type": "code",
      "metadata": {
        "id": "JAy4CKG9-O6f"
      },
      "source": [
        "tag_fd1 = nltk.FreqDist(tag for (word, tag) in tag1)\n",
        "tag_fd2 = nltk.FreqDist(tag for (word, tag) in tag2)"
      ],
      "execution_count": 176,
      "outputs": []
    },
    {
      "cell_type": "code",
      "metadata": {
        "colab": {
          "base_uri": "https://localhost:8080/"
        },
        "id": "DTL4qHtC-dlU",
        "outputId": "85fb4915-9bab-43f9-d027-ec015cfaf926"
      },
      "source": [
        "tag_fd1.most_common(5)"
      ],
      "execution_count": 177,
      "outputs": [
        {
          "output_type": "execute_result",
          "data": {
            "text/plain": [
              "[('NN', 34434), ('IN', 28202), ('DT', 25060), ('JJ', 18967), (',', 18924)]"
            ]
          },
          "metadata": {
            "tags": []
          },
          "execution_count": 177
        }
      ]
    },
    {
      "cell_type": "code",
      "metadata": {
        "colab": {
          "base_uri": "https://localhost:8080/"
        },
        "id": "bwCypg_B-qUy",
        "outputId": "be1c81b6-c0ed-4ae9-cb64-17931dbfac87"
      },
      "source": [
        "tag_fd2.most_common(5)"
      ],
      "execution_count": 178,
      "outputs": [
        {
          "output_type": "execute_result",
          "data": {
            "text/plain": [
              "[('NN', 51156), ('IN', 32332), ('NNP', 27268), ('DT', 26074), ('.', 23712)]"
            ]
          },
          "metadata": {
            "tags": []
          },
          "execution_count": 178
        }
      ]
    },
    {
      "cell_type": "code",
      "metadata": {
        "id": "Z72YWaXW-6LX"
      },
      "source": [
        "dic1 = dict(tag_fd1)"
      ],
      "execution_count": 179,
      "outputs": []
    },
    {
      "cell_type": "code",
      "metadata": {
        "colab": {
          "base_uri": "https://localhost:8080/",
          "height": 407
        },
        "id": "yFYOFvtQA3dX",
        "outputId": "76b87be9-0795-4b6e-9c9a-d710f86a386c"
      },
      "source": [
        "list1 =sorted(dic1.items(), key=lambda x: x[1], reverse=True)\n",
        "\n",
        "x=list(map(lambda x: x[0], list1))\n",
        "y=list(map(lambda x: x[1], list1))\n",
        "plt.figure(figsize = (6, 6), facecolor = None) \n",
        "plt.bar(x[:10],y[:10])\n",
        "plt.title(\"Top 10 POS tags of Moby Dick\")"
      ],
      "execution_count": 180,
      "outputs": [
        {
          "output_type": "execute_result",
          "data": {
            "text/plain": [
              "Text(0.5, 1.0, 'Top 10 POS tags of Moby Dick')"
            ]
          },
          "metadata": {
            "tags": []
          },
          "execution_count": 180
        },
        {
          "output_type": "display_data",
          "data": {
            "image/png": "[encoded data removed]",
            "text/plain": [
              "<Figure size 432x432 with 1 Axes>"
            ]
          },
          "metadata": {
            "tags": [],
            "needs_background": "light"
          }
        }
      ]
    },
    {
      "cell_type": "code",
      "metadata": {
        "colab": {
          "base_uri": "https://localhost:8080/",
          "height": 407
        },
        "id": "75_7hF67DQok",
        "outputId": "d221499a-3775-4919-85a4-5776f86468af"
      },
      "source": [
        "dic2 = dict(tag_fd2)\n",
        "list2 =sorted(dic2.items(), key=lambda x: x[1], reverse=True)\n",
        "\n",
        "x=list(map(lambda x: x[0], list2))\n",
        "y=list(map(lambda x: x[1], list2))\n",
        "plt.figure(figsize = (6, 6), facecolor = None) \n",
        "plt.bar(x[:10],y[:10])\n",
        "plt.title(\"Top 10 POS tags of Ulysses\")"
      ],
      "execution_count": 181,
      "outputs": [
        {
          "output_type": "execute_result",
          "data": {
            "text/plain": [
              "Text(0.5, 1.0, 'Top 10 POS tags of Ulysses')"
            ]
          },
          "metadata": {
            "tags": []
          },
          "execution_count": 181
        },
        {
          "output_type": "display_data",
          "data": {
            "image/png": "[encoded data removed]",
            "text/plain": [
              "<Figure size 432x432 with 1 Axes>"
            ]
          },
          "metadata": {
            "tags": [],
            "needs_background": "light"
          }
        }
      ]
    },
    {
      "cell_type": "markdown",
      "metadata": {
        "id": "57HmsQTAJg69"
      },
      "source": [
        "# **Project Round- 2**\r\n",
        "**Part - 1**\r\n",
        "\r\n",
        "\r\n"
      ]
    },
    {
      "cell_type": "code",
      "metadata": {
        "colab": {
          "base_uri": "https://localhost:8080/"
        },
        "id": "PirIXVD7sTLk",
        "outputId": "41200773-d3a4-4949-da58-713e4c8a3200"
      },
      "source": [
        "from nltk.corpus import wordnet as wn\r\n",
        "nltk.download('wordnet')"
      ],
      "execution_count": 182,
      "outputs": [
        {
          "output_type": "stream",
          "text": [
            "[nltk_data] Downloading package wordnet to /root/nltk_data...\n",
            "[nltk_data]   Package wordnet is already up-to-date!\n"
          ],
          "name": "stdout"
        },
        {
          "output_type": "execute_result",
          "data": {
            "text/plain": [
              "True"
            ]
          },
          "metadata": {
            "tags": []
          },
          "execution_count": 182
        }
      ]
    },
    {
      "cell_type": "code",
      "metadata": {
        "id": "7b-v5t7v0zPh"
      },
      "source": [
        "#All the noun and verb tags are included in the noun set and verb set respectively\r\n",
        "nn_set = ['NN','NNS','NNP','NNPS']\r\n",
        "vb_set = ['VB','VBD','VBG','VBN','VBP','VBZ']"
      ],
      "execution_count": 183,
      "outputs": []
    },
    {
      "cell_type": "code",
      "metadata": {
        "colab": {
          "base_uri": "https://localhost:8080/"
        },
        "id": "st4TVe4haSBK",
        "outputId": "1658853e-5489-410b-dfb7-342737474f36"
      },
      "source": [
        "#searching for words tagged with elements of set of nouns and verbs\r\n",
        "tag1_nn = [tag for tag in tag1 if tag[1] in nn_set] \r\n",
        "tag1_vb = [tag for tag in tag1 if tag[1] in vb_set]\r\n",
        "print(tag1_nn[:10])\r\n",
        "print(tag1_vb[:10])\r\n",
        "#counting the total number of nouns and verbs\r\n",
        "noun_num1=len(tag1_nn)\r\n",
        "verb_num1=len(tag1_vb)\r\n",
        "data1 = [['Nouns', noun_num1], ['Verbs', verb_num1]]\r\n",
        "df1 = pd.DataFrame(data1, columns = ['category', 'count'])\r\n",
        "print(noun_num1)\r\n",
        "print(verb_num1)     "
      ],
      "execution_count": 184,
      "outputs": [
        {
          "output_type": "stream",
          "text": [
            "[('Ishmael', 'NNP'), ('years', 'NNS'), ('money', 'NN'), ('purse', 'NN'), ('nothing', 'NN'), ('interest', 'NN'), ('shore', 'NN'), ('part', 'NN'), ('world', 'NN'), ('way', 'NN')]\n",
            "[('Call', 'VB'), ('mind', 'VB'), ('thought', 'VBD'), ('sail', 'VB'), ('see', 'VB'), ('is', 'VBZ'), ('have', 'VBP'), ('driving', 'VBG'), ('regulating', 'VBG'), ('find', 'VBP')]\n",
            "55829\n",
            "33974\n"
          ],
          "name": "stdout"
        }
      ]
    },
    {
      "cell_type": "code",
      "metadata": {
        "colab": {
          "base_uri": "https://localhost:8080/",
          "height": 542
        },
        "id": "qJSpQj-Dakyb",
        "outputId": "976396a9-2bfa-4315-a852-c103100aa20a"
      },
      "source": [
        "#plotting graph for number of nouns and verbs(We are using plotly express to plot the graphs)\r\n",
        "fig = px.bar(df1, x=\"category\",y=\"count\", color='category')\r\n",
        "fig.show()"
      ],
      "execution_count": 185,
      "outputs": [
        {
          "output_type": "display_data",
          "data": {
            "text/html": [
              "<html>\n",
              "<head><meta charset=\"utf-8\" /></head>\n",
              "<body>\n",
              "    <div>\n",
              "            <script src=\"https://cdnjs.cloudflare.com/ajax/libs/mathjax/2.7.5/MathJax.js?config=TeX-AMS-MML_SVG\"></script><script type=\"text/javascript\">if (window.MathJax) {MathJax.Hub.Config({SVG: {font: \"STIX-Web\"}});}</script>\n",
              "                <script type=\"text/javascript\">window.PlotlyConfig = {MathJaxConfig: 'local'};</script>\n",
              "        <script src=\"https://cdn.plot.ly/plotly-latest.min.js\"></script>    \n",
              "            <div id=\"4b347fe0-5feb-4840-9e71-75c0560a1b30\" class=\"plotly-graph-div\" style=\"height:525px; width:100%;\"></div>\n",
              "            <script type=\"text/javascript\">\n",
              "                \n",
              "                    window.PLOTLYENV=window.PLOTLYENV || {};\n",
              "                    \n",
              "                if (document.getElementById(\"4b347fe0-5feb-4840-9e71-75c0560a1b30\")) {\n",
              "                    Plotly.newPlot(\n",
              "                        '4b347fe0-5feb-4840-9e71-75c0560a1b30',\n",
              "                        [{\"alignmentgroup\": \"True\", \"hoverlabel\": {\"namelength\": 0}, \"hovertemplate\": \"category=%{x}<br>count=%{y}\", \"legendgroup\": \"category=Nouns\", \"marker\": {\"color\": \"#636efa\"}, \"name\": \"category=Nouns\", \"offsetgroup\": \"category=Nouns\", \"orientation\": \"v\", \"showlegend\": true, \"textposition\": \"auto\", \"type\": \"bar\", \"x\": [\"Nouns\"], \"xaxis\": \"x\", \"y\": [55829], \"yaxis\": \"y\"}, {\"alignmentgroup\": \"True\", \"hoverlabel\": {\"namelength\": 0}, \"hovertemplate\": \"category=%{x}<br>count=%{y}\", \"legendgroup\": \"category=Verbs\", \"marker\": {\"color\": \"#EF553B\"}, \"name\": \"category=Verbs\", \"offsetgroup\": \"category=Verbs\", \"orientation\": \"v\", \"showlegend\": true, \"textposition\": \"auto\", \"type\": \"bar\", \"x\": [\"Verbs\"], \"xaxis\": \"x\", \"y\": [33974], \"yaxis\": \"y\"}],\n",
              "                        {\"barmode\": \"relative\", \"legend\": {\"tracegroupgap\": 0}, \"margin\": {\"t\": 60}, \"template\": {\"data\": {\"bar\": [{\"error_x\": {\"color\": \"#2a3f5f\"}, \"error_y\": {\"color\": \"#2a3f5f\"}, \"marker\": {\"line\": {\"color\": \"#E5ECF6\", \"width\": 0.5}}, \"type\": \"bar\"}], \"barpolar\": [{\"marker\": {\"line\": {\"color\": \"#E5ECF6\", \"width\": 0.5}}, \"type\": \"barpolar\"}], \"carpet\": [{\"aaxis\": {\"endlinecolor\": \"#2a3f5f\", \"gridcolor\": \"white\", \"linecolor\": \"white\", \"minorgridcolor\": \"white\", \"startlinecolor\": \"#2a3f5f\"}, \"baxis\": {\"endlinecolor\": \"#2a3f5f\", \"gridcolor\": \"white\", \"linecolor\": \"white\", \"minorgridcolor\": \"white\", \"startlinecolor\": \"#2a3f5f\"}, \"type\": \"carpet\"}], \"choropleth\": [{\"colorbar\": {\"outlinewidth\": 0, \"ticks\": \"\"}, \"type\": \"choropleth\"}], \"contour\": [{\"colorbar\": {\"outlinewidth\": 0, \"ticks\": \"\"}, \"colorscale\": [[0.0, \"#0d0887\"], [0.1111111111111111, \"#46039f\"], [0.2222222222222222, \"#7201a8\"], [0.3333333333333333, \"#9c179e\"], [0.4444444444444444, \"#bd3786\"], [0.5555555555555556, \"#d8576b\"], [0.6666666666666666, \"#ed7953\"], [0.7777777777777778, \"#fb9f3a\"], [0.8888888888888888, \"#fdca26\"], [1.0, \"#f0f921\"]], \"type\": \"contour\"}], \"contourcarpet\": [{\"colorbar\": {\"outlinewidth\": 0, \"ticks\": \"\"}, \"type\": \"contourcarpet\"}], \"heatmap\": [{\"colorbar\": {\"outlinewidth\": 0, \"ticks\": \"\"}, \"colorscale\": [[0.0, \"#0d0887\"], [0.1111111111111111, \"#46039f\"], [0.2222222222222222, \"#7201a8\"], [0.3333333333333333, \"#9c179e\"], [0.4444444444444444, \"#bd3786\"], [0.5555555555555556, \"#d8576b\"], [0.6666666666666666, \"#ed7953\"], [0.7777777777777778, \"#fb9f3a\"], [0.8888888888888888, \"#fdca26\"], [1.0, \"#f0f921\"]], \"type\": \"heatmap\"}], \"heatmapgl\": [{\"colorbar\": {\"outlinewidth\": 0, \"ticks\": \"\"}, \"colorscale\": [[0.0, \"#0d0887\"], [0.1111111111111111, \"#46039f\"], [0.2222222222222222, \"#7201a8\"], [0.3333333333333333, \"#9c179e\"], [0.4444444444444444, \"#bd3786\"], [0.5555555555555556, \"#d8576b\"], [0.6666666666666666, \"#ed7953\"], [0.7777777777777778, \"#fb9f3a\"], [0.8888888888888888, \"#fdca26\"], [1.0, \"#f0f921\"]], \"type\": \"heatmapgl\"}], \"histogram\": [{\"marker\": {\"colorbar\": {\"outlinewidth\": 0, \"ticks\": \"\"}}, \"type\": \"histogram\"}], \"histogram2d\": [{\"colorbar\": {\"outlinewidth\": 0, \"ticks\": \"\"}, \"colorscale\": [[0.0, \"#0d0887\"], [0.1111111111111111, \"#46039f\"], [0.2222222222222222, \"#7201a8\"], [0.3333333333333333, \"#9c179e\"], [0.4444444444444444, \"#bd3786\"], [0.5555555555555556, \"#d8576b\"], [0.6666666666666666, \"#ed7953\"], [0.7777777777777778, \"#fb9f3a\"], [0.8888888888888888, \"#fdca26\"], [1.0, \"#f0f921\"]], \"type\": \"histogram2d\"}], \"histogram2dcontour\": [{\"colorbar\": {\"outlinewidth\": 0, \"ticks\": \"\"}, \"colorscale\": [[0.0, \"#0d0887\"], [0.1111111111111111, \"#46039f\"], [0.2222222222222222, \"#7201a8\"], [0.3333333333333333, \"#9c179e\"], [0.4444444444444444, \"#bd3786\"], [0.5555555555555556, \"#d8576b\"], [0.6666666666666666, \"#ed7953\"], [0.7777777777777778, \"#fb9f3a\"], [0.8888888888888888, \"#fdca26\"], [1.0, \"#f0f921\"]], \"type\": \"histogram2dcontour\"}], \"mesh3d\": [{\"colorbar\": {\"outlinewidth\": 0, \"ticks\": \"\"}, \"type\": \"mesh3d\"}], \"parcoords\": [{\"line\": {\"colorbar\": {\"outlinewidth\": 0, \"ticks\": \"\"}}, \"type\": \"parcoords\"}], \"pie\": [{\"automargin\": true, \"type\": \"pie\"}], \"scatter\": [{\"marker\": {\"colorbar\": {\"outlinewidth\": 0, \"ticks\": \"\"}}, \"type\": \"scatter\"}], \"scatter3d\": [{\"line\": {\"colorbar\": {\"outlinewidth\": 0, \"ticks\": \"\"}}, \"marker\": {\"colorbar\": {\"outlinewidth\": 0, \"ticks\": \"\"}}, \"type\": \"scatter3d\"}], \"scattercarpet\": [{\"marker\": {\"colorbar\": {\"outlinewidth\": 0, \"ticks\": \"\"}}, \"type\": \"scattercarpet\"}], \"scattergeo\": [{\"marker\": {\"colorbar\": {\"outlinewidth\": 0, \"ticks\": \"\"}}, \"type\": \"scattergeo\"}], \"scattergl\": [{\"marker\": {\"colorbar\": {\"outlinewidth\": 0, \"ticks\": \"\"}}, \"type\": \"scattergl\"}], \"scattermapbox\": [{\"marker\": {\"colorbar\": {\"outlinewidth\": 0, \"ticks\": \"\"}}, \"type\": \"scattermapbox\"}], \"scatterpolar\": [{\"marker\": {\"colorbar\": {\"outlinewidth\": 0, \"ticks\": \"\"}}, \"type\": \"scatterpolar\"}], \"scatterpolargl\": [{\"marker\": {\"colorbar\": {\"outlinewidth\": 0, \"ticks\": \"\"}}, \"type\": \"scatterpolargl\"}], \"scatterternary\": [{\"marker\": {\"colorbar\": {\"outlinewidth\": 0, \"ticks\": \"\"}}, \"type\": \"scatterternary\"}], \"surface\": [{\"colorbar\": {\"outlinewidth\": 0, \"ticks\": \"\"}, \"colorscale\": [[0.0, \"#0d0887\"], [0.1111111111111111, \"#46039f\"], [0.2222222222222222, \"#7201a8\"], [0.3333333333333333, \"#9c179e\"], [0.4444444444444444, \"#bd3786\"], [0.5555555555555556, \"#d8576b\"], [0.6666666666666666, \"#ed7953\"], [0.7777777777777778, \"#fb9f3a\"], [0.8888888888888888, \"#fdca26\"], [1.0, \"#f0f921\"]], \"type\": \"surface\"}], \"table\": [{\"cells\": {\"fill\": {\"color\": \"#EBF0F8\"}, \"line\": {\"color\": \"white\"}}, \"header\": {\"fill\": {\"color\": \"#C8D4E3\"}, \"line\": {\"color\": \"white\"}}, \"type\": \"table\"}]}, \"layout\": {\"annotationdefaults\": {\"arrowcolor\": \"#2a3f5f\", \"arrowhead\": 0, \"arrowwidth\": 1}, \"coloraxis\": {\"colorbar\": {\"outlinewidth\": 0, \"ticks\": \"\"}}, \"colorscale\": {\"diverging\": [[0, \"#8e0152\"], [0.1, \"#c51b7d\"], [0.2, \"#de77ae\"], [0.3, \"#f1b6da\"], [0.4, \"#fde0ef\"], [0.5, \"#f7f7f7\"], [0.6, \"#e6f5d0\"], [0.7, \"#b8e186\"], [0.8, \"#7fbc41\"], [0.9, \"#4d9221\"], [1, \"#276419\"]], \"sequential\": [[0.0, \"#0d0887\"], [0.1111111111111111, \"#46039f\"], [0.2222222222222222, \"#7201a8\"], [0.3333333333333333, \"#9c179e\"], [0.4444444444444444, \"#bd3786\"], [0.5555555555555556, \"#d8576b\"], [0.6666666666666666, \"#ed7953\"], [0.7777777777777778, \"#fb9f3a\"], [0.8888888888888888, \"#fdca26\"], [1.0, \"#f0f921\"]], \"sequentialminus\": [[0.0, \"#0d0887\"], [0.1111111111111111, \"#46039f\"], [0.2222222222222222, \"#7201a8\"], [0.3333333333333333, \"#9c179e\"], [0.4444444444444444, \"#bd3786\"], [0.5555555555555556, \"#d8576b\"], [0.6666666666666666, \"#ed7953\"], [0.7777777777777778, \"#fb9f3a\"], [0.8888888888888888, \"#fdca26\"], [1.0, \"#f0f921\"]]}, \"colorway\": [\"#636efa\", \"#EF553B\", \"#00cc96\", \"#ab63fa\", \"#FFA15A\", \"#19d3f3\", \"#FF6692\", \"#B6E880\", \"#FF97FF\", \"#FECB52\"], \"font\": {\"color\": \"#2a3f5f\"}, \"geo\": {\"bgcolor\": \"white\", \"lakecolor\": \"white\", \"landcolor\": \"#E5ECF6\", \"showlakes\": true, \"showland\": true, \"subunitcolor\": \"white\"}, \"hoverlabel\": {\"align\": \"left\"}, \"hovermode\": \"closest\", \"mapbox\": {\"style\": \"light\"}, \"paper_bgcolor\": \"white\", \"plot_bgcolor\": \"#E5ECF6\", \"polar\": {\"angularaxis\": {\"gridcolor\": \"white\", \"linecolor\": \"white\", \"ticks\": \"\"}, \"bgcolor\": \"#E5ECF6\", \"radialaxis\": {\"gridcolor\": \"white\", \"linecolor\": \"white\", \"ticks\": \"\"}}, \"scene\": {\"xaxis\": {\"backgroundcolor\": \"#E5ECF6\", \"gridcolor\": \"white\", \"gridwidth\": 2, \"linecolor\": \"white\", \"showbackground\": true, \"ticks\": \"\", \"zerolinecolor\": \"white\"}, \"yaxis\": {\"backgroundcolor\": \"#E5ECF6\", \"gridcolor\": \"white\", \"gridwidth\": 2, \"linecolor\": \"white\", \"showbackground\": true, \"ticks\": \"\", \"zerolinecolor\": \"white\"}, \"zaxis\": {\"backgroundcolor\": \"#E5ECF6\", \"gridcolor\": \"white\", \"gridwidth\": 2, \"linecolor\": \"white\", \"showbackground\": true, \"ticks\": \"\", \"zerolinecolor\": \"white\"}}, \"shapedefaults\": {\"line\": {\"color\": \"#2a3f5f\"}}, \"ternary\": {\"aaxis\": {\"gridcolor\": \"white\", \"linecolor\": \"white\", \"ticks\": \"\"}, \"baxis\": {\"gridcolor\": \"white\", \"linecolor\": \"white\", \"ticks\": \"\"}, \"bgcolor\": \"#E5ECF6\", \"caxis\": {\"gridcolor\": \"white\", \"linecolor\": \"white\", \"ticks\": \"\"}}, \"title\": {\"x\": 0.05}, \"xaxis\": {\"automargin\": true, \"gridcolor\": \"white\", \"linecolor\": \"white\", \"ticks\": \"\", \"title\": {\"standoff\": 15}, \"zerolinecolor\": \"white\", \"zerolinewidth\": 2}, \"yaxis\": {\"automargin\": true, \"gridcolor\": \"white\", \"linecolor\": \"white\", \"ticks\": \"\", \"title\": {\"standoff\": 15}, \"zerolinecolor\": \"white\", \"zerolinewidth\": 2}}}, \"xaxis\": {\"anchor\": \"y\", \"categoryarray\": [\"Nouns\", \"Verbs\"], \"categoryorder\": \"array\", \"domain\": [0.0, 1.0], \"title\": {\"text\": \"category\"}}, \"yaxis\": {\"anchor\": \"x\", \"domain\": [0.0, 1.0], \"title\": {\"text\": \"count\"}}},\n",
              "                        {\"responsive\": true}\n",
              "                    ).then(function(){\n",
              "                            \n",
              "var gd = document.getElementById('4b347fe0-5feb-4840-9e71-75c0560a1b30');\n",
              "var x = new MutationObserver(function (mutations, observer) {{\n",
              "        var display = window.getComputedStyle(gd).display;\n",
              "        if (!display || display === 'none') {{\n",
              "            console.log([gd, 'removed!']);\n",
              "            Plotly.purge(gd);\n",
              "            observer.disconnect();\n",
              "        }}\n",
              "}});\n",
              "\n",
              "// Listen for the removal of the full notebook cells\n",
              "var notebookContainer = gd.closest('#notebook-container');\n",
              "if (notebookContainer) {{\n",
              "    x.observe(notebookContainer, {childList: true});\n",
              "}}\n",
              "\n",
              "// Listen for the clearing of the current output cell\n",
              "var outputEl = gd.closest('.output');\n",
              "if (outputEl) {{\n",
              "    x.observe(outputEl, {childList: true});\n",
              "}}\n",
              "\n",
              "                        })\n",
              "                };\n",
              "                \n",
              "            </script>\n",
              "        </div>\n",
              "</body>\n",
              "</html>"
            ]
          },
          "metadata": {
            "tags": []
          }
        }
      ]
    },
    {
      "cell_type": "code",
      "metadata": {
        "colab": {
          "base_uri": "https://localhost:8080/"
        },
        "id": "1ikrJO7Lwejs",
        "outputId": "edf9f669-e7b8-473f-8aa7-30c6bc36e43e"
      },
      "source": [
        "#searching for words tagged with elements of set of nouns and verbs\r\n",
        "tag2_nn = [tag for tag in tag2 if tag[1] in nn_set] \r\n",
        "tag2_vb = [tag for tag in tag2 if tag[1] in vb_set]\r\n",
        "print(tag2_nn[:10])\r\n",
        "print(tag2_vb[:10])\r\n",
        "#counting the total number of nouns and verbs\r\n",
        "noun_num2=len(tag2_nn)\r\n",
        "verb_num2=len(tag2_vb)\r\n",
        "data2 = [['Nouns', noun_num2], ['Verbs', verb_num2]]\r\n",
        "df2 = pd.DataFrame(data2, columns = ['category', 'count'])\r\n",
        "print(noun_num2)\r\n",
        "print(verb_num2)   "
      ],
      "execution_count": 186,
      "outputs": [
        {
          "output_type": "stream",
          "text": [
            "[('Buck', 'NNP'), ('Mulligan', 'NNP'), ('stairhead', 'NN'), ('bowl', 'NN'), ('lather', 'NN'), ('mirror', 'NN'), ('razor', 'NN'), ('lay', 'NN'), ('dressinggown', 'NN'), ('morning', 'NN')]\n",
            "[('—', 'VBP'), ('came', 'VBD'), ('bearing', 'VBG'), ('crossed', 'VBN'), ('was', 'VBD'), ('sustained', 'VBN'), ('held', 'VBD'), ('peered', 'VBD'), ('winding', 'VBG'), ('called', 'VBD')]\n",
            "90724\n",
            "43822\n"
          ],
          "name": "stdout"
        }
      ]
    },
    {
      "cell_type": "code",
      "metadata": {
        "colab": {
          "base_uri": "https://localhost:8080/",
          "height": 542
        },
        "id": "zx3zguX2cgMt",
        "outputId": "3acb7ab1-e050-40a0-8b21-73ff5a15a84d"
      },
      "source": [
        "#plotting graph for number of nouns and verbs(We are using plotly express to plot the graphs)\r\n",
        "fig = px.bar(df2, x=\"category\",y=\"count\", color='category')\r\n",
        "fig.show()"
      ],
      "execution_count": 187,
      "outputs": [
        {
          "output_type": "display_data",
          "data": {
            "text/html": [
              "<html>\n",
              "<head><meta charset=\"utf-8\" /></head>\n",
              "<body>\n",
              "    <div>\n",
              "            <script src=\"https://cdnjs.cloudflare.com/ajax/libs/mathjax/2.7.5/MathJax.js?config=TeX-AMS-MML_SVG\"></script><script type=\"text/javascript\">if (window.MathJax) {MathJax.Hub.Config({SVG: {font: \"STIX-Web\"}});}</script>\n",
              "                <script type=\"text/javascript\">window.PlotlyConfig = {MathJaxConfig: 'local'};</script>\n",
              "        <script src=\"https://cdn.plot.ly/plotly-latest.min.js\"></script>    \n",
              "            <div id=\"8bdae254-4991-4fda-bbe7-651af427c1d0\" class=\"plotly-graph-div\" style=\"height:525px; width:100%;\"></div>\n",
              "            <script type=\"text/javascript\">\n",
              "                \n",
              "                    window.PLOTLYENV=window.PLOTLYENV || {};\n",
              "                    \n",
              "                if (document.getElementById(\"8bdae254-4991-4fda-bbe7-651af427c1d0\")) {\n",
              "                    Plotly.newPlot(\n",
              "                        '8bdae254-4991-4fda-bbe7-651af427c1d0',\n",
              "                        [{\"alignmentgroup\": \"True\", \"hoverlabel\": {\"namelength\": 0}, \"hovertemplate\": \"category=%{x}<br>count=%{y}\", \"legendgroup\": \"category=Nouns\", \"marker\": {\"color\": \"#636efa\"}, \"name\": \"category=Nouns\", \"offsetgroup\": \"category=Nouns\", \"orientation\": \"v\", \"showlegend\": true, \"textposition\": \"auto\", \"type\": \"bar\", \"x\": [\"Nouns\"], \"xaxis\": \"x\", \"y\": [90724], \"yaxis\": \"y\"}, {\"alignmentgroup\": \"True\", \"hoverlabel\": {\"namelength\": 0}, \"hovertemplate\": \"category=%{x}<br>count=%{y}\", \"legendgroup\": \"category=Verbs\", \"marker\": {\"color\": \"#EF553B\"}, \"name\": \"category=Verbs\", \"offsetgroup\": \"category=Verbs\", \"orientation\": \"v\", \"showlegend\": true, \"textposition\": \"auto\", \"type\": \"bar\", \"x\": [\"Verbs\"], \"xaxis\": \"x\", \"y\": [43822], \"yaxis\": \"y\"}],\n",
              "                        {\"barmode\": \"relative\", \"legend\": {\"tracegroupgap\": 0}, \"margin\": {\"t\": 60}, \"template\": {\"data\": {\"bar\": [{\"error_x\": {\"color\": \"#2a3f5f\"}, \"error_y\": {\"color\": \"#2a3f5f\"}, \"marker\": {\"line\": {\"color\": \"#E5ECF6\", \"width\": 0.5}}, \"type\": \"bar\"}], \"barpolar\": [{\"marker\": {\"line\": {\"color\": \"#E5ECF6\", \"width\": 0.5}}, \"type\": \"barpolar\"}], \"carpet\": [{\"aaxis\": {\"endlinecolor\": \"#2a3f5f\", \"gridcolor\": \"white\", \"linecolor\": \"white\", \"minorgridcolor\": \"white\", \"startlinecolor\": \"#2a3f5f\"}, \"baxis\": {\"endlinecolor\": \"#2a3f5f\", \"gridcolor\": \"white\", \"linecolor\": \"white\", \"minorgridcolor\": \"white\", \"startlinecolor\": \"#2a3f5f\"}, \"type\": \"carpet\"}], \"choropleth\": [{\"colorbar\": {\"outlinewidth\": 0, \"ticks\": \"\"}, \"type\": \"choropleth\"}], \"contour\": [{\"colorbar\": {\"outlinewidth\": 0, \"ticks\": \"\"}, \"colorscale\": [[0.0, \"#0d0887\"], [0.1111111111111111, \"#46039f\"], [0.2222222222222222, \"#7201a8\"], [0.3333333333333333, \"#9c179e\"], [0.4444444444444444, \"#bd3786\"], [0.5555555555555556, \"#d8576b\"], [0.6666666666666666, \"#ed7953\"], [0.7777777777777778, \"#fb9f3a\"], [0.8888888888888888, \"#fdca26\"], [1.0, \"#f0f921\"]], \"type\": \"contour\"}], \"contourcarpet\": [{\"colorbar\": {\"outlinewidth\": 0, \"ticks\": \"\"}, \"type\": \"contourcarpet\"}], \"heatmap\": [{\"colorbar\": {\"outlinewidth\": 0, \"ticks\": \"\"}, \"colorscale\": [[0.0, \"#0d0887\"], [0.1111111111111111, \"#46039f\"], [0.2222222222222222, \"#7201a8\"], [0.3333333333333333, \"#9c179e\"], [0.4444444444444444, \"#bd3786\"], [0.5555555555555556, \"#d8576b\"], [0.6666666666666666, \"#ed7953\"], [0.7777777777777778, \"#fb9f3a\"], [0.8888888888888888, \"#fdca26\"], [1.0, \"#f0f921\"]], \"type\": \"heatmap\"}], \"heatmapgl\": [{\"colorbar\": {\"outlinewidth\": 0, \"ticks\": \"\"}, \"colorscale\": [[0.0, \"#0d0887\"], [0.1111111111111111, \"#46039f\"], [0.2222222222222222, \"#7201a8\"], [0.3333333333333333, \"#9c179e\"], [0.4444444444444444, \"#bd3786\"], [0.5555555555555556, \"#d8576b\"], [0.6666666666666666, \"#ed7953\"], [0.7777777777777778, \"#fb9f3a\"], [0.8888888888888888, \"#fdca26\"], [1.0, \"#f0f921\"]], \"type\": \"heatmapgl\"}], \"histogram\": [{\"marker\": {\"colorbar\": {\"outlinewidth\": 0, \"ticks\": \"\"}}, \"type\": \"histogram\"}], \"histogram2d\": [{\"colorbar\": {\"outlinewidth\": 0, \"ticks\": \"\"}, \"colorscale\": [[0.0, \"#0d0887\"], [0.1111111111111111, \"#46039f\"], [0.2222222222222222, \"#7201a8\"], [0.3333333333333333, \"#9c179e\"], [0.4444444444444444, \"#bd3786\"], [0.5555555555555556, \"#d8576b\"], [0.6666666666666666, \"#ed7953\"], [0.7777777777777778, \"#fb9f3a\"], [0.8888888888888888, \"#fdca26\"], [1.0, \"#f0f921\"]], \"type\": \"histogram2d\"}], \"histogram2dcontour\": [{\"colorbar\": {\"outlinewidth\": 0, \"ticks\": \"\"}, \"colorscale\": [[0.0, \"#0d0887\"], [0.1111111111111111, \"#46039f\"], [0.2222222222222222, \"#7201a8\"], [0.3333333333333333, \"#9c179e\"], [0.4444444444444444, \"#bd3786\"], [0.5555555555555556, \"#d8576b\"], [0.6666666666666666, \"#ed7953\"], [0.7777777777777778, \"#fb9f3a\"], [0.8888888888888888, \"#fdca26\"], [1.0, \"#f0f921\"]], \"type\": \"histogram2dcontour\"}], \"mesh3d\": [{\"colorbar\": {\"outlinewidth\": 0, \"ticks\": \"\"}, \"type\": \"mesh3d\"}], \"parcoords\": [{\"line\": {\"colorbar\": {\"outlinewidth\": 0, \"ticks\": \"\"}}, \"type\": \"parcoords\"}], \"pie\": [{\"automargin\": true, \"type\": \"pie\"}], \"scatter\": [{\"marker\": {\"colorbar\": {\"outlinewidth\": 0, \"ticks\": \"\"}}, \"type\": \"scatter\"}], \"scatter3d\": [{\"line\": {\"colorbar\": {\"outlinewidth\": 0, \"ticks\": \"\"}}, \"marker\": {\"colorbar\": {\"outlinewidth\": 0, \"ticks\": \"\"}}, \"type\": \"scatter3d\"}], \"scattercarpet\": [{\"marker\": {\"colorbar\": {\"outlinewidth\": 0, \"ticks\": \"\"}}, \"type\": \"scattercarpet\"}], \"scattergeo\": [{\"marker\": {\"colorbar\": {\"outlinewidth\": 0, \"ticks\": \"\"}}, \"type\": \"scattergeo\"}], \"scattergl\": [{\"marker\": {\"colorbar\": {\"outlinewidth\": 0, \"ticks\": \"\"}}, \"type\": \"scattergl\"}], \"scattermapbox\": [{\"marker\": {\"colorbar\": {\"outlinewidth\": 0, \"ticks\": \"\"}}, \"type\": \"scattermapbox\"}], \"scatterpolar\": [{\"marker\": {\"colorbar\": {\"outlinewidth\": 0, \"ticks\": \"\"}}, \"type\": \"scatterpolar\"}], \"scatterpolargl\": [{\"marker\": {\"colorbar\": {\"outlinewidth\": 0, \"ticks\": \"\"}}, \"type\": \"scatterpolargl\"}], \"scatterternary\": [{\"marker\": {\"colorbar\": {\"outlinewidth\": 0, \"ticks\": \"\"}}, \"type\": \"scatterternary\"}], \"surface\": [{\"colorbar\": {\"outlinewidth\": 0, \"ticks\": \"\"}, \"colorscale\": [[0.0, \"#0d0887\"], [0.1111111111111111, \"#46039f\"], [0.2222222222222222, \"#7201a8\"], [0.3333333333333333, \"#9c179e\"], [0.4444444444444444, \"#bd3786\"], [0.5555555555555556, \"#d8576b\"], [0.6666666666666666, \"#ed7953\"], [0.7777777777777778, \"#fb9f3a\"], [0.8888888888888888, \"#fdca26\"], [1.0, \"#f0f921\"]], \"type\": \"surface\"}], \"table\": [{\"cells\": {\"fill\": {\"color\": \"#EBF0F8\"}, \"line\": {\"color\": \"white\"}}, \"header\": {\"fill\": {\"color\": \"#C8D4E3\"}, \"line\": {\"color\": \"white\"}}, \"type\": \"table\"}]}, \"layout\": {\"annotationdefaults\": {\"arrowcolor\": \"#2a3f5f\", \"arrowhead\": 0, \"arrowwidth\": 1}, \"coloraxis\": {\"colorbar\": {\"outlinewidth\": 0, \"ticks\": \"\"}}, \"colorscale\": {\"diverging\": [[0, \"#8e0152\"], [0.1, \"#c51b7d\"], [0.2, \"#de77ae\"], [0.3, \"#f1b6da\"], [0.4, \"#fde0ef\"], [0.5, \"#f7f7f7\"], [0.6, \"#e6f5d0\"], [0.7, \"#b8e186\"], [0.8, \"#7fbc41\"], [0.9, \"#4d9221\"], [1, \"#276419\"]], \"sequential\": [[0.0, \"#0d0887\"], [0.1111111111111111, \"#46039f\"], [0.2222222222222222, \"#7201a8\"], [0.3333333333333333, \"#9c179e\"], [0.4444444444444444, \"#bd3786\"], [0.5555555555555556, \"#d8576b\"], [0.6666666666666666, \"#ed7953\"], [0.7777777777777778, \"#fb9f3a\"], [0.8888888888888888, \"#fdca26\"], [1.0, \"#f0f921\"]], \"sequentialminus\": [[0.0, \"#0d0887\"], [0.1111111111111111, \"#46039f\"], [0.2222222222222222, \"#7201a8\"], [0.3333333333333333, \"#9c179e\"], [0.4444444444444444, \"#bd3786\"], [0.5555555555555556, \"#d8576b\"], [0.6666666666666666, \"#ed7953\"], [0.7777777777777778, \"#fb9f3a\"], [0.8888888888888888, \"#fdca26\"], [1.0, \"#f0f921\"]]}, \"colorway\": [\"#636efa\", \"#EF553B\", \"#00cc96\", \"#ab63fa\", \"#FFA15A\", \"#19d3f3\", \"#FF6692\", \"#B6E880\", \"#FF97FF\", \"#FECB52\"], \"font\": {\"color\": \"#2a3f5f\"}, \"geo\": {\"bgcolor\": \"white\", \"lakecolor\": \"white\", \"landcolor\": \"#E5ECF6\", \"showlakes\": true, \"showland\": true, \"subunitcolor\": \"white\"}, \"hoverlabel\": {\"align\": \"left\"}, \"hovermode\": \"closest\", \"mapbox\": {\"style\": \"light\"}, \"paper_bgcolor\": \"white\", \"plot_bgcolor\": \"#E5ECF6\", \"polar\": {\"angularaxis\": {\"gridcolor\": \"white\", \"linecolor\": \"white\", \"ticks\": \"\"}, \"bgcolor\": \"#E5ECF6\", \"radialaxis\": {\"gridcolor\": \"white\", \"linecolor\": \"white\", \"ticks\": \"\"}}, \"scene\": {\"xaxis\": {\"backgroundcolor\": \"#E5ECF6\", \"gridcolor\": \"white\", \"gridwidth\": 2, \"linecolor\": \"white\", \"showbackground\": true, \"ticks\": \"\", \"zerolinecolor\": \"white\"}, \"yaxis\": {\"backgroundcolor\": \"#E5ECF6\", \"gridcolor\": \"white\", \"gridwidth\": 2, \"linecolor\": \"white\", \"showbackground\": true, \"ticks\": \"\", \"zerolinecolor\": \"white\"}, \"zaxis\": {\"backgroundcolor\": \"#E5ECF6\", \"gridcolor\": \"white\", \"gridwidth\": 2, \"linecolor\": \"white\", \"showbackground\": true, \"ticks\": \"\", \"zerolinecolor\": \"white\"}}, \"shapedefaults\": {\"line\": {\"color\": \"#2a3f5f\"}}, \"ternary\": {\"aaxis\": {\"gridcolor\": \"white\", \"linecolor\": \"white\", \"ticks\": \"\"}, \"baxis\": {\"gridcolor\": \"white\", \"linecolor\": \"white\", \"ticks\": \"\"}, \"bgcolor\": \"#E5ECF6\", \"caxis\": {\"gridcolor\": \"white\", \"linecolor\": \"white\", \"ticks\": \"\"}}, \"title\": {\"x\": 0.05}, \"xaxis\": {\"automargin\": true, \"gridcolor\": \"white\", \"linecolor\": \"white\", \"ticks\": \"\", \"title\": {\"standoff\": 15}, \"zerolinecolor\": \"white\", \"zerolinewidth\": 2}, \"yaxis\": {\"automargin\": true, \"gridcolor\": \"white\", \"linecolor\": \"white\", \"ticks\": \"\", \"title\": {\"standoff\": 15}, \"zerolinecolor\": \"white\", \"zerolinewidth\": 2}}}, \"xaxis\": {\"anchor\": \"y\", \"categoryarray\": [\"Nouns\", \"Verbs\"], \"categoryorder\": \"array\", \"domain\": [0.0, 1.0], \"title\": {\"text\": \"category\"}}, \"yaxis\": {\"anchor\": \"x\", \"domain\": [0.0, 1.0], \"title\": {\"text\": \"count\"}}},\n",
              "                        {\"responsive\": true}\n",
              "                    ).then(function(){\n",
              "                            \n",
              "var gd = document.getElementById('8bdae254-4991-4fda-bbe7-651af427c1d0');\n",
              "var x = new MutationObserver(function (mutations, observer) {{\n",
              "        var display = window.getComputedStyle(gd).display;\n",
              "        if (!display || display === 'none') {{\n",
              "            console.log([gd, 'removed!']);\n",
              "            Plotly.purge(gd);\n",
              "            observer.disconnect();\n",
              "        }}\n",
              "}});\n",
              "\n",
              "// Listen for the removal of the full notebook cells\n",
              "var notebookContainer = gd.closest('#notebook-container');\n",
              "if (notebookContainer) {{\n",
              "    x.observe(notebookContainer, {childList: true});\n",
              "}}\n",
              "\n",
              "// Listen for the clearing of the current output cell\n",
              "var outputEl = gd.closest('.output');\n",
              "if (outputEl) {{\n",
              "    x.observe(outputEl, {childList: true});\n",
              "}}\n",
              "\n",
              "                        })\n",
              "                };\n",
              "                \n",
              "            </script>\n",
              "        </div>\n",
              "</body>\n",
              "</html>"
            ]
          },
          "metadata": {
            "tags": []
          }
        }
      ]
    },
    {
      "cell_type": "code",
      "metadata": {
        "colab": {
          "base_uri": "https://localhost:8080/"
        },
        "id": "yXCUKO-F5gT3",
        "outputId": "54e3e50b-c485-4b17-bac2-732109df783b"
      },
      "source": [
        "!pip install pywsd\r\n",
        "!pip install -U wn==0.0.23"
      ],
      "execution_count": 188,
      "outputs": [
        {
          "output_type": "stream",
          "text": [
            "Requirement already satisfied: pywsd in /usr/local/lib/python3.6/dist-packages (1.2.4)\n",
            "Requirement already satisfied: numpy in /usr/local/lib/python3.6/dist-packages (from pywsd) (1.19.4)\n",
            "Requirement already satisfied: nltk in /usr/local/lib/python3.6/dist-packages (from pywsd) (3.2.5)\n",
            "Requirement already satisfied: pandas in /usr/local/lib/python3.6/dist-packages (from pywsd) (1.1.5)\n",
            "Requirement already satisfied: six in /usr/local/lib/python3.6/dist-packages (from pywsd) (1.15.0)\n",
            "Requirement already satisfied: wn in /usr/local/lib/python3.6/dist-packages (from pywsd) (0.0.23)\n",
            "Requirement already satisfied: python-dateutil>=2.7.3 in /usr/local/lib/python3.6/dist-packages (from pandas->pywsd) (2.8.1)\n",
            "Requirement already satisfied: pytz>=2017.2 in /usr/local/lib/python3.6/dist-packages (from pandas->pywsd) (2018.9)\n",
            "Requirement already up-to-date: wn==0.0.23 in /usr/local/lib/python3.6/dist-packages (0.0.23)\n"
          ],
          "name": "stdout"
        }
      ]
    },
    {
      "cell_type": "markdown",
      "metadata": {
        "id": "AmYG_brDrD-J"
      },
      "source": [
        "Book-1"
      ]
    },
    {
      "cell_type": "code",
      "metadata": {
        "colab": {
          "base_uri": "https://localhost:8080/"
        },
        "id": "UGdZfqlk4igk",
        "outputId": "fab22008-b690-4847-d5f5-f9d17b03c5d3"
      },
      "source": [
        "#making a list of sentences from book1\r\n",
        "sentence_list1 = nltk.sent_tokenize(t1)\r\n",
        "\r\n",
        "print(sentence_list1[:5])"
      ],
      "execution_count": 240,
      "outputs": [
        {
          "output_type": "stream",
          "text": [
            "['  Call me Ishmael.', 'Some years ago—never mind how long precisely—having little or no money in my purse, and nothing particular to interest me on shore, I thought I would sail about a little and see the watery part of the world.', 'It is a way I have of driving off the spleen and regulating the circulation.', 'Whenever I find myself growing grim about the mouth; whenever it is a damp, drizzly November in my soul; whenever I find myself involuntarily pausing before coffin warehouses, and bringing up the rear of every funeral I meet; and especially whenever my hypos get such an upper hand of me, that it requires a strong moral principle to prevent me from deliberately stepping into the street, and methodically knocking people’s hats off—then, I account it high time to get to sea as soon as I can.', 'This is my substitute for pistol and ball.']\n"
          ],
          "name": "stdout"
        }
      ]
    },
    {
      "cell_type": "code",
      "metadata": {
        "id": "fuFuhZj_nON7"
      },
      "source": [
        "#disambiguation of word senses is performed\r\n",
        "from pywsd import disambiguate\r\n",
        "\r\n",
        "disambiguated_list1 = []\r\n",
        "for s in sentence_list1:\r\n",
        "  disambiguated_list1.append(disambiguate(s))"
      ],
      "execution_count": 190,
      "outputs": []
    },
    {
      "cell_type": "code",
      "metadata": {
        "colab": {
          "base_uri": "https://localhost:8080/"
        },
        "id": "KZRc6NDjtP8I",
        "outputId": "1e151cfd-ae76-4ad5-ff0e-f4cb3d8a9eb4"
      },
      "source": [
        "print(disambiguated_list1[:5])"
      ],
      "execution_count": 191,
      "outputs": [
        {
          "output_type": "stream",
          "text": [
            "[[('Call', Synset('visit.v.03')), ('me', None), ('Ishmael', Synset('outcast.n.01')), ('.', None)], [('Some', None), ('years', Synset('year.n.02')), ('ago—never', None), ('mind', Synset('take_care.v.02')), ('how', None), ('long', Synset('retentive.a.01')), ('precisely—having', None), ('little', Synset('little.a.02')), ('or', None), ('no', None), ('money', Synset('money.n.03')), ('in', None), ('my', None), ('purse', Synset('purse.n.04')), (',', None), ('and', None), ('nothing', Synset('nothing.n.01')), ('particular', Synset('particular.s.04')), ('to', None), ('interest', Synset('interest.n.05')), ('me', None), ('on', None), ('shore', Synset('shore.n.02')), (',', None), ('I', None), ('thought', Synset('think.v.11')), ('I', None), ('would', None), ('sail', Synset('voyage.v.01')), ('about', None), ('a', None), ('little', Synset('little.a.02')), ('and', None), ('see', Synset('watch.v.03')), ('the', None), ('watery', Synset('watery.s.04')), ('part', Synset('share.n.01')), ('of', None), ('the', None), ('world', Synset('world.n.06')), ('.', None)], [('It', None), ('is', None), ('a', None), ('way', Synset('way.n.12')), ('I', None), ('have', None), ('of', None), ('driving', Synset('tug.v.02')), ('off', None), ('the', None), ('spleen', Synset('spleen.n.01')), ('and', None), ('regulating', Synset('regulate.v.02')), ('the', None), ('circulation', Synset('circulation.n.06')), ('.', None)], [('Whenever', None), ('I', None), ('find', Synset('find.v.10')), ('myself', None), ('growing', Synset('mature.v.01')), ('grim', Synset('blue.s.08')), ('about', None), ('the', None), ('mouth', Synset('sass.n.01')), (';', None), ('whenever', None), ('it', None), ('is', None), ('a', None), ('damp', Synset('damp.n.01')), (',', None), ('drizzly', Synset('drippy.s.01')), ('November', Synset('november.n.01')), ('in', None), ('my', None), ('soul', Synset('soul.n.05')), (';', None), ('whenever', None), ('I', None), ('find', Synset('find.v.10')), ('myself', None), ('involuntarily', Synset('involuntarily.r.01')), ('pausing', Synset('pause.v.02')), ('before', None), ('coffin', Synset('coffin.n.01')), ('warehouses', Synset('warehouse.n.01')), (',', None), ('and', None), ('bringing', Synset('bring.v.04')), ('up', None), ('the', None), ('rear', Synset('buttocks.n.01')), ('of', None), ('every', Synset('every.s.02')), ('funeral', Synset('funeral.n.01')), ('I', None), ('meet', Synset('touch.v.05')), (';', None), ('and', None), ('especially', Synset('specially.r.01')), ('whenever', None), ('my', None), ('hypos', Synset('hypodermic_syringe.n.01')), ('get', Synset('get_down.v.07')), ('such', None), ('an', None), ('upper', Synset('upper.s.02')), ('hand', Synset('hand.n.06')), ('of', None), ('me', None), (',', None), ('that', None), ('it', None), ('requires', Synset('ask.v.04')), ('a', None), ('strong', Synset('hard.s.10')), ('moral', Synset('moral.a.01')), ('principle', Synset('rationale.n.01')), ('to', None), ('prevent', Synset('prevent.v.02')), ('me', None), ('from', None), ('deliberately', Synset('measuredly.r.01')), ('stepping', Synset('mistreat.v.01')), ('into', None), ('the', None), ('street', Synset('street.n.05')), (',', None), ('and', None), ('methodically', Synset('methodically.r.01')), ('knocking', Synset('knock.v.06')), ('people', Synset('people.n.03')), ('’', None), ('s', None), ('hats', Synset('hat.n.02')), ('off—then', None), (',', None), ('I', None), ('account', Synset('report.v.01')), ('it', None), ('high', Synset('high.s.07')), ('time', Synset('fourth_dimension.n.01')), ('to', None), ('get', Synset('get_down.v.07')), ('to', None), ('sea', Synset('sea.n.03')), ('as', None), ('soon', Synset('soon.r.01')), ('as', None), ('I', None), ('can', None), ('.', None)], [('This', None), ('is', None), ('my', None), ('substitute', Synset('substitute.n.02')), ('for', None), ('pistol', Synset('pistol.n.01')), ('and', None), ('ball', Synset('testis.n.01')), ('.', None)]]\n"
          ],
          "name": "stdout"
        }
      ]
    },
    {
      "cell_type": "code",
      "metadata": {
        "id": "QMrJU9AYKf8F"
      },
      "source": [
        "ln1 = []                                  #storing the lexnames in a list\r\n",
        "for s in disambiguated_list1:\r\n",
        "  for w in s:\r\n",
        "    if type(w[1])==type(None):\r\n",
        "      continue\r\n",
        "    ln1.append((w[0],w[1].lexname()))"
      ],
      "execution_count": 192,
      "outputs": []
    },
    {
      "cell_type": "code",
      "metadata": {
        "colab": {
          "base_uri": "https://localhost:8080/"
        },
        "id": "LPtbZR_lx936",
        "outputId": "df2fcdbd-cc93-4016-c7bc-d734f976781a"
      },
      "source": [
        "print(ln1[:10])"
      ],
      "execution_count": 193,
      "outputs": [
        {
          "output_type": "stream",
          "text": [
            "[('Call', 'verb.social'), ('Ishmael', 'noun.person'), ('years', 'noun.time'), ('mind', 'verb.social'), ('long', 'adj.all'), ('little', 'adj.all'), ('money', 'noun.possession'), ('purse', 'noun.possession'), ('nothing', 'noun.quantity'), ('particular', 'adj.all')]\n"
          ],
          "name": "stdout"
        }
      ]
    },
    {
      "cell_type": "code",
      "metadata": {
        "colab": {
          "base_uri": "https://localhost:8080/"
        },
        "id": "N0K_uhP31AKD",
        "outputId": "fa2d2245-b506-4291-ec6e-e207bbe74bcf"
      },
      "source": [
        "#counting the total noun and verb types\r\n",
        "noun_category_count1 = {}\r\n",
        "verb_category_count1 = {}\r\n",
        "\r\n",
        "for w in ln1:\r\n",
        "  if w[1][0]=='n':\r\n",
        "    noun_category_count1[w[1]] = noun_category_count1.get(w[1],0) + 1\r\n",
        "  elif w[1][0]=='v':\r\n",
        "    verb_category_count1[w[1]] = verb_category_count1.get(w[1],0) + 1\r\n",
        "\r\n",
        "print(\"The categories of nouns = \", len(noun_category_count1))\r\n",
        "print(\"The categories of verbs = \", len(verb_category_count1))"
      ],
      "execution_count": 194,
      "outputs": [
        {
          "output_type": "stream",
          "text": [
            "The categories of nouns =  26\n",
            "The categories of verbs =  15\n"
          ],
          "name": "stdout"
        }
      ]
    },
    {
      "cell_type": "code",
      "metadata": {
        "colab": {
          "base_uri": "https://localhost:8080/",
          "height": 817
        },
        "id": "6xJNb-7z8033",
        "outputId": "cf391fe2-76b5-46c2-e344-ce58715ea8a3"
      },
      "source": [
        "#the count of each category of nouns in book1\r\n",
        "category_dict_noun1 = {}\r\n",
        "for category in noun_category_count1.keys():\r\n",
        "  category_dict_noun1[category] = noun_category_count1[category]\r\n",
        "\r\n",
        "category_df_noun1 = pd.DataFrame.from_dict(category_dict_noun1, orient='index', columns=['count'])\r\n",
        "category_df_noun1['category'] = category_df_noun1.index\r\n",
        "category_df_noun1.index = range(len(category_df_noun1))\r\n",
        "category_df_noun1"
      ],
      "execution_count": 195,
      "outputs": [
        {
          "output_type": "execute_result",
          "data": {
            "text/html": [
              "<div>\n",
              "<style scoped>\n",
              "    .dataframe tbody tr th:only-of-type {\n",
              "        vertical-align: middle;\n",
              "    }\n",
              "\n",
              "    .dataframe tbody tr th {\n",
              "        vertical-align: top;\n",
              "    }\n",
              "\n",
              "    .dataframe thead th {\n",
              "        text-align: right;\n",
              "    }\n",
              "</style>\n",
              "<table border=\"1\" class=\"dataframe\">\n",
              "  <thead>\n",
              "    <tr style=\"text-align: right;\">\n",
              "      <th></th>\n",
              "      <th>count</th>\n",
              "      <th>category</th>\n",
              "    </tr>\n",
              "  </thead>\n",
              "  <tbody>\n",
              "    <tr>\n",
              "      <th>0</th>\n",
              "      <td>6145</td>\n",
              "      <td>noun.person</td>\n",
              "    </tr>\n",
              "    <tr>\n",
              "      <th>1</th>\n",
              "      <td>1673</td>\n",
              "      <td>noun.time</td>\n",
              "    </tr>\n",
              "    <tr>\n",
              "      <th>2</th>\n",
              "      <td>520</td>\n",
              "      <td>noun.possession</td>\n",
              "    </tr>\n",
              "    <tr>\n",
              "      <th>3</th>\n",
              "      <td>1626</td>\n",
              "      <td>noun.quantity</td>\n",
              "    </tr>\n",
              "    <tr>\n",
              "      <th>4</th>\n",
              "      <td>8044</td>\n",
              "      <td>noun.artifact</td>\n",
              "    </tr>\n",
              "    <tr>\n",
              "      <th>5</th>\n",
              "      <td>1339</td>\n",
              "      <td>noun.object</td>\n",
              "    </tr>\n",
              "    <tr>\n",
              "      <th>6</th>\n",
              "      <td>1214</td>\n",
              "      <td>noun.body</td>\n",
              "    </tr>\n",
              "    <tr>\n",
              "      <th>7</th>\n",
              "      <td>3382</td>\n",
              "      <td>noun.act</td>\n",
              "    </tr>\n",
              "    <tr>\n",
              "      <th>8</th>\n",
              "      <td>5658</td>\n",
              "      <td>noun.communication</td>\n",
              "    </tr>\n",
              "    <tr>\n",
              "      <th>9</th>\n",
              "      <td>1214</td>\n",
              "      <td>noun.state</td>\n",
              "    </tr>\n",
              "    <tr>\n",
              "      <th>10</th>\n",
              "      <td>1188</td>\n",
              "      <td>noun.event</td>\n",
              "    </tr>\n",
              "    <tr>\n",
              "      <th>11</th>\n",
              "      <td>1723</td>\n",
              "      <td>noun.group</td>\n",
              "    </tr>\n",
              "    <tr>\n",
              "      <th>12</th>\n",
              "      <td>2751</td>\n",
              "      <td>noun.cognition</td>\n",
              "    </tr>\n",
              "    <tr>\n",
              "      <th>13</th>\n",
              "      <td>899</td>\n",
              "      <td>noun.phenomenon</td>\n",
              "    </tr>\n",
              "    <tr>\n",
              "      <th>14</th>\n",
              "      <td>2749</td>\n",
              "      <td>noun.attribute</td>\n",
              "    </tr>\n",
              "    <tr>\n",
              "      <th>15</th>\n",
              "      <td>1850</td>\n",
              "      <td>noun.location</td>\n",
              "    </tr>\n",
              "    <tr>\n",
              "      <th>16</th>\n",
              "      <td>223</td>\n",
              "      <td>noun.relation</td>\n",
              "    </tr>\n",
              "    <tr>\n",
              "      <th>17</th>\n",
              "      <td>819</td>\n",
              "      <td>noun.substance</td>\n",
              "    </tr>\n",
              "    <tr>\n",
              "      <th>18</th>\n",
              "      <td>295</td>\n",
              "      <td>noun.shape</td>\n",
              "    </tr>\n",
              "    <tr>\n",
              "      <th>19</th>\n",
              "      <td>505</td>\n",
              "      <td>noun.plant</td>\n",
              "    </tr>\n",
              "    <tr>\n",
              "      <th>20</th>\n",
              "      <td>2222</td>\n",
              "      <td>noun.animal</td>\n",
              "    </tr>\n",
              "    <tr>\n",
              "      <th>21</th>\n",
              "      <td>255</td>\n",
              "      <td>noun.process</td>\n",
              "    </tr>\n",
              "    <tr>\n",
              "      <th>22</th>\n",
              "      <td>490</td>\n",
              "      <td>noun.feeling</td>\n",
              "    </tr>\n",
              "    <tr>\n",
              "      <th>23</th>\n",
              "      <td>450</td>\n",
              "      <td>noun.food</td>\n",
              "    </tr>\n",
              "    <tr>\n",
              "      <th>24</th>\n",
              "      <td>469</td>\n",
              "      <td>noun.Tops</td>\n",
              "    </tr>\n",
              "    <tr>\n",
              "      <th>25</th>\n",
              "      <td>59</td>\n",
              "      <td>noun.motive</td>\n",
              "    </tr>\n",
              "  </tbody>\n",
              "</table>\n",
              "</div>"
            ],
            "text/plain": [
              "    count            category\n",
              "0    6145         noun.person\n",
              "1    1673           noun.time\n",
              "2     520     noun.possession\n",
              "3    1626       noun.quantity\n",
              "4    8044       noun.artifact\n",
              "5    1339         noun.object\n",
              "6    1214           noun.body\n",
              "7    3382            noun.act\n",
              "8    5658  noun.communication\n",
              "9    1214          noun.state\n",
              "10   1188          noun.event\n",
              "11   1723          noun.group\n",
              "12   2751      noun.cognition\n",
              "13    899     noun.phenomenon\n",
              "14   2749      noun.attribute\n",
              "15   1850       noun.location\n",
              "16    223       noun.relation\n",
              "17    819      noun.substance\n",
              "18    295          noun.shape\n",
              "19    505          noun.plant\n",
              "20   2222         noun.animal\n",
              "21    255        noun.process\n",
              "22    490        noun.feeling\n",
              "23    450           noun.food\n",
              "24    469           noun.Tops\n",
              "25     59         noun.motive"
            ]
          },
          "metadata": {
            "tags": []
          },
          "execution_count": 195
        }
      ]
    },
    {
      "cell_type": "code",
      "metadata": {
        "colab": {
          "base_uri": "https://localhost:8080/",
          "height": 542
        },
        "id": "oZvjUBLm-Zeq",
        "outputId": "e4ebed4c-fc93-4578-afd4-d76c60534576"
      },
      "source": [
        "#plot of count of each category of noun in book1\r\n",
        "df = category_df_noun1\r\n",
        "fig = px.bar(df, x=\"category\",y=\"count\", color='category')\r\n",
        "fig.show()"
      ],
      "execution_count": 196,
      "outputs": [
        {
          "output_type": "display_data",
          "data": {
            "text/html": [
              "<html>\n",
              "<head><meta charset=\"utf-8\" /></head>\n",
              "<body>\n",
              "    <div>\n",
              "            <script src=\"https://cdnjs.cloudflare.com/ajax/libs/mathjax/2.7.5/MathJax.js?config=TeX-AMS-MML_SVG\"></script><script type=\"text/javascript\">if (window.MathJax) {MathJax.Hub.Config({SVG: {font: \"STIX-Web\"}});}</script>\n",
              "                <script type=\"text/javascript\">window.PlotlyConfig = {MathJaxConfig: 'local'};</script>\n",
              "        <script src=\"https://cdn.plot.ly/plotly-latest.min.js\"></script>    \n",
              "            <div id=\"4be5c702-0f80-4309-ba77-541e0f286e4b\" class=\"plotly-graph-div\" style=\"height:525px; width:100%;\"></div>\n",
              "            <script type=\"text/javascript\">\n",
              "                \n",
              "                    window.PLOTLYENV=window.PLOTLYENV || {};\n",
              "                    \n",
              "                if (document.getElementById(\"4be5c702-0f80-4309-ba77-541e0f286e4b\")) {\n",
              "                    Plotly.newPlot(\n",
              "                        '4be5c702-0f80-4309-ba77-541e0f286e4b',\n",
              "                        [{\"alignmentgroup\": \"True\", \"hoverlabel\": {\"namelength\": 0}, \"hovertemplate\": \"category=%{x}<br>count=%{y}\", \"legendgroup\": \"category=noun.person\", \"marker\": {\"color\": \"#636efa\"}, \"name\": \"category=noun.person\", \"offsetgroup\": \"category=noun.person\", \"orientation\": \"v\", \"showlegend\": true, \"textposition\": \"auto\", \"type\": \"bar\", \"x\": [\"noun.person\"], \"xaxis\": \"x\", \"y\": [6145], \"yaxis\": \"y\"}, {\"alignmentgroup\": \"True\", \"hoverlabel\": {\"namelength\": 0}, \"hovertemplate\": \"category=%{x}<br>count=%{y}\", \"legendgroup\": \"category=noun.time\", \"marker\": {\"color\": \"#EF553B\"}, \"name\": \"category=noun.time\", \"offsetgroup\": \"category=noun.time\", \"orientation\": \"v\", \"showlegend\": true, \"textposition\": \"auto\", \"type\": \"bar\", \"x\": [\"noun.time\"], \"xaxis\": \"x\", \"y\": [1673], \"yaxis\": \"y\"}, {\"alignmentgroup\": \"True\", \"hoverlabel\": {\"namelength\": 0}, \"hovertemplate\": \"category=%{x}<br>count=%{y}\", \"legendgroup\": \"category=noun.possession\", \"marker\": {\"color\": \"#00cc96\"}, \"name\": \"category=noun.possession\", \"offsetgroup\": \"category=noun.possession\", \"orientation\": \"v\", \"showlegend\": true, \"textposition\": \"auto\", \"type\": \"bar\", \"x\": [\"noun.possession\"], \"xaxis\": \"x\", \"y\": [520], \"yaxis\": \"y\"}, {\"alignmentgroup\": \"True\", \"hoverlabel\": {\"namelength\": 0}, \"hovertemplate\": \"category=%{x}<br>count=%{y}\", \"legendgroup\": \"category=noun.quantity\", \"marker\": {\"color\": \"#ab63fa\"}, \"name\": \"category=noun.quantity\", \"offsetgroup\": \"category=noun.quantity\", \"orientation\": \"v\", \"showlegend\": true, \"textposition\": \"auto\", \"type\": \"bar\", \"x\": [\"noun.quantity\"], \"xaxis\": \"x\", \"y\": [1626], \"yaxis\": \"y\"}, {\"alignmentgroup\": \"True\", \"hoverlabel\": {\"namelength\": 0}, \"hovertemplate\": \"category=%{x}<br>count=%{y}\", \"legendgroup\": \"category=noun.artifact\", \"marker\": {\"color\": \"#FFA15A\"}, \"name\": \"category=noun.artifact\", \"offsetgroup\": \"category=noun.artifact\", \"orientation\": \"v\", \"showlegend\": true, \"textposition\": \"auto\", \"type\": \"bar\", \"x\": [\"noun.artifact\"], \"xaxis\": \"x\", \"y\": [8044], \"yaxis\": \"y\"}, {\"alignmentgroup\": \"True\", \"hoverlabel\": {\"namelength\": 0}, \"hovertemplate\": \"category=%{x}<br>count=%{y}\", \"legendgroup\": \"category=noun.object\", \"marker\": {\"color\": \"#19d3f3\"}, \"name\": \"category=noun.object\", \"offsetgroup\": \"category=noun.object\", \"orientation\": \"v\", \"showlegend\": true, \"textposition\": \"auto\", \"type\": \"bar\", \"x\": [\"noun.object\"], \"xaxis\": \"x\", \"y\": [1339], \"yaxis\": \"y\"}, {\"alignmentgroup\": \"True\", \"hoverlabel\": {\"namelength\": 0}, \"hovertemplate\": \"category=%{x}<br>count=%{y}\", \"legendgroup\": \"category=noun.body\", \"marker\": {\"color\": \"#FF6692\"}, \"name\": \"category=noun.body\", \"offsetgroup\": \"category=noun.body\", \"orientation\": \"v\", \"showlegend\": true, \"textposition\": \"auto\", \"type\": \"bar\", \"x\": [\"noun.body\"], \"xaxis\": \"x\", \"y\": [1214], \"yaxis\": \"y\"}, {\"alignmentgroup\": \"True\", \"hoverlabel\": {\"namelength\": 0}, \"hovertemplate\": \"category=%{x}<br>count=%{y}\", \"legendgroup\": \"category=noun.act\", \"marker\": {\"color\": \"#B6E880\"}, \"name\": \"category=noun.act\", \"offsetgroup\": \"category=noun.act\", \"orientation\": \"v\", \"showlegend\": true, \"textposition\": \"auto\", \"type\": \"bar\", \"x\": [\"noun.act\"], \"xaxis\": \"x\", \"y\": [3382], \"yaxis\": \"y\"}, {\"alignmentgroup\": \"True\", \"hoverlabel\": {\"namelength\": 0}, \"hovertemplate\": \"category=%{x}<br>count=%{y}\", \"legendgroup\": \"category=noun.communication\", \"marker\": {\"color\": \"#FF97FF\"}, \"name\": \"category=noun.communication\", \"offsetgroup\": \"category=noun.communication\", \"orientation\": \"v\", \"showlegend\": true, \"textposition\": \"auto\", \"type\": \"bar\", \"x\": [\"noun.communication\"], \"xaxis\": \"x\", \"y\": [5658], \"yaxis\": \"y\"}, {\"alignmentgroup\": \"True\", \"hoverlabel\": {\"namelength\": 0}, \"hovertemplate\": \"category=%{x}<br>count=%{y}\", \"legendgroup\": \"category=noun.state\", \"marker\": {\"color\": \"#FECB52\"}, \"name\": \"category=noun.state\", \"offsetgroup\": \"category=noun.state\", \"orientation\": \"v\", \"showlegend\": true, \"textposition\": \"auto\", \"type\": \"bar\", \"x\": [\"noun.state\"], \"xaxis\": \"x\", \"y\": [1214], \"yaxis\": \"y\"}, {\"alignmentgroup\": \"True\", \"hoverlabel\": {\"namelength\": 0}, \"hovertemplate\": \"category=%{x}<br>count=%{y}\", \"legendgroup\": \"category=noun.event\", \"marker\": {\"color\": \"#636efa\"}, \"name\": \"category=noun.event\", \"offsetgroup\": \"category=noun.event\", \"orientation\": \"v\", \"showlegend\": true, \"textposition\": \"auto\", \"type\": \"bar\", \"x\": [\"noun.event\"], \"xaxis\": \"x\", \"y\": [1188], \"yaxis\": \"y\"}, {\"alignmentgroup\": \"True\", \"hoverlabel\": {\"namelength\": 0}, \"hovertemplate\": \"category=%{x}<br>count=%{y}\", \"legendgroup\": \"category=noun.group\", \"marker\": {\"color\": \"#EF553B\"}, \"name\": \"category=noun.group\", \"offsetgroup\": \"category=noun.group\", \"orientation\": \"v\", \"showlegend\": true, \"textposition\": \"auto\", \"type\": \"bar\", \"x\": [\"noun.group\"], \"xaxis\": \"x\", \"y\": [1723], \"yaxis\": \"y\"}, {\"alignmentgroup\": \"True\", \"hoverlabel\": {\"namelength\": 0}, \"hovertemplate\": \"category=%{x}<br>count=%{y}\", \"legendgroup\": \"category=noun.cognition\", \"marker\": {\"color\": \"#00cc96\"}, \"name\": \"category=noun.cognition\", \"offsetgroup\": \"category=noun.cognition\", \"orientation\": \"v\", \"showlegend\": true, \"textposition\": \"auto\", \"type\": \"bar\", \"x\": [\"noun.cognition\"], \"xaxis\": \"x\", \"y\": [2751], \"yaxis\": \"y\"}, {\"alignmentgroup\": \"True\", \"hoverlabel\": {\"namelength\": 0}, \"hovertemplate\": \"category=%{x}<br>count=%{y}\", \"legendgroup\": \"category=noun.phenomenon\", \"marker\": {\"color\": \"#ab63fa\"}, \"name\": \"category=noun.phenomenon\", \"offsetgroup\": \"category=noun.phenomenon\", \"orientation\": \"v\", \"showlegend\": true, \"textposition\": \"auto\", \"type\": \"bar\", \"x\": [\"noun.phenomenon\"], \"xaxis\": \"x\", \"y\": [899], \"yaxis\": \"y\"}, {\"alignmentgroup\": \"True\", \"hoverlabel\": {\"namelength\": 0}, \"hovertemplate\": \"category=%{x}<br>count=%{y}\", \"legendgroup\": \"category=noun.attribute\", \"marker\": {\"color\": \"#FFA15A\"}, \"name\": \"category=noun.attribute\", \"offsetgroup\": \"category=noun.attribute\", \"orientation\": \"v\", \"showlegend\": true, \"textposition\": \"auto\", \"type\": \"bar\", \"x\": [\"noun.attribute\"], \"xaxis\": \"x\", \"y\": [2749], \"yaxis\": \"y\"}, {\"alignmentgroup\": \"True\", \"hoverlabel\": {\"namelength\": 0}, \"hovertemplate\": \"category=%{x}<br>count=%{y}\", \"legendgroup\": \"category=noun.location\", \"marker\": {\"color\": \"#19d3f3\"}, \"name\": \"category=noun.location\", \"offsetgroup\": \"category=noun.location\", \"orientation\": \"v\", \"showlegend\": true, \"textposition\": \"auto\", \"type\": \"bar\", \"x\": [\"noun.location\"], \"xaxis\": \"x\", \"y\": [1850], \"yaxis\": \"y\"}, {\"alignmentgroup\": \"True\", \"hoverlabel\": {\"namelength\": 0}, \"hovertemplate\": \"category=%{x}<br>count=%{y}\", \"legendgroup\": \"category=noun.relation\", \"marker\": {\"color\": \"#FF6692\"}, \"name\": \"category=noun.relation\", \"offsetgroup\": \"category=noun.relation\", \"orientation\": \"v\", \"showlegend\": true, \"textposition\": \"auto\", \"type\": \"bar\", \"x\": [\"noun.relation\"], \"xaxis\": \"x\", \"y\": [223], \"yaxis\": \"y\"}, {\"alignmentgroup\": \"True\", \"hoverlabel\": {\"namelength\": 0}, \"hovertemplate\": \"category=%{x}<br>count=%{y}\", \"legendgroup\": \"category=noun.substance\", \"marker\": {\"color\": \"#B6E880\"}, \"name\": \"category=noun.substance\", \"offsetgroup\": \"category=noun.substance\", \"orientation\": \"v\", \"showlegend\": true, \"textposition\": \"auto\", \"type\": \"bar\", \"x\": [\"noun.substance\"], \"xaxis\": \"x\", \"y\": [819], \"yaxis\": \"y\"}, {\"alignmentgroup\": \"True\", \"hoverlabel\": {\"namelength\": 0}, \"hovertemplate\": \"category=%{x}<br>count=%{y}\", \"legendgroup\": \"category=noun.shape\", \"marker\": {\"color\": \"#FF97FF\"}, \"name\": \"category=noun.shape\", \"offsetgroup\": \"category=noun.shape\", \"orientation\": \"v\", \"showlegend\": true, \"textposition\": \"auto\", \"type\": \"bar\", \"x\": [\"noun.shape\"], \"xaxis\": \"x\", \"y\": [295], \"yaxis\": \"y\"}, {\"alignmentgroup\": \"True\", \"hoverlabel\": {\"namelength\": 0}, \"hovertemplate\": \"category=%{x}<br>count=%{y}\", \"legendgroup\": \"category=noun.plant\", \"marker\": {\"color\": \"#FECB52\"}, \"name\": \"category=noun.plant\", \"offsetgroup\": \"category=noun.plant\", \"orientation\": \"v\", \"showlegend\": true, \"textposition\": \"auto\", \"type\": \"bar\", \"x\": [\"noun.plant\"], \"xaxis\": \"x\", \"y\": [505], \"yaxis\": \"y\"}, {\"alignmentgroup\": \"True\", \"hoverlabel\": {\"namelength\": 0}, \"hovertemplate\": \"category=%{x}<br>count=%{y}\", \"legendgroup\": \"category=noun.animal\", \"marker\": {\"color\": \"#636efa\"}, \"name\": \"category=noun.animal\", \"offsetgroup\": \"category=noun.animal\", \"orientation\": \"v\", \"showlegend\": true, \"textposition\": \"auto\", \"type\": \"bar\", \"x\": [\"noun.animal\"], \"xaxis\": \"x\", \"y\": [2222], \"yaxis\": \"y\"}, {\"alignmentgroup\": \"True\", \"hoverlabel\": {\"namelength\": 0}, \"hovertemplate\": \"category=%{x}<br>count=%{y}\", \"legendgroup\": \"category=noun.process\", \"marker\": {\"color\": \"#EF553B\"}, \"name\": \"category=noun.process\", \"offsetgroup\": \"category=noun.process\", \"orientation\": \"v\", \"showlegend\": true, \"textposition\": \"auto\", \"type\": \"bar\", \"x\": [\"noun.process\"], \"xaxis\": \"x\", \"y\": [255], \"yaxis\": \"y\"}, {\"alignmentgroup\": \"True\", \"hoverlabel\": {\"namelength\": 0}, \"hovertemplate\": \"category=%{x}<br>count=%{y}\", \"legendgroup\": \"category=noun.feeling\", \"marker\": {\"color\": \"#00cc96\"}, \"name\": \"category=noun.feeling\", \"offsetgroup\": \"category=noun.feeling\", \"orientation\": \"v\", \"showlegend\": true, \"textposition\": \"auto\", \"type\": \"bar\", \"x\": [\"noun.feeling\"], \"xaxis\": \"x\", \"y\": [490], \"yaxis\": \"y\"}, {\"alignmentgroup\": \"True\", \"hoverlabel\": {\"namelength\": 0}, \"hovertemplate\": \"category=%{x}<br>count=%{y}\", \"legendgroup\": \"category=noun.food\", \"marker\": {\"color\": \"#ab63fa\"}, \"name\": \"category=noun.food\", \"offsetgroup\": \"category=noun.food\", \"orientation\": \"v\", \"showlegend\": true, \"textposition\": \"auto\", \"type\": \"bar\", \"x\": [\"noun.food\"], \"xaxis\": \"x\", \"y\": [450], \"yaxis\": \"y\"}, {\"alignmentgroup\": \"True\", \"hoverlabel\": {\"namelength\": 0}, \"hovertemplate\": \"category=%{x}<br>count=%{y}\", \"legendgroup\": \"category=noun.Tops\", \"marker\": {\"color\": \"#FFA15A\"}, \"name\": \"category=noun.Tops\", \"offsetgroup\": \"category=noun.Tops\", \"orientation\": \"v\", \"showlegend\": true, \"textposition\": \"auto\", \"type\": \"bar\", \"x\": [\"noun.Tops\"], \"xaxis\": \"x\", \"y\": [469], \"yaxis\": \"y\"}, {\"alignmentgroup\": \"True\", \"hoverlabel\": {\"namelength\": 0}, \"hovertemplate\": \"category=%{x}<br>count=%{y}\", \"legendgroup\": \"category=noun.motive\", \"marker\": {\"color\": \"#19d3f3\"}, \"name\": \"category=noun.motive\", \"offsetgroup\": \"category=noun.motive\", \"orientation\": \"v\", \"showlegend\": true, \"textposition\": \"auto\", \"type\": \"bar\", \"x\": [\"noun.motive\"], \"xaxis\": \"x\", \"y\": [59], \"yaxis\": \"y\"}],\n",
              "                        {\"barmode\": \"relative\", \"legend\": {\"tracegroupgap\": 0}, \"margin\": {\"t\": 60}, \"template\": {\"data\": {\"bar\": [{\"error_x\": {\"color\": \"#2a3f5f\"}, \"error_y\": {\"color\": \"#2a3f5f\"}, \"marker\": {\"line\": {\"color\": \"#E5ECF6\", \"width\": 0.5}}, \"type\": \"bar\"}], \"barpolar\": [{\"marker\": {\"line\": {\"color\": \"#E5ECF6\", \"width\": 0.5}}, \"type\": \"barpolar\"}], \"carpet\": [{\"aaxis\": {\"endlinecolor\": \"#2a3f5f\", \"gridcolor\": \"white\", \"linecolor\": \"white\", \"minorgridcolor\": \"white\", \"startlinecolor\": \"#2a3f5f\"}, \"baxis\": {\"endlinecolor\": \"#2a3f5f\", \"gridcolor\": \"white\", \"linecolor\": \"white\", \"minorgridcolor\": \"white\", \"startlinecolor\": \"#2a3f5f\"}, \"type\": \"carpet\"}], \"choropleth\": [{\"colorbar\": {\"outlinewidth\": 0, \"ticks\": \"\"}, \"type\": \"choropleth\"}], \"contour\": [{\"colorbar\": {\"outlinewidth\": 0, \"ticks\": \"\"}, \"colorscale\": [[0.0, \"#0d0887\"], [0.1111111111111111, \"#46039f\"], [0.2222222222222222, \"#7201a8\"], [0.3333333333333333, \"#9c179e\"], [0.4444444444444444, \"#bd3786\"], [0.5555555555555556, \"#d8576b\"], [0.6666666666666666, \"#ed7953\"], [0.7777777777777778, \"#fb9f3a\"], [0.8888888888888888, \"#fdca26\"], [1.0, \"#f0f921\"]], \"type\": \"contour\"}], \"contourcarpet\": [{\"colorbar\": {\"outlinewidth\": 0, \"ticks\": \"\"}, \"type\": \"contourcarpet\"}], \"heatmap\": [{\"colorbar\": {\"outlinewidth\": 0, \"ticks\": \"\"}, \"colorscale\": [[0.0, \"#0d0887\"], [0.1111111111111111, \"#46039f\"], [0.2222222222222222, \"#7201a8\"], [0.3333333333333333, \"#9c179e\"], [0.4444444444444444, \"#bd3786\"], [0.5555555555555556, \"#d8576b\"], [0.6666666666666666, \"#ed7953\"], [0.7777777777777778, \"#fb9f3a\"], [0.8888888888888888, \"#fdca26\"], [1.0, \"#f0f921\"]], \"type\": \"heatmap\"}], \"heatmapgl\": [{\"colorbar\": {\"outlinewidth\": 0, \"ticks\": \"\"}, \"colorscale\": [[0.0, \"#0d0887\"], [0.1111111111111111, \"#46039f\"], [0.2222222222222222, \"#7201a8\"], [0.3333333333333333, \"#9c179e\"], [0.4444444444444444, \"#bd3786\"], [0.5555555555555556, \"#d8576b\"], [0.6666666666666666, \"#ed7953\"], [0.7777777777777778, \"#fb9f3a\"], [0.8888888888888888, \"#fdca26\"], [1.0, \"#f0f921\"]], \"type\": \"heatmapgl\"}], \"histogram\": [{\"marker\": {\"colorbar\": {\"outlinewidth\": 0, \"ticks\": \"\"}}, \"type\": \"histogram\"}], \"histogram2d\": [{\"colorbar\": {\"outlinewidth\": 0, \"ticks\": \"\"}, \"colorscale\": [[0.0, \"#0d0887\"], [0.1111111111111111, \"#46039f\"], [0.2222222222222222, \"#7201a8\"], [0.3333333333333333, \"#9c179e\"], [0.4444444444444444, \"#bd3786\"], [0.5555555555555556, \"#d8576b\"], [0.6666666666666666, \"#ed7953\"], [0.7777777777777778, \"#fb9f3a\"], [0.8888888888888888, \"#fdca26\"], [1.0, \"#f0f921\"]], \"type\": \"histogram2d\"}], \"histogram2dcontour\": [{\"colorbar\": {\"outlinewidth\": 0, \"ticks\": \"\"}, \"colorscale\": [[0.0, \"#0d0887\"], [0.1111111111111111, \"#46039f\"], [0.2222222222222222, \"#7201a8\"], [0.3333333333333333, \"#9c179e\"], [0.4444444444444444, \"#bd3786\"], [0.5555555555555556, \"#d8576b\"], [0.6666666666666666, \"#ed7953\"], [0.7777777777777778, \"#fb9f3a\"], [0.8888888888888888, \"#fdca26\"], [1.0, \"#f0f921\"]], \"type\": \"histogram2dcontour\"}], \"mesh3d\": [{\"colorbar\": {\"outlinewidth\": 0, \"ticks\": \"\"}, \"type\": \"mesh3d\"}], \"parcoords\": [{\"line\": {\"colorbar\": {\"outlinewidth\": 0, \"ticks\": \"\"}}, \"type\": \"parcoords\"}], \"pie\": [{\"automargin\": true, \"type\": \"pie\"}], \"scatter\": [{\"marker\": {\"colorbar\": {\"outlinewidth\": 0, \"ticks\": \"\"}}, \"type\": \"scatter\"}], \"scatter3d\": [{\"line\": {\"colorbar\": {\"outlinewidth\": 0, \"ticks\": \"\"}}, \"marker\": {\"colorbar\": {\"outlinewidth\": 0, \"ticks\": \"\"}}, \"type\": \"scatter3d\"}], \"scattercarpet\": [{\"marker\": {\"colorbar\": {\"outlinewidth\": 0, \"ticks\": \"\"}}, \"type\": \"scattercarpet\"}], \"scattergeo\": [{\"marker\": {\"colorbar\": {\"outlinewidth\": 0, \"ticks\": \"\"}}, \"type\": \"scattergeo\"}], \"scattergl\": [{\"marker\": {\"colorbar\": {\"outlinewidth\": 0, \"ticks\": \"\"}}, \"type\": \"scattergl\"}], \"scattermapbox\": [{\"marker\": {\"colorbar\": {\"outlinewidth\": 0, \"ticks\": \"\"}}, \"type\": \"scattermapbox\"}], \"scatterpolar\": [{\"marker\": {\"colorbar\": {\"outlinewidth\": 0, \"ticks\": \"\"}}, \"type\": \"scatterpolar\"}], \"scatterpolargl\": [{\"marker\": {\"colorbar\": {\"outlinewidth\": 0, \"ticks\": \"\"}}, \"type\": \"scatterpolargl\"}], \"scatterternary\": [{\"marker\": {\"colorbar\": {\"outlinewidth\": 0, \"ticks\": \"\"}}, \"type\": \"scatterternary\"}], \"surface\": [{\"colorbar\": {\"outlinewidth\": 0, \"ticks\": \"\"}, \"colorscale\": [[0.0, \"#0d0887\"], [0.1111111111111111, \"#46039f\"], [0.2222222222222222, \"#7201a8\"], [0.3333333333333333, \"#9c179e\"], [0.4444444444444444, \"#bd3786\"], [0.5555555555555556, \"#d8576b\"], [0.6666666666666666, \"#ed7953\"], [0.7777777777777778, \"#fb9f3a\"], [0.8888888888888888, \"#fdca26\"], [1.0, \"#f0f921\"]], \"type\": \"surface\"}], \"table\": [{\"cells\": {\"fill\": {\"color\": \"#EBF0F8\"}, \"line\": {\"color\": \"white\"}}, \"header\": {\"fill\": {\"color\": \"#C8D4E3\"}, \"line\": {\"color\": \"white\"}}, \"type\": \"table\"}]}, \"layout\": {\"annotationdefaults\": {\"arrowcolor\": \"#2a3f5f\", \"arrowhead\": 0, \"arrowwidth\": 1}, \"coloraxis\": {\"colorbar\": {\"outlinewidth\": 0, \"ticks\": \"\"}}, \"colorscale\": {\"diverging\": [[0, \"#8e0152\"], [0.1, \"#c51b7d\"], [0.2, \"#de77ae\"], [0.3, \"#f1b6da\"], [0.4, \"#fde0ef\"], [0.5, \"#f7f7f7\"], [0.6, \"#e6f5d0\"], [0.7, \"#b8e186\"], [0.8, \"#7fbc41\"], [0.9, \"#4d9221\"], [1, \"#276419\"]], \"sequential\": [[0.0, \"#0d0887\"], [0.1111111111111111, \"#46039f\"], [0.2222222222222222, \"#7201a8\"], [0.3333333333333333, \"#9c179e\"], [0.4444444444444444, \"#bd3786\"], [0.5555555555555556, \"#d8576b\"], [0.6666666666666666, \"#ed7953\"], [0.7777777777777778, \"#fb9f3a\"], [0.8888888888888888, \"#fdca26\"], [1.0, \"#f0f921\"]], \"sequentialminus\": [[0.0, \"#0d0887\"], [0.1111111111111111, \"#46039f\"], [0.2222222222222222, \"#7201a8\"], [0.3333333333333333, \"#9c179e\"], [0.4444444444444444, \"#bd3786\"], [0.5555555555555556, \"#d8576b\"], [0.6666666666666666, \"#ed7953\"], [0.7777777777777778, \"#fb9f3a\"], [0.8888888888888888, \"#fdca26\"], [1.0, \"#f0f921\"]]}, \"colorway\": [\"#636efa\", \"#EF553B\", \"#00cc96\", \"#ab63fa\", \"#FFA15A\", \"#19d3f3\", \"#FF6692\", \"#B6E880\", \"#FF97FF\", \"#FECB52\"], \"font\": {\"color\": \"#2a3f5f\"}, \"geo\": {\"bgcolor\": \"white\", \"lakecolor\": \"white\", \"landcolor\": \"#E5ECF6\", \"showlakes\": true, \"showland\": true, \"subunitcolor\": \"white\"}, \"hoverlabel\": {\"align\": \"left\"}, \"hovermode\": \"closest\", \"mapbox\": {\"style\": \"light\"}, \"paper_bgcolor\": \"white\", \"plot_bgcolor\": \"#E5ECF6\", \"polar\": {\"angularaxis\": {\"gridcolor\": \"white\", \"linecolor\": \"white\", \"ticks\": \"\"}, \"bgcolor\": \"#E5ECF6\", \"radialaxis\": {\"gridcolor\": \"white\", \"linecolor\": \"white\", \"ticks\": \"\"}}, \"scene\": {\"xaxis\": {\"backgroundcolor\": \"#E5ECF6\", \"gridcolor\": \"white\", \"gridwidth\": 2, \"linecolor\": \"white\", \"showbackground\": true, \"ticks\": \"\", \"zerolinecolor\": \"white\"}, \"yaxis\": {\"backgroundcolor\": \"#E5ECF6\", \"gridcolor\": \"white\", \"gridwidth\": 2, \"linecolor\": \"white\", \"showbackground\": true, \"ticks\": \"\", \"zerolinecolor\": \"white\"}, \"zaxis\": {\"backgroundcolor\": \"#E5ECF6\", \"gridcolor\": \"white\", \"gridwidth\": 2, \"linecolor\": \"white\", \"showbackground\": true, \"ticks\": \"\", \"zerolinecolor\": \"white\"}}, \"shapedefaults\": {\"line\": {\"color\": \"#2a3f5f\"}}, \"ternary\": {\"aaxis\": {\"gridcolor\": \"white\", \"linecolor\": \"white\", \"ticks\": \"\"}, \"baxis\": {\"gridcolor\": \"white\", \"linecolor\": \"white\", \"ticks\": \"\"}, \"bgcolor\": \"#E5ECF6\", \"caxis\": {\"gridcolor\": \"white\", \"linecolor\": \"white\", \"ticks\": \"\"}}, \"title\": {\"x\": 0.05}, \"xaxis\": {\"automargin\": true, \"gridcolor\": \"white\", \"linecolor\": \"white\", \"ticks\": \"\", \"title\": {\"standoff\": 15}, \"zerolinecolor\": \"white\", \"zerolinewidth\": 2}, \"yaxis\": {\"automargin\": true, \"gridcolor\": \"white\", \"linecolor\": \"white\", \"ticks\": \"\", \"title\": {\"standoff\": 15}, \"zerolinecolor\": \"white\", \"zerolinewidth\": 2}}}, \"xaxis\": {\"anchor\": \"y\", \"categoryarray\": [\"noun.person\", \"noun.time\", \"noun.possession\", \"noun.quantity\", \"noun.artifact\", \"noun.object\", \"noun.body\", \"noun.act\", \"noun.communication\", \"noun.state\", \"noun.event\", \"noun.group\", \"noun.cognition\", \"noun.phenomenon\", \"noun.attribute\", \"noun.location\", \"noun.relation\", \"noun.substance\", \"noun.shape\", \"noun.plant\", \"noun.animal\", \"noun.process\", \"noun.feeling\", \"noun.food\", \"noun.Tops\", \"noun.motive\"], \"categoryorder\": \"array\", \"domain\": [0.0, 1.0], \"title\": {\"text\": \"category\"}}, \"yaxis\": {\"anchor\": \"x\", \"domain\": [0.0, 1.0], \"title\": {\"text\": \"count\"}}},\n",
              "                        {\"responsive\": true}\n",
              "                    ).then(function(){\n",
              "                            \n",
              "var gd = document.getElementById('4be5c702-0f80-4309-ba77-541e0f286e4b');\n",
              "var x = new MutationObserver(function (mutations, observer) {{\n",
              "        var display = window.getComputedStyle(gd).display;\n",
              "        if (!display || display === 'none') {{\n",
              "            console.log([gd, 'removed!']);\n",
              "            Plotly.purge(gd);\n",
              "            observer.disconnect();\n",
              "        }}\n",
              "}});\n",
              "\n",
              "// Listen for the removal of the full notebook cells\n",
              "var notebookContainer = gd.closest('#notebook-container');\n",
              "if (notebookContainer) {{\n",
              "    x.observe(notebookContainer, {childList: true});\n",
              "}}\n",
              "\n",
              "// Listen for the clearing of the current output cell\n",
              "var outputEl = gd.closest('.output');\n",
              "if (outputEl) {{\n",
              "    x.observe(outputEl, {childList: true});\n",
              "}}\n",
              "\n",
              "                        })\n",
              "                };\n",
              "                \n",
              "            </script>\n",
              "        </div>\n",
              "</body>\n",
              "</html>"
            ]
          },
          "metadata": {
            "tags": []
          }
        }
      ]
    },
    {
      "cell_type": "code",
      "metadata": {
        "colab": {
          "base_uri": "https://localhost:8080/",
          "height": 491
        },
        "id": "ENS465mh9cGJ",
        "outputId": "f29eae8a-2672-4873-e971-f460ed584b16"
      },
      "source": [
        "#count of each category of verb in book1\r\n",
        "category_dict_verb1 = {}\r\n",
        "for category in verb_category_count1.keys():\r\n",
        "  category_dict_verb1[category] = verb_category_count1[category]\r\n",
        "\r\n",
        "category_df_verb1 = pd.DataFrame.from_dict(category_dict_verb1, orient='index', columns=['count'])\r\n",
        "category_df_verb1['category'] = category_df_verb1.index\r\n",
        "category_df_verb1.index = range(len(category_df_verb1))\r\n",
        "category_df_verb1"
      ],
      "execution_count": 197,
      "outputs": [
        {
          "output_type": "execute_result",
          "data": {
            "text/html": [
              "<div>\n",
              "<style scoped>\n",
              "    .dataframe tbody tr th:only-of-type {\n",
              "        vertical-align: middle;\n",
              "    }\n",
              "\n",
              "    .dataframe tbody tr th {\n",
              "        vertical-align: top;\n",
              "    }\n",
              "\n",
              "    .dataframe thead th {\n",
              "        text-align: right;\n",
              "    }\n",
              "</style>\n",
              "<table border=\"1\" class=\"dataframe\">\n",
              "  <thead>\n",
              "    <tr style=\"text-align: right;\">\n",
              "      <th></th>\n",
              "      <th>count</th>\n",
              "      <th>category</th>\n",
              "    </tr>\n",
              "  </thead>\n",
              "  <tbody>\n",
              "    <tr>\n",
              "      <th>0</th>\n",
              "      <td>1468</td>\n",
              "      <td>verb.social</td>\n",
              "    </tr>\n",
              "    <tr>\n",
              "      <th>1</th>\n",
              "      <td>1936</td>\n",
              "      <td>verb.cognition</td>\n",
              "    </tr>\n",
              "    <tr>\n",
              "      <th>2</th>\n",
              "      <td>3168</td>\n",
              "      <td>verb.motion</td>\n",
              "    </tr>\n",
              "    <tr>\n",
              "      <th>3</th>\n",
              "      <td>1811</td>\n",
              "      <td>verb.perception</td>\n",
              "    </tr>\n",
              "    <tr>\n",
              "      <th>4</th>\n",
              "      <td>1068</td>\n",
              "      <td>verb.possession</td>\n",
              "    </tr>\n",
              "    <tr>\n",
              "      <th>5</th>\n",
              "      <td>2359</td>\n",
              "      <td>verb.change</td>\n",
              "    </tr>\n",
              "    <tr>\n",
              "      <th>6</th>\n",
              "      <td>3214</td>\n",
              "      <td>verb.communication</td>\n",
              "    </tr>\n",
              "    <tr>\n",
              "      <th>7</th>\n",
              "      <td>2970</td>\n",
              "      <td>verb.contact</td>\n",
              "    </tr>\n",
              "    <tr>\n",
              "      <th>8</th>\n",
              "      <td>730</td>\n",
              "      <td>verb.emotion</td>\n",
              "    </tr>\n",
              "    <tr>\n",
              "      <th>9</th>\n",
              "      <td>801</td>\n",
              "      <td>verb.creation</td>\n",
              "    </tr>\n",
              "    <tr>\n",
              "      <th>10</th>\n",
              "      <td>758</td>\n",
              "      <td>verb.competition</td>\n",
              "    </tr>\n",
              "    <tr>\n",
              "      <th>11</th>\n",
              "      <td>2093</td>\n",
              "      <td>verb.stative</td>\n",
              "    </tr>\n",
              "    <tr>\n",
              "      <th>12</th>\n",
              "      <td>486</td>\n",
              "      <td>verb.consumption</td>\n",
              "    </tr>\n",
              "    <tr>\n",
              "      <th>13</th>\n",
              "      <td>751</td>\n",
              "      <td>verb.body</td>\n",
              "    </tr>\n",
              "    <tr>\n",
              "      <th>14</th>\n",
              "      <td>91</td>\n",
              "      <td>verb.weather</td>\n",
              "    </tr>\n",
              "  </tbody>\n",
              "</table>\n",
              "</div>"
            ],
            "text/plain": [
              "    count            category\n",
              "0    1468         verb.social\n",
              "1    1936      verb.cognition\n",
              "2    3168         verb.motion\n",
              "3    1811     verb.perception\n",
              "4    1068     verb.possession\n",
              "5    2359         verb.change\n",
              "6    3214  verb.communication\n",
              "7    2970        verb.contact\n",
              "8     730        verb.emotion\n",
              "9     801       verb.creation\n",
              "10    758    verb.competition\n",
              "11   2093        verb.stative\n",
              "12    486    verb.consumption\n",
              "13    751           verb.body\n",
              "14     91        verb.weather"
            ]
          },
          "metadata": {
            "tags": []
          },
          "execution_count": 197
        }
      ]
    },
    {
      "cell_type": "code",
      "metadata": {
        "colab": {
          "base_uri": "https://localhost:8080/",
          "height": 542
        },
        "id": "aJrznm8--3me",
        "outputId": "adb8d4f4-5bb4-453a-d3d6-5b871bcd2f69"
      },
      "source": [
        "#plot of count of each category of verb in book1\r\n",
        "df = category_df_verb1\r\n",
        "fig = px.bar(df, x=\"category\",y=\"count\", color='category')\r\n",
        "fig.show()"
      ],
      "execution_count": 198,
      "outputs": [
        {
          "output_type": "display_data",
          "data": {
            "text/html": [
              "<html>\n",
              "<head><meta charset=\"utf-8\" /></head>\n",
              "<body>\n",
              "    <div>\n",
              "            <script src=\"https://cdnjs.cloudflare.com/ajax/libs/mathjax/2.7.5/MathJax.js?config=TeX-AMS-MML_SVG\"></script><script type=\"text/javascript\">if (window.MathJax) {MathJax.Hub.Config({SVG: {font: \"STIX-Web\"}});}</script>\n",
              "                <script type=\"text/javascript\">window.PlotlyConfig = {MathJaxConfig: 'local'};</script>\n",
              "        <script src=\"https://cdn.plot.ly/plotly-latest.min.js\"></script>    \n",
              "            <div id=\"d8be71e6-f539-4313-b428-e32d3f0a2141\" class=\"plotly-graph-div\" style=\"height:525px; width:100%;\"></div>\n",
              "            <script type=\"text/javascript\">\n",
              "                \n",
              "                    window.PLOTLYENV=window.PLOTLYENV || {};\n",
              "                    \n",
              "                if (document.getElementById(\"d8be71e6-f539-4313-b428-e32d3f0a2141\")) {\n",
              "                    Plotly.newPlot(\n",
              "                        'd8be71e6-f539-4313-b428-e32d3f0a2141',\n",
              "                        [{\"alignmentgroup\": \"True\", \"hoverlabel\": {\"namelength\": 0}, \"hovertemplate\": \"category=%{x}<br>count=%{y}\", \"legendgroup\": \"category=verb.social\", \"marker\": {\"color\": \"#636efa\"}, \"name\": \"category=verb.social\", \"offsetgroup\": \"category=verb.social\", \"orientation\": \"v\", \"showlegend\": true, \"textposition\": \"auto\", \"type\": \"bar\", \"x\": [\"verb.social\"], \"xaxis\": \"x\", \"y\": [1468], \"yaxis\": \"y\"}, {\"alignmentgroup\": \"True\", \"hoverlabel\": {\"namelength\": 0}, \"hovertemplate\": \"category=%{x}<br>count=%{y}\", \"legendgroup\": \"category=verb.cognition\", \"marker\": {\"color\": \"#EF553B\"}, \"name\": \"category=verb.cognition\", \"offsetgroup\": \"category=verb.cognition\", \"orientation\": \"v\", \"showlegend\": true, \"textposition\": \"auto\", \"type\": \"bar\", \"x\": [\"verb.cognition\"], \"xaxis\": \"x\", \"y\": [1936], \"yaxis\": \"y\"}, {\"alignmentgroup\": \"True\", \"hoverlabel\": {\"namelength\": 0}, \"hovertemplate\": \"category=%{x}<br>count=%{y}\", \"legendgroup\": \"category=verb.motion\", \"marker\": {\"color\": \"#00cc96\"}, \"name\": \"category=verb.motion\", \"offsetgroup\": \"category=verb.motion\", \"orientation\": \"v\", \"showlegend\": true, \"textposition\": \"auto\", \"type\": \"bar\", \"x\": [\"verb.motion\"], \"xaxis\": \"x\", \"y\": [3168], \"yaxis\": \"y\"}, {\"alignmentgroup\": \"True\", \"hoverlabel\": {\"namelength\": 0}, \"hovertemplate\": \"category=%{x}<br>count=%{y}\", \"legendgroup\": \"category=verb.perception\", \"marker\": {\"color\": \"#ab63fa\"}, \"name\": \"category=verb.perception\", \"offsetgroup\": \"category=verb.perception\", \"orientation\": \"v\", \"showlegend\": true, \"textposition\": \"auto\", \"type\": \"bar\", \"x\": [\"verb.perception\"], \"xaxis\": \"x\", \"y\": [1811], \"yaxis\": \"y\"}, {\"alignmentgroup\": \"True\", \"hoverlabel\": {\"namelength\": 0}, \"hovertemplate\": \"category=%{x}<br>count=%{y}\", \"legendgroup\": \"category=verb.possession\", \"marker\": {\"color\": \"#FFA15A\"}, \"name\": \"category=verb.possession\", \"offsetgroup\": \"category=verb.possession\", \"orientation\": \"v\", \"showlegend\": true, \"textposition\": \"auto\", \"type\": \"bar\", \"x\": [\"verb.possession\"], \"xaxis\": \"x\", \"y\": [1068], \"yaxis\": \"y\"}, {\"alignmentgroup\": \"True\", \"hoverlabel\": {\"namelength\": 0}, \"hovertemplate\": \"category=%{x}<br>count=%{y}\", \"legendgroup\": \"category=verb.change\", \"marker\": {\"color\": \"#19d3f3\"}, \"name\": \"category=verb.change\", \"offsetgroup\": \"category=verb.change\", \"orientation\": \"v\", \"showlegend\": true, \"textposition\": \"auto\", \"type\": \"bar\", \"x\": [\"verb.change\"], \"xaxis\": \"x\", \"y\": [2359], \"yaxis\": \"y\"}, {\"alignmentgroup\": \"True\", \"hoverlabel\": {\"namelength\": 0}, \"hovertemplate\": \"category=%{x}<br>count=%{y}\", \"legendgroup\": \"category=verb.communication\", \"marker\": {\"color\": \"#FF6692\"}, \"name\": \"category=verb.communication\", \"offsetgroup\": \"category=verb.communication\", \"orientation\": \"v\", \"showlegend\": true, \"textposition\": \"auto\", \"type\": \"bar\", \"x\": [\"verb.communication\"], \"xaxis\": \"x\", \"y\": [3214], \"yaxis\": \"y\"}, {\"alignmentgroup\": \"True\", \"hoverlabel\": {\"namelength\": 0}, \"hovertemplate\": \"category=%{x}<br>count=%{y}\", \"legendgroup\": \"category=verb.contact\", \"marker\": {\"color\": \"#B6E880\"}, \"name\": \"category=verb.contact\", \"offsetgroup\": \"category=verb.contact\", \"orientation\": \"v\", \"showlegend\": true, \"textposition\": \"auto\", \"type\": \"bar\", \"x\": [\"verb.contact\"], \"xaxis\": \"x\", \"y\": [2970], \"yaxis\": \"y\"}, {\"alignmentgroup\": \"True\", \"hoverlabel\": {\"namelength\": 0}, \"hovertemplate\": \"category=%{x}<br>count=%{y}\", \"legendgroup\": \"category=verb.emotion\", \"marker\": {\"color\": \"#FF97FF\"}, \"name\": \"category=verb.emotion\", \"offsetgroup\": \"category=verb.emotion\", \"orientation\": \"v\", \"showlegend\": true, \"textposition\": \"auto\", \"type\": \"bar\", \"x\": [\"verb.emotion\"], \"xaxis\": \"x\", \"y\": [730], \"yaxis\": \"y\"}, {\"alignmentgroup\": \"True\", \"hoverlabel\": {\"namelength\": 0}, \"hovertemplate\": \"category=%{x}<br>count=%{y}\", \"legendgroup\": \"category=verb.creation\", \"marker\": {\"color\": \"#FECB52\"}, \"name\": \"category=verb.creation\", \"offsetgroup\": \"category=verb.creation\", \"orientation\": \"v\", \"showlegend\": true, \"textposition\": \"auto\", \"type\": \"bar\", \"x\": [\"verb.creation\"], \"xaxis\": \"x\", \"y\": [801], \"yaxis\": \"y\"}, {\"alignmentgroup\": \"True\", \"hoverlabel\": {\"namelength\": 0}, \"hovertemplate\": \"category=%{x}<br>count=%{y}\", \"legendgroup\": \"category=verb.competition\", \"marker\": {\"color\": \"#636efa\"}, \"name\": \"category=verb.competition\", \"offsetgroup\": \"category=verb.competition\", \"orientation\": \"v\", \"showlegend\": true, \"textposition\": \"auto\", \"type\": \"bar\", \"x\": [\"verb.competition\"], \"xaxis\": \"x\", \"y\": [758], \"yaxis\": \"y\"}, {\"alignmentgroup\": \"True\", \"hoverlabel\": {\"namelength\": 0}, \"hovertemplate\": \"category=%{x}<br>count=%{y}\", \"legendgroup\": \"category=verb.stative\", \"marker\": {\"color\": \"#EF553B\"}, \"name\": \"category=verb.stative\", \"offsetgroup\": \"category=verb.stative\", \"orientation\": \"v\", \"showlegend\": true, \"textposition\": \"auto\", \"type\": \"bar\", \"x\": [\"verb.stative\"], \"xaxis\": \"x\", \"y\": [2093], \"yaxis\": \"y\"}, {\"alignmentgroup\": \"True\", \"hoverlabel\": {\"namelength\": 0}, \"hovertemplate\": \"category=%{x}<br>count=%{y}\", \"legendgroup\": \"category=verb.consumption\", \"marker\": {\"color\": \"#00cc96\"}, \"name\": \"category=verb.consumption\", \"offsetgroup\": \"category=verb.consumption\", \"orientation\": \"v\", \"showlegend\": true, \"textposition\": \"auto\", \"type\": \"bar\", \"x\": [\"verb.consumption\"], \"xaxis\": \"x\", \"y\": [486], \"yaxis\": \"y\"}, {\"alignmentgroup\": \"True\", \"hoverlabel\": {\"namelength\": 0}, \"hovertemplate\": \"category=%{x}<br>count=%{y}\", \"legendgroup\": \"category=verb.body\", \"marker\": {\"color\": \"#ab63fa\"}, \"name\": \"category=verb.body\", \"offsetgroup\": \"category=verb.body\", \"orientation\": \"v\", \"showlegend\": true, \"textposition\": \"auto\", \"type\": \"bar\", \"x\": [\"verb.body\"], \"xaxis\": \"x\", \"y\": [751], \"yaxis\": \"y\"}, {\"alignmentgroup\": \"True\", \"hoverlabel\": {\"namelength\": 0}, \"hovertemplate\": \"category=%{x}<br>count=%{y}\", \"legendgroup\": \"category=verb.weather\", \"marker\": {\"color\": \"#FFA15A\"}, \"name\": \"category=verb.weather\", \"offsetgroup\": \"category=verb.weather\", \"orientation\": \"v\", \"showlegend\": true, \"textposition\": \"auto\", \"type\": \"bar\", \"x\": [\"verb.weather\"], \"xaxis\": \"x\", \"y\": [91], \"yaxis\": \"y\"}],\n",
              "                        {\"barmode\": \"relative\", \"legend\": {\"tracegroupgap\": 0}, \"margin\": {\"t\": 60}, \"template\": {\"data\": {\"bar\": [{\"error_x\": {\"color\": \"#2a3f5f\"}, \"error_y\": {\"color\": \"#2a3f5f\"}, \"marker\": {\"line\": {\"color\": \"#E5ECF6\", \"width\": 0.5}}, \"type\": \"bar\"}], \"barpolar\": [{\"marker\": {\"line\": {\"color\": \"#E5ECF6\", \"width\": 0.5}}, \"type\": \"barpolar\"}], \"carpet\": [{\"aaxis\": {\"endlinecolor\": \"#2a3f5f\", \"gridcolor\": \"white\", \"linecolor\": \"white\", \"minorgridcolor\": \"white\", \"startlinecolor\": \"#2a3f5f\"}, \"baxis\": {\"endlinecolor\": \"#2a3f5f\", \"gridcolor\": \"white\", \"linecolor\": \"white\", \"minorgridcolor\": \"white\", \"startlinecolor\": \"#2a3f5f\"}, \"type\": \"carpet\"}], \"choropleth\": [{\"colorbar\": {\"outlinewidth\": 0, \"ticks\": \"\"}, \"type\": \"choropleth\"}], \"contour\": [{\"colorbar\": {\"outlinewidth\": 0, \"ticks\": \"\"}, \"colorscale\": [[0.0, \"#0d0887\"], [0.1111111111111111, \"#46039f\"], [0.2222222222222222, \"#7201a8\"], [0.3333333333333333, \"#9c179e\"], [0.4444444444444444, \"#bd3786\"], [0.5555555555555556, \"#d8576b\"], [0.6666666666666666, \"#ed7953\"], [0.7777777777777778, \"#fb9f3a\"], [0.8888888888888888, \"#fdca26\"], [1.0, \"#f0f921\"]], \"type\": \"contour\"}], \"contourcarpet\": [{\"colorbar\": {\"outlinewidth\": 0, \"ticks\": \"\"}, \"type\": \"contourcarpet\"}], \"heatmap\": [{\"colorbar\": {\"outlinewidth\": 0, \"ticks\": \"\"}, \"colorscale\": [[0.0, \"#0d0887\"], [0.1111111111111111, \"#46039f\"], [0.2222222222222222, \"#7201a8\"], [0.3333333333333333, \"#9c179e\"], [0.4444444444444444, \"#bd3786\"], [0.5555555555555556, \"#d8576b\"], [0.6666666666666666, \"#ed7953\"], [0.7777777777777778, \"#fb9f3a\"], [0.8888888888888888, \"#fdca26\"], [1.0, \"#f0f921\"]], \"type\": \"heatmap\"}], \"heatmapgl\": [{\"colorbar\": {\"outlinewidth\": 0, \"ticks\": \"\"}, \"colorscale\": [[0.0, \"#0d0887\"], [0.1111111111111111, \"#46039f\"], [0.2222222222222222, \"#7201a8\"], [0.3333333333333333, \"#9c179e\"], [0.4444444444444444, \"#bd3786\"], [0.5555555555555556, \"#d8576b\"], [0.6666666666666666, \"#ed7953\"], [0.7777777777777778, \"#fb9f3a\"], [0.8888888888888888, \"#fdca26\"], [1.0, \"#f0f921\"]], \"type\": \"heatmapgl\"}], \"histogram\": [{\"marker\": {\"colorbar\": {\"outlinewidth\": 0, \"ticks\": \"\"}}, \"type\": \"histogram\"}], \"histogram2d\": [{\"colorbar\": {\"outlinewidth\": 0, \"ticks\": \"\"}, \"colorscale\": [[0.0, \"#0d0887\"], [0.1111111111111111, \"#46039f\"], [0.2222222222222222, \"#7201a8\"], [0.3333333333333333, \"#9c179e\"], [0.4444444444444444, \"#bd3786\"], [0.5555555555555556, \"#d8576b\"], [0.6666666666666666, \"#ed7953\"], [0.7777777777777778, \"#fb9f3a\"], [0.8888888888888888, \"#fdca26\"], [1.0, \"#f0f921\"]], \"type\": \"histogram2d\"}], \"histogram2dcontour\": [{\"colorbar\": {\"outlinewidth\": 0, \"ticks\": \"\"}, \"colorscale\": [[0.0, \"#0d0887\"], [0.1111111111111111, \"#46039f\"], [0.2222222222222222, \"#7201a8\"], [0.3333333333333333, \"#9c179e\"], [0.4444444444444444, \"#bd3786\"], [0.5555555555555556, \"#d8576b\"], [0.6666666666666666, \"#ed7953\"], [0.7777777777777778, \"#fb9f3a\"], [0.8888888888888888, \"#fdca26\"], [1.0, \"#f0f921\"]], \"type\": \"histogram2dcontour\"}], \"mesh3d\": [{\"colorbar\": {\"outlinewidth\": 0, \"ticks\": \"\"}, \"type\": \"mesh3d\"}], \"parcoords\": [{\"line\": {\"colorbar\": {\"outlinewidth\": 0, \"ticks\": \"\"}}, \"type\": \"parcoords\"}], \"pie\": [{\"automargin\": true, \"type\": \"pie\"}], \"scatter\": [{\"marker\": {\"colorbar\": {\"outlinewidth\": 0, \"ticks\": \"\"}}, \"type\": \"scatter\"}], \"scatter3d\": [{\"line\": {\"colorbar\": {\"outlinewidth\": 0, \"ticks\": \"\"}}, \"marker\": {\"colorbar\": {\"outlinewidth\": 0, \"ticks\": \"\"}}, \"type\": \"scatter3d\"}], \"scattercarpet\": [{\"marker\": {\"colorbar\": {\"outlinewidth\": 0, \"ticks\": \"\"}}, \"type\": \"scattercarpet\"}], \"scattergeo\": [{\"marker\": {\"colorbar\": {\"outlinewidth\": 0, \"ticks\": \"\"}}, \"type\": \"scattergeo\"}], \"scattergl\": [{\"marker\": {\"colorbar\": {\"outlinewidth\": 0, \"ticks\": \"\"}}, \"type\": \"scattergl\"}], \"scattermapbox\": [{\"marker\": {\"colorbar\": {\"outlinewidth\": 0, \"ticks\": \"\"}}, \"type\": \"scattermapbox\"}], \"scatterpolar\": [{\"marker\": {\"colorbar\": {\"outlinewidth\": 0, \"ticks\": \"\"}}, \"type\": \"scatterpolar\"}], \"scatterpolargl\": [{\"marker\": {\"colorbar\": {\"outlinewidth\": 0, \"ticks\": \"\"}}, \"type\": \"scatterpolargl\"}], \"scatterternary\": [{\"marker\": {\"colorbar\": {\"outlinewidth\": 0, \"ticks\": \"\"}}, \"type\": \"scatterternary\"}], \"surface\": [{\"colorbar\": {\"outlinewidth\": 0, \"ticks\": \"\"}, \"colorscale\": [[0.0, \"#0d0887\"], [0.1111111111111111, \"#46039f\"], [0.2222222222222222, \"#7201a8\"], [0.3333333333333333, \"#9c179e\"], [0.4444444444444444, \"#bd3786\"], [0.5555555555555556, \"#d8576b\"], [0.6666666666666666, \"#ed7953\"], [0.7777777777777778, \"#fb9f3a\"], [0.8888888888888888, \"#fdca26\"], [1.0, \"#f0f921\"]], \"type\": \"surface\"}], \"table\": [{\"cells\": {\"fill\": {\"color\": \"#EBF0F8\"}, \"line\": {\"color\": \"white\"}}, \"header\": {\"fill\": {\"color\": \"#C8D4E3\"}, \"line\": {\"color\": \"white\"}}, \"type\": \"table\"}]}, \"layout\": {\"annotationdefaults\": {\"arrowcolor\": \"#2a3f5f\", \"arrowhead\": 0, \"arrowwidth\": 1}, \"coloraxis\": {\"colorbar\": {\"outlinewidth\": 0, \"ticks\": \"\"}}, \"colorscale\": {\"diverging\": [[0, \"#8e0152\"], [0.1, \"#c51b7d\"], [0.2, \"#de77ae\"], [0.3, \"#f1b6da\"], [0.4, \"#fde0ef\"], [0.5, \"#f7f7f7\"], [0.6, \"#e6f5d0\"], [0.7, \"#b8e186\"], [0.8, \"#7fbc41\"], [0.9, \"#4d9221\"], [1, \"#276419\"]], \"sequential\": [[0.0, \"#0d0887\"], [0.1111111111111111, \"#46039f\"], [0.2222222222222222, \"#7201a8\"], [0.3333333333333333, \"#9c179e\"], [0.4444444444444444, \"#bd3786\"], [0.5555555555555556, \"#d8576b\"], [0.6666666666666666, \"#ed7953\"], [0.7777777777777778, \"#fb9f3a\"], [0.8888888888888888, \"#fdca26\"], [1.0, \"#f0f921\"]], \"sequentialminus\": [[0.0, \"#0d0887\"], [0.1111111111111111, \"#46039f\"], [0.2222222222222222, \"#7201a8\"], [0.3333333333333333, \"#9c179e\"], [0.4444444444444444, \"#bd3786\"], [0.5555555555555556, \"#d8576b\"], [0.6666666666666666, \"#ed7953\"], [0.7777777777777778, \"#fb9f3a\"], [0.8888888888888888, \"#fdca26\"], [1.0, \"#f0f921\"]]}, \"colorway\": [\"#636efa\", \"#EF553B\", \"#00cc96\", \"#ab63fa\", \"#FFA15A\", \"#19d3f3\", \"#FF6692\", \"#B6E880\", \"#FF97FF\", \"#FECB52\"], \"font\": {\"color\": \"#2a3f5f\"}, \"geo\": {\"bgcolor\": \"white\", \"lakecolor\": \"white\", \"landcolor\": \"#E5ECF6\", \"showlakes\": true, \"showland\": true, \"subunitcolor\": \"white\"}, \"hoverlabel\": {\"align\": \"left\"}, \"hovermode\": \"closest\", \"mapbox\": {\"style\": \"light\"}, \"paper_bgcolor\": \"white\", \"plot_bgcolor\": \"#E5ECF6\", \"polar\": {\"angularaxis\": {\"gridcolor\": \"white\", \"linecolor\": \"white\", \"ticks\": \"\"}, \"bgcolor\": \"#E5ECF6\", \"radialaxis\": {\"gridcolor\": \"white\", \"linecolor\": \"white\", \"ticks\": \"\"}}, \"scene\": {\"xaxis\": {\"backgroundcolor\": \"#E5ECF6\", \"gridcolor\": \"white\", \"gridwidth\": 2, \"linecolor\": \"white\", \"showbackground\": true, \"ticks\": \"\", \"zerolinecolor\": \"white\"}, \"yaxis\": {\"backgroundcolor\": \"#E5ECF6\", \"gridcolor\": \"white\", \"gridwidth\": 2, \"linecolor\": \"white\", \"showbackground\": true, \"ticks\": \"\", \"zerolinecolor\": \"white\"}, \"zaxis\": {\"backgroundcolor\": \"#E5ECF6\", \"gridcolor\": \"white\", \"gridwidth\": 2, \"linecolor\": \"white\", \"showbackground\": true, \"ticks\": \"\", \"zerolinecolor\": \"white\"}}, \"shapedefaults\": {\"line\": {\"color\": \"#2a3f5f\"}}, \"ternary\": {\"aaxis\": {\"gridcolor\": \"white\", \"linecolor\": \"white\", \"ticks\": \"\"}, \"baxis\": {\"gridcolor\": \"white\", \"linecolor\": \"white\", \"ticks\": \"\"}, \"bgcolor\": \"#E5ECF6\", \"caxis\": {\"gridcolor\": \"white\", \"linecolor\": \"white\", \"ticks\": \"\"}}, \"title\": {\"x\": 0.05}, \"xaxis\": {\"automargin\": true, \"gridcolor\": \"white\", \"linecolor\": \"white\", \"ticks\": \"\", \"title\": {\"standoff\": 15}, \"zerolinecolor\": \"white\", \"zerolinewidth\": 2}, \"yaxis\": {\"automargin\": true, \"gridcolor\": \"white\", \"linecolor\": \"white\", \"ticks\": \"\", \"title\": {\"standoff\": 15}, \"zerolinecolor\": \"white\", \"zerolinewidth\": 2}}}, \"xaxis\": {\"anchor\": \"y\", \"categoryarray\": [\"verb.social\", \"verb.cognition\", \"verb.motion\", \"verb.perception\", \"verb.possession\", \"verb.change\", \"verb.communication\", \"verb.contact\", \"verb.emotion\", \"verb.creation\", \"verb.competition\", \"verb.stative\", \"verb.consumption\", \"verb.body\", \"verb.weather\"], \"categoryorder\": \"array\", \"domain\": [0.0, 1.0], \"title\": {\"text\": \"category\"}}, \"yaxis\": {\"anchor\": \"x\", \"domain\": [0.0, 1.0], \"title\": {\"text\": \"count\"}}},\n",
              "                        {\"responsive\": true}\n",
              "                    ).then(function(){\n",
              "                            \n",
              "var gd = document.getElementById('d8be71e6-f539-4313-b428-e32d3f0a2141');\n",
              "var x = new MutationObserver(function (mutations, observer) {{\n",
              "        var display = window.getComputedStyle(gd).display;\n",
              "        if (!display || display === 'none') {{\n",
              "            console.log([gd, 'removed!']);\n",
              "            Plotly.purge(gd);\n",
              "            observer.disconnect();\n",
              "        }}\n",
              "}});\n",
              "\n",
              "// Listen for the removal of the full notebook cells\n",
              "var notebookContainer = gd.closest('#notebook-container');\n",
              "if (notebookContainer) {{\n",
              "    x.observe(notebookContainer, {childList: true});\n",
              "}}\n",
              "\n",
              "// Listen for the clearing of the current output cell\n",
              "var outputEl = gd.closest('.output');\n",
              "if (outputEl) {{\n",
              "    x.observe(outputEl, {childList: true});\n",
              "}}\n",
              "\n",
              "                        })\n",
              "                };\n",
              "                \n",
              "            </script>\n",
              "        </div>\n",
              "</body>\n",
              "</html>"
            ]
          },
          "metadata": {
            "tags": []
          }
        }
      ]
    },
    {
      "cell_type": "markdown",
      "metadata": {
        "id": "fFTlVp65rcOj"
      },
      "source": [
        "Book-2"
      ]
    },
    {
      "cell_type": "code",
      "metadata": {
        "colab": {
          "base_uri": "https://localhost:8080/"
        },
        "id": "raF3De8yrb3x",
        "outputId": "a609683f-80ef-422b-c21a-c4bf036ccb97"
      },
      "source": [
        "#making a list of sentences from book2\r\n",
        "sentence_list2 = nltk.sent_tokenize(t2)\r\n",
        "\r\n",
        "print(sentence_list2[:5])"
      ],
      "execution_count": 241,
      "outputs": [
        {
          "output_type": "stream",
          "text": [
            "['I — Stately, plump Buck Mulligan came from the stairhead, bearing a bowl of lather on which a mirror and a razor lay crossed.', 'A yellow dressinggown, ungirdled, was sustained gently behind him on the mild morning air.', 'He held the bowl aloft and intoned: —_Introibo ad altare Dei_.', 'Halted, he peered down the dark winding stairs and called out coarsely: —Come up, Kinch!', 'Come up, you fearful jesuit!']\n"
          ],
          "name": "stdout"
        }
      ]
    },
    {
      "cell_type": "code",
      "metadata": {
        "id": "zLmbPWoMr1fJ"
      },
      "source": [
        "#disambiguation of word senses is performed\r\n",
        "from pywsd import disambiguate\r\n",
        "\r\n",
        "disambiguated_list2 = []\r\n",
        "for s in sentence_list2:\r\n",
        "  disambiguated_list2.append(disambiguate(s))"
      ],
      "execution_count": 200,
      "outputs": []
    },
    {
      "cell_type": "code",
      "metadata": {
        "colab": {
          "base_uri": "https://localhost:8080/"
        },
        "id": "O8ENEh6RsE3c",
        "outputId": "56468bfb-d48c-4fcd-d5b2-6fa602290225"
      },
      "source": [
        "print(disambiguated_list2[:5])"
      ],
      "execution_count": 201,
      "outputs": [
        {
          "output_type": "stream",
          "text": [
            "[[('I', None), ('—', None), ('Stately', Synset('stately.s.02')), (',', None), ('plump', Synset('chubby.s.01')), ('Buck', Synset('vaulting_horse.n.01')), ('Mulligan', Synset('mulligan_stew.n.01')), ('came', Synset('total.v.01')), ('from', None), ('the', None), ('stairhead', Synset('stairhead.n.01')), (',', None), ('bearing', Synset('yield.v.10')), ('a', None), ('bowl', Synset('stadium.n.01')), ('of', None), ('lather', Synset('soapsuds.n.01')), ('on', None), ('which', None), ('a', None), ('mirror', Synset('mirror.n.02')), ('and', None), ('a', None), ('razor', Synset('razor.n.01')), ('lay', Synset('ballad.n.02')), ('crossed', Synset('traverse.v.01')), ('.', None)], [('A', None), ('yellow', Synset('yellow.s.05')), ('dressinggown', None), (',', None), ('ungirdled', None), (',', None), ('was', None), ('sustained', Synset('sustain.v.06')), ('gently', Synset('lightly.r.03')), ('behind', Synset('buttocks.n.01')), ('him', None), ('on', None), ('the', None), ('mild', Synset('mild.a.01')), ('morning', Synset('morning.n.01')), ('air', Synset('tune.n.01')), ('.', None)], [('He', None), ('held', Synset('hold.v.02')), ('the', None), ('bowl', Synset('bowl.n.08')), ('aloft', Synset('aloft.r.04')), ('and', None), ('intoned', Synset('chantlike.s.01')), (':', None), ('—_Introibo', None), ('ad', Synset('ad.n.01')), ('altare', Synset('altar.n.02')), ('Dei_', None), ('.', None)], [('Halted', Synset('stop.v.03')), (',', None), ('he', None), ('peered', Synset('peer.v.01')), ('down', None), ('the', None), ('dark', Synset('night.n.01')), ('winding', Synset('wreathe.v.03')), ('stairs', Synset('step.n.04')), ('and', None), ('called', Synset('visit.v.03')), ('out', None), ('coarsely', Synset('coarsely.r.01')), (':', None), ('—Come', None), ('up', None), (',', None), ('Kinch', None), ('!', None)], [('Come', Synset('semen.n.01')), ('up', None), (',', None), ('you', None), ('fearful', Synset('fearful.s.05')), ('jesuit', Synset('jesuit.n.01')), ('!', None)]]\n"
          ],
          "name": "stdout"
        }
      ]
    },
    {
      "cell_type": "code",
      "metadata": {
        "id": "wu221o6BsQcg"
      },
      "source": [
        "ln2 = []                                     #storing the lexnames in a list\r\n",
        "for s in disambiguated_list2:\r\n",
        "  for w in s:\r\n",
        "    if type(w[1])==type(None):\r\n",
        "      continue\r\n",
        "    ln2.append((w[0],w[1].lexname()))"
      ],
      "execution_count": 202,
      "outputs": []
    },
    {
      "cell_type": "code",
      "metadata": {
        "colab": {
          "base_uri": "https://localhost:8080/"
        },
        "id": "5M2bAvP5sZUM",
        "outputId": "2966570a-36dd-428c-ff4c-e1cb14f398ed"
      },
      "source": [
        "print(ln2[:10])"
      ],
      "execution_count": 203,
      "outputs": [
        {
          "output_type": "stream",
          "text": [
            "[('Stately', 'adj.all'), ('plump', 'adj.all'), ('Buck', 'noun.artifact'), ('Mulligan', 'noun.food'), ('came', 'verb.stative'), ('stairhead', 'noun.artifact'), ('bearing', 'verb.possession'), ('bowl', 'noun.artifact'), ('lather', 'noun.object'), ('mirror', 'noun.cognition')]\n"
          ],
          "name": "stdout"
        }
      ]
    },
    {
      "cell_type": "code",
      "metadata": {
        "colab": {
          "base_uri": "https://localhost:8080/"
        },
        "id": "M_Qs72eGswEA",
        "outputId": "4f3f6bf9-0165-4d61-b229-fe515f628c34"
      },
      "source": [
        "#counting the total noun and verb types\r\n",
        "noun_category_count2 = {}\r\n",
        "verb_category_count2 = {}\r\n",
        "\r\n",
        "for w in ln2:\r\n",
        "  if w[1][0]=='n':\r\n",
        "    noun_category_count2[w[1]] = noun_category_count2.get(w[1],0) + 1\r\n",
        "  elif w[1][0]=='v':\r\n",
        "    verb_category_count2[w[1]] = verb_category_count2.get(w[1],0) + 1\r\n",
        "\r\n",
        "print(\"The categories of nouns = \", len(noun_category_count2))\r\n",
        "print(\"The categories of verbs = \", len(verb_category_count2))"
      ],
      "execution_count": 204,
      "outputs": [
        {
          "output_type": "stream",
          "text": [
            "The categories of nouns =  26\n",
            "The categories of verbs =  15\n"
          ],
          "name": "stdout"
        }
      ]
    },
    {
      "cell_type": "code",
      "metadata": {
        "colab": {
          "base_uri": "https://localhost:8080/",
          "height": 817
        },
        "id": "sjSWQSLYtJxl",
        "outputId": "eb992f38-8d03-46f3-aace-29954c413fae"
      },
      "source": [
        "#count of each category of noun in book2\r\n",
        "category_dict_noun2 = {}\r\n",
        "for category in noun_category_count2.keys():\r\n",
        "  category_dict_noun2[category] = noun_category_count2[category]\r\n",
        "\r\n",
        "category_df_noun2 = pd.DataFrame.from_dict(category_dict_noun2, orient='index', columns=['count'])\r\n",
        "category_df_noun2['category'] = category_df_noun2.index\r\n",
        "category_df_noun2.index = range(len(category_df_noun2))\r\n",
        "category_df_noun2"
      ],
      "execution_count": 205,
      "outputs": [
        {
          "output_type": "execute_result",
          "data": {
            "text/html": [
              "<div>\n",
              "<style scoped>\n",
              "    .dataframe tbody tr th:only-of-type {\n",
              "        vertical-align: middle;\n",
              "    }\n",
              "\n",
              "    .dataframe tbody tr th {\n",
              "        vertical-align: top;\n",
              "    }\n",
              "\n",
              "    .dataframe thead th {\n",
              "        text-align: right;\n",
              "    }\n",
              "</style>\n",
              "<table border=\"1\" class=\"dataframe\">\n",
              "  <thead>\n",
              "    <tr style=\"text-align: right;\">\n",
              "      <th></th>\n",
              "      <th>count</th>\n",
              "      <th>category</th>\n",
              "    </tr>\n",
              "  </thead>\n",
              "  <tbody>\n",
              "    <tr>\n",
              "      <th>0</th>\n",
              "      <td>10880</td>\n",
              "      <td>noun.artifact</td>\n",
              "    </tr>\n",
              "    <tr>\n",
              "      <th>1</th>\n",
              "      <td>1584</td>\n",
              "      <td>noun.food</td>\n",
              "    </tr>\n",
              "    <tr>\n",
              "      <th>2</th>\n",
              "      <td>1449</td>\n",
              "      <td>noun.object</td>\n",
              "    </tr>\n",
              "    <tr>\n",
              "      <th>3</th>\n",
              "      <td>3353</td>\n",
              "      <td>noun.cognition</td>\n",
              "    </tr>\n",
              "    <tr>\n",
              "      <th>4</th>\n",
              "      <td>10412</td>\n",
              "      <td>noun.communication</td>\n",
              "    </tr>\n",
              "    <tr>\n",
              "      <th>5</th>\n",
              "      <td>1597</td>\n",
              "      <td>noun.body</td>\n",
              "    </tr>\n",
              "    <tr>\n",
              "      <th>6</th>\n",
              "      <td>3454</td>\n",
              "      <td>noun.time</td>\n",
              "    </tr>\n",
              "    <tr>\n",
              "      <th>7</th>\n",
              "      <td>12173</td>\n",
              "      <td>noun.person</td>\n",
              "    </tr>\n",
              "    <tr>\n",
              "      <th>8</th>\n",
              "      <td>2857</td>\n",
              "      <td>noun.group</td>\n",
              "    </tr>\n",
              "    <tr>\n",
              "      <th>9</th>\n",
              "      <td>2044</td>\n",
              "      <td>noun.quantity</td>\n",
              "    </tr>\n",
              "    <tr>\n",
              "      <th>10</th>\n",
              "      <td>5428</td>\n",
              "      <td>noun.act</td>\n",
              "    </tr>\n",
              "    <tr>\n",
              "      <th>11</th>\n",
              "      <td>2060</td>\n",
              "      <td>noun.animal</td>\n",
              "    </tr>\n",
              "    <tr>\n",
              "      <th>12</th>\n",
              "      <td>1401</td>\n",
              "      <td>noun.event</td>\n",
              "    </tr>\n",
              "    <tr>\n",
              "      <th>13</th>\n",
              "      <td>2576</td>\n",
              "      <td>noun.location</td>\n",
              "    </tr>\n",
              "    <tr>\n",
              "      <th>14</th>\n",
              "      <td>3191</td>\n",
              "      <td>noun.attribute</td>\n",
              "    </tr>\n",
              "    <tr>\n",
              "      <th>15</th>\n",
              "      <td>896</td>\n",
              "      <td>noun.plant</td>\n",
              "    </tr>\n",
              "    <tr>\n",
              "      <th>16</th>\n",
              "      <td>1968</td>\n",
              "      <td>noun.state</td>\n",
              "    </tr>\n",
              "    <tr>\n",
              "      <th>17</th>\n",
              "      <td>586</td>\n",
              "      <td>noun.feeling</td>\n",
              "    </tr>\n",
              "    <tr>\n",
              "      <th>18</th>\n",
              "      <td>355</td>\n",
              "      <td>noun.relation</td>\n",
              "    </tr>\n",
              "    <tr>\n",
              "      <th>19</th>\n",
              "      <td>514</td>\n",
              "      <td>noun.shape</td>\n",
              "    </tr>\n",
              "    <tr>\n",
              "      <th>20</th>\n",
              "      <td>980</td>\n",
              "      <td>noun.possession</td>\n",
              "    </tr>\n",
              "    <tr>\n",
              "      <th>21</th>\n",
              "      <td>550</td>\n",
              "      <td>noun.phenomenon</td>\n",
              "    </tr>\n",
              "    <tr>\n",
              "      <th>22</th>\n",
              "      <td>1232</td>\n",
              "      <td>noun.substance</td>\n",
              "    </tr>\n",
              "    <tr>\n",
              "      <th>23</th>\n",
              "      <td>454</td>\n",
              "      <td>noun.Tops</td>\n",
              "    </tr>\n",
              "    <tr>\n",
              "      <th>24</th>\n",
              "      <td>232</td>\n",
              "      <td>noun.process</td>\n",
              "    </tr>\n",
              "    <tr>\n",
              "      <th>25</th>\n",
              "      <td>50</td>\n",
              "      <td>noun.motive</td>\n",
              "    </tr>\n",
              "  </tbody>\n",
              "</table>\n",
              "</div>"
            ],
            "text/plain": [
              "    count            category\n",
              "0   10880       noun.artifact\n",
              "1    1584           noun.food\n",
              "2    1449         noun.object\n",
              "3    3353      noun.cognition\n",
              "4   10412  noun.communication\n",
              "5    1597           noun.body\n",
              "6    3454           noun.time\n",
              "7   12173         noun.person\n",
              "8    2857          noun.group\n",
              "9    2044       noun.quantity\n",
              "10   5428            noun.act\n",
              "11   2060         noun.animal\n",
              "12   1401          noun.event\n",
              "13   2576       noun.location\n",
              "14   3191      noun.attribute\n",
              "15    896          noun.plant\n",
              "16   1968          noun.state\n",
              "17    586        noun.feeling\n",
              "18    355       noun.relation\n",
              "19    514          noun.shape\n",
              "20    980     noun.possession\n",
              "21    550     noun.phenomenon\n",
              "22   1232      noun.substance\n",
              "23    454           noun.Tops\n",
              "24    232        noun.process\n",
              "25     50         noun.motive"
            ]
          },
          "metadata": {
            "tags": []
          },
          "execution_count": 205
        }
      ]
    },
    {
      "cell_type": "code",
      "metadata": {
        "colab": {
          "base_uri": "https://localhost:8080/",
          "height": 542
        },
        "id": "yW2YpJistZvf",
        "outputId": "2406c198-1057-4820-c04b-d9d29f5050b7"
      },
      "source": [
        "#plot of count of each category of noun in book2\r\n",
        "df = category_df_noun2\r\n",
        "fig = px.bar(df, x=\"category\",y=\"count\", color='category')\r\n",
        "fig.show()"
      ],
      "execution_count": 206,
      "outputs": [
        {
          "output_type": "display_data",
          "data": {
            "text/html": [
              "<html>\n",
              "<head><meta charset=\"utf-8\" /></head>\n",
              "<body>\n",
              "    <div>\n",
              "            <script src=\"https://cdnjs.cloudflare.com/ajax/libs/mathjax/2.7.5/MathJax.js?config=TeX-AMS-MML_SVG\"></script><script type=\"text/javascript\">if (window.MathJax) {MathJax.Hub.Config({SVG: {font: \"STIX-Web\"}});}</script>\n",
              "                <script type=\"text/javascript\">window.PlotlyConfig = {MathJaxConfig: 'local'};</script>\n",
              "        <script src=\"https://cdn.plot.ly/plotly-latest.min.js\"></script>    \n",
              "            <div id=\"d15d6748-0a19-48a4-92a3-c8ca7b6fc452\" class=\"plotly-graph-div\" style=\"height:525px; width:100%;\"></div>\n",
              "            <script type=\"text/javascript\">\n",
              "                \n",
              "                    window.PLOTLYENV=window.PLOTLYENV || {};\n",
              "                    \n",
              "                if (document.getElementById(\"d15d6748-0a19-48a4-92a3-c8ca7b6fc452\")) {\n",
              "                    Plotly.newPlot(\n",
              "                        'd15d6748-0a19-48a4-92a3-c8ca7b6fc452',\n",
              "                        [{\"alignmentgroup\": \"True\", \"hoverlabel\": {\"namelength\": 0}, \"hovertemplate\": \"category=%{x}<br>count=%{y}\", \"legendgroup\": \"category=noun.artifact\", \"marker\": {\"color\": \"#636efa\"}, \"name\": \"category=noun.artifact\", \"offsetgroup\": \"category=noun.artifact\", \"orientation\": \"v\", \"showlegend\": true, \"textposition\": \"auto\", \"type\": \"bar\", \"x\": [\"noun.artifact\"], \"xaxis\": \"x\", \"y\": [10880], \"yaxis\": \"y\"}, {\"alignmentgroup\": \"True\", \"hoverlabel\": {\"namelength\": 0}, \"hovertemplate\": \"category=%{x}<br>count=%{y}\", \"legendgroup\": \"category=noun.food\", \"marker\": {\"color\": \"#EF553B\"}, \"name\": \"category=noun.food\", \"offsetgroup\": \"category=noun.food\", \"orientation\": \"v\", \"showlegend\": true, \"textposition\": \"auto\", \"type\": \"bar\", \"x\": [\"noun.food\"], \"xaxis\": \"x\", \"y\": [1584], \"yaxis\": \"y\"}, {\"alignmentgroup\": \"True\", \"hoverlabel\": {\"namelength\": 0}, \"hovertemplate\": \"category=%{x}<br>count=%{y}\", \"legendgroup\": \"category=noun.object\", \"marker\": {\"color\": \"#00cc96\"}, \"name\": \"category=noun.object\", \"offsetgroup\": \"category=noun.object\", \"orientation\": \"v\", \"showlegend\": true, \"textposition\": \"auto\", \"type\": \"bar\", \"x\": [\"noun.object\"], \"xaxis\": \"x\", \"y\": [1449], \"yaxis\": \"y\"}, {\"alignmentgroup\": \"True\", \"hoverlabel\": {\"namelength\": 0}, \"hovertemplate\": \"category=%{x}<br>count=%{y}\", \"legendgroup\": \"category=noun.cognition\", \"marker\": {\"color\": \"#ab63fa\"}, \"name\": \"category=noun.cognition\", \"offsetgroup\": \"category=noun.cognition\", \"orientation\": \"v\", \"showlegend\": true, \"textposition\": \"auto\", \"type\": \"bar\", \"x\": [\"noun.cognition\"], \"xaxis\": \"x\", \"y\": [3353], \"yaxis\": \"y\"}, {\"alignmentgroup\": \"True\", \"hoverlabel\": {\"namelength\": 0}, \"hovertemplate\": \"category=%{x}<br>count=%{y}\", \"legendgroup\": \"category=noun.communication\", \"marker\": {\"color\": \"#FFA15A\"}, \"name\": \"category=noun.communication\", \"offsetgroup\": \"category=noun.communication\", \"orientation\": \"v\", \"showlegend\": true, \"textposition\": \"auto\", \"type\": \"bar\", \"x\": [\"noun.communication\"], \"xaxis\": \"x\", \"y\": [10412], \"yaxis\": \"y\"}, {\"alignmentgroup\": \"True\", \"hoverlabel\": {\"namelength\": 0}, \"hovertemplate\": \"category=%{x}<br>count=%{y}\", \"legendgroup\": \"category=noun.body\", \"marker\": {\"color\": \"#19d3f3\"}, \"name\": \"category=noun.body\", \"offsetgroup\": \"category=noun.body\", \"orientation\": \"v\", \"showlegend\": true, \"textposition\": \"auto\", \"type\": \"bar\", \"x\": [\"noun.body\"], \"xaxis\": \"x\", \"y\": [1597], \"yaxis\": \"y\"}, {\"alignmentgroup\": \"True\", \"hoverlabel\": {\"namelength\": 0}, \"hovertemplate\": \"category=%{x}<br>count=%{y}\", \"legendgroup\": \"category=noun.time\", \"marker\": {\"color\": \"#FF6692\"}, \"name\": \"category=noun.time\", \"offsetgroup\": \"category=noun.time\", \"orientation\": \"v\", \"showlegend\": true, \"textposition\": \"auto\", \"type\": \"bar\", \"x\": [\"noun.time\"], \"xaxis\": \"x\", \"y\": [3454], \"yaxis\": \"y\"}, {\"alignmentgroup\": \"True\", \"hoverlabel\": {\"namelength\": 0}, \"hovertemplate\": \"category=%{x}<br>count=%{y}\", \"legendgroup\": \"category=noun.person\", \"marker\": {\"color\": \"#B6E880\"}, \"name\": \"category=noun.person\", \"offsetgroup\": \"category=noun.person\", \"orientation\": \"v\", \"showlegend\": true, \"textposition\": \"auto\", \"type\": \"bar\", \"x\": [\"noun.person\"], \"xaxis\": \"x\", \"y\": [12173], \"yaxis\": \"y\"}, {\"alignmentgroup\": \"True\", \"hoverlabel\": {\"namelength\": 0}, \"hovertemplate\": \"category=%{x}<br>count=%{y}\", \"legendgroup\": \"category=noun.group\", \"marker\": {\"color\": \"#FF97FF\"}, \"name\": \"category=noun.group\", \"offsetgroup\": \"category=noun.group\", \"orientation\": \"v\", \"showlegend\": true, \"textposition\": \"auto\", \"type\": \"bar\", \"x\": [\"noun.group\"], \"xaxis\": \"x\", \"y\": [2857], \"yaxis\": \"y\"}, {\"alignmentgroup\": \"True\", \"hoverlabel\": {\"namelength\": 0}, \"hovertemplate\": \"category=%{x}<br>count=%{y}\", \"legendgroup\": \"category=noun.quantity\", \"marker\": {\"color\": \"#FECB52\"}, \"name\": \"category=noun.quantity\", \"offsetgroup\": \"category=noun.quantity\", \"orientation\": \"v\", \"showlegend\": true, \"textposition\": \"auto\", \"type\": \"bar\", \"x\": [\"noun.quantity\"], \"xaxis\": \"x\", \"y\": [2044], \"yaxis\": \"y\"}, {\"alignmentgroup\": \"True\", \"hoverlabel\": {\"namelength\": 0}, \"hovertemplate\": \"category=%{x}<br>count=%{y}\", \"legendgroup\": \"category=noun.act\", \"marker\": {\"color\": \"#636efa\"}, \"name\": \"category=noun.act\", \"offsetgroup\": \"category=noun.act\", \"orientation\": \"v\", \"showlegend\": true, \"textposition\": \"auto\", \"type\": \"bar\", \"x\": [\"noun.act\"], \"xaxis\": \"x\", \"y\": [5428], \"yaxis\": \"y\"}, {\"alignmentgroup\": \"True\", \"hoverlabel\": {\"namelength\": 0}, \"hovertemplate\": \"category=%{x}<br>count=%{y}\", \"legendgroup\": \"category=noun.animal\", \"marker\": {\"color\": \"#EF553B\"}, \"name\": \"category=noun.animal\", \"offsetgroup\": \"category=noun.animal\", \"orientation\": \"v\", \"showlegend\": true, \"textposition\": \"auto\", \"type\": \"bar\", \"x\": [\"noun.animal\"], \"xaxis\": \"x\", \"y\": [2060], \"yaxis\": \"y\"}, {\"alignmentgroup\": \"True\", \"hoverlabel\": {\"namelength\": 0}, \"hovertemplate\": \"category=%{x}<br>count=%{y}\", \"legendgroup\": \"category=noun.event\", \"marker\": {\"color\": \"#00cc96\"}, \"name\": \"category=noun.event\", \"offsetgroup\": \"category=noun.event\", \"orientation\": \"v\", \"showlegend\": true, \"textposition\": \"auto\", \"type\": \"bar\", \"x\": [\"noun.event\"], \"xaxis\": \"x\", \"y\": [1401], \"yaxis\": \"y\"}, {\"alignmentgroup\": \"True\", \"hoverlabel\": {\"namelength\": 0}, \"hovertemplate\": \"category=%{x}<br>count=%{y}\", \"legendgroup\": \"category=noun.location\", \"marker\": {\"color\": \"#ab63fa\"}, \"name\": \"category=noun.location\", \"offsetgroup\": \"category=noun.location\", \"orientation\": \"v\", \"showlegend\": true, \"textposition\": \"auto\", \"type\": \"bar\", \"x\": [\"noun.location\"], \"xaxis\": \"x\", \"y\": [2576], \"yaxis\": \"y\"}, {\"alignmentgroup\": \"True\", \"hoverlabel\": {\"namelength\": 0}, \"hovertemplate\": \"category=%{x}<br>count=%{y}\", \"legendgroup\": \"category=noun.attribute\", \"marker\": {\"color\": \"#FFA15A\"}, \"name\": \"category=noun.attribute\", \"offsetgroup\": \"category=noun.attribute\", \"orientation\": \"v\", \"showlegend\": true, \"textposition\": \"auto\", \"type\": \"bar\", \"x\": [\"noun.attribute\"], \"xaxis\": \"x\", \"y\": [3191], \"yaxis\": \"y\"}, {\"alignmentgroup\": \"True\", \"hoverlabel\": {\"namelength\": 0}, \"hovertemplate\": \"category=%{x}<br>count=%{y}\", \"legendgroup\": \"category=noun.plant\", \"marker\": {\"color\": \"#19d3f3\"}, \"name\": \"category=noun.plant\", \"offsetgroup\": \"category=noun.plant\", \"orientation\": \"v\", \"showlegend\": true, \"textposition\": \"auto\", \"type\": \"bar\", \"x\": [\"noun.plant\"], \"xaxis\": \"x\", \"y\": [896], \"yaxis\": \"y\"}, {\"alignmentgroup\": \"True\", \"hoverlabel\": {\"namelength\": 0}, \"hovertemplate\": \"category=%{x}<br>count=%{y}\", \"legendgroup\": \"category=noun.state\", \"marker\": {\"color\": \"#FF6692\"}, \"name\": \"category=noun.state\", \"offsetgroup\": \"category=noun.state\", \"orientation\": \"v\", \"showlegend\": true, \"textposition\": \"auto\", \"type\": \"bar\", \"x\": [\"noun.state\"], \"xaxis\": \"x\", \"y\": [1968], \"yaxis\": \"y\"}, {\"alignmentgroup\": \"True\", \"hoverlabel\": {\"namelength\": 0}, \"hovertemplate\": \"category=%{x}<br>count=%{y}\", \"legendgroup\": \"category=noun.feeling\", \"marker\": {\"color\": \"#B6E880\"}, \"name\": \"category=noun.feeling\", \"offsetgroup\": \"category=noun.feeling\", \"orientation\": \"v\", \"showlegend\": true, \"textposition\": \"auto\", \"type\": \"bar\", \"x\": [\"noun.feeling\"], \"xaxis\": \"x\", \"y\": [586], \"yaxis\": \"y\"}, {\"alignmentgroup\": \"True\", \"hoverlabel\": {\"namelength\": 0}, \"hovertemplate\": \"category=%{x}<br>count=%{y}\", \"legendgroup\": \"category=noun.relation\", \"marker\": {\"color\": \"#FF97FF\"}, \"name\": \"category=noun.relation\", \"offsetgroup\": \"category=noun.relation\", \"orientation\": \"v\", \"showlegend\": true, \"textposition\": \"auto\", \"type\": \"bar\", \"x\": [\"noun.relation\"], \"xaxis\": \"x\", \"y\": [355], \"yaxis\": \"y\"}, {\"alignmentgroup\": \"True\", \"hoverlabel\": {\"namelength\": 0}, \"hovertemplate\": \"category=%{x}<br>count=%{y}\", \"legendgroup\": \"category=noun.shape\", \"marker\": {\"color\": \"#FECB52\"}, \"name\": \"category=noun.shape\", \"offsetgroup\": \"category=noun.shape\", \"orientation\": \"v\", \"showlegend\": true, \"textposition\": \"auto\", \"type\": \"bar\", \"x\": [\"noun.shape\"], \"xaxis\": \"x\", \"y\": [514], \"yaxis\": \"y\"}, {\"alignmentgroup\": \"True\", \"hoverlabel\": {\"namelength\": 0}, \"hovertemplate\": \"category=%{x}<br>count=%{y}\", \"legendgroup\": \"category=noun.possession\", \"marker\": {\"color\": \"#636efa\"}, \"name\": \"category=noun.possession\", \"offsetgroup\": \"category=noun.possession\", \"orientation\": \"v\", \"showlegend\": true, \"textposition\": \"auto\", \"type\": \"bar\", \"x\": [\"noun.possession\"], \"xaxis\": \"x\", \"y\": [980], \"yaxis\": \"y\"}, {\"alignmentgroup\": \"True\", \"hoverlabel\": {\"namelength\": 0}, \"hovertemplate\": \"category=%{x}<br>count=%{y}\", \"legendgroup\": \"category=noun.phenomenon\", \"marker\": {\"color\": \"#EF553B\"}, \"name\": \"category=noun.phenomenon\", \"offsetgroup\": \"category=noun.phenomenon\", \"orientation\": \"v\", \"showlegend\": true, \"textposition\": \"auto\", \"type\": \"bar\", \"x\": [\"noun.phenomenon\"], \"xaxis\": \"x\", \"y\": [550], \"yaxis\": \"y\"}, {\"alignmentgroup\": \"True\", \"hoverlabel\": {\"namelength\": 0}, \"hovertemplate\": \"category=%{x}<br>count=%{y}\", \"legendgroup\": \"category=noun.substance\", \"marker\": {\"color\": \"#00cc96\"}, \"name\": \"category=noun.substance\", \"offsetgroup\": \"category=noun.substance\", \"orientation\": \"v\", \"showlegend\": true, \"textposition\": \"auto\", \"type\": \"bar\", \"x\": [\"noun.substance\"], \"xaxis\": \"x\", \"y\": [1232], \"yaxis\": \"y\"}, {\"alignmentgroup\": \"True\", \"hoverlabel\": {\"namelength\": 0}, \"hovertemplate\": \"category=%{x}<br>count=%{y}\", \"legendgroup\": \"category=noun.Tops\", \"marker\": {\"color\": \"#ab63fa\"}, \"name\": \"category=noun.Tops\", \"offsetgroup\": \"category=noun.Tops\", \"orientation\": \"v\", \"showlegend\": true, \"textposition\": \"auto\", \"type\": \"bar\", \"x\": [\"noun.Tops\"], \"xaxis\": \"x\", \"y\": [454], \"yaxis\": \"y\"}, {\"alignmentgroup\": \"True\", \"hoverlabel\": {\"namelength\": 0}, \"hovertemplate\": \"category=%{x}<br>count=%{y}\", \"legendgroup\": \"category=noun.process\", \"marker\": {\"color\": \"#FFA15A\"}, \"name\": \"category=noun.process\", \"offsetgroup\": \"category=noun.process\", \"orientation\": \"v\", \"showlegend\": true, \"textposition\": \"auto\", \"type\": \"bar\", \"x\": [\"noun.process\"], \"xaxis\": \"x\", \"y\": [232], \"yaxis\": \"y\"}, {\"alignmentgroup\": \"True\", \"hoverlabel\": {\"namelength\": 0}, \"hovertemplate\": \"category=%{x}<br>count=%{y}\", \"legendgroup\": \"category=noun.motive\", \"marker\": {\"color\": \"#19d3f3\"}, \"name\": \"category=noun.motive\", \"offsetgroup\": \"category=noun.motive\", \"orientation\": \"v\", \"showlegend\": true, \"textposition\": \"auto\", \"type\": \"bar\", \"x\": [\"noun.motive\"], \"xaxis\": \"x\", \"y\": [50], \"yaxis\": \"y\"}],\n",
              "                        {\"barmode\": \"relative\", \"legend\": {\"tracegroupgap\": 0}, \"margin\": {\"t\": 60}, \"template\": {\"data\": {\"bar\": [{\"error_x\": {\"color\": \"#2a3f5f\"}, \"error_y\": {\"color\": \"#2a3f5f\"}, \"marker\": {\"line\": {\"color\": \"#E5ECF6\", \"width\": 0.5}}, \"type\": \"bar\"}], \"barpolar\": [{\"marker\": {\"line\": {\"color\": \"#E5ECF6\", \"width\": 0.5}}, \"type\": \"barpolar\"}], \"carpet\": [{\"aaxis\": {\"endlinecolor\": \"#2a3f5f\", \"gridcolor\": \"white\", \"linecolor\": \"white\", \"minorgridcolor\": \"white\", \"startlinecolor\": \"#2a3f5f\"}, \"baxis\": {\"endlinecolor\": \"#2a3f5f\", \"gridcolor\": \"white\", \"linecolor\": \"white\", \"minorgridcolor\": \"white\", \"startlinecolor\": \"#2a3f5f\"}, \"type\": \"carpet\"}], \"choropleth\": [{\"colorbar\": {\"outlinewidth\": 0, \"ticks\": \"\"}, \"type\": \"choropleth\"}], \"contour\": [{\"colorbar\": {\"outlinewidth\": 0, \"ticks\": \"\"}, \"colorscale\": [[0.0, \"#0d0887\"], [0.1111111111111111, \"#46039f\"], [0.2222222222222222, \"#7201a8\"], [0.3333333333333333, \"#9c179e\"], [0.4444444444444444, \"#bd3786\"], [0.5555555555555556, \"#d8576b\"], [0.6666666666666666, \"#ed7953\"], [0.7777777777777778, \"#fb9f3a\"], [0.8888888888888888, \"#fdca26\"], [1.0, \"#f0f921\"]], \"type\": \"contour\"}], \"contourcarpet\": [{\"colorbar\": {\"outlinewidth\": 0, \"ticks\": \"\"}, \"type\": \"contourcarpet\"}], \"heatmap\": [{\"colorbar\": {\"outlinewidth\": 0, \"ticks\": \"\"}, \"colorscale\": [[0.0, \"#0d0887\"], [0.1111111111111111, \"#46039f\"], [0.2222222222222222, \"#7201a8\"], [0.3333333333333333, \"#9c179e\"], [0.4444444444444444, \"#bd3786\"], [0.5555555555555556, \"#d8576b\"], [0.6666666666666666, \"#ed7953\"], [0.7777777777777778, \"#fb9f3a\"], [0.8888888888888888, \"#fdca26\"], [1.0, \"#f0f921\"]], \"type\": \"heatmap\"}], \"heatmapgl\": [{\"colorbar\": {\"outlinewidth\": 0, \"ticks\": \"\"}, \"colorscale\": [[0.0, \"#0d0887\"], [0.1111111111111111, \"#46039f\"], [0.2222222222222222, \"#7201a8\"], [0.3333333333333333, \"#9c179e\"], [0.4444444444444444, \"#bd3786\"], [0.5555555555555556, \"#d8576b\"], [0.6666666666666666, \"#ed7953\"], [0.7777777777777778, \"#fb9f3a\"], [0.8888888888888888, \"#fdca26\"], [1.0, \"#f0f921\"]], \"type\": \"heatmapgl\"}], \"histogram\": [{\"marker\": {\"colorbar\": {\"outlinewidth\": 0, \"ticks\": \"\"}}, \"type\": \"histogram\"}], \"histogram2d\": [{\"colorbar\": {\"outlinewidth\": 0, \"ticks\": \"\"}, \"colorscale\": [[0.0, \"#0d0887\"], [0.1111111111111111, \"#46039f\"], [0.2222222222222222, \"#7201a8\"], [0.3333333333333333, \"#9c179e\"], [0.4444444444444444, \"#bd3786\"], [0.5555555555555556, \"#d8576b\"], [0.6666666666666666, \"#ed7953\"], [0.7777777777777778, \"#fb9f3a\"], [0.8888888888888888, \"#fdca26\"], [1.0, \"#f0f921\"]], \"type\": \"histogram2d\"}], \"histogram2dcontour\": [{\"colorbar\": {\"outlinewidth\": 0, \"ticks\": \"\"}, \"colorscale\": [[0.0, \"#0d0887\"], [0.1111111111111111, \"#46039f\"], [0.2222222222222222, \"#7201a8\"], [0.3333333333333333, \"#9c179e\"], [0.4444444444444444, \"#bd3786\"], [0.5555555555555556, \"#d8576b\"], [0.6666666666666666, \"#ed7953\"], [0.7777777777777778, \"#fb9f3a\"], [0.8888888888888888, \"#fdca26\"], [1.0, \"#f0f921\"]], \"type\": \"histogram2dcontour\"}], \"mesh3d\": [{\"colorbar\": {\"outlinewidth\": 0, \"ticks\": \"\"}, \"type\": \"mesh3d\"}], \"parcoords\": [{\"line\": {\"colorbar\": {\"outlinewidth\": 0, \"ticks\": \"\"}}, \"type\": \"parcoords\"}], \"pie\": [{\"automargin\": true, \"type\": \"pie\"}], \"scatter\": [{\"marker\": {\"colorbar\": {\"outlinewidth\": 0, \"ticks\": \"\"}}, \"type\": \"scatter\"}], \"scatter3d\": [{\"line\": {\"colorbar\": {\"outlinewidth\": 0, \"ticks\": \"\"}}, \"marker\": {\"colorbar\": {\"outlinewidth\": 0, \"ticks\": \"\"}}, \"type\": \"scatter3d\"}], \"scattercarpet\": [{\"marker\": {\"colorbar\": {\"outlinewidth\": 0, \"ticks\": \"\"}}, \"type\": \"scattercarpet\"}], \"scattergeo\": [{\"marker\": {\"colorbar\": {\"outlinewidth\": 0, \"ticks\": \"\"}}, \"type\": \"scattergeo\"}], \"scattergl\": [{\"marker\": {\"colorbar\": {\"outlinewidth\": 0, \"ticks\": \"\"}}, \"type\": \"scattergl\"}], \"scattermapbox\": [{\"marker\": {\"colorbar\": {\"outlinewidth\": 0, \"ticks\": \"\"}}, \"type\": \"scattermapbox\"}], \"scatterpolar\": [{\"marker\": {\"colorbar\": {\"outlinewidth\": 0, \"ticks\": \"\"}}, \"type\": \"scatterpolar\"}], \"scatterpolargl\": [{\"marker\": {\"colorbar\": {\"outlinewidth\": 0, \"ticks\": \"\"}}, \"type\": \"scatterpolargl\"}], \"scatterternary\": [{\"marker\": {\"colorbar\": {\"outlinewidth\": 0, \"ticks\": \"\"}}, \"type\": \"scatterternary\"}], \"surface\": [{\"colorbar\": {\"outlinewidth\": 0, \"ticks\": \"\"}, \"colorscale\": [[0.0, \"#0d0887\"], [0.1111111111111111, \"#46039f\"], [0.2222222222222222, \"#7201a8\"], [0.3333333333333333, \"#9c179e\"], [0.4444444444444444, \"#bd3786\"], [0.5555555555555556, \"#d8576b\"], [0.6666666666666666, \"#ed7953\"], [0.7777777777777778, \"#fb9f3a\"], [0.8888888888888888, \"#fdca26\"], [1.0, \"#f0f921\"]], \"type\": \"surface\"}], \"table\": [{\"cells\": {\"fill\": {\"color\": \"#EBF0F8\"}, \"line\": {\"color\": \"white\"}}, \"header\": {\"fill\": {\"color\": \"#C8D4E3\"}, \"line\": {\"color\": \"white\"}}, \"type\": \"table\"}]}, \"layout\": {\"annotationdefaults\": {\"arrowcolor\": \"#2a3f5f\", \"arrowhead\": 0, \"arrowwidth\": 1}, \"coloraxis\": {\"colorbar\": {\"outlinewidth\": 0, \"ticks\": \"\"}}, \"colorscale\": {\"diverging\": [[0, \"#8e0152\"], [0.1, \"#c51b7d\"], [0.2, \"#de77ae\"], [0.3, \"#f1b6da\"], [0.4, \"#fde0ef\"], [0.5, \"#f7f7f7\"], [0.6, \"#e6f5d0\"], [0.7, \"#b8e186\"], [0.8, \"#7fbc41\"], [0.9, \"#4d9221\"], [1, \"#276419\"]], \"sequential\": [[0.0, \"#0d0887\"], [0.1111111111111111, \"#46039f\"], [0.2222222222222222, \"#7201a8\"], [0.3333333333333333, \"#9c179e\"], [0.4444444444444444, \"#bd3786\"], [0.5555555555555556, \"#d8576b\"], [0.6666666666666666, \"#ed7953\"], [0.7777777777777778, \"#fb9f3a\"], [0.8888888888888888, \"#fdca26\"], [1.0, \"#f0f921\"]], \"sequentialminus\": [[0.0, \"#0d0887\"], [0.1111111111111111, \"#46039f\"], [0.2222222222222222, \"#7201a8\"], [0.3333333333333333, \"#9c179e\"], [0.4444444444444444, \"#bd3786\"], [0.5555555555555556, \"#d8576b\"], [0.6666666666666666, \"#ed7953\"], [0.7777777777777778, \"#fb9f3a\"], [0.8888888888888888, \"#fdca26\"], [1.0, \"#f0f921\"]]}, \"colorway\": [\"#636efa\", \"#EF553B\", \"#00cc96\", \"#ab63fa\", \"#FFA15A\", \"#19d3f3\", \"#FF6692\", \"#B6E880\", \"#FF97FF\", \"#FECB52\"], \"font\": {\"color\": \"#2a3f5f\"}, \"geo\": {\"bgcolor\": \"white\", \"lakecolor\": \"white\", \"landcolor\": \"#E5ECF6\", \"showlakes\": true, \"showland\": true, \"subunitcolor\": \"white\"}, \"hoverlabel\": {\"align\": \"left\"}, \"hovermode\": \"closest\", \"mapbox\": {\"style\": \"light\"}, \"paper_bgcolor\": \"white\", \"plot_bgcolor\": \"#E5ECF6\", \"polar\": {\"angularaxis\": {\"gridcolor\": \"white\", \"linecolor\": \"white\", \"ticks\": \"\"}, \"bgcolor\": \"#E5ECF6\", \"radialaxis\": {\"gridcolor\": \"white\", \"linecolor\": \"white\", \"ticks\": \"\"}}, \"scene\": {\"xaxis\": {\"backgroundcolor\": \"#E5ECF6\", \"gridcolor\": \"white\", \"gridwidth\": 2, \"linecolor\": \"white\", \"showbackground\": true, \"ticks\": \"\", \"zerolinecolor\": \"white\"}, \"yaxis\": {\"backgroundcolor\": \"#E5ECF6\", \"gridcolor\": \"white\", \"gridwidth\": 2, \"linecolor\": \"white\", \"showbackground\": true, \"ticks\": \"\", \"zerolinecolor\": \"white\"}, \"zaxis\": {\"backgroundcolor\": \"#E5ECF6\", \"gridcolor\": \"white\", \"gridwidth\": 2, \"linecolor\": \"white\", \"showbackground\": true, \"ticks\": \"\", \"zerolinecolor\": \"white\"}}, \"shapedefaults\": {\"line\": {\"color\": \"#2a3f5f\"}}, \"ternary\": {\"aaxis\": {\"gridcolor\": \"white\", \"linecolor\": \"white\", \"ticks\": \"\"}, \"baxis\": {\"gridcolor\": \"white\", \"linecolor\": \"white\", \"ticks\": \"\"}, \"bgcolor\": \"#E5ECF6\", \"caxis\": {\"gridcolor\": \"white\", \"linecolor\": \"white\", \"ticks\": \"\"}}, \"title\": {\"x\": 0.05}, \"xaxis\": {\"automargin\": true, \"gridcolor\": \"white\", \"linecolor\": \"white\", \"ticks\": \"\", \"title\": {\"standoff\": 15}, \"zerolinecolor\": \"white\", \"zerolinewidth\": 2}, \"yaxis\": {\"automargin\": true, \"gridcolor\": \"white\", \"linecolor\": \"white\", \"ticks\": \"\", \"title\": {\"standoff\": 15}, \"zerolinecolor\": \"white\", \"zerolinewidth\": 2}}}, \"xaxis\": {\"anchor\": \"y\", \"categoryarray\": [\"noun.artifact\", \"noun.food\", \"noun.object\", \"noun.cognition\", \"noun.communication\", \"noun.body\", \"noun.time\", \"noun.person\", \"noun.group\", \"noun.quantity\", \"noun.act\", \"noun.animal\", \"noun.event\", \"noun.location\", \"noun.attribute\", \"noun.plant\", \"noun.state\", \"noun.feeling\", \"noun.relation\", \"noun.shape\", \"noun.possession\", \"noun.phenomenon\", \"noun.substance\", \"noun.Tops\", \"noun.process\", \"noun.motive\"], \"categoryorder\": \"array\", \"domain\": [0.0, 1.0], \"title\": {\"text\": \"category\"}}, \"yaxis\": {\"anchor\": \"x\", \"domain\": [0.0, 1.0], \"title\": {\"text\": \"count\"}}},\n",
              "                        {\"responsive\": true}\n",
              "                    ).then(function(){\n",
              "                            \n",
              "var gd = document.getElementById('d15d6748-0a19-48a4-92a3-c8ca7b6fc452');\n",
              "var x = new MutationObserver(function (mutations, observer) {{\n",
              "        var display = window.getComputedStyle(gd).display;\n",
              "        if (!display || display === 'none') {{\n",
              "            console.log([gd, 'removed!']);\n",
              "            Plotly.purge(gd);\n",
              "            observer.disconnect();\n",
              "        }}\n",
              "}});\n",
              "\n",
              "// Listen for the removal of the full notebook cells\n",
              "var notebookContainer = gd.closest('#notebook-container');\n",
              "if (notebookContainer) {{\n",
              "    x.observe(notebookContainer, {childList: true});\n",
              "}}\n",
              "\n",
              "// Listen for the clearing of the current output cell\n",
              "var outputEl = gd.closest('.output');\n",
              "if (outputEl) {{\n",
              "    x.observe(outputEl, {childList: true});\n",
              "}}\n",
              "\n",
              "                        })\n",
              "                };\n",
              "                \n",
              "            </script>\n",
              "        </div>\n",
              "</body>\n",
              "</html>"
            ]
          },
          "metadata": {
            "tags": []
          }
        }
      ]
    },
    {
      "cell_type": "code",
      "metadata": {
        "colab": {
          "base_uri": "https://localhost:8080/",
          "height": 491
        },
        "id": "ydyQDN6Utl1x",
        "outputId": "60360528-aa0d-48b2-c97a-07c11ec4d7cf"
      },
      "source": [
        "#count of each category of verb in book2\r\n",
        "category_dict_verb2 = {}\r\n",
        "for category in verb_category_count2.keys():\r\n",
        "  category_dict_verb2[category] = verb_category_count2[category]\r\n",
        "\r\n",
        "category_df_verb2 = pd.DataFrame.from_dict(category_dict_verb2, orient='index', columns=['count'])\r\n",
        "category_df_verb2['category'] = category_df_verb2.index\r\n",
        "category_df_verb2.index = range(len(category_df_verb2))\r\n",
        "category_df_verb2"
      ],
      "execution_count": 207,
      "outputs": [
        {
          "output_type": "execute_result",
          "data": {
            "text/html": [
              "<div>\n",
              "<style scoped>\n",
              "    .dataframe tbody tr th:only-of-type {\n",
              "        vertical-align: middle;\n",
              "    }\n",
              "\n",
              "    .dataframe tbody tr th {\n",
              "        vertical-align: top;\n",
              "    }\n",
              "\n",
              "    .dataframe thead th {\n",
              "        text-align: right;\n",
              "    }\n",
              "</style>\n",
              "<table border=\"1\" class=\"dataframe\">\n",
              "  <thead>\n",
              "    <tr style=\"text-align: right;\">\n",
              "      <th></th>\n",
              "      <th>count</th>\n",
              "      <th>category</th>\n",
              "    </tr>\n",
              "  </thead>\n",
              "  <tbody>\n",
              "    <tr>\n",
              "      <th>0</th>\n",
              "      <td>2428</td>\n",
              "      <td>verb.stative</td>\n",
              "    </tr>\n",
              "    <tr>\n",
              "      <th>1</th>\n",
              "      <td>1665</td>\n",
              "      <td>verb.possession</td>\n",
              "    </tr>\n",
              "    <tr>\n",
              "      <th>2</th>\n",
              "      <td>3434</td>\n",
              "      <td>verb.motion</td>\n",
              "    </tr>\n",
              "    <tr>\n",
              "      <th>3</th>\n",
              "      <td>5739</td>\n",
              "      <td>verb.communication</td>\n",
              "    </tr>\n",
              "    <tr>\n",
              "      <th>4</th>\n",
              "      <td>3818</td>\n",
              "      <td>verb.contact</td>\n",
              "    </tr>\n",
              "    <tr>\n",
              "      <th>5</th>\n",
              "      <td>1744</td>\n",
              "      <td>verb.social</td>\n",
              "    </tr>\n",
              "    <tr>\n",
              "      <th>6</th>\n",
              "      <td>2008</td>\n",
              "      <td>verb.perception</td>\n",
              "    </tr>\n",
              "    <tr>\n",
              "      <th>7</th>\n",
              "      <td>2787</td>\n",
              "      <td>verb.change</td>\n",
              "    </tr>\n",
              "    <tr>\n",
              "      <th>8</th>\n",
              "      <td>633</td>\n",
              "      <td>verb.competition</td>\n",
              "    </tr>\n",
              "    <tr>\n",
              "      <th>9</th>\n",
              "      <td>1516</td>\n",
              "      <td>verb.body</td>\n",
              "    </tr>\n",
              "    <tr>\n",
              "      <th>10</th>\n",
              "      <td>1376</td>\n",
              "      <td>verb.emotion</td>\n",
              "    </tr>\n",
              "    <tr>\n",
              "      <th>11</th>\n",
              "      <td>2323</td>\n",
              "      <td>verb.cognition</td>\n",
              "    </tr>\n",
              "    <tr>\n",
              "      <th>12</th>\n",
              "      <td>682</td>\n",
              "      <td>verb.consumption</td>\n",
              "    </tr>\n",
              "    <tr>\n",
              "      <th>13</th>\n",
              "      <td>158</td>\n",
              "      <td>verb.weather</td>\n",
              "    </tr>\n",
              "    <tr>\n",
              "      <th>14</th>\n",
              "      <td>1164</td>\n",
              "      <td>verb.creation</td>\n",
              "    </tr>\n",
              "  </tbody>\n",
              "</table>\n",
              "</div>"
            ],
            "text/plain": [
              "    count            category\n",
              "0    2428        verb.stative\n",
              "1    1665     verb.possession\n",
              "2    3434         verb.motion\n",
              "3    5739  verb.communication\n",
              "4    3818        verb.contact\n",
              "5    1744         verb.social\n",
              "6    2008     verb.perception\n",
              "7    2787         verb.change\n",
              "8     633    verb.competition\n",
              "9    1516           verb.body\n",
              "10   1376        verb.emotion\n",
              "11   2323      verb.cognition\n",
              "12    682    verb.consumption\n",
              "13    158        verb.weather\n",
              "14   1164       verb.creation"
            ]
          },
          "metadata": {
            "tags": []
          },
          "execution_count": 207
        }
      ]
    },
    {
      "cell_type": "code",
      "metadata": {
        "colab": {
          "base_uri": "https://localhost:8080/",
          "height": 542
        },
        "id": "qGMybTfFt3rg",
        "outputId": "d696cb55-a308-4153-81ad-88fce2a2956b"
      },
      "source": [
        "#plot of count of each category of verb in book2\r\n",
        "df = category_df_verb2\r\n",
        "fig = px.bar(df, x=\"category\",y=\"count\", color='category')\r\n",
        "fig.show()"
      ],
      "execution_count": 208,
      "outputs": [
        {
          "output_type": "display_data",
          "data": {
            "text/html": [
              "<html>\n",
              "<head><meta charset=\"utf-8\" /></head>\n",
              "<body>\n",
              "    <div>\n",
              "            <script src=\"https://cdnjs.cloudflare.com/ajax/libs/mathjax/2.7.5/MathJax.js?config=TeX-AMS-MML_SVG\"></script><script type=\"text/javascript\">if (window.MathJax) {MathJax.Hub.Config({SVG: {font: \"STIX-Web\"}});}</script>\n",
              "                <script type=\"text/javascript\">window.PlotlyConfig = {MathJaxConfig: 'local'};</script>\n",
              "        <script src=\"https://cdn.plot.ly/plotly-latest.min.js\"></script>    \n",
              "            <div id=\"be425dba-078e-4cb6-a7d3-43bbbb373fd0\" class=\"plotly-graph-div\" style=\"height:525px; width:100%;\"></div>\n",
              "            <script type=\"text/javascript\">\n",
              "                \n",
              "                    window.PLOTLYENV=window.PLOTLYENV || {};\n",
              "                    \n",
              "                if (document.getElementById(\"be425dba-078e-4cb6-a7d3-43bbbb373fd0\")) {\n",
              "                    Plotly.newPlot(\n",
              "                        'be425dba-078e-4cb6-a7d3-43bbbb373fd0',\n",
              "                        [{\"alignmentgroup\": \"True\", \"hoverlabel\": {\"namelength\": 0}, \"hovertemplate\": \"category=%{x}<br>count=%{y}\", \"legendgroup\": \"category=verb.stative\", \"marker\": {\"color\": \"#636efa\"}, \"name\": \"category=verb.stative\", \"offsetgroup\": \"category=verb.stative\", \"orientation\": \"v\", \"showlegend\": true, \"textposition\": \"auto\", \"type\": \"bar\", \"x\": [\"verb.stative\"], \"xaxis\": \"x\", \"y\": [2428], \"yaxis\": \"y\"}, {\"alignmentgroup\": \"True\", \"hoverlabel\": {\"namelength\": 0}, \"hovertemplate\": \"category=%{x}<br>count=%{y}\", \"legendgroup\": \"category=verb.possession\", \"marker\": {\"color\": \"#EF553B\"}, \"name\": \"category=verb.possession\", \"offsetgroup\": \"category=verb.possession\", \"orientation\": \"v\", \"showlegend\": true, \"textposition\": \"auto\", \"type\": \"bar\", \"x\": [\"verb.possession\"], \"xaxis\": \"x\", \"y\": [1665], \"yaxis\": \"y\"}, {\"alignmentgroup\": \"True\", \"hoverlabel\": {\"namelength\": 0}, \"hovertemplate\": \"category=%{x}<br>count=%{y}\", \"legendgroup\": \"category=verb.motion\", \"marker\": {\"color\": \"#00cc96\"}, \"name\": \"category=verb.motion\", \"offsetgroup\": \"category=verb.motion\", \"orientation\": \"v\", \"showlegend\": true, \"textposition\": \"auto\", \"type\": \"bar\", \"x\": [\"verb.motion\"], \"xaxis\": \"x\", \"y\": [3434], \"yaxis\": \"y\"}, {\"alignmentgroup\": \"True\", \"hoverlabel\": {\"namelength\": 0}, \"hovertemplate\": \"category=%{x}<br>count=%{y}\", \"legendgroup\": \"category=verb.communication\", \"marker\": {\"color\": \"#ab63fa\"}, \"name\": \"category=verb.communication\", \"offsetgroup\": \"category=verb.communication\", \"orientation\": \"v\", \"showlegend\": true, \"textposition\": \"auto\", \"type\": \"bar\", \"x\": [\"verb.communication\"], \"xaxis\": \"x\", \"y\": [5739], \"yaxis\": \"y\"}, {\"alignmentgroup\": \"True\", \"hoverlabel\": {\"namelength\": 0}, \"hovertemplate\": \"category=%{x}<br>count=%{y}\", \"legendgroup\": \"category=verb.contact\", \"marker\": {\"color\": \"#FFA15A\"}, \"name\": \"category=verb.contact\", \"offsetgroup\": \"category=verb.contact\", \"orientation\": \"v\", \"showlegend\": true, \"textposition\": \"auto\", \"type\": \"bar\", \"x\": [\"verb.contact\"], \"xaxis\": \"x\", \"y\": [3818], \"yaxis\": \"y\"}, {\"alignmentgroup\": \"True\", \"hoverlabel\": {\"namelength\": 0}, \"hovertemplate\": \"category=%{x}<br>count=%{y}\", \"legendgroup\": \"category=verb.social\", \"marker\": {\"color\": \"#19d3f3\"}, \"name\": \"category=verb.social\", \"offsetgroup\": \"category=verb.social\", \"orientation\": \"v\", \"showlegend\": true, \"textposition\": \"auto\", \"type\": \"bar\", \"x\": [\"verb.social\"], \"xaxis\": \"x\", \"y\": [1744], \"yaxis\": \"y\"}, {\"alignmentgroup\": \"True\", \"hoverlabel\": {\"namelength\": 0}, \"hovertemplate\": \"category=%{x}<br>count=%{y}\", \"legendgroup\": \"category=verb.perception\", \"marker\": {\"color\": \"#FF6692\"}, \"name\": \"category=verb.perception\", \"offsetgroup\": \"category=verb.perception\", \"orientation\": \"v\", \"showlegend\": true, \"textposition\": \"auto\", \"type\": \"bar\", \"x\": [\"verb.perception\"], \"xaxis\": \"x\", \"y\": [2008], \"yaxis\": \"y\"}, {\"alignmentgroup\": \"True\", \"hoverlabel\": {\"namelength\": 0}, \"hovertemplate\": \"category=%{x}<br>count=%{y}\", \"legendgroup\": \"category=verb.change\", \"marker\": {\"color\": \"#B6E880\"}, \"name\": \"category=verb.change\", \"offsetgroup\": \"category=verb.change\", \"orientation\": \"v\", \"showlegend\": true, \"textposition\": \"auto\", \"type\": \"bar\", \"x\": [\"verb.change\"], \"xaxis\": \"x\", \"y\": [2787], \"yaxis\": \"y\"}, {\"alignmentgroup\": \"True\", \"hoverlabel\": {\"namelength\": 0}, \"hovertemplate\": \"category=%{x}<br>count=%{y}\", \"legendgroup\": \"category=verb.competition\", \"marker\": {\"color\": \"#FF97FF\"}, \"name\": \"category=verb.competition\", \"offsetgroup\": \"category=verb.competition\", \"orientation\": \"v\", \"showlegend\": true, \"textposition\": \"auto\", \"type\": \"bar\", \"x\": [\"verb.competition\"], \"xaxis\": \"x\", \"y\": [633], \"yaxis\": \"y\"}, {\"alignmentgroup\": \"True\", \"hoverlabel\": {\"namelength\": 0}, \"hovertemplate\": \"category=%{x}<br>count=%{y}\", \"legendgroup\": \"category=verb.body\", \"marker\": {\"color\": \"#FECB52\"}, \"name\": \"category=verb.body\", \"offsetgroup\": \"category=verb.body\", \"orientation\": \"v\", \"showlegend\": true, \"textposition\": \"auto\", \"type\": \"bar\", \"x\": [\"verb.body\"], \"xaxis\": \"x\", \"y\": [1516], \"yaxis\": \"y\"}, {\"alignmentgroup\": \"True\", \"hoverlabel\": {\"namelength\": 0}, \"hovertemplate\": \"category=%{x}<br>count=%{y}\", \"legendgroup\": \"category=verb.emotion\", \"marker\": {\"color\": \"#636efa\"}, \"name\": \"category=verb.emotion\", \"offsetgroup\": \"category=verb.emotion\", \"orientation\": \"v\", \"showlegend\": true, \"textposition\": \"auto\", \"type\": \"bar\", \"x\": [\"verb.emotion\"], \"xaxis\": \"x\", \"y\": [1376], \"yaxis\": \"y\"}, {\"alignmentgroup\": \"True\", \"hoverlabel\": {\"namelength\": 0}, \"hovertemplate\": \"category=%{x}<br>count=%{y}\", \"legendgroup\": \"category=verb.cognition\", \"marker\": {\"color\": \"#EF553B\"}, \"name\": \"category=verb.cognition\", \"offsetgroup\": \"category=verb.cognition\", \"orientation\": \"v\", \"showlegend\": true, \"textposition\": \"auto\", \"type\": \"bar\", \"x\": [\"verb.cognition\"], \"xaxis\": \"x\", \"y\": [2323], \"yaxis\": \"y\"}, {\"alignmentgroup\": \"True\", \"hoverlabel\": {\"namelength\": 0}, \"hovertemplate\": \"category=%{x}<br>count=%{y}\", \"legendgroup\": \"category=verb.consumption\", \"marker\": {\"color\": \"#00cc96\"}, \"name\": \"category=verb.consumption\", \"offsetgroup\": \"category=verb.consumption\", \"orientation\": \"v\", \"showlegend\": true, \"textposition\": \"auto\", \"type\": \"bar\", \"x\": [\"verb.consumption\"], \"xaxis\": \"x\", \"y\": [682], \"yaxis\": \"y\"}, {\"alignmentgroup\": \"True\", \"hoverlabel\": {\"namelength\": 0}, \"hovertemplate\": \"category=%{x}<br>count=%{y}\", \"legendgroup\": \"category=verb.weather\", \"marker\": {\"color\": \"#ab63fa\"}, \"name\": \"category=verb.weather\", \"offsetgroup\": \"category=verb.weather\", \"orientation\": \"v\", \"showlegend\": true, \"textposition\": \"auto\", \"type\": \"bar\", \"x\": [\"verb.weather\"], \"xaxis\": \"x\", \"y\": [158], \"yaxis\": \"y\"}, {\"alignmentgroup\": \"True\", \"hoverlabel\": {\"namelength\": 0}, \"hovertemplate\": \"category=%{x}<br>count=%{y}\", \"legendgroup\": \"category=verb.creation\", \"marker\": {\"color\": \"#FFA15A\"}, \"name\": \"category=verb.creation\", \"offsetgroup\": \"category=verb.creation\", \"orientation\": \"v\", \"showlegend\": true, \"textposition\": \"auto\", \"type\": \"bar\", \"x\": [\"verb.creation\"], \"xaxis\": \"x\", \"y\": [1164], \"yaxis\": \"y\"}],\n",
              "                        {\"barmode\": \"relative\", \"legend\": {\"tracegroupgap\": 0}, \"margin\": {\"t\": 60}, \"template\": {\"data\": {\"bar\": [{\"error_x\": {\"color\": \"#2a3f5f\"}, \"error_y\": {\"color\": \"#2a3f5f\"}, \"marker\": {\"line\": {\"color\": \"#E5ECF6\", \"width\": 0.5}}, \"type\": \"bar\"}], \"barpolar\": [{\"marker\": {\"line\": {\"color\": \"#E5ECF6\", \"width\": 0.5}}, \"type\": \"barpolar\"}], \"carpet\": [{\"aaxis\": {\"endlinecolor\": \"#2a3f5f\", \"gridcolor\": \"white\", \"linecolor\": \"white\", \"minorgridcolor\": \"white\", \"startlinecolor\": \"#2a3f5f\"}, \"baxis\": {\"endlinecolor\": \"#2a3f5f\", \"gridcolor\": \"white\", \"linecolor\": \"white\", \"minorgridcolor\": \"white\", \"startlinecolor\": \"#2a3f5f\"}, \"type\": \"carpet\"}], \"choropleth\": [{\"colorbar\": {\"outlinewidth\": 0, \"ticks\": \"\"}, \"type\": \"choropleth\"}], \"contour\": [{\"colorbar\": {\"outlinewidth\": 0, \"ticks\": \"\"}, \"colorscale\": [[0.0, \"#0d0887\"], [0.1111111111111111, \"#46039f\"], [0.2222222222222222, \"#7201a8\"], [0.3333333333333333, \"#9c179e\"], [0.4444444444444444, \"#bd3786\"], [0.5555555555555556, \"#d8576b\"], [0.6666666666666666, \"#ed7953\"], [0.7777777777777778, \"#fb9f3a\"], [0.8888888888888888, \"#fdca26\"], [1.0, \"#f0f921\"]], \"type\": \"contour\"}], \"contourcarpet\": [{\"colorbar\": {\"outlinewidth\": 0, \"ticks\": \"\"}, \"type\": \"contourcarpet\"}], \"heatmap\": [{\"colorbar\": {\"outlinewidth\": 0, \"ticks\": \"\"}, \"colorscale\": [[0.0, \"#0d0887\"], [0.1111111111111111, \"#46039f\"], [0.2222222222222222, \"#7201a8\"], [0.3333333333333333, \"#9c179e\"], [0.4444444444444444, \"#bd3786\"], [0.5555555555555556, \"#d8576b\"], [0.6666666666666666, \"#ed7953\"], [0.7777777777777778, \"#fb9f3a\"], [0.8888888888888888, \"#fdca26\"], [1.0, \"#f0f921\"]], \"type\": \"heatmap\"}], \"heatmapgl\": [{\"colorbar\": {\"outlinewidth\": 0, \"ticks\": \"\"}, \"colorscale\": [[0.0, \"#0d0887\"], [0.1111111111111111, \"#46039f\"], [0.2222222222222222, \"#7201a8\"], [0.3333333333333333, \"#9c179e\"], [0.4444444444444444, \"#bd3786\"], [0.5555555555555556, \"#d8576b\"], [0.6666666666666666, \"#ed7953\"], [0.7777777777777778, \"#fb9f3a\"], [0.8888888888888888, \"#fdca26\"], [1.0, \"#f0f921\"]], \"type\": \"heatmapgl\"}], \"histogram\": [{\"marker\": {\"colorbar\": {\"outlinewidth\": 0, \"ticks\": \"\"}}, \"type\": \"histogram\"}], \"histogram2d\": [{\"colorbar\": {\"outlinewidth\": 0, \"ticks\": \"\"}, \"colorscale\": [[0.0, \"#0d0887\"], [0.1111111111111111, \"#46039f\"], [0.2222222222222222, \"#7201a8\"], [0.3333333333333333, \"#9c179e\"], [0.4444444444444444, \"#bd3786\"], [0.5555555555555556, \"#d8576b\"], [0.6666666666666666, \"#ed7953\"], [0.7777777777777778, \"#fb9f3a\"], [0.8888888888888888, \"#fdca26\"], [1.0, \"#f0f921\"]], \"type\": \"histogram2d\"}], \"histogram2dcontour\": [{\"colorbar\": {\"outlinewidth\": 0, \"ticks\": \"\"}, \"colorscale\": [[0.0, \"#0d0887\"], [0.1111111111111111, \"#46039f\"], [0.2222222222222222, \"#7201a8\"], [0.3333333333333333, \"#9c179e\"], [0.4444444444444444, \"#bd3786\"], [0.5555555555555556, \"#d8576b\"], [0.6666666666666666, \"#ed7953\"], [0.7777777777777778, \"#fb9f3a\"], [0.8888888888888888, \"#fdca26\"], [1.0, \"#f0f921\"]], \"type\": \"histogram2dcontour\"}], \"mesh3d\": [{\"colorbar\": {\"outlinewidth\": 0, \"ticks\": \"\"}, \"type\": \"mesh3d\"}], \"parcoords\": [{\"line\": {\"colorbar\": {\"outlinewidth\": 0, \"ticks\": \"\"}}, \"type\": \"parcoords\"}], \"pie\": [{\"automargin\": true, \"type\": \"pie\"}], \"scatter\": [{\"marker\": {\"colorbar\": {\"outlinewidth\": 0, \"ticks\": \"\"}}, \"type\": \"scatter\"}], \"scatter3d\": [{\"line\": {\"colorbar\": {\"outlinewidth\": 0, \"ticks\": \"\"}}, \"marker\": {\"colorbar\": {\"outlinewidth\": 0, \"ticks\": \"\"}}, \"type\": \"scatter3d\"}], \"scattercarpet\": [{\"marker\": {\"colorbar\": {\"outlinewidth\": 0, \"ticks\": \"\"}}, \"type\": \"scattercarpet\"}], \"scattergeo\": [{\"marker\": {\"colorbar\": {\"outlinewidth\": 0, \"ticks\": \"\"}}, \"type\": \"scattergeo\"}], \"scattergl\": [{\"marker\": {\"colorbar\": {\"outlinewidth\": 0, \"ticks\": \"\"}}, \"type\": \"scattergl\"}], \"scattermapbox\": [{\"marker\": {\"colorbar\": {\"outlinewidth\": 0, \"ticks\": \"\"}}, \"type\": \"scattermapbox\"}], \"scatterpolar\": [{\"marker\": {\"colorbar\": {\"outlinewidth\": 0, \"ticks\": \"\"}}, \"type\": \"scatterpolar\"}], \"scatterpolargl\": [{\"marker\": {\"colorbar\": {\"outlinewidth\": 0, \"ticks\": \"\"}}, \"type\": \"scatterpolargl\"}], \"scatterternary\": [{\"marker\": {\"colorbar\": {\"outlinewidth\": 0, \"ticks\": \"\"}}, \"type\": \"scatterternary\"}], \"surface\": [{\"colorbar\": {\"outlinewidth\": 0, \"ticks\": \"\"}, \"colorscale\": [[0.0, \"#0d0887\"], [0.1111111111111111, \"#46039f\"], [0.2222222222222222, \"#7201a8\"], [0.3333333333333333, \"#9c179e\"], [0.4444444444444444, \"#bd3786\"], [0.5555555555555556, \"#d8576b\"], [0.6666666666666666, \"#ed7953\"], [0.7777777777777778, \"#fb9f3a\"], [0.8888888888888888, \"#fdca26\"], [1.0, \"#f0f921\"]], \"type\": \"surface\"}], \"table\": [{\"cells\": {\"fill\": {\"color\": \"#EBF0F8\"}, \"line\": {\"color\": \"white\"}}, \"header\": {\"fill\": {\"color\": \"#C8D4E3\"}, \"line\": {\"color\": \"white\"}}, \"type\": \"table\"}]}, \"layout\": {\"annotationdefaults\": {\"arrowcolor\": \"#2a3f5f\", \"arrowhead\": 0, \"arrowwidth\": 1}, \"coloraxis\": {\"colorbar\": {\"outlinewidth\": 0, \"ticks\": \"\"}}, \"colorscale\": {\"diverging\": [[0, \"#8e0152\"], [0.1, \"#c51b7d\"], [0.2, \"#de77ae\"], [0.3, \"#f1b6da\"], [0.4, \"#fde0ef\"], [0.5, \"#f7f7f7\"], [0.6, \"#e6f5d0\"], [0.7, \"#b8e186\"], [0.8, \"#7fbc41\"], [0.9, \"#4d9221\"], [1, \"#276419\"]], \"sequential\": [[0.0, \"#0d0887\"], [0.1111111111111111, \"#46039f\"], [0.2222222222222222, \"#7201a8\"], [0.3333333333333333, \"#9c179e\"], [0.4444444444444444, \"#bd3786\"], [0.5555555555555556, \"#d8576b\"], [0.6666666666666666, \"#ed7953\"], [0.7777777777777778, \"#fb9f3a\"], [0.8888888888888888, \"#fdca26\"], [1.0, \"#f0f921\"]], \"sequentialminus\": [[0.0, \"#0d0887\"], [0.1111111111111111, \"#46039f\"], [0.2222222222222222, \"#7201a8\"], [0.3333333333333333, \"#9c179e\"], [0.4444444444444444, \"#bd3786\"], [0.5555555555555556, \"#d8576b\"], [0.6666666666666666, \"#ed7953\"], [0.7777777777777778, \"#fb9f3a\"], [0.8888888888888888, \"#fdca26\"], [1.0, \"#f0f921\"]]}, \"colorway\": [\"#636efa\", \"#EF553B\", \"#00cc96\", \"#ab63fa\", \"#FFA15A\", \"#19d3f3\", \"#FF6692\", \"#B6E880\", \"#FF97FF\", \"#FECB52\"], \"font\": {\"color\": \"#2a3f5f\"}, \"geo\": {\"bgcolor\": \"white\", \"lakecolor\": \"white\", \"landcolor\": \"#E5ECF6\", \"showlakes\": true, \"showland\": true, \"subunitcolor\": \"white\"}, \"hoverlabel\": {\"align\": \"left\"}, \"hovermode\": \"closest\", \"mapbox\": {\"style\": \"light\"}, \"paper_bgcolor\": \"white\", \"plot_bgcolor\": \"#E5ECF6\", \"polar\": {\"angularaxis\": {\"gridcolor\": \"white\", \"linecolor\": \"white\", \"ticks\": \"\"}, \"bgcolor\": \"#E5ECF6\", \"radialaxis\": {\"gridcolor\": \"white\", \"linecolor\": \"white\", \"ticks\": \"\"}}, \"scene\": {\"xaxis\": {\"backgroundcolor\": \"#E5ECF6\", \"gridcolor\": \"white\", \"gridwidth\": 2, \"linecolor\": \"white\", \"showbackground\": true, \"ticks\": \"\", \"zerolinecolor\": \"white\"}, \"yaxis\": {\"backgroundcolor\": \"#E5ECF6\", \"gridcolor\": \"white\", \"gridwidth\": 2, \"linecolor\": \"white\", \"showbackground\": true, \"ticks\": \"\", \"zerolinecolor\": \"white\"}, \"zaxis\": {\"backgroundcolor\": \"#E5ECF6\", \"gridcolor\": \"white\", \"gridwidth\": 2, \"linecolor\": \"white\", \"showbackground\": true, \"ticks\": \"\", \"zerolinecolor\": \"white\"}}, \"shapedefaults\": {\"line\": {\"color\": \"#2a3f5f\"}}, \"ternary\": {\"aaxis\": {\"gridcolor\": \"white\", \"linecolor\": \"white\", \"ticks\": \"\"}, \"baxis\": {\"gridcolor\": \"white\", \"linecolor\": \"white\", \"ticks\": \"\"}, \"bgcolor\": \"#E5ECF6\", \"caxis\": {\"gridcolor\": \"white\", \"linecolor\": \"white\", \"ticks\": \"\"}}, \"title\": {\"x\": 0.05}, \"xaxis\": {\"automargin\": true, \"gridcolor\": \"white\", \"linecolor\": \"white\", \"ticks\": \"\", \"title\": {\"standoff\": 15}, \"zerolinecolor\": \"white\", \"zerolinewidth\": 2}, \"yaxis\": {\"automargin\": true, \"gridcolor\": \"white\", \"linecolor\": \"white\", \"ticks\": \"\", \"title\": {\"standoff\": 15}, \"zerolinecolor\": \"white\", \"zerolinewidth\": 2}}}, \"xaxis\": {\"anchor\": \"y\", \"categoryarray\": [\"verb.stative\", \"verb.possession\", \"verb.motion\", \"verb.communication\", \"verb.contact\", \"verb.social\", \"verb.perception\", \"verb.change\", \"verb.competition\", \"verb.body\", \"verb.emotion\", \"verb.cognition\", \"verb.consumption\", \"verb.weather\", \"verb.creation\"], \"categoryorder\": \"array\", \"domain\": [0.0, 1.0], \"title\": {\"text\": \"category\"}}, \"yaxis\": {\"anchor\": \"x\", \"domain\": [0.0, 1.0], \"title\": {\"text\": \"count\"}}},\n",
              "                        {\"responsive\": true}\n",
              "                    ).then(function(){\n",
              "                            \n",
              "var gd = document.getElementById('be425dba-078e-4cb6-a7d3-43bbbb373fd0');\n",
              "var x = new MutationObserver(function (mutations, observer) {{\n",
              "        var display = window.getComputedStyle(gd).display;\n",
              "        if (!display || display === 'none') {{\n",
              "            console.log([gd, 'removed!']);\n",
              "            Plotly.purge(gd);\n",
              "            observer.disconnect();\n",
              "        }}\n",
              "}});\n",
              "\n",
              "// Listen for the removal of the full notebook cells\n",
              "var notebookContainer = gd.closest('#notebook-container');\n",
              "if (notebookContainer) {{\n",
              "    x.observe(notebookContainer, {childList: true});\n",
              "}}\n",
              "\n",
              "// Listen for the clearing of the current output cell\n",
              "var outputEl = gd.closest('.output');\n",
              "if (outputEl) {{\n",
              "    x.observe(outputEl, {childList: true});\n",
              "}}\n",
              "\n",
              "                        })\n",
              "                };\n",
              "                \n",
              "            </script>\n",
              "        </div>\n",
              "</body>\n",
              "</html>"
            ]
          },
          "metadata": {
            "tags": []
          }
        }
      ]
    },
    {
      "cell_type": "markdown",
      "metadata": {
        "id": "8vTl1npjt_op"
      },
      "source": [
        "**Part - 2** \r\n",
        "---\r\n",
        "Book-1"
      ]
    },
    {
      "cell_type": "code",
      "metadata": {
        "id": "8D8vQaXInqWg"
      },
      "source": [
        "#NER of book1 using spacy\r\n",
        "entities1 = []\r\n",
        "nlp = spacy.load('en_core_web_sm') \r\n",
        "for s in sentence_list1:\r\n",
        "  doc = nlp(s) \r\n",
        "  for ent in doc.ents: \r\n",
        "    entities1.append([ent.text, ent.label_])"
      ],
      "execution_count": 209,
      "outputs": []
    },
    {
      "cell_type": "code",
      "metadata": {
        "colab": {
          "base_uri": "https://localhost:8080/"
        },
        "id": "RsKy8ldcyWjm",
        "outputId": "0788c18f-8395-4f5a-b816-1f43d50291ab"
      },
      "source": [
        "#words with their entity names\r\n",
        "entities1[:10]"
      ],
      "execution_count": 210,
      "outputs": [
        {
          "output_type": "execute_result",
          "data": {
            "text/plain": [
              "[['Ishmael', 'GPE'],\n",
              " ['Some years ago', 'DATE'],\n",
              " ['November', 'DATE'],\n",
              " ['Cato', 'ORG'],\n",
              " ['Manhattoes', 'ORG'],\n",
              " ['Indian', 'NORP'],\n",
              " ['a few hours', 'TIME'],\n",
              " ['Sabbath afternoon', 'TIME'],\n",
              " ['Corlears Hook to Coenties Slip', 'WORK_OF_ART'],\n",
              " ['Whitehall', 'PERSON']]"
            ]
          },
          "metadata": {
            "tags": []
          },
          "execution_count": 210
        }
      ]
    },
    {
      "cell_type": "markdown",
      "metadata": {
        "id": "3y4y8MOBzSsL"
      },
      "source": [
        "Book-2"
      ]
    },
    {
      "cell_type": "code",
      "metadata": {
        "id": "v5C21GKRzFCK"
      },
      "source": [
        "#NER of book1 using spacy\r\n",
        "entities2 = []\r\n",
        "nlp = spacy.load('en_core_web_sm') \r\n",
        "for s in sentence_list2:\r\n",
        "  doc = nlp(s) \r\n",
        "  for ent in doc.ents:\r\n",
        "    entities2.append([ent.text, ent.label_])"
      ],
      "execution_count": 211,
      "outputs": []
    },
    {
      "cell_type": "code",
      "metadata": {
        "colab": {
          "base_uri": "https://localhost:8080/"
        },
        "id": "ZnPls8Y8blod",
        "outputId": "3155821e-00cd-4f57-9f2b-ecbf394dc8ed"
      },
      "source": [
        "#words with their entity names\r\n",
        "entities2[:10]"
      ],
      "execution_count": 212,
      "outputs": [
        {
          "output_type": "execute_result",
          "data": {
            "text/plain": [
              "[['Buck Mulligan', 'PERSON'],\n",
              " ['the mild morning air', 'TIME'],\n",
              " ['Dei_', 'PERSON'],\n",
              " ['Kinch', 'PERSON'],\n",
              " ['Stephen Dedalus', 'PERSON'],\n",
              " ['Stephen Dedalus', 'PERSON'],\n",
              " ['Buck Mulligan', 'PERSON'],\n",
              " ['Christine', 'PERSON'],\n",
              " ['One', 'CARDINAL'],\n",
              " ['Chrysostomos', 'ORG']]"
            ]
          },
          "metadata": {
            "tags": []
          },
          "execution_count": 212
        }
      ]
    },
    {
      "cell_type": "code",
      "metadata": {
        "colab": {
          "base_uri": "https://localhost:8080/",
          "height": 402
        },
        "id": "vvxfmiIQ2Nym",
        "outputId": "973bd000-4e90-4d21-d224-1c30a5abe901"
      },
      "source": [
        "df1 = pd.DataFrame(entities1, columns = ['text','label'], dtype=str)\r\n",
        "df1"
      ],
      "execution_count": 213,
      "outputs": [
        {
          "output_type": "execute_result",
          "data": {
            "text/html": [
              "<div>\n",
              "<style scoped>\n",
              "    .dataframe tbody tr th:only-of-type {\n",
              "        vertical-align: middle;\n",
              "    }\n",
              "\n",
              "    .dataframe tbody tr th {\n",
              "        vertical-align: top;\n",
              "    }\n",
              "\n",
              "    .dataframe thead th {\n",
              "        text-align: right;\n",
              "    }\n",
              "</style>\n",
              "<table border=\"1\" class=\"dataframe\">\n",
              "  <thead>\n",
              "    <tr style=\"text-align: right;\">\n",
              "      <th></th>\n",
              "      <th>text</th>\n",
              "      <th>label</th>\n",
              "    </tr>\n",
              "  </thead>\n",
              "  <tbody>\n",
              "    <tr>\n",
              "      <th>0</th>\n",
              "      <td>Ishmael</td>\n",
              "      <td>GPE</td>\n",
              "    </tr>\n",
              "    <tr>\n",
              "      <th>1</th>\n",
              "      <td>Some years ago</td>\n",
              "      <td>DATE</td>\n",
              "    </tr>\n",
              "    <tr>\n",
              "      <th>2</th>\n",
              "      <td>November</td>\n",
              "      <td>DATE</td>\n",
              "    </tr>\n",
              "    <tr>\n",
              "      <th>3</th>\n",
              "      <td>Cato</td>\n",
              "      <td>ORG</td>\n",
              "    </tr>\n",
              "    <tr>\n",
              "      <th>4</th>\n",
              "      <td>Manhattoes</td>\n",
              "      <td>ORG</td>\n",
              "    </tr>\n",
              "    <tr>\n",
              "      <th>...</th>\n",
              "      <td>...</td>\n",
              "      <td>...</td>\n",
              "    </tr>\n",
              "    <tr>\n",
              "      <th>8289</th>\n",
              "      <td>three</td>\n",
              "      <td>CARDINAL</td>\n",
              "    </tr>\n",
              "    <tr>\n",
              "      <th>8290</th>\n",
              "      <td>almost one</td>\n",
              "      <td>CARDINAL</td>\n",
              "    </tr>\n",
              "    <tr>\n",
              "      <th>8291</th>\n",
              "      <td>night</td>\n",
              "      <td>TIME</td>\n",
              "    </tr>\n",
              "    <tr>\n",
              "      <th>8292</th>\n",
              "      <td>the second day</td>\n",
              "      <td>DATE</td>\n",
              "    </tr>\n",
              "    <tr>\n",
              "      <th>8293</th>\n",
              "      <td>Rachel</td>\n",
              "      <td>PERSON</td>\n",
              "    </tr>\n",
              "  </tbody>\n",
              "</table>\n",
              "<p>8294 rows × 2 columns</p>\n",
              "</div>"
            ],
            "text/plain": [
              "                text     label\n",
              "0            Ishmael       GPE\n",
              "1     Some years ago      DATE\n",
              "2           November      DATE\n",
              "3               Cato       ORG\n",
              "4         Manhattoes       ORG\n",
              "...              ...       ...\n",
              "8289           three  CARDINAL\n",
              "8290      almost one  CARDINAL\n",
              "8291           night      TIME\n",
              "8292  the second day      DATE\n",
              "8293          Rachel    PERSON\n",
              "\n",
              "[8294 rows x 2 columns]"
            ]
          },
          "metadata": {
            "tags": []
          },
          "execution_count": 213
        }
      ]
    },
    {
      "cell_type": "code",
      "metadata": {
        "colab": {
          "base_uri": "https://localhost:8080/",
          "height": 542
        },
        "id": "LGS6e6MYIAtr",
        "outputId": "74f45667-dd2e-4aba-f05c-e81d4d48f903"
      },
      "source": [
        "fig = px.histogram(df1, x=\"label\",color='label')\r\n",
        "fig.show()"
      ],
      "execution_count": 214,
      "outputs": [
        {
          "output_type": "display_data",
          "data": {
            "text/html": [
              "<html>\n",
              "<head><meta charset=\"utf-8\" /></head>\n",
              "<body>\n",
              "    <div>\n",
              "            <script src=\"https://cdnjs.cloudflare.com/ajax/libs/mathjax/2.7.5/MathJax.js?config=TeX-AMS-MML_SVG\"></script><script type=\"text/javascript\">if (window.MathJax) {MathJax.Hub.Config({SVG: {font: \"STIX-Web\"}});}</script>\n",
              "                <script type=\"text/javascript\">window.PlotlyConfig = {MathJaxConfig: 'local'};</script>\n",
              "        <script src=\"https://cdn.plot.ly/plotly-latest.min.js\"></script>    \n",
              "            <div id=\"8273ebdd-0047-4a72-9aea-73777a0ff95d\" class=\"plotly-graph-div\" style=\"height:525px; width:100%;\"></div>\n",
              "            <script type=\"text/javascript\">\n",
              "                \n",
              "                    window.PLOTLYENV=window.PLOTLYENV || {};\n",
              "                    \n",
              "                if (document.getElementById(\"8273ebdd-0047-4a72-9aea-73777a0ff95d\")) {\n",
              "                    Plotly.newPlot(\n",
              "                        '8273ebdd-0047-4a72-9aea-73777a0ff95d',\n",
              "                        [{\"alignmentgroup\": \"True\", \"bingroup\": \"x\", \"hoverlabel\": {\"namelength\": 0}, \"hovertemplate\": \"label=%{x}<br>count=%{y}\", \"legendgroup\": \"label=GPE\", \"marker\": {\"color\": \"#636efa\"}, \"name\": \"label=GPE\", \"offsetgroup\": \"label=GPE\", \"orientation\": \"v\", \"showlegend\": true, \"type\": \"histogram\", \"x\": [\"GPE\", \"GPE\", \"GPE\", \"GPE\", \"GPE\", \"GPE\", \"GPE\", \"GPE\", \"GPE\", \"GPE\", \"GPE\", \"GPE\", \"GPE\", \"GPE\", \"GPE\", \"GPE\", \"GPE\", \"GPE\", \"GPE\", \"GPE\", \"GPE\", \"GPE\", \"GPE\", \"GPE\", \"GPE\", \"GPE\", \"GPE\", \"GPE\", \"GPE\", \"GPE\", \"GPE\", \"GPE\", \"GPE\", \"GPE\", \"GPE\", \"GPE\", \"GPE\", \"GPE\", \"GPE\", \"GPE\", \"GPE\", \"GPE\", \"GPE\", \"GPE\", \"GPE\", \"GPE\", \"GPE\", \"GPE\", \"GPE\", \"GPE\", \"GPE\", \"GPE\", \"GPE\", \"GPE\", \"GPE\", \"GPE\", \"GPE\", \"GPE\", \"GPE\", \"GPE\", \"GPE\", \"GPE\", \"GPE\", \"GPE\", \"GPE\", \"GPE\", \"GPE\", \"GPE\", \"GPE\", \"GPE\", \"GPE\", \"GPE\", \"GPE\", \"GPE\", \"GPE\", \"GPE\", \"GPE\", \"GPE\", \"GPE\", \"GPE\", \"GPE\", \"GPE\", \"GPE\", \"GPE\", \"GPE\", \"GPE\", \"GPE\", \"GPE\", \"GPE\", \"GPE\", \"GPE\", \"GPE\", \"GPE\", \"GPE\", \"GPE\", \"GPE\", \"GPE\", \"GPE\", \"GPE\", \"GPE\", \"GPE\", \"GPE\", \"GPE\", \"GPE\", \"GPE\", \"GPE\", \"GPE\", \"GPE\", \"GPE\", \"GPE\", \"GPE\", \"GPE\", \"GPE\", \"GPE\", \"GPE\", \"GPE\", \"GPE\", \"GPE\", \"GPE\", \"GPE\", \"GPE\", \"GPE\", \"GPE\", \"GPE\", \"GPE\", \"GPE\", \"GPE\", \"GPE\", \"GPE\", \"GPE\", \"GPE\", \"GPE\", \"GPE\", \"GPE\", \"GPE\", \"GPE\", \"GPE\", \"GPE\", \"GPE\", \"GPE\", \"GPE\", \"GPE\", \"GPE\", \"GPE\", \"GPE\", \"GPE\", \"GPE\", \"GPE\", \"GPE\", \"GPE\", \"GPE\", \"GPE\", \"GPE\", \"GPE\", \"GPE\", \"GPE\", \"GPE\", \"GPE\", \"GPE\", \"GPE\", \"GPE\", \"GPE\", \"GPE\", \"GPE\", \"GPE\", \"GPE\", \"GPE\", \"GPE\", \"GPE\", \"GPE\", \"GPE\", \"GPE\", \"GPE\", \"GPE\", \"GPE\", \"GPE\", \"GPE\", \"GPE\", \"GPE\", \"GPE\", \"GPE\", \"GPE\", \"GPE\", \"GPE\", \"GPE\", \"GPE\", \"GPE\", \"GPE\", \"GPE\", \"GPE\", \"GPE\", \"GPE\", \"GPE\", \"GPE\", \"GPE\", \"GPE\", \"GPE\", \"GPE\", \"GPE\", \"GPE\", \"GPE\", \"GPE\", \"GPE\", \"GPE\", \"GPE\", \"GPE\", \"GPE\", \"GPE\", \"GPE\", \"GPE\", \"GPE\", \"GPE\", \"GPE\", \"GPE\", \"GPE\", \"GPE\", \"GPE\", \"GPE\", \"GPE\", \"GPE\", \"GPE\", \"GPE\", \"GPE\", \"GPE\", \"GPE\", \"GPE\", \"GPE\", \"GPE\", \"GPE\", \"GPE\", \"GPE\", \"GPE\", \"GPE\", \"GPE\", \"GPE\", \"GPE\", \"GPE\", \"GPE\", \"GPE\", \"GPE\", \"GPE\", \"GPE\", \"GPE\", \"GPE\", \"GPE\", \"GPE\", \"GPE\", \"GPE\", \"GPE\", \"GPE\", \"GPE\", \"GPE\", \"GPE\", \"GPE\", \"GPE\", \"GPE\", \"GPE\", \"GPE\", \"GPE\", \"GPE\", \"GPE\", \"GPE\", \"GPE\", \"GPE\", \"GPE\", \"GPE\", \"GPE\", \"GPE\", \"GPE\", \"GPE\", \"GPE\", \"GPE\", \"GPE\", \"GPE\", \"GPE\", \"GPE\", \"GPE\", \"GPE\", \"GPE\", \"GPE\", \"GPE\", \"GPE\", \"GPE\", \"GPE\", \"GPE\", \"GPE\", \"GPE\", \"GPE\", \"GPE\", \"GPE\", \"GPE\", \"GPE\", \"GPE\", \"GPE\", \"GPE\", \"GPE\", \"GPE\", \"GPE\", \"GPE\", \"GPE\", \"GPE\", \"GPE\", \"GPE\", \"GPE\", \"GPE\", \"GPE\", \"GPE\", \"GPE\", \"GPE\", \"GPE\", \"GPE\", \"GPE\", \"GPE\", \"GPE\", \"GPE\", \"GPE\", \"GPE\", \"GPE\", \"GPE\", \"GPE\", \"GPE\", \"GPE\", \"GPE\", \"GPE\", \"GPE\", \"GPE\", \"GPE\", \"GPE\", \"GPE\", \"GPE\", \"GPE\", \"GPE\", \"GPE\", \"GPE\", \"GPE\", \"GPE\", \"GPE\", \"GPE\", \"GPE\", \"GPE\", \"GPE\", \"GPE\", \"GPE\", \"GPE\", \"GPE\", \"GPE\", \"GPE\", \"GPE\", \"GPE\", \"GPE\", \"GPE\", \"GPE\", \"GPE\", \"GPE\", \"GPE\", \"GPE\", \"GPE\", \"GPE\", \"GPE\", \"GPE\", \"GPE\", \"GPE\", \"GPE\", \"GPE\", \"GPE\", \"GPE\", \"GPE\", \"GPE\", \"GPE\", \"GPE\", \"GPE\", \"GPE\", \"GPE\", \"GPE\", \"GPE\", \"GPE\", \"GPE\", \"GPE\", \"GPE\", \"GPE\", \"GPE\", \"GPE\", \"GPE\", \"GPE\", \"GPE\", \"GPE\", \"GPE\", \"GPE\", \"GPE\", \"GPE\", \"GPE\", \"GPE\", \"GPE\", \"GPE\", \"GPE\", \"GPE\", \"GPE\", \"GPE\", \"GPE\", \"GPE\", \"GPE\", \"GPE\", \"GPE\", \"GPE\", \"GPE\", \"GPE\", \"GPE\", \"GPE\", \"GPE\", \"GPE\", \"GPE\", \"GPE\", \"GPE\", \"GPE\", \"GPE\", \"GPE\", \"GPE\", \"GPE\", \"GPE\", \"GPE\", \"GPE\", \"GPE\", \"GPE\", \"GPE\", \"GPE\", \"GPE\", \"GPE\", \"GPE\", \"GPE\", \"GPE\", \"GPE\", \"GPE\", \"GPE\", \"GPE\", \"GPE\", \"GPE\", \"GPE\", \"GPE\", \"GPE\", \"GPE\", \"GPE\", \"GPE\", \"GPE\", \"GPE\", \"GPE\", \"GPE\", \"GPE\", \"GPE\", \"GPE\", \"GPE\", \"GPE\", \"GPE\", \"GPE\", \"GPE\", \"GPE\", \"GPE\", \"GPE\", \"GPE\", \"GPE\", \"GPE\", \"GPE\", \"GPE\", \"GPE\", \"GPE\", \"GPE\", \"GPE\", \"GPE\", \"GPE\", \"GPE\", \"GPE\", \"GPE\", \"GPE\", \"GPE\", \"GPE\", \"GPE\", \"GPE\", \"GPE\", \"GPE\", \"GPE\", \"GPE\", \"GPE\", \"GPE\", \"GPE\", \"GPE\", \"GPE\", \"GPE\", \"GPE\", \"GPE\", \"GPE\", \"GPE\", \"GPE\", \"GPE\", \"GPE\", \"GPE\", \"GPE\", \"GPE\", \"GPE\", \"GPE\", \"GPE\", \"GPE\", \"GPE\", \"GPE\", \"GPE\", \"GPE\", \"GPE\", \"GPE\", \"GPE\", \"GPE\", \"GPE\", \"GPE\", \"GPE\", \"GPE\", \"GPE\", \"GPE\", \"GPE\", \"GPE\", \"GPE\", \"GPE\", \"GPE\", \"GPE\", \"GPE\", \"GPE\", \"GPE\", \"GPE\", \"GPE\", \"GPE\", \"GPE\", \"GPE\", \"GPE\", \"GPE\", \"GPE\", \"GPE\", \"GPE\", \"GPE\", \"GPE\", \"GPE\", \"GPE\", \"GPE\", \"GPE\", \"GPE\", \"GPE\", \"GPE\", \"GPE\", \"GPE\", \"GPE\", \"GPE\", \"GPE\", \"GPE\", \"GPE\", \"GPE\", \"GPE\", \"GPE\", \"GPE\", \"GPE\", \"GPE\", \"GPE\", \"GPE\", \"GPE\", \"GPE\", \"GPE\", \"GPE\", \"GPE\", \"GPE\", \"GPE\", \"GPE\", \"GPE\", \"GPE\", \"GPE\", \"GPE\", \"GPE\", \"GPE\", \"GPE\", \"GPE\", \"GPE\", \"GPE\", \"GPE\", \"GPE\", \"GPE\", \"GPE\", \"GPE\", \"GPE\", \"GPE\", \"GPE\", \"GPE\", \"GPE\", \"GPE\", \"GPE\", \"GPE\", \"GPE\", \"GPE\", \"GPE\", \"GPE\", \"GPE\", \"GPE\", \"GPE\", \"GPE\", \"GPE\", \"GPE\", \"GPE\", \"GPE\", \"GPE\", \"GPE\", \"GPE\", \"GPE\", \"GPE\", \"GPE\", \"GPE\", \"GPE\", \"GPE\", \"GPE\", \"GPE\", \"GPE\", \"GPE\", \"GPE\", \"GPE\", \"GPE\", \"GPE\", \"GPE\", \"GPE\", \"GPE\", \"GPE\", \"GPE\", \"GPE\", \"GPE\", \"GPE\", \"GPE\", \"GPE\", \"GPE\", \"GPE\", \"GPE\", \"GPE\", \"GPE\", \"GPE\", \"GPE\", \"GPE\", \"GPE\", \"GPE\", \"GPE\", \"GPE\", \"GPE\", \"GPE\", \"GPE\", \"GPE\", \"GPE\", \"GPE\", \"GPE\", \"GPE\", \"GPE\", \"GPE\", \"GPE\", \"GPE\", \"GPE\", \"GPE\", \"GPE\", \"GPE\", \"GPE\", \"GPE\", \"GPE\", \"GPE\", \"GPE\", \"GPE\", \"GPE\", \"GPE\", \"GPE\", \"GPE\", \"GPE\", \"GPE\", \"GPE\", \"GPE\", \"GPE\", \"GPE\", \"GPE\", \"GPE\", \"GPE\", \"GPE\", \"GPE\", \"GPE\", \"GPE\", \"GPE\", \"GPE\", \"GPE\", \"GPE\", \"GPE\", \"GPE\", \"GPE\", \"GPE\", \"GPE\", \"GPE\", \"GPE\", \"GPE\", \"GPE\", \"GPE\", \"GPE\", \"GPE\", \"GPE\", \"GPE\", \"GPE\", \"GPE\", \"GPE\", \"GPE\", \"GPE\", \"GPE\", \"GPE\", \"GPE\", \"GPE\", \"GPE\", \"GPE\", \"GPE\", \"GPE\", \"GPE\", \"GPE\", \"GPE\", \"GPE\", \"GPE\", \"GPE\", \"GPE\", \"GPE\", \"GPE\", \"GPE\", \"GPE\", \"GPE\", \"GPE\", \"GPE\", \"GPE\", \"GPE\", \"GPE\", \"GPE\", \"GPE\", \"GPE\", \"GPE\", \"GPE\", \"GPE\", \"GPE\", \"GPE\", \"GPE\", \"GPE\", \"GPE\", \"GPE\", \"GPE\", \"GPE\", \"GPE\", \"GPE\", \"GPE\", \"GPE\", \"GPE\", \"GPE\", \"GPE\", \"GPE\", \"GPE\", \"GPE\", \"GPE\", \"GPE\", \"GPE\", \"GPE\", \"GPE\", \"GPE\", \"GPE\", \"GPE\", \"GPE\", \"GPE\", \"GPE\", \"GPE\", \"GPE\", \"GPE\", \"GPE\", \"GPE\", \"GPE\", \"GPE\", \"GPE\", \"GPE\", \"GPE\", \"GPE\", \"GPE\", \"GPE\", \"GPE\", \"GPE\", \"GPE\", \"GPE\", \"GPE\", \"GPE\", \"GPE\", \"GPE\", \"GPE\", \"GPE\", \"GPE\", \"GPE\", \"GPE\", \"GPE\", \"GPE\", \"GPE\", \"GPE\", \"GPE\", \"GPE\", \"GPE\", \"GPE\", \"GPE\", \"GPE\", \"GPE\", \"GPE\", \"GPE\", \"GPE\", \"GPE\", \"GPE\", \"GPE\", \"GPE\", \"GPE\", \"GPE\", \"GPE\", \"GPE\", \"GPE\", \"GPE\", \"GPE\", \"GPE\", \"GPE\", \"GPE\", \"GPE\", \"GPE\", \"GPE\", \"GPE\", \"GPE\", \"GPE\", \"GPE\", \"GPE\", \"GPE\", \"GPE\", \"GPE\"], \"xaxis\": \"x\", \"yaxis\": \"y\"}, {\"alignmentgroup\": \"True\", \"bingroup\": \"x\", \"hoverlabel\": {\"namelength\": 0}, \"hovertemplate\": \"label=%{x}<br>count=%{y}\", \"legendgroup\": \"label=DATE\", \"marker\": {\"color\": \"#EF553B\"}, \"name\": \"label=DATE\", \"offsetgroup\": \"label=DATE\", \"orientation\": \"v\", \"showlegend\": true, \"type\": \"histogram\", \"x\": [\"DATE\", \"DATE\", \"DATE\", \"DATE\", \"DATE\", \"DATE\", \"DATE\", \"DATE\", \"DATE\", \"DATE\", \"DATE\", \"DATE\", \"DATE\", \"DATE\", \"DATE\", \"DATE\", \"DATE\", \"DATE\", \"DATE\", \"DATE\", \"DATE\", \"DATE\", \"DATE\", \"DATE\", \"DATE\", \"DATE\", \"DATE\", \"DATE\", \"DATE\", \"DATE\", \"DATE\", \"DATE\", \"DATE\", \"DATE\", \"DATE\", \"DATE\", \"DATE\", \"DATE\", \"DATE\", \"DATE\", \"DATE\", \"DATE\", \"DATE\", \"DATE\", \"DATE\", \"DATE\", \"DATE\", \"DATE\", \"DATE\", \"DATE\", \"DATE\", \"DATE\", \"DATE\", \"DATE\", \"DATE\", \"DATE\", \"DATE\", \"DATE\", \"DATE\", \"DATE\", \"DATE\", \"DATE\", \"DATE\", \"DATE\", \"DATE\", \"DATE\", \"DATE\", \"DATE\", \"DATE\", \"DATE\", \"DATE\", \"DATE\", \"DATE\", \"DATE\", \"DATE\", \"DATE\", \"DATE\", \"DATE\", \"DATE\", \"DATE\", \"DATE\", \"DATE\", \"DATE\", \"DATE\", \"DATE\", \"DATE\", \"DATE\", \"DATE\", \"DATE\", \"DATE\", \"DATE\", \"DATE\", \"DATE\", \"DATE\", \"DATE\", \"DATE\", \"DATE\", \"DATE\", \"DATE\", \"DATE\", \"DATE\", \"DATE\", \"DATE\", \"DATE\", \"DATE\", \"DATE\", \"DATE\", \"DATE\", \"DATE\", \"DATE\", \"DATE\", \"DATE\", \"DATE\", \"DATE\", \"DATE\", \"DATE\", \"DATE\", \"DATE\", \"DATE\", \"DATE\", \"DATE\", \"DATE\", \"DATE\", \"DATE\", \"DATE\", \"DATE\", \"DATE\", \"DATE\", \"DATE\", \"DATE\", \"DATE\", \"DATE\", \"DATE\", \"DATE\", \"DATE\", \"DATE\", \"DATE\", \"DATE\", \"DATE\", \"DATE\", \"DATE\", \"DATE\", \"DATE\", \"DATE\", \"DATE\", \"DATE\", \"DATE\", \"DATE\", \"DATE\", \"DATE\", \"DATE\", \"DATE\", \"DATE\", \"DATE\", \"DATE\", \"DATE\", \"DATE\", \"DATE\", \"DATE\", \"DATE\", \"DATE\", \"DATE\", \"DATE\", \"DATE\", \"DATE\", \"DATE\", \"DATE\", \"DATE\", \"DATE\", \"DATE\", \"DATE\", \"DATE\", \"DATE\", \"DATE\", \"DATE\", \"DATE\", \"DATE\", \"DATE\", \"DATE\", \"DATE\", \"DATE\", \"DATE\", \"DATE\", \"DATE\", \"DATE\", \"DATE\", \"DATE\", \"DATE\", \"DATE\", \"DATE\", \"DATE\", \"DATE\", \"DATE\", \"DATE\", \"DATE\", \"DATE\", \"DATE\", \"DATE\", \"DATE\", \"DATE\", \"DATE\", \"DATE\", \"DATE\", \"DATE\", \"DATE\", \"DATE\", \"DATE\", \"DATE\", \"DATE\", \"DATE\", \"DATE\", \"DATE\", \"DATE\", \"DATE\", \"DATE\", \"DATE\", \"DATE\", \"DATE\", \"DATE\", \"DATE\", \"DATE\", \"DATE\", \"DATE\", \"DATE\", \"DATE\", \"DATE\", \"DATE\", \"DATE\", \"DATE\", \"DATE\", \"DATE\", \"DATE\", \"DATE\", \"DATE\", \"DATE\", \"DATE\", \"DATE\", \"DATE\", \"DATE\", \"DATE\", \"DATE\", \"DATE\", \"DATE\", \"DATE\", \"DATE\", \"DATE\", \"DATE\", \"DATE\", \"DATE\", \"DATE\", \"DATE\", \"DATE\", \"DATE\", \"DATE\", \"DATE\", \"DATE\", \"DATE\", \"DATE\", \"DATE\", \"DATE\", \"DATE\", \"DATE\", \"DATE\", \"DATE\", \"DATE\", \"DATE\", \"DATE\", \"DATE\", \"DATE\", \"DATE\", \"DATE\", \"DATE\", \"DATE\", \"DATE\", \"DATE\", \"DATE\", \"DATE\", \"DATE\", \"DATE\", \"DATE\", \"DATE\", \"DATE\", \"DATE\", \"DATE\", \"DATE\", \"DATE\", \"DATE\", \"DATE\", \"DATE\", \"DATE\", \"DATE\", \"DATE\", \"DATE\", \"DATE\", \"DATE\", \"DATE\", \"DATE\", \"DATE\", \"DATE\", \"DATE\", \"DATE\", \"DATE\", \"DATE\", \"DATE\", \"DATE\", \"DATE\", \"DATE\", \"DATE\", \"DATE\", \"DATE\", \"DATE\", \"DATE\", \"DATE\", \"DATE\", \"DATE\", \"DATE\", \"DATE\", \"DATE\", \"DATE\", \"DATE\", \"DATE\", \"DATE\", \"DATE\", \"DATE\", \"DATE\", \"DATE\", \"DATE\", \"DATE\", \"DATE\", \"DATE\", \"DATE\", \"DATE\", \"DATE\", \"DATE\", \"DATE\", \"DATE\", \"DATE\", \"DATE\", \"DATE\", \"DATE\", \"DATE\", \"DATE\", \"DATE\", \"DATE\", \"DATE\", \"DATE\", \"DATE\", \"DATE\", \"DATE\", \"DATE\", \"DATE\", \"DATE\", \"DATE\", \"DATE\", \"DATE\", \"DATE\", \"DATE\", \"DATE\", \"DATE\", \"DATE\", \"DATE\", \"DATE\", \"DATE\", \"DATE\", \"DATE\", \"DATE\", \"DATE\", \"DATE\", \"DATE\", \"DATE\", \"DATE\", \"DATE\", \"DATE\", \"DATE\", \"DATE\", \"DATE\", \"DATE\", \"DATE\", \"DATE\", \"DATE\", \"DATE\", \"DATE\", \"DATE\", \"DATE\", \"DATE\", \"DATE\", \"DATE\", \"DATE\", \"DATE\", \"DATE\", \"DATE\", \"DATE\", \"DATE\", \"DATE\", \"DATE\", \"DATE\", \"DATE\", \"DATE\", \"DATE\", \"DATE\", \"DATE\", \"DATE\", \"DATE\", \"DATE\", \"DATE\", \"DATE\", \"DATE\", \"DATE\", \"DATE\", \"DATE\", \"DATE\", \"DATE\", \"DATE\", \"DATE\", \"DATE\", \"DATE\", \"DATE\", \"DATE\", \"DATE\", \"DATE\", \"DATE\", \"DATE\", \"DATE\", \"DATE\", \"DATE\", \"DATE\", \"DATE\", \"DATE\", \"DATE\", \"DATE\", \"DATE\", \"DATE\", \"DATE\", \"DATE\", \"DATE\", \"DATE\", \"DATE\", \"DATE\", \"DATE\", \"DATE\", \"DATE\", \"DATE\", \"DATE\", \"DATE\", \"DATE\", \"DATE\", \"DATE\", \"DATE\", \"DATE\", \"DATE\", \"DATE\", \"DATE\", \"DATE\", \"DATE\", \"DATE\", \"DATE\", \"DATE\", \"DATE\", \"DATE\", \"DATE\", \"DATE\", \"DATE\", \"DATE\", \"DATE\", \"DATE\", \"DATE\", \"DATE\", \"DATE\", \"DATE\", \"DATE\", \"DATE\", \"DATE\", \"DATE\", \"DATE\", \"DATE\", \"DATE\", \"DATE\", \"DATE\", \"DATE\", \"DATE\", \"DATE\", \"DATE\", \"DATE\", \"DATE\", \"DATE\", \"DATE\", \"DATE\", \"DATE\", \"DATE\", \"DATE\", \"DATE\", \"DATE\", \"DATE\", \"DATE\", \"DATE\", \"DATE\", \"DATE\", \"DATE\", \"DATE\", \"DATE\", \"DATE\", \"DATE\", \"DATE\", \"DATE\", \"DATE\", \"DATE\", \"DATE\", \"DATE\"], \"xaxis\": \"x\", \"yaxis\": \"y\"}, {\"alignmentgroup\": \"True\", \"bingroup\": \"x\", \"hoverlabel\": {\"namelength\": 0}, \"hovertemplate\": \"label=%{x}<br>count=%{y}\", \"legendgroup\": \"label=ORG\", \"marker\": {\"color\": \"#00cc96\"}, \"name\": \"label=ORG\", \"offsetgroup\": \"label=ORG\", \"orientation\": \"v\", \"showlegend\": true, \"type\": \"histogram\", \"x\": [\"ORG\", \"ORG\", \"ORG\", \"ORG\", \"ORG\", \"ORG\", \"ORG\", \"ORG\", \"ORG\", \"ORG\", \"ORG\", \"ORG\", \"ORG\", \"ORG\", \"ORG\", \"ORG\", \"ORG\", \"ORG\", \"ORG\", \"ORG\", \"ORG\", \"ORG\", \"ORG\", \"ORG\", \"ORG\", \"ORG\", \"ORG\", \"ORG\", \"ORG\", \"ORG\", \"ORG\", \"ORG\", \"ORG\", \"ORG\", \"ORG\", \"ORG\", \"ORG\", \"ORG\", \"ORG\", \"ORG\", \"ORG\", \"ORG\", \"ORG\", \"ORG\", \"ORG\", \"ORG\", \"ORG\", \"ORG\", \"ORG\", \"ORG\", \"ORG\", \"ORG\", \"ORG\", \"ORG\", \"ORG\", \"ORG\", \"ORG\", \"ORG\", \"ORG\", \"ORG\", \"ORG\", \"ORG\", \"ORG\", \"ORG\", \"ORG\", \"ORG\", \"ORG\", \"ORG\", \"ORG\", \"ORG\", \"ORG\", \"ORG\", \"ORG\", \"ORG\", \"ORG\", \"ORG\", \"ORG\", \"ORG\", \"ORG\", \"ORG\", \"ORG\", \"ORG\", \"ORG\", \"ORG\", \"ORG\", \"ORG\", \"ORG\", \"ORG\", \"ORG\", \"ORG\", \"ORG\", \"ORG\", \"ORG\", \"ORG\", \"ORG\", \"ORG\", \"ORG\", \"ORG\", \"ORG\", \"ORG\", \"ORG\", \"ORG\", \"ORG\", \"ORG\", \"ORG\", \"ORG\", \"ORG\", \"ORG\", \"ORG\", \"ORG\", \"ORG\", \"ORG\", \"ORG\", \"ORG\", \"ORG\", \"ORG\", \"ORG\", \"ORG\", \"ORG\", \"ORG\", \"ORG\", \"ORG\", \"ORG\", \"ORG\", \"ORG\", \"ORG\", \"ORG\", \"ORG\", \"ORG\", \"ORG\", \"ORG\", \"ORG\", \"ORG\", \"ORG\", \"ORG\", \"ORG\", \"ORG\", \"ORG\", \"ORG\", \"ORG\", \"ORG\", \"ORG\", \"ORG\", \"ORG\", \"ORG\", \"ORG\", \"ORG\", \"ORG\", \"ORG\", \"ORG\", \"ORG\", \"ORG\", \"ORG\", \"ORG\", \"ORG\", \"ORG\", \"ORG\", \"ORG\", \"ORG\", \"ORG\", \"ORG\", \"ORG\", \"ORG\", \"ORG\", \"ORG\", \"ORG\", \"ORG\", \"ORG\", \"ORG\", \"ORG\", \"ORG\", \"ORG\", \"ORG\", \"ORG\", \"ORG\", \"ORG\", \"ORG\", \"ORG\", \"ORG\", \"ORG\", \"ORG\", \"ORG\", \"ORG\", \"ORG\", \"ORG\", \"ORG\", \"ORG\", \"ORG\", \"ORG\", \"ORG\", \"ORG\", \"ORG\", \"ORG\", \"ORG\", \"ORG\", \"ORG\", \"ORG\", \"ORG\", \"ORG\", \"ORG\", \"ORG\", \"ORG\", \"ORG\", \"ORG\", \"ORG\", \"ORG\", \"ORG\", \"ORG\", \"ORG\", \"ORG\", \"ORG\", \"ORG\", \"ORG\", \"ORG\", \"ORG\", \"ORG\", \"ORG\", \"ORG\", \"ORG\", \"ORG\", \"ORG\", \"ORG\", \"ORG\", \"ORG\", \"ORG\", \"ORG\", \"ORG\", \"ORG\", \"ORG\", \"ORG\", \"ORG\", \"ORG\", \"ORG\", \"ORG\", \"ORG\", \"ORG\", \"ORG\", \"ORG\", \"ORG\", \"ORG\", \"ORG\", \"ORG\", \"ORG\", \"ORG\", \"ORG\", \"ORG\", \"ORG\", \"ORG\", \"ORG\", \"ORG\", \"ORG\", \"ORG\", \"ORG\", \"ORG\", \"ORG\", \"ORG\", \"ORG\", \"ORG\", \"ORG\", \"ORG\", \"ORG\", \"ORG\", \"ORG\", \"ORG\", \"ORG\", \"ORG\", \"ORG\", \"ORG\", \"ORG\", \"ORG\", \"ORG\", \"ORG\", \"ORG\", \"ORG\", \"ORG\", \"ORG\", \"ORG\", \"ORG\", \"ORG\", \"ORG\", \"ORG\", \"ORG\", \"ORG\", \"ORG\", \"ORG\", \"ORG\", \"ORG\", \"ORG\", \"ORG\", \"ORG\", \"ORG\", \"ORG\", \"ORG\", \"ORG\", \"ORG\", \"ORG\", \"ORG\", \"ORG\", \"ORG\", \"ORG\", \"ORG\", \"ORG\", \"ORG\", \"ORG\", \"ORG\", \"ORG\", \"ORG\", \"ORG\", \"ORG\", \"ORG\", \"ORG\", \"ORG\", \"ORG\", \"ORG\", \"ORG\", \"ORG\", \"ORG\", \"ORG\", \"ORG\", \"ORG\", \"ORG\", \"ORG\", \"ORG\", \"ORG\", \"ORG\", \"ORG\", \"ORG\", \"ORG\", \"ORG\", \"ORG\", \"ORG\", \"ORG\", \"ORG\", \"ORG\", \"ORG\", \"ORG\", \"ORG\", \"ORG\", \"ORG\", \"ORG\", \"ORG\", \"ORG\", \"ORG\", \"ORG\", \"ORG\", \"ORG\", \"ORG\", \"ORG\", \"ORG\", \"ORG\", \"ORG\", \"ORG\", \"ORG\", \"ORG\", \"ORG\", \"ORG\", \"ORG\", \"ORG\", \"ORG\", \"ORG\", \"ORG\", \"ORG\", \"ORG\", \"ORG\", \"ORG\", \"ORG\", \"ORG\", \"ORG\", \"ORG\", \"ORG\", \"ORG\", \"ORG\", \"ORG\", \"ORG\", \"ORG\", \"ORG\", \"ORG\", \"ORG\", \"ORG\", \"ORG\", \"ORG\", \"ORG\", \"ORG\", \"ORG\", \"ORG\", \"ORG\", \"ORG\", \"ORG\", \"ORG\", \"ORG\", \"ORG\", \"ORG\", \"ORG\", \"ORG\", \"ORG\", \"ORG\", \"ORG\", \"ORG\", \"ORG\", \"ORG\", \"ORG\", \"ORG\", \"ORG\", \"ORG\", \"ORG\", \"ORG\", \"ORG\", \"ORG\", \"ORG\", \"ORG\", \"ORG\", \"ORG\", \"ORG\", \"ORG\", \"ORG\", \"ORG\", \"ORG\", \"ORG\", \"ORG\", \"ORG\", \"ORG\", \"ORG\", \"ORG\", \"ORG\", \"ORG\", \"ORG\", \"ORG\", \"ORG\", \"ORG\", \"ORG\", \"ORG\", \"ORG\", \"ORG\", \"ORG\", \"ORG\", \"ORG\", \"ORG\", \"ORG\", \"ORG\", \"ORG\", \"ORG\", \"ORG\", \"ORG\", \"ORG\", \"ORG\", \"ORG\", \"ORG\", \"ORG\", \"ORG\", \"ORG\", \"ORG\", \"ORG\", \"ORG\", \"ORG\", \"ORG\", \"ORG\", \"ORG\", \"ORG\", \"ORG\", \"ORG\", \"ORG\", \"ORG\", \"ORG\", \"ORG\", \"ORG\", \"ORG\", \"ORG\", \"ORG\", \"ORG\", \"ORG\", \"ORG\", \"ORG\", \"ORG\", \"ORG\", \"ORG\", \"ORG\", \"ORG\", \"ORG\", \"ORG\", \"ORG\", \"ORG\", \"ORG\", \"ORG\", \"ORG\", \"ORG\", \"ORG\", \"ORG\", \"ORG\", \"ORG\", \"ORG\", \"ORG\", \"ORG\", \"ORG\", \"ORG\", \"ORG\", \"ORG\", \"ORG\", \"ORG\", \"ORG\", \"ORG\", \"ORG\", \"ORG\", \"ORG\", \"ORG\", \"ORG\", \"ORG\", \"ORG\", \"ORG\", \"ORG\", \"ORG\", \"ORG\", \"ORG\", \"ORG\", \"ORG\", \"ORG\", \"ORG\", \"ORG\", \"ORG\", \"ORG\", \"ORG\", \"ORG\", \"ORG\", \"ORG\", \"ORG\", \"ORG\", \"ORG\", \"ORG\", \"ORG\", \"ORG\", \"ORG\", \"ORG\", \"ORG\", \"ORG\", \"ORG\", \"ORG\", \"ORG\", \"ORG\", \"ORG\", \"ORG\", \"ORG\", \"ORG\", \"ORG\", \"ORG\", \"ORG\", \"ORG\", \"ORG\", \"ORG\", \"ORG\", \"ORG\", \"ORG\", \"ORG\", \"ORG\", \"ORG\", \"ORG\", \"ORG\", \"ORG\", \"ORG\", \"ORG\", \"ORG\", \"ORG\", \"ORG\", \"ORG\", \"ORG\", \"ORG\", \"ORG\", \"ORG\", \"ORG\", \"ORG\", \"ORG\", \"ORG\", \"ORG\", \"ORG\", \"ORG\", \"ORG\", \"ORG\", \"ORG\", \"ORG\", \"ORG\", \"ORG\", \"ORG\", \"ORG\", \"ORG\", \"ORG\", \"ORG\", \"ORG\", \"ORG\", \"ORG\", \"ORG\", \"ORG\", \"ORG\", \"ORG\", \"ORG\", \"ORG\", \"ORG\", \"ORG\", \"ORG\", \"ORG\", \"ORG\", \"ORG\", \"ORG\", \"ORG\", \"ORG\", \"ORG\", \"ORG\", \"ORG\", \"ORG\", \"ORG\", \"ORG\", \"ORG\", \"ORG\", \"ORG\", \"ORG\", \"ORG\", \"ORG\", \"ORG\", \"ORG\", \"ORG\", \"ORG\", \"ORG\", \"ORG\", \"ORG\", \"ORG\", \"ORG\", \"ORG\", \"ORG\", \"ORG\", \"ORG\", \"ORG\", \"ORG\", \"ORG\", \"ORG\", \"ORG\", \"ORG\", \"ORG\", \"ORG\", \"ORG\", \"ORG\", \"ORG\", \"ORG\", \"ORG\", \"ORG\", \"ORG\", \"ORG\", \"ORG\", \"ORG\", \"ORG\", \"ORG\", \"ORG\", \"ORG\", \"ORG\", \"ORG\", \"ORG\", \"ORG\", \"ORG\", \"ORG\", \"ORG\", \"ORG\", \"ORG\", \"ORG\", \"ORG\", \"ORG\", \"ORG\", \"ORG\", \"ORG\", \"ORG\", \"ORG\", \"ORG\", \"ORG\", \"ORG\", \"ORG\", \"ORG\", \"ORG\", \"ORG\", \"ORG\", \"ORG\", \"ORG\", \"ORG\", \"ORG\", \"ORG\", \"ORG\", \"ORG\", \"ORG\", \"ORG\", \"ORG\", \"ORG\", \"ORG\", \"ORG\", \"ORG\", \"ORG\", \"ORG\", \"ORG\", \"ORG\", \"ORG\", \"ORG\", \"ORG\", \"ORG\", \"ORG\", \"ORG\", \"ORG\", \"ORG\", \"ORG\", \"ORG\", \"ORG\", \"ORG\", \"ORG\", \"ORG\", \"ORG\", \"ORG\", \"ORG\", \"ORG\", \"ORG\", \"ORG\", \"ORG\", \"ORG\", \"ORG\", \"ORG\", \"ORG\", \"ORG\", \"ORG\", \"ORG\", \"ORG\", \"ORG\", \"ORG\", \"ORG\", \"ORG\", \"ORG\", \"ORG\", \"ORG\", \"ORG\", \"ORG\", \"ORG\", \"ORG\", \"ORG\", \"ORG\", \"ORG\", \"ORG\", \"ORG\", \"ORG\", \"ORG\", \"ORG\", \"ORG\", \"ORG\", \"ORG\", \"ORG\", \"ORG\", \"ORG\", \"ORG\", \"ORG\", \"ORG\", \"ORG\", \"ORG\", \"ORG\", \"ORG\", \"ORG\", \"ORG\", \"ORG\", \"ORG\", \"ORG\", \"ORG\", \"ORG\", \"ORG\", \"ORG\", \"ORG\", \"ORG\", \"ORG\", \"ORG\", \"ORG\", \"ORG\", \"ORG\", \"ORG\", \"ORG\", \"ORG\", \"ORG\", \"ORG\", \"ORG\", \"ORG\", \"ORG\", \"ORG\", \"ORG\", \"ORG\", \"ORG\", \"ORG\", \"ORG\", \"ORG\", \"ORG\", \"ORG\", \"ORG\", \"ORG\", \"ORG\", \"ORG\", \"ORG\", \"ORG\", \"ORG\", \"ORG\", \"ORG\", \"ORG\", \"ORG\", \"ORG\", \"ORG\", \"ORG\", \"ORG\", \"ORG\", \"ORG\", \"ORG\", \"ORG\", \"ORG\", \"ORG\", \"ORG\", \"ORG\", \"ORG\", \"ORG\", \"ORG\", \"ORG\", \"ORG\", \"ORG\", \"ORG\", \"ORG\", \"ORG\", \"ORG\", \"ORG\", \"ORG\", \"ORG\", \"ORG\", \"ORG\", \"ORG\", \"ORG\", \"ORG\", \"ORG\", \"ORG\", \"ORG\", \"ORG\", \"ORG\", \"ORG\", \"ORG\", \"ORG\", \"ORG\", \"ORG\", \"ORG\", \"ORG\", \"ORG\", \"ORG\", \"ORG\", \"ORG\", \"ORG\", \"ORG\", \"ORG\", \"ORG\", \"ORG\", \"ORG\", \"ORG\", \"ORG\", \"ORG\", \"ORG\", \"ORG\", \"ORG\", \"ORG\", \"ORG\", \"ORG\", \"ORG\", \"ORG\", \"ORG\", \"ORG\", \"ORG\", \"ORG\", \"ORG\", \"ORG\", \"ORG\", \"ORG\", \"ORG\", \"ORG\", \"ORG\", \"ORG\", \"ORG\", \"ORG\", \"ORG\", \"ORG\", \"ORG\", \"ORG\", \"ORG\", \"ORG\", \"ORG\", \"ORG\", \"ORG\", \"ORG\", \"ORG\", \"ORG\", \"ORG\", \"ORG\", \"ORG\", \"ORG\", \"ORG\", \"ORG\", \"ORG\", \"ORG\", \"ORG\", \"ORG\", \"ORG\", \"ORG\", \"ORG\", \"ORG\", \"ORG\", \"ORG\", \"ORG\", \"ORG\", \"ORG\", \"ORG\", \"ORG\", \"ORG\", \"ORG\", \"ORG\", \"ORG\", \"ORG\", \"ORG\", \"ORG\", \"ORG\", \"ORG\", \"ORG\", \"ORG\", \"ORG\", \"ORG\", \"ORG\", \"ORG\", \"ORG\", \"ORG\", \"ORG\", \"ORG\", \"ORG\", \"ORG\", \"ORG\", \"ORG\", \"ORG\", \"ORG\", \"ORG\", \"ORG\", \"ORG\", \"ORG\", \"ORG\", \"ORG\", \"ORG\", \"ORG\", \"ORG\", \"ORG\", \"ORG\", \"ORG\", \"ORG\", \"ORG\", \"ORG\", \"ORG\", \"ORG\", \"ORG\", \"ORG\", \"ORG\", \"ORG\", \"ORG\", \"ORG\", \"ORG\", \"ORG\", \"ORG\", \"ORG\", \"ORG\", \"ORG\", \"ORG\", \"ORG\", \"ORG\", \"ORG\", \"ORG\", \"ORG\", \"ORG\", \"ORG\", \"ORG\", \"ORG\", \"ORG\", \"ORG\", \"ORG\", \"ORG\", \"ORG\", \"ORG\", \"ORG\", \"ORG\", \"ORG\", \"ORG\", \"ORG\", \"ORG\", \"ORG\", \"ORG\", \"ORG\", \"ORG\", \"ORG\", \"ORG\", \"ORG\", \"ORG\", \"ORG\", \"ORG\", \"ORG\", \"ORG\", \"ORG\", \"ORG\", \"ORG\", \"ORG\", \"ORG\", \"ORG\", \"ORG\", \"ORG\", \"ORG\", \"ORG\", \"ORG\", \"ORG\", \"ORG\", \"ORG\", \"ORG\", \"ORG\", \"ORG\", \"ORG\", \"ORG\", \"ORG\", \"ORG\", \"ORG\", \"ORG\", \"ORG\", \"ORG\", \"ORG\", \"ORG\", \"ORG\", \"ORG\", \"ORG\", \"ORG\", \"ORG\", \"ORG\", \"ORG\", \"ORG\", \"ORG\", \"ORG\", \"ORG\", \"ORG\", \"ORG\", \"ORG\", \"ORG\", \"ORG\", \"ORG\", \"ORG\", \"ORG\", \"ORG\", \"ORG\", \"ORG\", \"ORG\", \"ORG\", \"ORG\", \"ORG\", \"ORG\", \"ORG\", \"ORG\", \"ORG\", \"ORG\", \"ORG\", \"ORG\", \"ORG\", \"ORG\", \"ORG\", \"ORG\", \"ORG\", \"ORG\", \"ORG\", \"ORG\", \"ORG\", \"ORG\", \"ORG\", \"ORG\", \"ORG\", \"ORG\", \"ORG\", \"ORG\", \"ORG\", \"ORG\", \"ORG\", \"ORG\", \"ORG\", \"ORG\", \"ORG\", \"ORG\", \"ORG\", \"ORG\", \"ORG\", \"ORG\", \"ORG\", \"ORG\", \"ORG\", \"ORG\", \"ORG\", \"ORG\", \"ORG\", \"ORG\", \"ORG\", \"ORG\", \"ORG\", \"ORG\", \"ORG\", \"ORG\", \"ORG\", \"ORG\", \"ORG\", \"ORG\", \"ORG\", \"ORG\", \"ORG\", \"ORG\", \"ORG\", \"ORG\", \"ORG\", \"ORG\", \"ORG\", \"ORG\", \"ORG\", \"ORG\", \"ORG\", \"ORG\", \"ORG\", \"ORG\", \"ORG\", \"ORG\", \"ORG\", \"ORG\", \"ORG\", \"ORG\", \"ORG\", \"ORG\", \"ORG\", \"ORG\", \"ORG\", \"ORG\", \"ORG\", \"ORG\", \"ORG\", \"ORG\", \"ORG\", \"ORG\", \"ORG\", \"ORG\", \"ORG\", \"ORG\", \"ORG\", \"ORG\", \"ORG\", \"ORG\", \"ORG\", \"ORG\", \"ORG\", \"ORG\", \"ORG\", \"ORG\", \"ORG\", \"ORG\", \"ORG\", \"ORG\", \"ORG\", \"ORG\", \"ORG\", \"ORG\", \"ORG\", \"ORG\", \"ORG\", \"ORG\", \"ORG\", \"ORG\", \"ORG\", \"ORG\", \"ORG\", \"ORG\", \"ORG\", \"ORG\", \"ORG\", \"ORG\", \"ORG\", \"ORG\", \"ORG\", \"ORG\", \"ORG\", \"ORG\", \"ORG\", \"ORG\", \"ORG\", \"ORG\", \"ORG\", \"ORG\", \"ORG\", \"ORG\", \"ORG\", \"ORG\", \"ORG\", \"ORG\", \"ORG\", \"ORG\", \"ORG\", \"ORG\", \"ORG\", \"ORG\", \"ORG\", \"ORG\", \"ORG\", \"ORG\", \"ORG\", \"ORG\", \"ORG\", \"ORG\", \"ORG\", \"ORG\", \"ORG\", \"ORG\", \"ORG\", \"ORG\", \"ORG\", \"ORG\", \"ORG\", \"ORG\", \"ORG\", \"ORG\", \"ORG\", \"ORG\", \"ORG\", \"ORG\", \"ORG\", \"ORG\", \"ORG\", \"ORG\", \"ORG\", \"ORG\", \"ORG\", \"ORG\", \"ORG\", \"ORG\", \"ORG\", \"ORG\", \"ORG\", \"ORG\", \"ORG\", \"ORG\", \"ORG\", \"ORG\", \"ORG\", \"ORG\", \"ORG\", \"ORG\", \"ORG\", \"ORG\", \"ORG\", \"ORG\", \"ORG\", \"ORG\", \"ORG\", \"ORG\", \"ORG\", \"ORG\", \"ORG\", \"ORG\", \"ORG\", \"ORG\", \"ORG\", \"ORG\", \"ORG\", \"ORG\", \"ORG\", \"ORG\", \"ORG\", \"ORG\", \"ORG\", \"ORG\", \"ORG\", \"ORG\", \"ORG\", \"ORG\", \"ORG\", \"ORG\", \"ORG\", \"ORG\", \"ORG\", \"ORG\", \"ORG\", \"ORG\", \"ORG\", \"ORG\", \"ORG\", \"ORG\", \"ORG\", \"ORG\", \"ORG\", \"ORG\", \"ORG\", \"ORG\", \"ORG\", \"ORG\", \"ORG\", \"ORG\", \"ORG\", \"ORG\", \"ORG\", \"ORG\", \"ORG\", \"ORG\"], \"xaxis\": \"x\", \"yaxis\": \"y\"}, {\"alignmentgroup\": \"True\", \"bingroup\": \"x\", \"hoverlabel\": {\"namelength\": 0}, \"hovertemplate\": \"label=%{x}<br>count=%{y}\", \"legendgroup\": \"label=NORP\", \"marker\": {\"color\": \"#ab63fa\"}, \"name\": \"label=NORP\", \"offsetgroup\": \"label=NORP\", \"orientation\": \"v\", \"showlegend\": true, \"type\": \"histogram\", \"x\": [\"NORP\", \"NORP\", \"NORP\", \"NORP\", \"NORP\", \"NORP\", \"NORP\", \"NORP\", \"NORP\", \"NORP\", \"NORP\", \"NORP\", \"NORP\", \"NORP\", \"NORP\", \"NORP\", \"NORP\", \"NORP\", \"NORP\", \"NORP\", \"NORP\", \"NORP\", \"NORP\", \"NORP\", \"NORP\", \"NORP\", \"NORP\", \"NORP\", \"NORP\", \"NORP\", \"NORP\", \"NORP\", \"NORP\", \"NORP\", \"NORP\", \"NORP\", \"NORP\", \"NORP\", \"NORP\", \"NORP\", \"NORP\", \"NORP\", \"NORP\", \"NORP\", \"NORP\", \"NORP\", \"NORP\", \"NORP\", \"NORP\", \"NORP\", \"NORP\", \"NORP\", \"NORP\", \"NORP\", \"NORP\", \"NORP\", \"NORP\", \"NORP\", \"NORP\", \"NORP\", \"NORP\", \"NORP\", \"NORP\", \"NORP\", \"NORP\", \"NORP\", \"NORP\", \"NORP\", \"NORP\", \"NORP\", \"NORP\", \"NORP\", \"NORP\", \"NORP\", \"NORP\", \"NORP\", \"NORP\", \"NORP\", \"NORP\", \"NORP\", \"NORP\", \"NORP\", \"NORP\", \"NORP\", \"NORP\", \"NORP\", \"NORP\", \"NORP\", \"NORP\", \"NORP\", \"NORP\", \"NORP\", \"NORP\", \"NORP\", \"NORP\", \"NORP\", \"NORP\", \"NORP\", \"NORP\", \"NORP\", \"NORP\", \"NORP\", \"NORP\", \"NORP\", \"NORP\", \"NORP\", \"NORP\", \"NORP\", \"NORP\", \"NORP\", \"NORP\", \"NORP\", \"NORP\", \"NORP\", \"NORP\", \"NORP\", \"NORP\", \"NORP\", \"NORP\", \"NORP\", \"NORP\", \"NORP\", \"NORP\", \"NORP\", \"NORP\", \"NORP\", \"NORP\", \"NORP\", \"NORP\", \"NORP\", \"NORP\", \"NORP\", \"NORP\", \"NORP\", \"NORP\", \"NORP\", \"NORP\", \"NORP\", \"NORP\", \"NORP\", \"NORP\", \"NORP\", \"NORP\", \"NORP\", \"NORP\", \"NORP\", \"NORP\", \"NORP\", \"NORP\", \"NORP\", \"NORP\", \"NORP\", \"NORP\", \"NORP\", \"NORP\", \"NORP\", \"NORP\", \"NORP\", \"NORP\", \"NORP\", \"NORP\", \"NORP\", \"NORP\", \"NORP\", \"NORP\", \"NORP\", \"NORP\", \"NORP\", \"NORP\", \"NORP\", \"NORP\", \"NORP\", \"NORP\", \"NORP\", \"NORP\", \"NORP\", \"NORP\", \"NORP\", \"NORP\", \"NORP\", \"NORP\", \"NORP\", \"NORP\", \"NORP\", \"NORP\", \"NORP\", \"NORP\", \"NORP\", \"NORP\", \"NORP\", \"NORP\", \"NORP\", \"NORP\", \"NORP\", \"NORP\", \"NORP\", \"NORP\", \"NORP\", \"NORP\", \"NORP\", \"NORP\", \"NORP\", \"NORP\", \"NORP\", \"NORP\", \"NORP\", \"NORP\", \"NORP\", \"NORP\", \"NORP\", \"NORP\", \"NORP\", \"NORP\", \"NORP\", \"NORP\", \"NORP\", \"NORP\", \"NORP\", \"NORP\", \"NORP\", \"NORP\", \"NORP\", \"NORP\", \"NORP\", \"NORP\", \"NORP\", \"NORP\", \"NORP\", \"NORP\", \"NORP\", \"NORP\", \"NORP\", \"NORP\", \"NORP\", \"NORP\", \"NORP\", \"NORP\", \"NORP\", \"NORP\", \"NORP\", \"NORP\", \"NORP\", \"NORP\", \"NORP\", \"NORP\", \"NORP\", \"NORP\", \"NORP\", \"NORP\", \"NORP\", \"NORP\", \"NORP\", \"NORP\", \"NORP\", \"NORP\", \"NORP\", \"NORP\", \"NORP\", \"NORP\", \"NORP\", \"NORP\", \"NORP\", \"NORP\", \"NORP\", \"NORP\", \"NORP\", \"NORP\", \"NORP\", \"NORP\", \"NORP\", \"NORP\", \"NORP\", \"NORP\", \"NORP\", \"NORP\", \"NORP\", \"NORP\", \"NORP\", \"NORP\", \"NORP\", \"NORP\", \"NORP\", \"NORP\", \"NORP\", \"NORP\", \"NORP\", \"NORP\", \"NORP\", \"NORP\", \"NORP\", \"NORP\", \"NORP\", \"NORP\", \"NORP\", \"NORP\", \"NORP\", \"NORP\", \"NORP\", \"NORP\", \"NORP\", \"NORP\", \"NORP\", \"NORP\", \"NORP\", \"NORP\", \"NORP\", \"NORP\", \"NORP\", \"NORP\", \"NORP\", \"NORP\", \"NORP\", \"NORP\", \"NORP\", \"NORP\", \"NORP\", \"NORP\", \"NORP\", \"NORP\", \"NORP\", \"NORP\", \"NORP\", \"NORP\", \"NORP\", \"NORP\", \"NORP\", \"NORP\", \"NORP\", \"NORP\", \"NORP\", \"NORP\", \"NORP\", \"NORP\", \"NORP\", \"NORP\", \"NORP\", \"NORP\", \"NORP\", \"NORP\", \"NORP\", \"NORP\", \"NORP\", \"NORP\", \"NORP\", \"NORP\", \"NORP\", \"NORP\", \"NORP\", \"NORP\", \"NORP\", \"NORP\", \"NORP\", \"NORP\", \"NORP\", \"NORP\", \"NORP\", \"NORP\", \"NORP\", \"NORP\", \"NORP\", \"NORP\", \"NORP\", \"NORP\", \"NORP\", \"NORP\", \"NORP\", \"NORP\", \"NORP\", \"NORP\", \"NORP\", \"NORP\", \"NORP\", \"NORP\", \"NORP\", \"NORP\", \"NORP\", \"NORP\", \"NORP\", \"NORP\", \"NORP\", \"NORP\", \"NORP\", \"NORP\", \"NORP\", \"NORP\", \"NORP\", \"NORP\", \"NORP\", \"NORP\", \"NORP\", \"NORP\", \"NORP\", \"NORP\", \"NORP\", \"NORP\", \"NORP\", \"NORP\", \"NORP\", \"NORP\", \"NORP\", \"NORP\", \"NORP\", \"NORP\", \"NORP\", \"NORP\", \"NORP\", \"NORP\", \"NORP\", \"NORP\", \"NORP\", \"NORP\", \"NORP\", \"NORP\", \"NORP\", \"NORP\", \"NORP\", \"NORP\", \"NORP\", \"NORP\", \"NORP\", \"NORP\", \"NORP\", \"NORP\", \"NORP\", \"NORP\", \"NORP\", \"NORP\", \"NORP\", \"NORP\", \"NORP\", \"NORP\", \"NORP\", \"NORP\", \"NORP\", \"NORP\", \"NORP\", \"NORP\", \"NORP\", \"NORP\", \"NORP\", \"NORP\", \"NORP\", \"NORP\", \"NORP\", \"NORP\", \"NORP\", \"NORP\", \"NORP\", \"NORP\", \"NORP\", \"NORP\", \"NORP\", \"NORP\", \"NORP\", \"NORP\", \"NORP\", \"NORP\", \"NORP\", \"NORP\", \"NORP\", \"NORP\", \"NORP\", \"NORP\", \"NORP\", \"NORP\", \"NORP\", \"NORP\", \"NORP\", \"NORP\", \"NORP\", \"NORP\", \"NORP\", \"NORP\", \"NORP\", \"NORP\", \"NORP\", \"NORP\", \"NORP\", \"NORP\", \"NORP\", \"NORP\", \"NORP\", \"NORP\", \"NORP\", \"NORP\", \"NORP\", \"NORP\", \"NORP\", \"NORP\", \"NORP\", \"NORP\", \"NORP\", \"NORP\", \"NORP\", \"NORP\", \"NORP\", \"NORP\", \"NORP\", \"NORP\", \"NORP\", \"NORP\", \"NORP\", \"NORP\", \"NORP\", \"NORP\", \"NORP\", \"NORP\", \"NORP\", \"NORP\", \"NORP\", \"NORP\", \"NORP\", \"NORP\"], \"xaxis\": \"x\", \"yaxis\": \"y\"}, {\"alignmentgroup\": \"True\", \"bingroup\": \"x\", \"hoverlabel\": {\"namelength\": 0}, \"hovertemplate\": \"label=%{x}<br>count=%{y}\", \"legendgroup\": \"label=TIME\", \"marker\": {\"color\": \"#FFA15A\"}, \"name\": \"label=TIME\", \"offsetgroup\": \"label=TIME\", \"orientation\": \"v\", \"showlegend\": true, \"type\": \"histogram\", \"x\": [\"TIME\", \"TIME\", \"TIME\", \"TIME\", \"TIME\", \"TIME\", \"TIME\", \"TIME\", \"TIME\", \"TIME\", \"TIME\", \"TIME\", \"TIME\", \"TIME\", \"TIME\", \"TIME\", \"TIME\", \"TIME\", \"TIME\", \"TIME\", \"TIME\", \"TIME\", \"TIME\", \"TIME\", \"TIME\", \"TIME\", \"TIME\", \"TIME\", \"TIME\", \"TIME\", \"TIME\", \"TIME\", \"TIME\", \"TIME\", \"TIME\", \"TIME\", \"TIME\", \"TIME\", \"TIME\", \"TIME\", \"TIME\", \"TIME\", \"TIME\", \"TIME\", \"TIME\", \"TIME\", \"TIME\", \"TIME\", \"TIME\", \"TIME\", \"TIME\", \"TIME\", \"TIME\", \"TIME\", \"TIME\", \"TIME\", \"TIME\", \"TIME\", \"TIME\", \"TIME\", \"TIME\", \"TIME\", \"TIME\", \"TIME\", \"TIME\", \"TIME\", \"TIME\", \"TIME\", \"TIME\", \"TIME\", \"TIME\", \"TIME\", \"TIME\", \"TIME\", \"TIME\", \"TIME\", \"TIME\", \"TIME\", \"TIME\", \"TIME\", \"TIME\", \"TIME\", \"TIME\", \"TIME\", \"TIME\", \"TIME\", \"TIME\", \"TIME\", \"TIME\", \"TIME\", \"TIME\", \"TIME\", \"TIME\", \"TIME\", \"TIME\", \"TIME\", \"TIME\", \"TIME\", \"TIME\", \"TIME\", \"TIME\", \"TIME\", \"TIME\", \"TIME\", \"TIME\", \"TIME\", \"TIME\", \"TIME\", \"TIME\", \"TIME\", \"TIME\", \"TIME\", \"TIME\", \"TIME\", \"TIME\", \"TIME\", \"TIME\", \"TIME\", \"TIME\", \"TIME\", \"TIME\", \"TIME\", \"TIME\", \"TIME\", \"TIME\", \"TIME\", \"TIME\", \"TIME\", \"TIME\", \"TIME\", \"TIME\", \"TIME\", \"TIME\", \"TIME\", \"TIME\", \"TIME\", \"TIME\", \"TIME\", \"TIME\", \"TIME\", \"TIME\", \"TIME\", \"TIME\", \"TIME\", \"TIME\", \"TIME\", \"TIME\", \"TIME\", \"TIME\", \"TIME\", \"TIME\", \"TIME\", \"TIME\", \"TIME\", \"TIME\", \"TIME\", \"TIME\", \"TIME\", \"TIME\", \"TIME\", \"TIME\", \"TIME\", \"TIME\", \"TIME\", \"TIME\", \"TIME\", \"TIME\", \"TIME\", \"TIME\", \"TIME\", \"TIME\", \"TIME\", \"TIME\", \"TIME\", \"TIME\", \"TIME\", \"TIME\", \"TIME\", \"TIME\", \"TIME\", \"TIME\", \"TIME\", \"TIME\", \"TIME\", \"TIME\", \"TIME\", \"TIME\", \"TIME\", \"TIME\", \"TIME\", \"TIME\", \"TIME\", \"TIME\", \"TIME\", \"TIME\", \"TIME\", \"TIME\", \"TIME\", \"TIME\", \"TIME\", \"TIME\", \"TIME\", \"TIME\", \"TIME\", \"TIME\", \"TIME\", \"TIME\", \"TIME\", \"TIME\", \"TIME\", \"TIME\", \"TIME\", \"TIME\", \"TIME\", \"TIME\", \"TIME\", \"TIME\", \"TIME\", \"TIME\", \"TIME\", \"TIME\", \"TIME\", \"TIME\", \"TIME\", \"TIME\", \"TIME\", \"TIME\", \"TIME\", \"TIME\", \"TIME\", \"TIME\", \"TIME\", \"TIME\", \"TIME\", \"TIME\", \"TIME\", \"TIME\", \"TIME\", \"TIME\", \"TIME\", \"TIME\", \"TIME\", \"TIME\", \"TIME\", \"TIME\", \"TIME\", \"TIME\", \"TIME\", \"TIME\", \"TIME\", \"TIME\", \"TIME\", \"TIME\", \"TIME\", \"TIME\", \"TIME\", \"TIME\", \"TIME\", \"TIME\", \"TIME\", \"TIME\", \"TIME\", \"TIME\", \"TIME\", \"TIME\", \"TIME\", \"TIME\", \"TIME\", \"TIME\", \"TIME\", \"TIME\", \"TIME\", \"TIME\", \"TIME\", \"TIME\", \"TIME\", \"TIME\", \"TIME\", \"TIME\", \"TIME\", \"TIME\", \"TIME\", \"TIME\", \"TIME\", \"TIME\", \"TIME\", \"TIME\", \"TIME\", \"TIME\", \"TIME\", \"TIME\", \"TIME\", \"TIME\", \"TIME\", \"TIME\", \"TIME\", \"TIME\", \"TIME\", \"TIME\", \"TIME\", \"TIME\", \"TIME\", \"TIME\", \"TIME\", \"TIME\", \"TIME\", \"TIME\", \"TIME\", \"TIME\", \"TIME\", \"TIME\", \"TIME\", \"TIME\", \"TIME\", \"TIME\", \"TIME\", \"TIME\", \"TIME\", \"TIME\", \"TIME\", \"TIME\", \"TIME\", \"TIME\", \"TIME\", \"TIME\", \"TIME\", \"TIME\", \"TIME\", \"TIME\", \"TIME\", \"TIME\", \"TIME\", \"TIME\", \"TIME\", \"TIME\", \"TIME\", \"TIME\", \"TIME\", \"TIME\", \"TIME\", \"TIME\", \"TIME\", \"TIME\", \"TIME\", \"TIME\", \"TIME\", \"TIME\", \"TIME\", \"TIME\", \"TIME\", \"TIME\"], \"xaxis\": \"x\", \"yaxis\": \"y\"}, {\"alignmentgroup\": \"True\", \"bingroup\": \"x\", \"hoverlabel\": {\"namelength\": 0}, \"hovertemplate\": \"label=%{x}<br>count=%{y}\", \"legendgroup\": \"label=WORK_OF_ART\", \"marker\": {\"color\": \"#19d3f3\"}, \"name\": \"label=WORK_OF_ART\", \"offsetgroup\": \"label=WORK_OF_ART\", \"orientation\": \"v\", \"showlegend\": true, \"type\": \"histogram\", \"x\": [\"WORK_OF_ART\", \"WORK_OF_ART\", \"WORK_OF_ART\", \"WORK_OF_ART\", \"WORK_OF_ART\", \"WORK_OF_ART\", \"WORK_OF_ART\", \"WORK_OF_ART\", \"WORK_OF_ART\", \"WORK_OF_ART\", \"WORK_OF_ART\", \"WORK_OF_ART\", \"WORK_OF_ART\", \"WORK_OF_ART\", \"WORK_OF_ART\", \"WORK_OF_ART\", \"WORK_OF_ART\", \"WORK_OF_ART\", \"WORK_OF_ART\", \"WORK_OF_ART\", \"WORK_OF_ART\", \"WORK_OF_ART\", \"WORK_OF_ART\", \"WORK_OF_ART\", \"WORK_OF_ART\", \"WORK_OF_ART\", \"WORK_OF_ART\", \"WORK_OF_ART\", \"WORK_OF_ART\", \"WORK_OF_ART\", \"WORK_OF_ART\", \"WORK_OF_ART\", \"WORK_OF_ART\", \"WORK_OF_ART\", \"WORK_OF_ART\", \"WORK_OF_ART\", \"WORK_OF_ART\", \"WORK_OF_ART\", \"WORK_OF_ART\", \"WORK_OF_ART\", \"WORK_OF_ART\", \"WORK_OF_ART\", \"WORK_OF_ART\", \"WORK_OF_ART\", \"WORK_OF_ART\", \"WORK_OF_ART\", \"WORK_OF_ART\", \"WORK_OF_ART\", \"WORK_OF_ART\", \"WORK_OF_ART\", \"WORK_OF_ART\", \"WORK_OF_ART\", \"WORK_OF_ART\", \"WORK_OF_ART\", \"WORK_OF_ART\", \"WORK_OF_ART\", \"WORK_OF_ART\", \"WORK_OF_ART\", \"WORK_OF_ART\", \"WORK_OF_ART\", \"WORK_OF_ART\", \"WORK_OF_ART\", \"WORK_OF_ART\", \"WORK_OF_ART\", \"WORK_OF_ART\", \"WORK_OF_ART\", \"WORK_OF_ART\", \"WORK_OF_ART\", \"WORK_OF_ART\", \"WORK_OF_ART\", \"WORK_OF_ART\", \"WORK_OF_ART\", \"WORK_OF_ART\", \"WORK_OF_ART\", \"WORK_OF_ART\", \"WORK_OF_ART\", \"WORK_OF_ART\", \"WORK_OF_ART\", \"WORK_OF_ART\", \"WORK_OF_ART\", \"WORK_OF_ART\", \"WORK_OF_ART\", \"WORK_OF_ART\", \"WORK_OF_ART\", \"WORK_OF_ART\", \"WORK_OF_ART\", \"WORK_OF_ART\", \"WORK_OF_ART\", \"WORK_OF_ART\", \"WORK_OF_ART\", \"WORK_OF_ART\", \"WORK_OF_ART\", \"WORK_OF_ART\", \"WORK_OF_ART\", \"WORK_OF_ART\", \"WORK_OF_ART\", \"WORK_OF_ART\", \"WORK_OF_ART\", \"WORK_OF_ART\", \"WORK_OF_ART\", \"WORK_OF_ART\", \"WORK_OF_ART\", \"WORK_OF_ART\", \"WORK_OF_ART\", \"WORK_OF_ART\", \"WORK_OF_ART\", \"WORK_OF_ART\", \"WORK_OF_ART\", \"WORK_OF_ART\", \"WORK_OF_ART\", \"WORK_OF_ART\", \"WORK_OF_ART\", \"WORK_OF_ART\", \"WORK_OF_ART\", \"WORK_OF_ART\", \"WORK_OF_ART\", \"WORK_OF_ART\", \"WORK_OF_ART\", \"WORK_OF_ART\", \"WORK_OF_ART\", \"WORK_OF_ART\", \"WORK_OF_ART\", \"WORK_OF_ART\", \"WORK_OF_ART\", \"WORK_OF_ART\", \"WORK_OF_ART\", \"WORK_OF_ART\", \"WORK_OF_ART\", \"WORK_OF_ART\", \"WORK_OF_ART\", \"WORK_OF_ART\", \"WORK_OF_ART\", \"WORK_OF_ART\", \"WORK_OF_ART\", \"WORK_OF_ART\", \"WORK_OF_ART\", \"WORK_OF_ART\", \"WORK_OF_ART\", \"WORK_OF_ART\", \"WORK_OF_ART\", \"WORK_OF_ART\", \"WORK_OF_ART\", \"WORK_OF_ART\", \"WORK_OF_ART\", \"WORK_OF_ART\", \"WORK_OF_ART\", \"WORK_OF_ART\", \"WORK_OF_ART\", \"WORK_OF_ART\", \"WORK_OF_ART\", \"WORK_OF_ART\", \"WORK_OF_ART\", \"WORK_OF_ART\", \"WORK_OF_ART\", \"WORK_OF_ART\", \"WORK_OF_ART\", \"WORK_OF_ART\", \"WORK_OF_ART\", \"WORK_OF_ART\", \"WORK_OF_ART\", \"WORK_OF_ART\", \"WORK_OF_ART\", \"WORK_OF_ART\", \"WORK_OF_ART\", \"WORK_OF_ART\", \"WORK_OF_ART\", \"WORK_OF_ART\", \"WORK_OF_ART\", \"WORK_OF_ART\", \"WORK_OF_ART\", \"WORK_OF_ART\", \"WORK_OF_ART\", \"WORK_OF_ART\", \"WORK_OF_ART\", \"WORK_OF_ART\", \"WORK_OF_ART\", \"WORK_OF_ART\", \"WORK_OF_ART\", \"WORK_OF_ART\", \"WORK_OF_ART\", \"WORK_OF_ART\", \"WORK_OF_ART\", \"WORK_OF_ART\", \"WORK_OF_ART\", \"WORK_OF_ART\", \"WORK_OF_ART\", \"WORK_OF_ART\", \"WORK_OF_ART\", \"WORK_OF_ART\", \"WORK_OF_ART\", \"WORK_OF_ART\", \"WORK_OF_ART\", \"WORK_OF_ART\", \"WORK_OF_ART\", \"WORK_OF_ART\", \"WORK_OF_ART\", \"WORK_OF_ART\", \"WORK_OF_ART\", \"WORK_OF_ART\", \"WORK_OF_ART\", \"WORK_OF_ART\", \"WORK_OF_ART\", \"WORK_OF_ART\", \"WORK_OF_ART\", \"WORK_OF_ART\", \"WORK_OF_ART\", \"WORK_OF_ART\", \"WORK_OF_ART\", \"WORK_OF_ART\", \"WORK_OF_ART\", \"WORK_OF_ART\", \"WORK_OF_ART\", \"WORK_OF_ART\", \"WORK_OF_ART\", \"WORK_OF_ART\", \"WORK_OF_ART\", \"WORK_OF_ART\", \"WORK_OF_ART\", \"WORK_OF_ART\", \"WORK_OF_ART\", \"WORK_OF_ART\", \"WORK_OF_ART\", \"WORK_OF_ART\", \"WORK_OF_ART\", \"WORK_OF_ART\", \"WORK_OF_ART\", \"WORK_OF_ART\", \"WORK_OF_ART\", \"WORK_OF_ART\", \"WORK_OF_ART\", \"WORK_OF_ART\", \"WORK_OF_ART\", \"WORK_OF_ART\", \"WORK_OF_ART\", \"WORK_OF_ART\", \"WORK_OF_ART\", \"WORK_OF_ART\", \"WORK_OF_ART\", \"WORK_OF_ART\", \"WORK_OF_ART\", \"WORK_OF_ART\", \"WORK_OF_ART\", \"WORK_OF_ART\", \"WORK_OF_ART\", \"WORK_OF_ART\", \"WORK_OF_ART\", \"WORK_OF_ART\"], \"xaxis\": \"x\", \"yaxis\": \"y\"}, {\"alignmentgroup\": \"True\", \"bingroup\": \"x\", \"hoverlabel\": {\"namelength\": 0}, \"hovertemplate\": \"label=%{x}<br>count=%{y}\", \"legendgroup\": \"label=PERSON\", \"marker\": {\"color\": \"#FF6692\"}, \"name\": \"label=PERSON\", \"offsetgroup\": \"label=PERSON\", \"orientation\": \"v\", \"showlegend\": true, \"type\": \"histogram\", \"x\": [\"PERSON\", \"PERSON\", \"PERSON\", \"PERSON\", \"PERSON\", \"PERSON\", \"PERSON\", \"PERSON\", \"PERSON\", \"PERSON\", \"PERSON\", \"PERSON\", \"PERSON\", \"PERSON\", \"PERSON\", \"PERSON\", \"PERSON\", \"PERSON\", \"PERSON\", \"PERSON\", \"PERSON\", \"PERSON\", \"PERSON\", \"PERSON\", \"PERSON\", \"PERSON\", \"PERSON\", \"PERSON\", \"PERSON\", \"PERSON\", \"PERSON\", \"PERSON\", \"PERSON\", \"PERSON\", \"PERSON\", \"PERSON\", \"PERSON\", \"PERSON\", \"PERSON\", \"PERSON\", \"PERSON\", \"PERSON\", \"PERSON\", \"PERSON\", \"PERSON\", \"PERSON\", \"PERSON\", \"PERSON\", \"PERSON\", \"PERSON\", \"PERSON\", \"PERSON\", \"PERSON\", \"PERSON\", \"PERSON\", \"PERSON\", \"PERSON\", \"PERSON\", \"PERSON\", \"PERSON\", \"PERSON\", \"PERSON\", \"PERSON\", \"PERSON\", \"PERSON\", \"PERSON\", \"PERSON\", \"PERSON\", \"PERSON\", \"PERSON\", \"PERSON\", \"PERSON\", \"PERSON\", \"PERSON\", \"PERSON\", \"PERSON\", \"PERSON\", \"PERSON\", \"PERSON\", \"PERSON\", \"PERSON\", \"PERSON\", \"PERSON\", \"PERSON\", \"PERSON\", \"PERSON\", \"PERSON\", \"PERSON\", \"PERSON\", \"PERSON\", \"PERSON\", \"PERSON\", \"PERSON\", \"PERSON\", \"PERSON\", \"PERSON\", \"PERSON\", \"PERSON\", \"PERSON\", \"PERSON\", \"PERSON\", \"PERSON\", \"PERSON\", \"PERSON\", \"PERSON\", \"PERSON\", \"PERSON\", \"PERSON\", \"PERSON\", \"PERSON\", \"PERSON\", \"PERSON\", \"PERSON\", \"PERSON\", \"PERSON\", \"PERSON\", \"PERSON\", \"PERSON\", \"PERSON\", \"PERSON\", \"PERSON\", \"PERSON\", \"PERSON\", \"PERSON\", \"PERSON\", \"PERSON\", \"PERSON\", \"PERSON\", \"PERSON\", \"PERSON\", \"PERSON\", \"PERSON\", \"PERSON\", \"PERSON\", \"PERSON\", \"PERSON\", \"PERSON\", \"PERSON\", \"PERSON\", \"PERSON\", \"PERSON\", \"PERSON\", \"PERSON\", \"PERSON\", \"PERSON\", \"PERSON\", \"PERSON\", \"PERSON\", \"PERSON\", \"PERSON\", \"PERSON\", \"PERSON\", \"PERSON\", \"PERSON\", \"PERSON\", \"PERSON\", \"PERSON\", \"PERSON\", \"PERSON\", \"PERSON\", \"PERSON\", \"PERSON\", \"PERSON\", \"PERSON\", \"PERSON\", \"PERSON\", \"PERSON\", \"PERSON\", \"PERSON\", \"PERSON\", \"PERSON\", \"PERSON\", \"PERSON\", \"PERSON\", \"PERSON\", \"PERSON\", \"PERSON\", \"PERSON\", \"PERSON\", \"PERSON\", \"PERSON\", \"PERSON\", \"PERSON\", \"PERSON\", \"PERSON\", \"PERSON\", \"PERSON\", \"PERSON\", \"PERSON\", \"PERSON\", \"PERSON\", \"PERSON\", \"PERSON\", \"PERSON\", \"PERSON\", \"PERSON\", \"PERSON\", \"PERSON\", \"PERSON\", \"PERSON\", \"PERSON\", \"PERSON\", \"PERSON\", \"PERSON\", \"PERSON\", \"PERSON\", \"PERSON\", \"PERSON\", \"PERSON\", \"PERSON\", \"PERSON\", \"PERSON\", \"PERSON\", \"PERSON\", \"PERSON\", \"PERSON\", \"PERSON\", \"PERSON\", \"PERSON\", \"PERSON\", \"PERSON\", \"PERSON\", \"PERSON\", \"PERSON\", \"PERSON\", \"PERSON\", \"PERSON\", \"PERSON\", \"PERSON\", \"PERSON\", \"PERSON\", \"PERSON\", \"PERSON\", \"PERSON\", \"PERSON\", \"PERSON\", \"PERSON\", \"PERSON\", \"PERSON\", \"PERSON\", \"PERSON\", \"PERSON\", \"PERSON\", \"PERSON\", \"PERSON\", \"PERSON\", \"PERSON\", \"PERSON\", \"PERSON\", \"PERSON\", \"PERSON\", \"PERSON\", \"PERSON\", \"PERSON\", \"PERSON\", \"PERSON\", \"PERSON\", \"PERSON\", \"PERSON\", \"PERSON\", \"PERSON\", \"PERSON\", \"PERSON\", \"PERSON\", \"PERSON\", \"PERSON\", \"PERSON\", \"PERSON\", \"PERSON\", \"PERSON\", \"PERSON\", \"PERSON\", \"PERSON\", \"PERSON\", \"PERSON\", \"PERSON\", \"PERSON\", \"PERSON\", \"PERSON\", \"PERSON\", \"PERSON\", \"PERSON\", \"PERSON\", \"PERSON\", \"PERSON\", \"PERSON\", \"PERSON\", \"PERSON\", \"PERSON\", \"PERSON\", \"PERSON\", \"PERSON\", \"PERSON\", \"PERSON\", \"PERSON\", \"PERSON\", \"PERSON\", \"PERSON\", \"PERSON\", \"PERSON\", \"PERSON\", \"PERSON\", \"PERSON\", \"PERSON\", \"PERSON\", \"PERSON\", \"PERSON\", \"PERSON\", \"PERSON\", \"PERSON\", \"PERSON\", \"PERSON\", \"PERSON\", \"PERSON\", \"PERSON\", \"PERSON\", \"PERSON\", \"PERSON\", \"PERSON\", \"PERSON\", \"PERSON\", \"PERSON\", \"PERSON\", \"PERSON\", \"PERSON\", \"PERSON\", \"PERSON\", \"PERSON\", \"PERSON\", \"PERSON\", \"PERSON\", \"PERSON\", \"PERSON\", \"PERSON\", \"PERSON\", \"PERSON\", \"PERSON\", \"PERSON\", \"PERSON\", \"PERSON\", \"PERSON\", \"PERSON\", \"PERSON\", \"PERSON\", \"PERSON\", \"PERSON\", \"PERSON\", \"PERSON\", \"PERSON\", \"PERSON\", \"PERSON\", \"PERSON\", \"PERSON\", \"PERSON\", \"PERSON\", \"PERSON\", \"PERSON\", \"PERSON\", \"PERSON\", \"PERSON\", \"PERSON\", \"PERSON\", \"PERSON\", \"PERSON\", \"PERSON\", \"PERSON\", \"PERSON\", \"PERSON\", \"PERSON\", \"PERSON\", \"PERSON\", \"PERSON\", \"PERSON\", \"PERSON\", \"PERSON\", \"PERSON\", \"PERSON\", \"PERSON\", \"PERSON\", \"PERSON\", \"PERSON\", \"PERSON\", \"PERSON\", \"PERSON\", \"PERSON\", \"PERSON\", \"PERSON\", \"PERSON\", \"PERSON\", \"PERSON\", \"PERSON\", \"PERSON\", \"PERSON\", \"PERSON\", \"PERSON\", \"PERSON\", \"PERSON\", \"PERSON\", \"PERSON\", \"PERSON\", \"PERSON\", \"PERSON\", \"PERSON\", \"PERSON\", \"PERSON\", \"PERSON\", \"PERSON\", \"PERSON\", \"PERSON\", \"PERSON\", \"PERSON\", \"PERSON\", \"PERSON\", \"PERSON\", \"PERSON\", \"PERSON\", \"PERSON\", \"PERSON\", \"PERSON\", \"PERSON\", \"PERSON\", \"PERSON\", \"PERSON\", \"PERSON\", \"PERSON\", \"PERSON\", \"PERSON\", \"PERSON\", \"PERSON\", \"PERSON\", \"PERSON\", \"PERSON\", \"PERSON\", \"PERSON\", \"PERSON\", \"PERSON\", \"PERSON\", \"PERSON\", \"PERSON\", \"PERSON\", \"PERSON\", \"PERSON\", \"PERSON\", \"PERSON\", \"PERSON\", \"PERSON\", \"PERSON\", \"PERSON\", \"PERSON\", \"PERSON\", \"PERSON\", \"PERSON\", \"PERSON\", \"PERSON\", \"PERSON\", \"PERSON\", \"PERSON\", \"PERSON\", \"PERSON\", \"PERSON\", \"PERSON\", \"PERSON\", \"PERSON\", \"PERSON\", \"PERSON\", \"PERSON\", \"PERSON\", \"PERSON\", \"PERSON\", \"PERSON\", \"PERSON\", \"PERSON\", \"PERSON\", \"PERSON\", \"PERSON\", \"PERSON\", \"PERSON\", \"PERSON\", \"PERSON\", \"PERSON\", \"PERSON\", \"PERSON\", \"PERSON\", \"PERSON\", \"PERSON\", \"PERSON\", \"PERSON\", \"PERSON\", \"PERSON\", \"PERSON\", \"PERSON\", \"PERSON\", \"PERSON\", \"PERSON\", \"PERSON\", \"PERSON\", \"PERSON\", \"PERSON\", \"PERSON\", \"PERSON\", \"PERSON\", \"PERSON\", \"PERSON\", \"PERSON\", \"PERSON\", \"PERSON\", \"PERSON\", \"PERSON\", \"PERSON\", \"PERSON\", \"PERSON\", \"PERSON\", \"PERSON\", \"PERSON\", \"PERSON\", \"PERSON\", \"PERSON\", \"PERSON\", \"PERSON\", \"PERSON\", \"PERSON\", \"PERSON\", \"PERSON\", \"PERSON\", \"PERSON\", \"PERSON\", \"PERSON\", \"PERSON\", \"PERSON\", \"PERSON\", \"PERSON\", \"PERSON\", \"PERSON\", \"PERSON\", \"PERSON\", \"PERSON\", \"PERSON\", \"PERSON\", \"PERSON\", \"PERSON\", \"PERSON\", \"PERSON\", \"PERSON\", \"PERSON\", \"PERSON\", \"PERSON\", \"PERSON\", \"PERSON\", \"PERSON\", \"PERSON\", \"PERSON\", \"PERSON\", \"PERSON\", \"PERSON\", \"PERSON\", \"PERSON\", \"PERSON\", \"PERSON\", \"PERSON\", \"PERSON\", \"PERSON\", \"PERSON\", \"PERSON\", \"PERSON\", \"PERSON\", \"PERSON\", \"PERSON\", \"PERSON\", \"PERSON\", \"PERSON\", \"PERSON\", \"PERSON\", \"PERSON\", \"PERSON\", \"PERSON\", \"PERSON\", \"PERSON\", \"PERSON\", \"PERSON\", \"PERSON\", \"PERSON\", \"PERSON\", \"PERSON\", \"PERSON\", \"PERSON\", \"PERSON\", \"PERSON\", \"PERSON\", \"PERSON\", \"PERSON\", \"PERSON\", \"PERSON\", \"PERSON\", \"PERSON\", \"PERSON\", \"PERSON\", \"PERSON\", \"PERSON\", \"PERSON\", \"PERSON\", \"PERSON\", \"PERSON\", \"PERSON\", \"PERSON\", \"PERSON\", \"PERSON\", \"PERSON\", \"PERSON\", \"PERSON\", \"PERSON\", \"PERSON\", \"PERSON\", \"PERSON\", \"PERSON\", \"PERSON\", \"PERSON\", \"PERSON\", \"PERSON\", \"PERSON\", \"PERSON\", \"PERSON\", \"PERSON\", \"PERSON\", \"PERSON\", \"PERSON\", \"PERSON\", \"PERSON\", \"PERSON\", \"PERSON\", \"PERSON\", \"PERSON\", \"PERSON\", \"PERSON\", \"PERSON\", \"PERSON\", \"PERSON\", \"PERSON\", \"PERSON\", \"PERSON\", \"PERSON\", \"PERSON\", \"PERSON\", \"PERSON\", \"PERSON\", \"PERSON\", \"PERSON\", \"PERSON\", \"PERSON\", \"PERSON\", \"PERSON\", \"PERSON\", \"PERSON\", \"PERSON\", \"PERSON\", \"PERSON\", \"PERSON\", \"PERSON\", \"PERSON\", \"PERSON\", \"PERSON\", \"PERSON\", \"PERSON\", \"PERSON\", \"PERSON\", \"PERSON\", \"PERSON\", \"PERSON\", \"PERSON\", \"PERSON\", \"PERSON\", \"PERSON\", \"PERSON\", \"PERSON\", \"PERSON\", \"PERSON\", \"PERSON\", \"PERSON\", \"PERSON\", \"PERSON\", \"PERSON\", \"PERSON\", \"PERSON\", \"PERSON\", \"PERSON\", \"PERSON\", \"PERSON\", \"PERSON\", \"PERSON\", \"PERSON\", \"PERSON\", \"PERSON\", \"PERSON\", \"PERSON\", \"PERSON\", \"PERSON\", \"PERSON\", \"PERSON\", \"PERSON\", \"PERSON\", \"PERSON\", \"PERSON\", \"PERSON\", \"PERSON\", \"PERSON\", \"PERSON\", \"PERSON\", \"PERSON\", \"PERSON\", \"PERSON\", \"PERSON\", \"PERSON\", \"PERSON\", \"PERSON\", \"PERSON\", \"PERSON\", \"PERSON\", \"PERSON\", \"PERSON\", \"PERSON\", \"PERSON\", \"PERSON\", \"PERSON\", \"PERSON\", \"PERSON\", \"PERSON\", \"PERSON\", \"PERSON\", \"PERSON\", \"PERSON\", \"PERSON\", \"PERSON\", \"PERSON\", \"PERSON\", \"PERSON\", \"PERSON\", \"PERSON\", \"PERSON\", \"PERSON\", \"PERSON\", \"PERSON\", \"PERSON\", \"PERSON\", \"PERSON\", \"PERSON\", \"PERSON\", \"PERSON\", \"PERSON\", \"PERSON\", \"PERSON\", \"PERSON\", \"PERSON\", \"PERSON\", \"PERSON\", \"PERSON\", \"PERSON\", \"PERSON\", \"PERSON\", \"PERSON\", \"PERSON\", \"PERSON\", \"PERSON\", \"PERSON\", \"PERSON\", \"PERSON\", \"PERSON\", \"PERSON\", \"PERSON\", \"PERSON\", \"PERSON\", \"PERSON\", \"PERSON\", \"PERSON\", \"PERSON\", \"PERSON\", \"PERSON\", \"PERSON\", \"PERSON\", \"PERSON\", \"PERSON\", \"PERSON\", \"PERSON\", \"PERSON\", \"PERSON\", \"PERSON\", \"PERSON\", \"PERSON\", \"PERSON\", \"PERSON\", \"PERSON\", \"PERSON\", \"PERSON\", \"PERSON\", \"PERSON\", \"PERSON\", \"PERSON\", \"PERSON\", \"PERSON\", \"PERSON\", \"PERSON\", \"PERSON\", \"PERSON\", \"PERSON\", \"PERSON\", \"PERSON\", \"PERSON\", \"PERSON\", \"PERSON\", \"PERSON\", \"PERSON\", \"PERSON\", \"PERSON\", \"PERSON\", \"PERSON\", \"PERSON\", \"PERSON\", \"PERSON\", \"PERSON\", \"PERSON\", \"PERSON\", \"PERSON\", \"PERSON\", \"PERSON\", \"PERSON\", \"PERSON\", \"PERSON\", \"PERSON\", \"PERSON\", \"PERSON\", \"PERSON\", \"PERSON\", \"PERSON\", \"PERSON\", \"PERSON\", \"PERSON\", \"PERSON\", \"PERSON\", \"PERSON\", \"PERSON\", \"PERSON\", \"PERSON\", \"PERSON\", \"PERSON\", \"PERSON\", \"PERSON\", \"PERSON\", \"PERSON\", \"PERSON\", \"PERSON\", \"PERSON\", \"PERSON\", \"PERSON\", \"PERSON\", \"PERSON\", \"PERSON\", \"PERSON\", \"PERSON\", \"PERSON\", \"PERSON\", \"PERSON\", \"PERSON\", \"PERSON\", \"PERSON\", \"PERSON\", \"PERSON\", \"PERSON\", \"PERSON\", \"PERSON\", \"PERSON\", \"PERSON\", \"PERSON\", \"PERSON\", \"PERSON\", \"PERSON\", \"PERSON\", \"PERSON\", \"PERSON\", \"PERSON\", \"PERSON\", \"PERSON\", \"PERSON\", \"PERSON\", \"PERSON\", \"PERSON\", \"PERSON\", \"PERSON\", \"PERSON\", \"PERSON\", \"PERSON\", \"PERSON\", \"PERSON\", \"PERSON\", \"PERSON\", \"PERSON\", \"PERSON\", \"PERSON\", \"PERSON\", \"PERSON\", \"PERSON\", \"PERSON\", \"PERSON\", \"PERSON\", \"PERSON\", \"PERSON\", \"PERSON\", \"PERSON\", \"PERSON\", \"PERSON\", \"PERSON\", \"PERSON\", \"PERSON\", \"PERSON\", \"PERSON\", \"PERSON\", \"PERSON\", \"PERSON\", \"PERSON\", \"PERSON\", \"PERSON\", \"PERSON\", \"PERSON\", \"PERSON\", \"PERSON\", \"PERSON\", \"PERSON\", \"PERSON\", \"PERSON\", \"PERSON\", \"PERSON\", \"PERSON\", \"PERSON\", \"PERSON\", \"PERSON\", \"PERSON\", \"PERSON\", \"PERSON\", \"PERSON\", \"PERSON\", \"PERSON\", \"PERSON\", \"PERSON\", \"PERSON\", \"PERSON\", \"PERSON\", \"PERSON\", \"PERSON\", \"PERSON\", \"PERSON\", \"PERSON\", \"PERSON\", \"PERSON\", \"PERSON\", \"PERSON\", \"PERSON\", \"PERSON\", \"PERSON\", \"PERSON\", \"PERSON\", \"PERSON\", \"PERSON\", \"PERSON\", \"PERSON\", \"PERSON\", \"PERSON\", \"PERSON\", \"PERSON\", \"PERSON\", \"PERSON\", \"PERSON\", \"PERSON\", \"PERSON\", \"PERSON\", \"PERSON\", \"PERSON\", \"PERSON\", \"PERSON\", \"PERSON\", \"PERSON\", \"PERSON\", \"PERSON\", \"PERSON\", \"PERSON\", \"PERSON\", \"PERSON\", \"PERSON\", \"PERSON\", \"PERSON\", \"PERSON\", \"PERSON\", \"PERSON\", \"PERSON\", \"PERSON\", \"PERSON\", \"PERSON\", \"PERSON\", \"PERSON\", \"PERSON\", \"PERSON\", \"PERSON\", \"PERSON\", \"PERSON\", \"PERSON\", \"PERSON\", \"PERSON\", \"PERSON\", \"PERSON\", \"PERSON\", \"PERSON\", \"PERSON\", \"PERSON\", \"PERSON\", \"PERSON\", \"PERSON\", \"PERSON\", \"PERSON\", \"PERSON\", \"PERSON\", \"PERSON\", \"PERSON\", \"PERSON\", \"PERSON\", \"PERSON\", \"PERSON\", \"PERSON\", \"PERSON\", \"PERSON\", \"PERSON\", \"PERSON\", \"PERSON\", \"PERSON\", \"PERSON\", \"PERSON\", \"PERSON\", \"PERSON\", \"PERSON\", \"PERSON\", \"PERSON\", \"PERSON\", \"PERSON\", \"PERSON\", \"PERSON\", \"PERSON\", \"PERSON\", \"PERSON\", \"PERSON\", \"PERSON\", \"PERSON\", \"PERSON\", \"PERSON\", \"PERSON\", \"PERSON\", \"PERSON\", \"PERSON\", \"PERSON\", \"PERSON\", \"PERSON\", \"PERSON\", \"PERSON\", \"PERSON\", \"PERSON\", \"PERSON\", \"PERSON\", \"PERSON\", \"PERSON\", \"PERSON\", \"PERSON\", \"PERSON\", \"PERSON\", \"PERSON\", \"PERSON\", \"PERSON\", \"PERSON\", \"PERSON\", \"PERSON\", \"PERSON\", \"PERSON\", \"PERSON\", \"PERSON\", \"PERSON\", \"PERSON\", \"PERSON\", \"PERSON\", \"PERSON\", \"PERSON\", \"PERSON\", \"PERSON\", \"PERSON\", \"PERSON\", \"PERSON\", \"PERSON\", \"PERSON\", \"PERSON\", \"PERSON\", \"PERSON\", \"PERSON\", \"PERSON\", \"PERSON\", \"PERSON\", \"PERSON\", \"PERSON\", \"PERSON\", \"PERSON\", \"PERSON\", \"PERSON\", \"PERSON\", \"PERSON\", \"PERSON\", \"PERSON\", \"PERSON\", \"PERSON\", \"PERSON\", \"PERSON\", \"PERSON\", \"PERSON\", \"PERSON\", \"PERSON\", \"PERSON\", \"PERSON\", \"PERSON\", \"PERSON\", \"PERSON\", \"PERSON\", \"PERSON\", \"PERSON\", \"PERSON\", \"PERSON\", \"PERSON\", \"PERSON\", \"PERSON\", \"PERSON\", \"PERSON\", \"PERSON\", \"PERSON\", \"PERSON\", \"PERSON\", \"PERSON\", \"PERSON\", \"PERSON\", \"PERSON\", \"PERSON\", \"PERSON\", \"PERSON\", \"PERSON\", \"PERSON\", \"PERSON\", \"PERSON\", \"PERSON\", \"PERSON\", \"PERSON\", \"PERSON\", \"PERSON\", \"PERSON\", \"PERSON\", \"PERSON\", \"PERSON\", \"PERSON\", \"PERSON\", \"PERSON\", \"PERSON\", \"PERSON\", \"PERSON\", \"PERSON\", \"PERSON\", \"PERSON\", \"PERSON\", \"PERSON\", \"PERSON\", \"PERSON\", \"PERSON\", \"PERSON\", \"PERSON\", \"PERSON\", \"PERSON\", \"PERSON\", \"PERSON\", \"PERSON\", \"PERSON\", \"PERSON\", \"PERSON\", \"PERSON\", \"PERSON\", \"PERSON\", \"PERSON\", \"PERSON\", \"PERSON\", \"PERSON\", \"PERSON\", \"PERSON\", \"PERSON\", \"PERSON\", \"PERSON\", \"PERSON\", \"PERSON\", \"PERSON\", \"PERSON\", \"PERSON\", \"PERSON\", \"PERSON\", \"PERSON\", \"PERSON\", \"PERSON\", \"PERSON\", \"PERSON\", \"PERSON\", \"PERSON\", \"PERSON\", \"PERSON\", \"PERSON\", \"PERSON\", \"PERSON\", \"PERSON\", \"PERSON\", \"PERSON\", \"PERSON\", \"PERSON\", \"PERSON\", \"PERSON\", \"PERSON\", \"PERSON\", \"PERSON\", \"PERSON\", \"PERSON\", \"PERSON\", \"PERSON\", \"PERSON\", \"PERSON\", \"PERSON\", \"PERSON\", \"PERSON\", \"PERSON\", \"PERSON\", \"PERSON\", \"PERSON\", \"PERSON\", \"PERSON\", \"PERSON\", \"PERSON\", \"PERSON\", \"PERSON\", \"PERSON\", \"PERSON\", \"PERSON\", \"PERSON\", \"PERSON\", \"PERSON\", \"PERSON\", \"PERSON\", \"PERSON\", \"PERSON\", \"PERSON\", \"PERSON\", \"PERSON\", \"PERSON\", \"PERSON\", \"PERSON\", \"PERSON\", \"PERSON\", \"PERSON\", \"PERSON\", \"PERSON\", \"PERSON\", \"PERSON\", \"PERSON\", \"PERSON\", \"PERSON\", \"PERSON\", \"PERSON\", \"PERSON\", \"PERSON\", \"PERSON\", \"PERSON\", \"PERSON\", \"PERSON\", \"PERSON\", \"PERSON\", \"PERSON\", \"PERSON\", \"PERSON\", \"PERSON\", \"PERSON\", \"PERSON\", \"PERSON\", \"PERSON\", \"PERSON\", \"PERSON\", \"PERSON\", \"PERSON\", \"PERSON\", \"PERSON\", \"PERSON\", \"PERSON\", \"PERSON\", \"PERSON\", \"PERSON\", \"PERSON\", \"PERSON\", \"PERSON\", \"PERSON\", \"PERSON\", \"PERSON\", \"PERSON\", \"PERSON\", \"PERSON\", \"PERSON\", \"PERSON\", \"PERSON\", \"PERSON\", \"PERSON\", \"PERSON\", \"PERSON\", \"PERSON\", \"PERSON\", \"PERSON\", \"PERSON\", \"PERSON\", \"PERSON\", \"PERSON\", \"PERSON\", \"PERSON\", \"PERSON\", \"PERSON\", \"PERSON\", \"PERSON\", \"PERSON\", \"PERSON\", \"PERSON\", \"PERSON\", \"PERSON\", \"PERSON\", \"PERSON\", \"PERSON\", \"PERSON\", \"PERSON\", \"PERSON\", \"PERSON\", \"PERSON\", \"PERSON\", \"PERSON\", \"PERSON\", \"PERSON\", \"PERSON\", \"PERSON\", \"PERSON\", \"PERSON\", \"PERSON\", \"PERSON\", \"PERSON\", \"PERSON\", \"PERSON\", \"PERSON\", \"PERSON\", \"PERSON\", \"PERSON\", \"PERSON\", \"PERSON\", \"PERSON\", \"PERSON\", \"PERSON\", \"PERSON\", \"PERSON\", \"PERSON\", \"PERSON\", \"PERSON\", \"PERSON\", \"PERSON\", \"PERSON\", \"PERSON\", \"PERSON\", \"PERSON\", \"PERSON\", \"PERSON\", \"PERSON\", \"PERSON\", \"PERSON\", \"PERSON\", \"PERSON\", \"PERSON\", \"PERSON\", \"PERSON\", \"PERSON\", \"PERSON\", \"PERSON\", \"PERSON\", \"PERSON\", \"PERSON\", \"PERSON\", \"PERSON\", \"PERSON\", \"PERSON\", \"PERSON\", \"PERSON\", \"PERSON\", \"PERSON\", \"PERSON\", \"PERSON\", \"PERSON\", \"PERSON\", \"PERSON\", \"PERSON\", \"PERSON\", \"PERSON\", \"PERSON\", \"PERSON\", \"PERSON\", \"PERSON\", \"PERSON\", \"PERSON\", \"PERSON\", \"PERSON\", \"PERSON\", \"PERSON\", \"PERSON\", \"PERSON\", \"PERSON\", \"PERSON\", \"PERSON\", \"PERSON\", \"PERSON\", \"PERSON\", \"PERSON\", \"PERSON\", \"PERSON\", \"PERSON\", \"PERSON\", \"PERSON\", \"PERSON\", \"PERSON\", \"PERSON\", \"PERSON\", \"PERSON\", \"PERSON\", \"PERSON\", \"PERSON\", \"PERSON\", \"PERSON\", \"PERSON\", \"PERSON\", \"PERSON\", \"PERSON\", \"PERSON\", \"PERSON\", \"PERSON\", \"PERSON\", \"PERSON\", \"PERSON\", \"PERSON\", \"PERSON\", \"PERSON\", \"PERSON\", \"PERSON\", \"PERSON\", \"PERSON\", \"PERSON\", \"PERSON\", \"PERSON\", \"PERSON\", \"PERSON\", \"PERSON\", \"PERSON\", \"PERSON\", \"PERSON\", \"PERSON\", \"PERSON\", \"PERSON\", \"PERSON\", \"PERSON\", \"PERSON\", \"PERSON\", \"PERSON\", \"PERSON\", \"PERSON\", \"PERSON\", \"PERSON\", \"PERSON\", \"PERSON\", \"PERSON\", \"PERSON\", \"PERSON\", \"PERSON\", \"PERSON\", \"PERSON\", \"PERSON\", \"PERSON\", \"PERSON\", \"PERSON\", \"PERSON\", \"PERSON\", \"PERSON\", \"PERSON\", \"PERSON\", \"PERSON\", \"PERSON\", \"PERSON\", \"PERSON\", \"PERSON\", \"PERSON\", \"PERSON\", \"PERSON\", \"PERSON\", \"PERSON\", \"PERSON\", \"PERSON\", \"PERSON\", \"PERSON\", \"PERSON\", \"PERSON\", \"PERSON\", \"PERSON\", \"PERSON\", \"PERSON\", \"PERSON\", \"PERSON\", \"PERSON\", \"PERSON\", \"PERSON\", \"PERSON\", \"PERSON\", \"PERSON\", \"PERSON\", \"PERSON\", \"PERSON\", \"PERSON\", \"PERSON\", \"PERSON\", \"PERSON\", \"PERSON\", \"PERSON\", \"PERSON\", \"PERSON\", \"PERSON\", \"PERSON\", \"PERSON\", \"PERSON\", \"PERSON\", \"PERSON\", \"PERSON\", \"PERSON\", \"PERSON\", \"PERSON\", \"PERSON\", \"PERSON\", \"PERSON\", \"PERSON\", \"PERSON\", \"PERSON\", \"PERSON\", \"PERSON\", \"PERSON\", \"PERSON\", \"PERSON\", \"PERSON\", \"PERSON\", \"PERSON\", \"PERSON\", \"PERSON\", \"PERSON\", \"PERSON\", \"PERSON\", \"PERSON\", \"PERSON\", \"PERSON\", \"PERSON\", \"PERSON\", \"PERSON\", \"PERSON\", \"PERSON\", \"PERSON\", \"PERSON\", \"PERSON\", \"PERSON\", \"PERSON\", \"PERSON\", \"PERSON\", \"PERSON\", \"PERSON\", \"PERSON\", \"PERSON\", \"PERSON\", \"PERSON\", \"PERSON\", \"PERSON\", \"PERSON\", \"PERSON\", \"PERSON\", \"PERSON\", \"PERSON\", \"PERSON\", \"PERSON\", \"PERSON\", \"PERSON\", \"PERSON\", \"PERSON\", \"PERSON\", \"PERSON\", \"PERSON\", \"PERSON\", \"PERSON\", \"PERSON\", \"PERSON\", \"PERSON\", \"PERSON\", \"PERSON\", \"PERSON\", \"PERSON\", \"PERSON\", \"PERSON\", \"PERSON\", \"PERSON\", \"PERSON\", \"PERSON\", \"PERSON\", \"PERSON\", \"PERSON\", \"PERSON\", \"PERSON\", \"PERSON\", \"PERSON\", \"PERSON\", \"PERSON\", \"PERSON\", \"PERSON\", \"PERSON\", \"PERSON\", \"PERSON\", \"PERSON\", \"PERSON\", \"PERSON\", \"PERSON\", \"PERSON\", \"PERSON\", \"PERSON\", \"PERSON\", \"PERSON\", \"PERSON\", \"PERSON\", \"PERSON\", \"PERSON\", \"PERSON\", \"PERSON\", \"PERSON\", \"PERSON\", \"PERSON\", \"PERSON\", \"PERSON\", \"PERSON\", \"PERSON\", \"PERSON\", \"PERSON\", \"PERSON\", \"PERSON\", \"PERSON\", \"PERSON\", \"PERSON\", \"PERSON\", \"PERSON\", \"PERSON\", \"PERSON\", \"PERSON\", \"PERSON\", \"PERSON\", \"PERSON\", \"PERSON\", \"PERSON\", \"PERSON\", \"PERSON\", \"PERSON\", \"PERSON\", \"PERSON\", \"PERSON\", \"PERSON\", \"PERSON\", \"PERSON\", \"PERSON\", \"PERSON\", \"PERSON\", \"PERSON\", \"PERSON\", \"PERSON\", \"PERSON\", \"PERSON\", \"PERSON\", \"PERSON\", \"PERSON\", \"PERSON\", \"PERSON\", \"PERSON\", \"PERSON\", \"PERSON\", \"PERSON\", \"PERSON\", \"PERSON\", \"PERSON\", \"PERSON\", \"PERSON\", \"PERSON\", \"PERSON\", \"PERSON\", \"PERSON\", \"PERSON\", \"PERSON\", \"PERSON\", \"PERSON\", \"PERSON\", \"PERSON\", \"PERSON\", \"PERSON\", \"PERSON\", \"PERSON\", \"PERSON\", \"PERSON\", \"PERSON\", \"PERSON\", \"PERSON\", \"PERSON\", \"PERSON\", \"PERSON\", \"PERSON\", \"PERSON\", \"PERSON\", \"PERSON\", \"PERSON\", \"PERSON\", \"PERSON\", \"PERSON\", \"PERSON\", \"PERSON\", \"PERSON\", \"PERSON\", \"PERSON\", \"PERSON\", \"PERSON\", \"PERSON\", \"PERSON\", \"PERSON\", \"PERSON\", \"PERSON\", \"PERSON\", \"PERSON\", \"PERSON\", \"PERSON\", \"PERSON\", \"PERSON\", \"PERSON\", \"PERSON\", \"PERSON\", \"PERSON\", \"PERSON\", \"PERSON\", \"PERSON\", \"PERSON\", \"PERSON\", \"PERSON\", \"PERSON\", \"PERSON\", \"PERSON\", \"PERSON\", \"PERSON\", \"PERSON\", \"PERSON\", \"PERSON\", \"PERSON\", \"PERSON\", \"PERSON\", \"PERSON\", \"PERSON\", \"PERSON\", \"PERSON\", \"PERSON\", \"PERSON\", \"PERSON\", \"PERSON\", \"PERSON\", \"PERSON\", \"PERSON\", \"PERSON\", \"PERSON\", \"PERSON\", \"PERSON\", \"PERSON\", \"PERSON\", \"PERSON\", \"PERSON\", \"PERSON\", \"PERSON\", \"PERSON\", \"PERSON\", \"PERSON\", \"PERSON\", \"PERSON\", \"PERSON\", \"PERSON\", \"PERSON\", \"PERSON\", \"PERSON\", \"PERSON\", \"PERSON\", \"PERSON\", \"PERSON\", \"PERSON\", \"PERSON\", \"PERSON\", \"PERSON\", \"PERSON\", \"PERSON\", \"PERSON\", \"PERSON\", \"PERSON\", \"PERSON\", \"PERSON\", \"PERSON\", \"PERSON\", \"PERSON\", \"PERSON\", \"PERSON\", \"PERSON\", \"PERSON\", \"PERSON\", \"PERSON\", \"PERSON\", \"PERSON\", \"PERSON\", \"PERSON\", \"PERSON\", \"PERSON\", \"PERSON\", \"PERSON\", \"PERSON\", \"PERSON\", \"PERSON\", \"PERSON\", \"PERSON\", \"PERSON\", \"PERSON\", \"PERSON\", \"PERSON\", \"PERSON\", \"PERSON\", \"PERSON\", \"PERSON\", \"PERSON\", \"PERSON\", \"PERSON\", \"PERSON\", \"PERSON\", \"PERSON\", \"PERSON\", \"PERSON\", \"PERSON\", \"PERSON\", \"PERSON\", \"PERSON\", \"PERSON\", \"PERSON\", \"PERSON\", \"PERSON\", \"PERSON\", \"PERSON\", \"PERSON\", \"PERSON\", \"PERSON\", \"PERSON\", \"PERSON\", \"PERSON\", \"PERSON\", \"PERSON\", \"PERSON\", \"PERSON\", \"PERSON\", \"PERSON\", \"PERSON\", \"PERSON\", \"PERSON\", \"PERSON\", \"PERSON\", \"PERSON\", \"PERSON\", \"PERSON\", \"PERSON\", \"PERSON\", \"PERSON\", \"PERSON\", \"PERSON\", \"PERSON\", \"PERSON\", \"PERSON\", \"PERSON\", \"PERSON\", \"PERSON\", \"PERSON\", \"PERSON\", \"PERSON\", \"PERSON\", \"PERSON\", \"PERSON\", \"PERSON\", \"PERSON\", \"PERSON\", \"PERSON\", \"PERSON\", \"PERSON\", \"PERSON\", \"PERSON\", \"PERSON\", \"PERSON\", \"PERSON\", \"PERSON\", \"PERSON\", \"PERSON\", \"PERSON\", \"PERSON\", \"PERSON\", \"PERSON\", \"PERSON\", \"PERSON\", \"PERSON\", \"PERSON\", \"PERSON\", \"PERSON\", \"PERSON\", \"PERSON\", \"PERSON\", \"PERSON\", \"PERSON\", \"PERSON\", \"PERSON\", \"PERSON\", \"PERSON\", \"PERSON\", \"PERSON\", \"PERSON\", \"PERSON\", \"PERSON\", \"PERSON\", \"PERSON\", \"PERSON\", \"PERSON\", \"PERSON\", \"PERSON\", \"PERSON\", \"PERSON\", \"PERSON\", \"PERSON\", \"PERSON\", \"PERSON\", \"PERSON\", \"PERSON\", \"PERSON\", \"PERSON\", \"PERSON\", \"PERSON\", \"PERSON\", \"PERSON\", \"PERSON\", \"PERSON\", \"PERSON\", \"PERSON\", \"PERSON\", \"PERSON\", \"PERSON\", \"PERSON\", \"PERSON\", \"PERSON\", \"PERSON\", \"PERSON\", \"PERSON\", \"PERSON\", \"PERSON\", \"PERSON\", \"PERSON\", \"PERSON\", \"PERSON\", \"PERSON\", \"PERSON\", \"PERSON\", \"PERSON\", \"PERSON\", \"PERSON\", \"PERSON\", \"PERSON\", \"PERSON\", \"PERSON\", \"PERSON\", \"PERSON\", \"PERSON\", \"PERSON\", \"PERSON\", \"PERSON\", \"PERSON\", \"PERSON\", \"PERSON\", \"PERSON\", \"PERSON\", \"PERSON\", \"PERSON\", \"PERSON\", \"PERSON\", \"PERSON\", \"PERSON\", \"PERSON\"], \"xaxis\": \"x\", \"yaxis\": \"y\"}, {\"alignmentgroup\": \"True\", \"bingroup\": \"x\", \"hoverlabel\": {\"namelength\": 0}, \"hovertemplate\": \"label=%{x}<br>count=%{y}\", \"legendgroup\": \"label=CARDINAL\", \"marker\": {\"color\": \"#B6E880\"}, \"name\": \"label=CARDINAL\", \"offsetgroup\": \"label=CARDINAL\", \"orientation\": \"v\", \"showlegend\": true, \"type\": \"histogram\", \"x\": [\"CARDINAL\", \"CARDINAL\", \"CARDINAL\", \"CARDINAL\", \"CARDINAL\", \"CARDINAL\", \"CARDINAL\", \"CARDINAL\", \"CARDINAL\", \"CARDINAL\", \"CARDINAL\", \"CARDINAL\", \"CARDINAL\", \"CARDINAL\", \"CARDINAL\", \"CARDINAL\", \"CARDINAL\", \"CARDINAL\", \"CARDINAL\", \"CARDINAL\", \"CARDINAL\", \"CARDINAL\", \"CARDINAL\", \"CARDINAL\", \"CARDINAL\", \"CARDINAL\", \"CARDINAL\", \"CARDINAL\", \"CARDINAL\", \"CARDINAL\", \"CARDINAL\", \"CARDINAL\", \"CARDINAL\", \"CARDINAL\", \"CARDINAL\", \"CARDINAL\", \"CARDINAL\", \"CARDINAL\", \"CARDINAL\", \"CARDINAL\", \"CARDINAL\", \"CARDINAL\", \"CARDINAL\", \"CARDINAL\", \"CARDINAL\", \"CARDINAL\", \"CARDINAL\", \"CARDINAL\", \"CARDINAL\", \"CARDINAL\", \"CARDINAL\", \"CARDINAL\", \"CARDINAL\", \"CARDINAL\", \"CARDINAL\", \"CARDINAL\", \"CARDINAL\", \"CARDINAL\", \"CARDINAL\", \"CARDINAL\", \"CARDINAL\", \"CARDINAL\", \"CARDINAL\", \"CARDINAL\", \"CARDINAL\", \"CARDINAL\", \"CARDINAL\", \"CARDINAL\", \"CARDINAL\", \"CARDINAL\", \"CARDINAL\", \"CARDINAL\", \"CARDINAL\", \"CARDINAL\", \"CARDINAL\", \"CARDINAL\", \"CARDINAL\", \"CARDINAL\", \"CARDINAL\", \"CARDINAL\", \"CARDINAL\", \"CARDINAL\", \"CARDINAL\", \"CARDINAL\", \"CARDINAL\", \"CARDINAL\", \"CARDINAL\", \"CARDINAL\", \"CARDINAL\", \"CARDINAL\", \"CARDINAL\", \"CARDINAL\", \"CARDINAL\", \"CARDINAL\", \"CARDINAL\", \"CARDINAL\", \"CARDINAL\", \"CARDINAL\", \"CARDINAL\", \"CARDINAL\", \"CARDINAL\", \"CARDINAL\", \"CARDINAL\", \"CARDINAL\", \"CARDINAL\", \"CARDINAL\", \"CARDINAL\", \"CARDINAL\", \"CARDINAL\", \"CARDINAL\", \"CARDINAL\", \"CARDINAL\", \"CARDINAL\", \"CARDINAL\", \"CARDINAL\", \"CARDINAL\", \"CARDINAL\", \"CARDINAL\", \"CARDINAL\", \"CARDINAL\", \"CARDINAL\", \"CARDINAL\", \"CARDINAL\", \"CARDINAL\", \"CARDINAL\", \"CARDINAL\", \"CARDINAL\", \"CARDINAL\", \"CARDINAL\", \"CARDINAL\", \"CARDINAL\", \"CARDINAL\", \"CARDINAL\", \"CARDINAL\", \"CARDINAL\", \"CARDINAL\", \"CARDINAL\", \"CARDINAL\", \"CARDINAL\", \"CARDINAL\", \"CARDINAL\", \"CARDINAL\", \"CARDINAL\", \"CARDINAL\", \"CARDINAL\", \"CARDINAL\", \"CARDINAL\", \"CARDINAL\", \"CARDINAL\", \"CARDINAL\", \"CARDINAL\", \"CARDINAL\", \"CARDINAL\", \"CARDINAL\", \"CARDINAL\", \"CARDINAL\", \"CARDINAL\", \"CARDINAL\", \"CARDINAL\", \"CARDINAL\", \"CARDINAL\", \"CARDINAL\", \"CARDINAL\", \"CARDINAL\", \"CARDINAL\", \"CARDINAL\", \"CARDINAL\", \"CARDINAL\", \"CARDINAL\", \"CARDINAL\", \"CARDINAL\", \"CARDINAL\", \"CARDINAL\", \"CARDINAL\", \"CARDINAL\", \"CARDINAL\", \"CARDINAL\", \"CARDINAL\", \"CARDINAL\", \"CARDINAL\", \"CARDINAL\", \"CARDINAL\", \"CARDINAL\", \"CARDINAL\", \"CARDINAL\", \"CARDINAL\", \"CARDINAL\", \"CARDINAL\", \"CARDINAL\", \"CARDINAL\", \"CARDINAL\", \"CARDINAL\", \"CARDINAL\", \"CARDINAL\", \"CARDINAL\", \"CARDINAL\", \"CARDINAL\", \"CARDINAL\", \"CARDINAL\", \"CARDINAL\", \"CARDINAL\", \"CARDINAL\", \"CARDINAL\", \"CARDINAL\", \"CARDINAL\", \"CARDINAL\", \"CARDINAL\", \"CARDINAL\", \"CARDINAL\", \"CARDINAL\", \"CARDINAL\", \"CARDINAL\", \"CARDINAL\", \"CARDINAL\", \"CARDINAL\", \"CARDINAL\", \"CARDINAL\", \"CARDINAL\", \"CARDINAL\", \"CARDINAL\", \"CARDINAL\", \"CARDINAL\", \"CARDINAL\", \"CARDINAL\", \"CARDINAL\", \"CARDINAL\", \"CARDINAL\", \"CARDINAL\", \"CARDINAL\", \"CARDINAL\", \"CARDINAL\", \"CARDINAL\", \"CARDINAL\", \"CARDINAL\", \"CARDINAL\", \"CARDINAL\", \"CARDINAL\", \"CARDINAL\", \"CARDINAL\", \"CARDINAL\", \"CARDINAL\", \"CARDINAL\", \"CARDINAL\", \"CARDINAL\", \"CARDINAL\", \"CARDINAL\", \"CARDINAL\", \"CARDINAL\", \"CARDINAL\", \"CARDINAL\", \"CARDINAL\", \"CARDINAL\", \"CARDINAL\", \"CARDINAL\", \"CARDINAL\", \"CARDINAL\", \"CARDINAL\", \"CARDINAL\", \"CARDINAL\", \"CARDINAL\", \"CARDINAL\", \"CARDINAL\", \"CARDINAL\", \"CARDINAL\", \"CARDINAL\", \"CARDINAL\", \"CARDINAL\", \"CARDINAL\", \"CARDINAL\", \"CARDINAL\", \"CARDINAL\", \"CARDINAL\", \"CARDINAL\", \"CARDINAL\", \"CARDINAL\", \"CARDINAL\", \"CARDINAL\", \"CARDINAL\", \"CARDINAL\", \"CARDINAL\", \"CARDINAL\", \"CARDINAL\", \"CARDINAL\", \"CARDINAL\", \"CARDINAL\", \"CARDINAL\", \"CARDINAL\", \"CARDINAL\", \"CARDINAL\", \"CARDINAL\", \"CARDINAL\", \"CARDINAL\", \"CARDINAL\", \"CARDINAL\", \"CARDINAL\", \"CARDINAL\", \"CARDINAL\", \"CARDINAL\", \"CARDINAL\", \"CARDINAL\", \"CARDINAL\", \"CARDINAL\", \"CARDINAL\", \"CARDINAL\", \"CARDINAL\", \"CARDINAL\", \"CARDINAL\", \"CARDINAL\", \"CARDINAL\", \"CARDINAL\", \"CARDINAL\", \"CARDINAL\", \"CARDINAL\", \"CARDINAL\", \"CARDINAL\", \"CARDINAL\", \"CARDINAL\", \"CARDINAL\", \"CARDINAL\", \"CARDINAL\", \"CARDINAL\", \"CARDINAL\", \"CARDINAL\", \"CARDINAL\", \"CARDINAL\", \"CARDINAL\", \"CARDINAL\", \"CARDINAL\", \"CARDINAL\", \"CARDINAL\", \"CARDINAL\", \"CARDINAL\", \"CARDINAL\", \"CARDINAL\", \"CARDINAL\", \"CARDINAL\", \"CARDINAL\", \"CARDINAL\", \"CARDINAL\", \"CARDINAL\", \"CARDINAL\", \"CARDINAL\", \"CARDINAL\", \"CARDINAL\", \"CARDINAL\", \"CARDINAL\", \"CARDINAL\", \"CARDINAL\", \"CARDINAL\", \"CARDINAL\", \"CARDINAL\", \"CARDINAL\", \"CARDINAL\", \"CARDINAL\", \"CARDINAL\", \"CARDINAL\", \"CARDINAL\", \"CARDINAL\", \"CARDINAL\", \"CARDINAL\", \"CARDINAL\", \"CARDINAL\", \"CARDINAL\", \"CARDINAL\", \"CARDINAL\", \"CARDINAL\", \"CARDINAL\", \"CARDINAL\", \"CARDINAL\", \"CARDINAL\", \"CARDINAL\", \"CARDINAL\", \"CARDINAL\", \"CARDINAL\", \"CARDINAL\", \"CARDINAL\", \"CARDINAL\", \"CARDINAL\", \"CARDINAL\", \"CARDINAL\", \"CARDINAL\", \"CARDINAL\", \"CARDINAL\", \"CARDINAL\", \"CARDINAL\", \"CARDINAL\", \"CARDINAL\", \"CARDINAL\", \"CARDINAL\", \"CARDINAL\", \"CARDINAL\", \"CARDINAL\", \"CARDINAL\", \"CARDINAL\", \"CARDINAL\", \"CARDINAL\", \"CARDINAL\", \"CARDINAL\", \"CARDINAL\", \"CARDINAL\", \"CARDINAL\", \"CARDINAL\", \"CARDINAL\", \"CARDINAL\", \"CARDINAL\", \"CARDINAL\", \"CARDINAL\", \"CARDINAL\", \"CARDINAL\", \"CARDINAL\", \"CARDINAL\", \"CARDINAL\", \"CARDINAL\", \"CARDINAL\", \"CARDINAL\", \"CARDINAL\", \"CARDINAL\", \"CARDINAL\", \"CARDINAL\", \"CARDINAL\", \"CARDINAL\", \"CARDINAL\", \"CARDINAL\", \"CARDINAL\", \"CARDINAL\", \"CARDINAL\", \"CARDINAL\", \"CARDINAL\", \"CARDINAL\", \"CARDINAL\", \"CARDINAL\", \"CARDINAL\", \"CARDINAL\", \"CARDINAL\", \"CARDINAL\", \"CARDINAL\", \"CARDINAL\", \"CARDINAL\", \"CARDINAL\", \"CARDINAL\", \"CARDINAL\", \"CARDINAL\", \"CARDINAL\", \"CARDINAL\", \"CARDINAL\", \"CARDINAL\", \"CARDINAL\", \"CARDINAL\", \"CARDINAL\", \"CARDINAL\", \"CARDINAL\", \"CARDINAL\", \"CARDINAL\", \"CARDINAL\", \"CARDINAL\", \"CARDINAL\", \"CARDINAL\", \"CARDINAL\", \"CARDINAL\", \"CARDINAL\", \"CARDINAL\", \"CARDINAL\", \"CARDINAL\", \"CARDINAL\", \"CARDINAL\", \"CARDINAL\", \"CARDINAL\", \"CARDINAL\", \"CARDINAL\", \"CARDINAL\", \"CARDINAL\", \"CARDINAL\", \"CARDINAL\", \"CARDINAL\", \"CARDINAL\", \"CARDINAL\", \"CARDINAL\", \"CARDINAL\", \"CARDINAL\", \"CARDINAL\", \"CARDINAL\", \"CARDINAL\", \"CARDINAL\", \"CARDINAL\", \"CARDINAL\", \"CARDINAL\", \"CARDINAL\", \"CARDINAL\", \"CARDINAL\", \"CARDINAL\", \"CARDINAL\", \"CARDINAL\", \"CARDINAL\", \"CARDINAL\", \"CARDINAL\", \"CARDINAL\", \"CARDINAL\", \"CARDINAL\", \"CARDINAL\", \"CARDINAL\", \"CARDINAL\", \"CARDINAL\", \"CARDINAL\", \"CARDINAL\", \"CARDINAL\", \"CARDINAL\", \"CARDINAL\", \"CARDINAL\", \"CARDINAL\", \"CARDINAL\", \"CARDINAL\", \"CARDINAL\", \"CARDINAL\", \"CARDINAL\", \"CARDINAL\", \"CARDINAL\", \"CARDINAL\", \"CARDINAL\", \"CARDINAL\", \"CARDINAL\", \"CARDINAL\", \"CARDINAL\", \"CARDINAL\", \"CARDINAL\", \"CARDINAL\", \"CARDINAL\", \"CARDINAL\", \"CARDINAL\", \"CARDINAL\", \"CARDINAL\", \"CARDINAL\", \"CARDINAL\", \"CARDINAL\", \"CARDINAL\", \"CARDINAL\", \"CARDINAL\", \"CARDINAL\", \"CARDINAL\", \"CARDINAL\", \"CARDINAL\", \"CARDINAL\", \"CARDINAL\", \"CARDINAL\", \"CARDINAL\", \"CARDINAL\", \"CARDINAL\", \"CARDINAL\", \"CARDINAL\", \"CARDINAL\", \"CARDINAL\", \"CARDINAL\", \"CARDINAL\", \"CARDINAL\", \"CARDINAL\", \"CARDINAL\", \"CARDINAL\", \"CARDINAL\", \"CARDINAL\", \"CARDINAL\", \"CARDINAL\", \"CARDINAL\", \"CARDINAL\", \"CARDINAL\", \"CARDINAL\", \"CARDINAL\", \"CARDINAL\", \"CARDINAL\", \"CARDINAL\", \"CARDINAL\", \"CARDINAL\", \"CARDINAL\", \"CARDINAL\", \"CARDINAL\", \"CARDINAL\", \"CARDINAL\", \"CARDINAL\", \"CARDINAL\", \"CARDINAL\", \"CARDINAL\", \"CARDINAL\", \"CARDINAL\", \"CARDINAL\", \"CARDINAL\", \"CARDINAL\", \"CARDINAL\", \"CARDINAL\", \"CARDINAL\", \"CARDINAL\", \"CARDINAL\", \"CARDINAL\", \"CARDINAL\", \"CARDINAL\", \"CARDINAL\", \"CARDINAL\", \"CARDINAL\", \"CARDINAL\", \"CARDINAL\", \"CARDINAL\", \"CARDINAL\", \"CARDINAL\", \"CARDINAL\", \"CARDINAL\", \"CARDINAL\", \"CARDINAL\", \"CARDINAL\", \"CARDINAL\", \"CARDINAL\", \"CARDINAL\", \"CARDINAL\", \"CARDINAL\", \"CARDINAL\", \"CARDINAL\", \"CARDINAL\", \"CARDINAL\", \"CARDINAL\", \"CARDINAL\", \"CARDINAL\", \"CARDINAL\", \"CARDINAL\", \"CARDINAL\", \"CARDINAL\", \"CARDINAL\", \"CARDINAL\", \"CARDINAL\", \"CARDINAL\", \"CARDINAL\", \"CARDINAL\", \"CARDINAL\", \"CARDINAL\", \"CARDINAL\", \"CARDINAL\", \"CARDINAL\", \"CARDINAL\", \"CARDINAL\", \"CARDINAL\", \"CARDINAL\", \"CARDINAL\", \"CARDINAL\", \"CARDINAL\", \"CARDINAL\", \"CARDINAL\", \"CARDINAL\", \"CARDINAL\", \"CARDINAL\", \"CARDINAL\", \"CARDINAL\", \"CARDINAL\", \"CARDINAL\", \"CARDINAL\", \"CARDINAL\", \"CARDINAL\", \"CARDINAL\", \"CARDINAL\", \"CARDINAL\", \"CARDINAL\", \"CARDINAL\", \"CARDINAL\", \"CARDINAL\", \"CARDINAL\", \"CARDINAL\", \"CARDINAL\", \"CARDINAL\", \"CARDINAL\", \"CARDINAL\", \"CARDINAL\", \"CARDINAL\", \"CARDINAL\", \"CARDINAL\", \"CARDINAL\", \"CARDINAL\", \"CARDINAL\", \"CARDINAL\", \"CARDINAL\", \"CARDINAL\", \"CARDINAL\", \"CARDINAL\", \"CARDINAL\", \"CARDINAL\", \"CARDINAL\", \"CARDINAL\", \"CARDINAL\", \"CARDINAL\", \"CARDINAL\", \"CARDINAL\", \"CARDINAL\", \"CARDINAL\", \"CARDINAL\", \"CARDINAL\", \"CARDINAL\", \"CARDINAL\", \"CARDINAL\", \"CARDINAL\", \"CARDINAL\", \"CARDINAL\", \"CARDINAL\", \"CARDINAL\", \"CARDINAL\", \"CARDINAL\", \"CARDINAL\", \"CARDINAL\", \"CARDINAL\", \"CARDINAL\", \"CARDINAL\", \"CARDINAL\", \"CARDINAL\", \"CARDINAL\", \"CARDINAL\", \"CARDINAL\", \"CARDINAL\", \"CARDINAL\", \"CARDINAL\", \"CARDINAL\", \"CARDINAL\", \"CARDINAL\", \"CARDINAL\", \"CARDINAL\", \"CARDINAL\", \"CARDINAL\", \"CARDINAL\", \"CARDINAL\", \"CARDINAL\", \"CARDINAL\", \"CARDINAL\", \"CARDINAL\", \"CARDINAL\", \"CARDINAL\", \"CARDINAL\", \"CARDINAL\", \"CARDINAL\", \"CARDINAL\", \"CARDINAL\", \"CARDINAL\", \"CARDINAL\", \"CARDINAL\", \"CARDINAL\", \"CARDINAL\", \"CARDINAL\", \"CARDINAL\", \"CARDINAL\", \"CARDINAL\", \"CARDINAL\", \"CARDINAL\", \"CARDINAL\", \"CARDINAL\", \"CARDINAL\", \"CARDINAL\", \"CARDINAL\", \"CARDINAL\", \"CARDINAL\", \"CARDINAL\", \"CARDINAL\", \"CARDINAL\", \"CARDINAL\", \"CARDINAL\", \"CARDINAL\", \"CARDINAL\", \"CARDINAL\", \"CARDINAL\", \"CARDINAL\", \"CARDINAL\", \"CARDINAL\", \"CARDINAL\", \"CARDINAL\", \"CARDINAL\", \"CARDINAL\", \"CARDINAL\", \"CARDINAL\", \"CARDINAL\", \"CARDINAL\", \"CARDINAL\", \"CARDINAL\", \"CARDINAL\", \"CARDINAL\", \"CARDINAL\", \"CARDINAL\", \"CARDINAL\", \"CARDINAL\", \"CARDINAL\", \"CARDINAL\", \"CARDINAL\", \"CARDINAL\", \"CARDINAL\", \"CARDINAL\", \"CARDINAL\", \"CARDINAL\", \"CARDINAL\", \"CARDINAL\", \"CARDINAL\", \"CARDINAL\", \"CARDINAL\", \"CARDINAL\", \"CARDINAL\", \"CARDINAL\", \"CARDINAL\", \"CARDINAL\", \"CARDINAL\", \"CARDINAL\", \"CARDINAL\", \"CARDINAL\", \"CARDINAL\", \"CARDINAL\", \"CARDINAL\", \"CARDINAL\", \"CARDINAL\", \"CARDINAL\", \"CARDINAL\", \"CARDINAL\", \"CARDINAL\", \"CARDINAL\", \"CARDINAL\", \"CARDINAL\", \"CARDINAL\", \"CARDINAL\", \"CARDINAL\", \"CARDINAL\", \"CARDINAL\", \"CARDINAL\", \"CARDINAL\", \"CARDINAL\", \"CARDINAL\", \"CARDINAL\", \"CARDINAL\", \"CARDINAL\", \"CARDINAL\", \"CARDINAL\", \"CARDINAL\", \"CARDINAL\", \"CARDINAL\", \"CARDINAL\", \"CARDINAL\", \"CARDINAL\", \"CARDINAL\", \"CARDINAL\", \"CARDINAL\", \"CARDINAL\", \"CARDINAL\", \"CARDINAL\", \"CARDINAL\", \"CARDINAL\", \"CARDINAL\", \"CARDINAL\", \"CARDINAL\", \"CARDINAL\", \"CARDINAL\", \"CARDINAL\", \"CARDINAL\", \"CARDINAL\", \"CARDINAL\", \"CARDINAL\", \"CARDINAL\", \"CARDINAL\", \"CARDINAL\", \"CARDINAL\", \"CARDINAL\", \"CARDINAL\", \"CARDINAL\", \"CARDINAL\", \"CARDINAL\", \"CARDINAL\", \"CARDINAL\", \"CARDINAL\", \"CARDINAL\", \"CARDINAL\", \"CARDINAL\", \"CARDINAL\", \"CARDINAL\", \"CARDINAL\", \"CARDINAL\", \"CARDINAL\", \"CARDINAL\", \"CARDINAL\", \"CARDINAL\", \"CARDINAL\", \"CARDINAL\", \"CARDINAL\", \"CARDINAL\", \"CARDINAL\", \"CARDINAL\", \"CARDINAL\", \"CARDINAL\", \"CARDINAL\", \"CARDINAL\", \"CARDINAL\", \"CARDINAL\", \"CARDINAL\", \"CARDINAL\", \"CARDINAL\", \"CARDINAL\", \"CARDINAL\", \"CARDINAL\", \"CARDINAL\", \"CARDINAL\", \"CARDINAL\", \"CARDINAL\", \"CARDINAL\", \"CARDINAL\", \"CARDINAL\", \"CARDINAL\", \"CARDINAL\", \"CARDINAL\", \"CARDINAL\", \"CARDINAL\", \"CARDINAL\", \"CARDINAL\", \"CARDINAL\", \"CARDINAL\", \"CARDINAL\", \"CARDINAL\", \"CARDINAL\", \"CARDINAL\", \"CARDINAL\", \"CARDINAL\", \"CARDINAL\", \"CARDINAL\", \"CARDINAL\", \"CARDINAL\", \"CARDINAL\", \"CARDINAL\", \"CARDINAL\", \"CARDINAL\", \"CARDINAL\", \"CARDINAL\", \"CARDINAL\", \"CARDINAL\", \"CARDINAL\", \"CARDINAL\", \"CARDINAL\", \"CARDINAL\", \"CARDINAL\", \"CARDINAL\", \"CARDINAL\", \"CARDINAL\", \"CARDINAL\", \"CARDINAL\", \"CARDINAL\", \"CARDINAL\", \"CARDINAL\", \"CARDINAL\", \"CARDINAL\", \"CARDINAL\", \"CARDINAL\", \"CARDINAL\", \"CARDINAL\", \"CARDINAL\", \"CARDINAL\", \"CARDINAL\", \"CARDINAL\", \"CARDINAL\", \"CARDINAL\", \"CARDINAL\", \"CARDINAL\", \"CARDINAL\", \"CARDINAL\", \"CARDINAL\", \"CARDINAL\", \"CARDINAL\", \"CARDINAL\", \"CARDINAL\", \"CARDINAL\", \"CARDINAL\", \"CARDINAL\", \"CARDINAL\", \"CARDINAL\", \"CARDINAL\", \"CARDINAL\", \"CARDINAL\", \"CARDINAL\", \"CARDINAL\", \"CARDINAL\", \"CARDINAL\", \"CARDINAL\", \"CARDINAL\", \"CARDINAL\", \"CARDINAL\", \"CARDINAL\", \"CARDINAL\", \"CARDINAL\", \"CARDINAL\", \"CARDINAL\", \"CARDINAL\", \"CARDINAL\", \"CARDINAL\", \"CARDINAL\", \"CARDINAL\", \"CARDINAL\", \"CARDINAL\", \"CARDINAL\", \"CARDINAL\", \"CARDINAL\", \"CARDINAL\", \"CARDINAL\", \"CARDINAL\", \"CARDINAL\", \"CARDINAL\", \"CARDINAL\", \"CARDINAL\", \"CARDINAL\", \"CARDINAL\", \"CARDINAL\", \"CARDINAL\", \"CARDINAL\", \"CARDINAL\", \"CARDINAL\", \"CARDINAL\", \"CARDINAL\", \"CARDINAL\", \"CARDINAL\", \"CARDINAL\", \"CARDINAL\", \"CARDINAL\", \"CARDINAL\", \"CARDINAL\", \"CARDINAL\", \"CARDINAL\", \"CARDINAL\", \"CARDINAL\", \"CARDINAL\", \"CARDINAL\", \"CARDINAL\", \"CARDINAL\", \"CARDINAL\", \"CARDINAL\", \"CARDINAL\", \"CARDINAL\", \"CARDINAL\", \"CARDINAL\", \"CARDINAL\", \"CARDINAL\", \"CARDINAL\", \"CARDINAL\", \"CARDINAL\", \"CARDINAL\", \"CARDINAL\", \"CARDINAL\", \"CARDINAL\", \"CARDINAL\", \"CARDINAL\", \"CARDINAL\", \"CARDINAL\", \"CARDINAL\", \"CARDINAL\", \"CARDINAL\", \"CARDINAL\", \"CARDINAL\", \"CARDINAL\", \"CARDINAL\", \"CARDINAL\", \"CARDINAL\", \"CARDINAL\", \"CARDINAL\", \"CARDINAL\", \"CARDINAL\", \"CARDINAL\", \"CARDINAL\", \"CARDINAL\", \"CARDINAL\", \"CARDINAL\", \"CARDINAL\", \"CARDINAL\", \"CARDINAL\", \"CARDINAL\", \"CARDINAL\", \"CARDINAL\", \"CARDINAL\", \"CARDINAL\", \"CARDINAL\", \"CARDINAL\", \"CARDINAL\", \"CARDINAL\", \"CARDINAL\", \"CARDINAL\", \"CARDINAL\", \"CARDINAL\", \"CARDINAL\", \"CARDINAL\", \"CARDINAL\", \"CARDINAL\", \"CARDINAL\", \"CARDINAL\", \"CARDINAL\", \"CARDINAL\", \"CARDINAL\", \"CARDINAL\", \"CARDINAL\", \"CARDINAL\", \"CARDINAL\", \"CARDINAL\", \"CARDINAL\", \"CARDINAL\", \"CARDINAL\", \"CARDINAL\", \"CARDINAL\", \"CARDINAL\", \"CARDINAL\", \"CARDINAL\", \"CARDINAL\", \"CARDINAL\", \"CARDINAL\", \"CARDINAL\", \"CARDINAL\", \"CARDINAL\", \"CARDINAL\", \"CARDINAL\", \"CARDINAL\", \"CARDINAL\", \"CARDINAL\", \"CARDINAL\", \"CARDINAL\", \"CARDINAL\", \"CARDINAL\", \"CARDINAL\", \"CARDINAL\", \"CARDINAL\", \"CARDINAL\", \"CARDINAL\", \"CARDINAL\", \"CARDINAL\", \"CARDINAL\", \"CARDINAL\", \"CARDINAL\", \"CARDINAL\", \"CARDINAL\", \"CARDINAL\", \"CARDINAL\", \"CARDINAL\", \"CARDINAL\", \"CARDINAL\", \"CARDINAL\", \"CARDINAL\", \"CARDINAL\", \"CARDINAL\", \"CARDINAL\", \"CARDINAL\", \"CARDINAL\", \"CARDINAL\", \"CARDINAL\", \"CARDINAL\", \"CARDINAL\", \"CARDINAL\", \"CARDINAL\", \"CARDINAL\", \"CARDINAL\", \"CARDINAL\", \"CARDINAL\", \"CARDINAL\", \"CARDINAL\", \"CARDINAL\", \"CARDINAL\", \"CARDINAL\", \"CARDINAL\", \"CARDINAL\", \"CARDINAL\", \"CARDINAL\", \"CARDINAL\", \"CARDINAL\", \"CARDINAL\", \"CARDINAL\", \"CARDINAL\", \"CARDINAL\", \"CARDINAL\", \"CARDINAL\", \"CARDINAL\", \"CARDINAL\", \"CARDINAL\", \"CARDINAL\", \"CARDINAL\", \"CARDINAL\", \"CARDINAL\", \"CARDINAL\", \"CARDINAL\", \"CARDINAL\", \"CARDINAL\", \"CARDINAL\", \"CARDINAL\", \"CARDINAL\", \"CARDINAL\", \"CARDINAL\", \"CARDINAL\", \"CARDINAL\", \"CARDINAL\", \"CARDINAL\", \"CARDINAL\", \"CARDINAL\", \"CARDINAL\", \"CARDINAL\", \"CARDINAL\", \"CARDINAL\", \"CARDINAL\", \"CARDINAL\", \"CARDINAL\", \"CARDINAL\", \"CARDINAL\", \"CARDINAL\", \"CARDINAL\", \"CARDINAL\", \"CARDINAL\", \"CARDINAL\", \"CARDINAL\", \"CARDINAL\", \"CARDINAL\", \"CARDINAL\", \"CARDINAL\", \"CARDINAL\", \"CARDINAL\", \"CARDINAL\", \"CARDINAL\", \"CARDINAL\", \"CARDINAL\", \"CARDINAL\", \"CARDINAL\", \"CARDINAL\", \"CARDINAL\", \"CARDINAL\", \"CARDINAL\", \"CARDINAL\", \"CARDINAL\", \"CARDINAL\", \"CARDINAL\", \"CARDINAL\", \"CARDINAL\", \"CARDINAL\", \"CARDINAL\", \"CARDINAL\", \"CARDINAL\", \"CARDINAL\", \"CARDINAL\", \"CARDINAL\", \"CARDINAL\", \"CARDINAL\", \"CARDINAL\", \"CARDINAL\", \"CARDINAL\", \"CARDINAL\", \"CARDINAL\", \"CARDINAL\", \"CARDINAL\", \"CARDINAL\", \"CARDINAL\", \"CARDINAL\", \"CARDINAL\", \"CARDINAL\", \"CARDINAL\", \"CARDINAL\", \"CARDINAL\", \"CARDINAL\", \"CARDINAL\", \"CARDINAL\", \"CARDINAL\", \"CARDINAL\", \"CARDINAL\", \"CARDINAL\", \"CARDINAL\", \"CARDINAL\", \"CARDINAL\", \"CARDINAL\", \"CARDINAL\", \"CARDINAL\", \"CARDINAL\", \"CARDINAL\", \"CARDINAL\", \"CARDINAL\", \"CARDINAL\", \"CARDINAL\", \"CARDINAL\", \"CARDINAL\", \"CARDINAL\", \"CARDINAL\", \"CARDINAL\", \"CARDINAL\", \"CARDINAL\", \"CARDINAL\", \"CARDINAL\", \"CARDINAL\", \"CARDINAL\", \"CARDINAL\", \"CARDINAL\", \"CARDINAL\", \"CARDINAL\", \"CARDINAL\", \"CARDINAL\", \"CARDINAL\", \"CARDINAL\", \"CARDINAL\", \"CARDINAL\", \"CARDINAL\", \"CARDINAL\", \"CARDINAL\", \"CARDINAL\", \"CARDINAL\", \"CARDINAL\", \"CARDINAL\", \"CARDINAL\", \"CARDINAL\", \"CARDINAL\", \"CARDINAL\", \"CARDINAL\", \"CARDINAL\", \"CARDINAL\", \"CARDINAL\", \"CARDINAL\", \"CARDINAL\", \"CARDINAL\", \"CARDINAL\", \"CARDINAL\", \"CARDINAL\", \"CARDINAL\", \"CARDINAL\", \"CARDINAL\", \"CARDINAL\", \"CARDINAL\", \"CARDINAL\", \"CARDINAL\", \"CARDINAL\", \"CARDINAL\", \"CARDINAL\", \"CARDINAL\", \"CARDINAL\", \"CARDINAL\", \"CARDINAL\", \"CARDINAL\", \"CARDINAL\", \"CARDINAL\", \"CARDINAL\", \"CARDINAL\", \"CARDINAL\", \"CARDINAL\", \"CARDINAL\", \"CARDINAL\", \"CARDINAL\", \"CARDINAL\", \"CARDINAL\", \"CARDINAL\", \"CARDINAL\", \"CARDINAL\", \"CARDINAL\", \"CARDINAL\", \"CARDINAL\", \"CARDINAL\", \"CARDINAL\", \"CARDINAL\", \"CARDINAL\", \"CARDINAL\", \"CARDINAL\", \"CARDINAL\", \"CARDINAL\", \"CARDINAL\", \"CARDINAL\", \"CARDINAL\", \"CARDINAL\", \"CARDINAL\", \"CARDINAL\", \"CARDINAL\", \"CARDINAL\", \"CARDINAL\"], \"xaxis\": \"x\", \"yaxis\": \"y\"}, {\"alignmentgroup\": \"True\", \"bingroup\": \"x\", \"hoverlabel\": {\"namelength\": 0}, \"hovertemplate\": \"label=%{x}<br>count=%{y}\", \"legendgroup\": \"label=QUANTITY\", \"marker\": {\"color\": \"#FF97FF\"}, \"name\": \"label=QUANTITY\", \"offsetgroup\": \"label=QUANTITY\", \"orientation\": \"v\", \"showlegend\": true, \"type\": \"histogram\", \"x\": [\"QUANTITY\", \"QUANTITY\", \"QUANTITY\", \"QUANTITY\", \"QUANTITY\", \"QUANTITY\", \"QUANTITY\", \"QUANTITY\", \"QUANTITY\", \"QUANTITY\", \"QUANTITY\", \"QUANTITY\", \"QUANTITY\", \"QUANTITY\", \"QUANTITY\", \"QUANTITY\", \"QUANTITY\", \"QUANTITY\", \"QUANTITY\", \"QUANTITY\", \"QUANTITY\", \"QUANTITY\", \"QUANTITY\", \"QUANTITY\", \"QUANTITY\", \"QUANTITY\", \"QUANTITY\", \"QUANTITY\", \"QUANTITY\", \"QUANTITY\", \"QUANTITY\", \"QUANTITY\", \"QUANTITY\", \"QUANTITY\", \"QUANTITY\", \"QUANTITY\", \"QUANTITY\", \"QUANTITY\", \"QUANTITY\", \"QUANTITY\", \"QUANTITY\", \"QUANTITY\", \"QUANTITY\", \"QUANTITY\", \"QUANTITY\", \"QUANTITY\", \"QUANTITY\", \"QUANTITY\", \"QUANTITY\", \"QUANTITY\", \"QUANTITY\", \"QUANTITY\", \"QUANTITY\", \"QUANTITY\", \"QUANTITY\", \"QUANTITY\", \"QUANTITY\", \"QUANTITY\", \"QUANTITY\", \"QUANTITY\", \"QUANTITY\", \"QUANTITY\", \"QUANTITY\", \"QUANTITY\", \"QUANTITY\", \"QUANTITY\", \"QUANTITY\", \"QUANTITY\", \"QUANTITY\", \"QUANTITY\", \"QUANTITY\", \"QUANTITY\", \"QUANTITY\", \"QUANTITY\", \"QUANTITY\", \"QUANTITY\", \"QUANTITY\", \"QUANTITY\", \"QUANTITY\", \"QUANTITY\", \"QUANTITY\", \"QUANTITY\", \"QUANTITY\", \"QUANTITY\", \"QUANTITY\", \"QUANTITY\", \"QUANTITY\", \"QUANTITY\", \"QUANTITY\", \"QUANTITY\", \"QUANTITY\", \"QUANTITY\", \"QUANTITY\", \"QUANTITY\", \"QUANTITY\", \"QUANTITY\", \"QUANTITY\", \"QUANTITY\", \"QUANTITY\", \"QUANTITY\", \"QUANTITY\", \"QUANTITY\", \"QUANTITY\", \"QUANTITY\", \"QUANTITY\", \"QUANTITY\", \"QUANTITY\", \"QUANTITY\", \"QUANTITY\", \"QUANTITY\", \"QUANTITY\", \"QUANTITY\", \"QUANTITY\", \"QUANTITY\", \"QUANTITY\", \"QUANTITY\", \"QUANTITY\", \"QUANTITY\", \"QUANTITY\", \"QUANTITY\", \"QUANTITY\", \"QUANTITY\", \"QUANTITY\", \"QUANTITY\", \"QUANTITY\", \"QUANTITY\", \"QUANTITY\", \"QUANTITY\", \"QUANTITY\", \"QUANTITY\", \"QUANTITY\", \"QUANTITY\", \"QUANTITY\", \"QUANTITY\", \"QUANTITY\", \"QUANTITY\", \"QUANTITY\", \"QUANTITY\", \"QUANTITY\", \"QUANTITY\", \"QUANTITY\", \"QUANTITY\", \"QUANTITY\", \"QUANTITY\", \"QUANTITY\", \"QUANTITY\", \"QUANTITY\", \"QUANTITY\", \"QUANTITY\", \"QUANTITY\", \"QUANTITY\", \"QUANTITY\", \"QUANTITY\", \"QUANTITY\", \"QUANTITY\", \"QUANTITY\", \"QUANTITY\", \"QUANTITY\", \"QUANTITY\", \"QUANTITY\", \"QUANTITY\", \"QUANTITY\", \"QUANTITY\", \"QUANTITY\", \"QUANTITY\", \"QUANTITY\", \"QUANTITY\", \"QUANTITY\", \"QUANTITY\", \"QUANTITY\"], \"xaxis\": \"x\", \"yaxis\": \"y\"}, {\"alignmentgroup\": \"True\", \"bingroup\": \"x\", \"hoverlabel\": {\"namelength\": 0}, \"hovertemplate\": \"label=%{x}<br>count=%{y}\", \"legendgroup\": \"label=ORDINAL\", \"marker\": {\"color\": \"#FECB52\"}, \"name\": \"label=ORDINAL\", \"offsetgroup\": \"label=ORDINAL\", \"orientation\": \"v\", \"showlegend\": true, \"type\": \"histogram\", \"x\": [\"ORDINAL\", \"ORDINAL\", \"ORDINAL\", \"ORDINAL\", \"ORDINAL\", \"ORDINAL\", \"ORDINAL\", \"ORDINAL\", \"ORDINAL\", \"ORDINAL\", \"ORDINAL\", \"ORDINAL\", \"ORDINAL\", \"ORDINAL\", \"ORDINAL\", \"ORDINAL\", \"ORDINAL\", \"ORDINAL\", \"ORDINAL\", \"ORDINAL\", \"ORDINAL\", \"ORDINAL\", \"ORDINAL\", \"ORDINAL\", \"ORDINAL\", \"ORDINAL\", \"ORDINAL\", \"ORDINAL\", \"ORDINAL\", \"ORDINAL\", \"ORDINAL\", \"ORDINAL\", \"ORDINAL\", \"ORDINAL\", \"ORDINAL\", \"ORDINAL\", \"ORDINAL\", \"ORDINAL\", \"ORDINAL\", \"ORDINAL\", \"ORDINAL\", \"ORDINAL\", \"ORDINAL\", \"ORDINAL\", \"ORDINAL\", \"ORDINAL\", \"ORDINAL\", \"ORDINAL\", \"ORDINAL\", \"ORDINAL\", \"ORDINAL\", \"ORDINAL\", \"ORDINAL\", \"ORDINAL\", \"ORDINAL\", \"ORDINAL\", \"ORDINAL\", \"ORDINAL\", \"ORDINAL\", \"ORDINAL\", \"ORDINAL\", \"ORDINAL\", \"ORDINAL\", \"ORDINAL\", \"ORDINAL\", \"ORDINAL\", \"ORDINAL\", \"ORDINAL\", \"ORDINAL\", \"ORDINAL\", \"ORDINAL\", \"ORDINAL\", \"ORDINAL\", \"ORDINAL\", \"ORDINAL\", \"ORDINAL\", \"ORDINAL\", \"ORDINAL\", \"ORDINAL\", \"ORDINAL\", \"ORDINAL\", \"ORDINAL\", \"ORDINAL\", \"ORDINAL\", \"ORDINAL\", \"ORDINAL\", \"ORDINAL\", \"ORDINAL\", \"ORDINAL\", \"ORDINAL\", \"ORDINAL\", \"ORDINAL\", \"ORDINAL\", \"ORDINAL\", \"ORDINAL\", \"ORDINAL\", \"ORDINAL\", \"ORDINAL\", \"ORDINAL\", \"ORDINAL\", \"ORDINAL\", \"ORDINAL\", \"ORDINAL\", \"ORDINAL\", \"ORDINAL\", \"ORDINAL\", \"ORDINAL\", \"ORDINAL\", \"ORDINAL\", \"ORDINAL\", \"ORDINAL\", \"ORDINAL\", \"ORDINAL\", \"ORDINAL\", \"ORDINAL\", \"ORDINAL\", \"ORDINAL\", \"ORDINAL\", \"ORDINAL\", \"ORDINAL\", \"ORDINAL\", \"ORDINAL\", \"ORDINAL\", \"ORDINAL\", \"ORDINAL\", \"ORDINAL\", \"ORDINAL\", \"ORDINAL\", \"ORDINAL\", \"ORDINAL\", \"ORDINAL\", \"ORDINAL\", \"ORDINAL\", \"ORDINAL\", \"ORDINAL\", \"ORDINAL\", \"ORDINAL\", \"ORDINAL\", \"ORDINAL\", \"ORDINAL\", \"ORDINAL\", \"ORDINAL\", \"ORDINAL\", \"ORDINAL\", \"ORDINAL\", \"ORDINAL\", \"ORDINAL\", \"ORDINAL\", \"ORDINAL\", \"ORDINAL\", \"ORDINAL\", \"ORDINAL\", \"ORDINAL\", \"ORDINAL\", \"ORDINAL\", \"ORDINAL\", \"ORDINAL\", \"ORDINAL\", \"ORDINAL\", \"ORDINAL\", \"ORDINAL\", \"ORDINAL\", \"ORDINAL\", \"ORDINAL\", \"ORDINAL\", \"ORDINAL\", \"ORDINAL\", \"ORDINAL\", \"ORDINAL\", \"ORDINAL\", \"ORDINAL\", \"ORDINAL\", \"ORDINAL\", \"ORDINAL\", \"ORDINAL\", \"ORDINAL\", \"ORDINAL\", \"ORDINAL\", \"ORDINAL\", \"ORDINAL\", \"ORDINAL\", \"ORDINAL\", \"ORDINAL\", \"ORDINAL\", \"ORDINAL\", \"ORDINAL\", \"ORDINAL\", \"ORDINAL\", \"ORDINAL\", \"ORDINAL\", \"ORDINAL\", \"ORDINAL\", \"ORDINAL\", \"ORDINAL\", \"ORDINAL\", \"ORDINAL\", \"ORDINAL\", \"ORDINAL\", \"ORDINAL\", \"ORDINAL\", \"ORDINAL\", \"ORDINAL\", \"ORDINAL\", \"ORDINAL\", \"ORDINAL\", \"ORDINAL\", \"ORDINAL\", \"ORDINAL\", \"ORDINAL\", \"ORDINAL\", \"ORDINAL\", \"ORDINAL\", \"ORDINAL\", \"ORDINAL\", \"ORDINAL\", \"ORDINAL\", \"ORDINAL\", \"ORDINAL\", \"ORDINAL\", \"ORDINAL\", \"ORDINAL\", \"ORDINAL\", \"ORDINAL\", \"ORDINAL\", \"ORDINAL\", \"ORDINAL\", \"ORDINAL\", \"ORDINAL\", \"ORDINAL\", \"ORDINAL\", \"ORDINAL\", \"ORDINAL\", \"ORDINAL\", \"ORDINAL\", \"ORDINAL\", \"ORDINAL\", \"ORDINAL\", \"ORDINAL\", \"ORDINAL\", \"ORDINAL\", \"ORDINAL\", \"ORDINAL\", \"ORDINAL\", \"ORDINAL\", \"ORDINAL\", \"ORDINAL\", \"ORDINAL\", \"ORDINAL\", \"ORDINAL\", \"ORDINAL\", \"ORDINAL\", \"ORDINAL\", \"ORDINAL\", \"ORDINAL\", \"ORDINAL\", \"ORDINAL\", \"ORDINAL\", \"ORDINAL\", \"ORDINAL\", \"ORDINAL\", \"ORDINAL\", \"ORDINAL\", \"ORDINAL\", \"ORDINAL\", \"ORDINAL\", \"ORDINAL\", \"ORDINAL\", \"ORDINAL\", \"ORDINAL\", \"ORDINAL\", \"ORDINAL\", \"ORDINAL\", \"ORDINAL\", \"ORDINAL\", \"ORDINAL\", \"ORDINAL\", \"ORDINAL\", \"ORDINAL\", \"ORDINAL\", \"ORDINAL\", \"ORDINAL\", \"ORDINAL\", \"ORDINAL\", \"ORDINAL\", \"ORDINAL\", \"ORDINAL\", \"ORDINAL\", \"ORDINAL\", \"ORDINAL\", \"ORDINAL\", \"ORDINAL\", \"ORDINAL\", \"ORDINAL\", \"ORDINAL\", \"ORDINAL\", \"ORDINAL\", \"ORDINAL\", \"ORDINAL\"], \"xaxis\": \"x\", \"yaxis\": \"y\"}, {\"alignmentgroup\": \"True\", \"bingroup\": \"x\", \"hoverlabel\": {\"namelength\": 0}, \"hovertemplate\": \"label=%{x}<br>count=%{y}\", \"legendgroup\": \"label=PRODUCT\", \"marker\": {\"color\": \"#636efa\"}, \"name\": \"label=PRODUCT\", \"offsetgroup\": \"label=PRODUCT\", \"orientation\": \"v\", \"showlegend\": true, \"type\": \"histogram\", \"x\": [\"PRODUCT\", \"PRODUCT\", \"PRODUCT\", \"PRODUCT\", \"PRODUCT\", \"PRODUCT\", \"PRODUCT\", \"PRODUCT\", \"PRODUCT\", \"PRODUCT\", \"PRODUCT\", \"PRODUCT\", \"PRODUCT\", \"PRODUCT\", \"PRODUCT\", \"PRODUCT\", \"PRODUCT\", \"PRODUCT\", \"PRODUCT\", \"PRODUCT\", \"PRODUCT\", \"PRODUCT\", \"PRODUCT\", \"PRODUCT\", \"PRODUCT\", \"PRODUCT\", \"PRODUCT\", \"PRODUCT\", \"PRODUCT\", \"PRODUCT\", \"PRODUCT\", \"PRODUCT\", \"PRODUCT\", \"PRODUCT\", \"PRODUCT\", \"PRODUCT\", \"PRODUCT\", \"PRODUCT\", \"PRODUCT\", \"PRODUCT\", \"PRODUCT\", \"PRODUCT\", \"PRODUCT\", \"PRODUCT\", \"PRODUCT\", \"PRODUCT\", \"PRODUCT\", \"PRODUCT\", \"PRODUCT\", \"PRODUCT\", \"PRODUCT\", \"PRODUCT\", \"PRODUCT\", \"PRODUCT\", \"PRODUCT\", \"PRODUCT\", \"PRODUCT\", \"PRODUCT\", \"PRODUCT\", \"PRODUCT\", \"PRODUCT\", \"PRODUCT\", \"PRODUCT\", \"PRODUCT\", \"PRODUCT\", \"PRODUCT\", \"PRODUCT\", \"PRODUCT\", \"PRODUCT\", \"PRODUCT\", \"PRODUCT\", \"PRODUCT\", \"PRODUCT\", \"PRODUCT\", \"PRODUCT\", \"PRODUCT\", \"PRODUCT\", \"PRODUCT\", \"PRODUCT\", \"PRODUCT\", \"PRODUCT\", \"PRODUCT\", \"PRODUCT\", \"PRODUCT\", \"PRODUCT\", \"PRODUCT\", \"PRODUCT\", \"PRODUCT\", \"PRODUCT\", \"PRODUCT\", \"PRODUCT\", \"PRODUCT\", \"PRODUCT\", \"PRODUCT\", \"PRODUCT\", \"PRODUCT\", \"PRODUCT\", \"PRODUCT\", \"PRODUCT\", \"PRODUCT\", \"PRODUCT\", \"PRODUCT\", \"PRODUCT\", \"PRODUCT\", \"PRODUCT\", \"PRODUCT\", \"PRODUCT\", \"PRODUCT\", \"PRODUCT\", \"PRODUCT\", \"PRODUCT\", \"PRODUCT\", \"PRODUCT\", \"PRODUCT\", \"PRODUCT\"], \"xaxis\": \"x\", \"yaxis\": \"y\"}, {\"alignmentgroup\": \"True\", \"bingroup\": \"x\", \"hoverlabel\": {\"namelength\": 0}, \"hovertemplate\": \"label=%{x}<br>count=%{y}\", \"legendgroup\": \"label=FAC\", \"marker\": {\"color\": \"#EF553B\"}, \"name\": \"label=FAC\", \"offsetgroup\": \"label=FAC\", \"orientation\": \"v\", \"showlegend\": true, \"type\": \"histogram\", \"x\": [\"FAC\", \"FAC\", \"FAC\", \"FAC\", \"FAC\", \"FAC\", \"FAC\", \"FAC\", \"FAC\", \"FAC\", \"FAC\", \"FAC\", \"FAC\", \"FAC\", \"FAC\", \"FAC\", \"FAC\", \"FAC\", \"FAC\", \"FAC\", \"FAC\", \"FAC\", \"FAC\", \"FAC\", \"FAC\", \"FAC\", \"FAC\", \"FAC\", \"FAC\", \"FAC\", \"FAC\", \"FAC\", \"FAC\", \"FAC\", \"FAC\", \"FAC\", \"FAC\", \"FAC\", \"FAC\", \"FAC\", \"FAC\", \"FAC\", \"FAC\", \"FAC\", \"FAC\", \"FAC\", \"FAC\", \"FAC\", \"FAC\", \"FAC\", \"FAC\", \"FAC\", \"FAC\", \"FAC\", \"FAC\", \"FAC\", \"FAC\", \"FAC\", \"FAC\", \"FAC\", \"FAC\", \"FAC\", \"FAC\", \"FAC\", \"FAC\", \"FAC\", \"FAC\", \"FAC\", \"FAC\", \"FAC\", \"FAC\", \"FAC\", \"FAC\", \"FAC\", \"FAC\", \"FAC\", \"FAC\", \"FAC\", \"FAC\", \"FAC\", \"FAC\", \"FAC\", \"FAC\", \"FAC\", \"FAC\", \"FAC\", \"FAC\", \"FAC\", \"FAC\", \"FAC\", \"FAC\", \"FAC\", \"FAC\", \"FAC\", \"FAC\", \"FAC\", \"FAC\", \"FAC\", \"FAC\", \"FAC\", \"FAC\", \"FAC\", \"FAC\", \"FAC\", \"FAC\", \"FAC\", \"FAC\", \"FAC\", \"FAC\", \"FAC\", \"FAC\", \"FAC\", \"FAC\", \"FAC\", \"FAC\", \"FAC\", \"FAC\", \"FAC\", \"FAC\", \"FAC\", \"FAC\", \"FAC\", \"FAC\", \"FAC\", \"FAC\", \"FAC\", \"FAC\", \"FAC\", \"FAC\", \"FAC\", \"FAC\", \"FAC\", \"FAC\", \"FAC\", \"FAC\", \"FAC\", \"FAC\", \"FAC\", \"FAC\", \"FAC\", \"FAC\", \"FAC\", \"FAC\", \"FAC\", \"FAC\", \"FAC\", \"FAC\", \"FAC\", \"FAC\", \"FAC\", \"FAC\", \"FAC\", \"FAC\", \"FAC\", \"FAC\", \"FAC\", \"FAC\", \"FAC\", \"FAC\", \"FAC\", \"FAC\", \"FAC\", \"FAC\", \"FAC\", \"FAC\", \"FAC\", \"FAC\", \"FAC\", \"FAC\", \"FAC\", \"FAC\", \"FAC\", \"FAC\", \"FAC\", \"FAC\", \"FAC\", \"FAC\", \"FAC\", \"FAC\", \"FAC\", \"FAC\"], \"xaxis\": \"x\", \"yaxis\": \"y\"}, {\"alignmentgroup\": \"True\", \"bingroup\": \"x\", \"hoverlabel\": {\"namelength\": 0}, \"hovertemplate\": \"label=%{x}<br>count=%{y}\", \"legendgroup\": \"label=MONEY\", \"marker\": {\"color\": \"#00cc96\"}, \"name\": \"label=MONEY\", \"offsetgroup\": \"label=MONEY\", \"orientation\": \"v\", \"showlegend\": true, \"type\": \"histogram\", \"x\": [\"MONEY\", \"MONEY\", \"MONEY\", \"MONEY\", \"MONEY\", \"MONEY\", \"MONEY\", \"MONEY\", \"MONEY\", \"MONEY\", \"MONEY\", \"MONEY\", \"MONEY\", \"MONEY\", \"MONEY\", \"MONEY\"], \"xaxis\": \"x\", \"yaxis\": \"y\"}, {\"alignmentgroup\": \"True\", \"bingroup\": \"x\", \"hoverlabel\": {\"namelength\": 0}, \"hovertemplate\": \"label=%{x}<br>count=%{y}\", \"legendgroup\": \"label=LOC\", \"marker\": {\"color\": \"#ab63fa\"}, \"name\": \"label=LOC\", \"offsetgroup\": \"label=LOC\", \"orientation\": \"v\", \"showlegend\": true, \"type\": \"histogram\", \"x\": [\"LOC\", \"LOC\", \"LOC\", \"LOC\", \"LOC\", \"LOC\", \"LOC\", \"LOC\", \"LOC\", \"LOC\", \"LOC\", \"LOC\", \"LOC\", \"LOC\", \"LOC\", \"LOC\", \"LOC\", \"LOC\", \"LOC\", \"LOC\", \"LOC\", \"LOC\", \"LOC\", \"LOC\", \"LOC\", \"LOC\", \"LOC\", \"LOC\", \"LOC\", \"LOC\", \"LOC\", \"LOC\", \"LOC\", \"LOC\", \"LOC\", \"LOC\", \"LOC\", \"LOC\", \"LOC\", \"LOC\", \"LOC\", \"LOC\", \"LOC\", \"LOC\", \"LOC\", \"LOC\", \"LOC\", \"LOC\", \"LOC\", \"LOC\", \"LOC\", \"LOC\", \"LOC\", \"LOC\", \"LOC\", \"LOC\", \"LOC\", \"LOC\", \"LOC\", \"LOC\", \"LOC\", \"LOC\", \"LOC\", \"LOC\", \"LOC\", \"LOC\", \"LOC\", \"LOC\", \"LOC\", \"LOC\", \"LOC\", \"LOC\", \"LOC\", \"LOC\", \"LOC\", \"LOC\", \"LOC\", \"LOC\", \"LOC\", \"LOC\", \"LOC\", \"LOC\", \"LOC\", \"LOC\", \"LOC\", \"LOC\", \"LOC\", \"LOC\", \"LOC\", \"LOC\", \"LOC\", \"LOC\", \"LOC\", \"LOC\", \"LOC\", \"LOC\", \"LOC\", \"LOC\", \"LOC\", \"LOC\", \"LOC\", \"LOC\", \"LOC\", \"LOC\", \"LOC\", \"LOC\", \"LOC\", \"LOC\", \"LOC\", \"LOC\", \"LOC\", \"LOC\", \"LOC\", \"LOC\", \"LOC\", \"LOC\", \"LOC\", \"LOC\", \"LOC\", \"LOC\", \"LOC\", \"LOC\", \"LOC\", \"LOC\", \"LOC\", \"LOC\", \"LOC\", \"LOC\", \"LOC\", \"LOC\", \"LOC\", \"LOC\", \"LOC\", \"LOC\", \"LOC\", \"LOC\", \"LOC\", \"LOC\", \"LOC\", \"LOC\", \"LOC\", \"LOC\", \"LOC\", \"LOC\", \"LOC\", \"LOC\", \"LOC\", \"LOC\", \"LOC\", \"LOC\", \"LOC\", \"LOC\", \"LOC\", \"LOC\", \"LOC\", \"LOC\", \"LOC\", \"LOC\", \"LOC\", \"LOC\", \"LOC\", \"LOC\", \"LOC\", \"LOC\", \"LOC\", \"LOC\", \"LOC\", \"LOC\", \"LOC\", \"LOC\", \"LOC\", \"LOC\", \"LOC\", \"LOC\", \"LOC\", \"LOC\", \"LOC\", \"LOC\", \"LOC\", \"LOC\", \"LOC\", \"LOC\", \"LOC\", \"LOC\", \"LOC\", \"LOC\", \"LOC\", \"LOC\", \"LOC\", \"LOC\", \"LOC\", \"LOC\", \"LOC\", \"LOC\", \"LOC\", \"LOC\", \"LOC\", \"LOC\", \"LOC\", \"LOC\", \"LOC\", \"LOC\", \"LOC\", \"LOC\", \"LOC\", \"LOC\", \"LOC\", \"LOC\", \"LOC\", \"LOC\", \"LOC\", \"LOC\", \"LOC\", \"LOC\", \"LOC\", \"LOC\", \"LOC\", \"LOC\", \"LOC\", \"LOC\", \"LOC\", \"LOC\", \"LOC\", \"LOC\", \"LOC\", \"LOC\", \"LOC\", \"LOC\", \"LOC\", \"LOC\", \"LOC\", \"LOC\", \"LOC\", \"LOC\", \"LOC\", \"LOC\", \"LOC\", \"LOC\", \"LOC\", \"LOC\", \"LOC\", \"LOC\", \"LOC\", \"LOC\", \"LOC\", \"LOC\", \"LOC\", \"LOC\", \"LOC\", \"LOC\", \"LOC\", \"LOC\", \"LOC\", \"LOC\", \"LOC\", \"LOC\", \"LOC\", \"LOC\", \"LOC\", \"LOC\", \"LOC\", \"LOC\", \"LOC\", \"LOC\", \"LOC\", \"LOC\", \"LOC\", \"LOC\", \"LOC\", \"LOC\", \"LOC\", \"LOC\", \"LOC\", \"LOC\", \"LOC\", \"LOC\", \"LOC\", \"LOC\", \"LOC\", \"LOC\", \"LOC\", \"LOC\", \"LOC\", \"LOC\", \"LOC\", \"LOC\", \"LOC\", \"LOC\", \"LOC\", \"LOC\", \"LOC\", \"LOC\", \"LOC\", \"LOC\", \"LOC\", \"LOC\", \"LOC\", \"LOC\", \"LOC\", \"LOC\", \"LOC\", \"LOC\", \"LOC\", \"LOC\", \"LOC\", \"LOC\", \"LOC\", \"LOC\", \"LOC\", \"LOC\", \"LOC\", \"LOC\", \"LOC\", \"LOC\", \"LOC\", \"LOC\", \"LOC\", \"LOC\", \"LOC\", \"LOC\", \"LOC\", \"LOC\", \"LOC\", \"LOC\", \"LOC\", \"LOC\", \"LOC\", \"LOC\", \"LOC\", \"LOC\", \"LOC\", \"LOC\", \"LOC\", \"LOC\", \"LOC\", \"LOC\", \"LOC\", \"LOC\", \"LOC\", \"LOC\", \"LOC\", \"LOC\", \"LOC\", \"LOC\", \"LOC\"], \"xaxis\": \"x\", \"yaxis\": \"y\"}, {\"alignmentgroup\": \"True\", \"bingroup\": \"x\", \"hoverlabel\": {\"namelength\": 0}, \"hovertemplate\": \"label=%{x}<br>count=%{y}\", \"legendgroup\": \"label=EVENT\", \"marker\": {\"color\": \"#FFA15A\"}, \"name\": \"label=EVENT\", \"offsetgroup\": \"label=EVENT\", \"orientation\": \"v\", \"showlegend\": true, \"type\": \"histogram\", \"x\": [\"EVENT\", \"EVENT\", \"EVENT\", \"EVENT\", \"EVENT\", \"EVENT\", \"EVENT\", \"EVENT\", \"EVENT\", \"EVENT\", \"EVENT\", \"EVENT\", \"EVENT\", \"EVENT\", \"EVENT\", \"EVENT\", \"EVENT\", \"EVENT\", \"EVENT\", \"EVENT\", \"EVENT\", \"EVENT\", \"EVENT\", \"EVENT\", \"EVENT\"], \"xaxis\": \"x\", \"yaxis\": \"y\"}, {\"alignmentgroup\": \"True\", \"bingroup\": \"x\", \"hoverlabel\": {\"namelength\": 0}, \"hovertemplate\": \"label=%{x}<br>count=%{y}\", \"legendgroup\": \"label=LANGUAGE\", \"marker\": {\"color\": \"#19d3f3\"}, \"name\": \"label=LANGUAGE\", \"offsetgroup\": \"label=LANGUAGE\", \"orientation\": \"v\", \"showlegend\": true, \"type\": \"histogram\", \"x\": [\"LANGUAGE\", \"LANGUAGE\", \"LANGUAGE\", \"LANGUAGE\", \"LANGUAGE\", \"LANGUAGE\", \"LANGUAGE\", \"LANGUAGE\", \"LANGUAGE\", \"LANGUAGE\", \"LANGUAGE\", \"LANGUAGE\", \"LANGUAGE\", \"LANGUAGE\", \"LANGUAGE\", \"LANGUAGE\", \"LANGUAGE\", \"LANGUAGE\", \"LANGUAGE\", \"LANGUAGE\", \"LANGUAGE\", \"LANGUAGE\", \"LANGUAGE\", \"LANGUAGE\", \"LANGUAGE\", \"LANGUAGE\", \"LANGUAGE\", \"LANGUAGE\", \"LANGUAGE\", \"LANGUAGE\", \"LANGUAGE\", \"LANGUAGE\", \"LANGUAGE\", \"LANGUAGE\", \"LANGUAGE\", \"LANGUAGE\", \"LANGUAGE\", \"LANGUAGE\", \"LANGUAGE\", \"LANGUAGE\", \"LANGUAGE\", \"LANGUAGE\", \"LANGUAGE\"], \"xaxis\": \"x\", \"yaxis\": \"y\"}, {\"alignmentgroup\": \"True\", \"bingroup\": \"x\", \"hoverlabel\": {\"namelength\": 0}, \"hovertemplate\": \"label=%{x}<br>count=%{y}\", \"legendgroup\": \"label=LAW\", \"marker\": {\"color\": \"#FF6692\"}, \"name\": \"label=LAW\", \"offsetgroup\": \"label=LAW\", \"orientation\": \"v\", \"showlegend\": true, \"type\": \"histogram\", \"x\": [\"LAW\", \"LAW\", \"LAW\", \"LAW\", \"LAW\", \"LAW\", \"LAW\"], \"xaxis\": \"x\", \"yaxis\": \"y\"}],\n",
              "                        {\"barmode\": \"relative\", \"legend\": {\"tracegroupgap\": 0}, \"margin\": {\"t\": 60}, \"template\": {\"data\": {\"bar\": [{\"error_x\": {\"color\": \"#2a3f5f\"}, \"error_y\": {\"color\": \"#2a3f5f\"}, \"marker\": {\"line\": {\"color\": \"#E5ECF6\", \"width\": 0.5}}, \"type\": \"bar\"}], \"barpolar\": [{\"marker\": {\"line\": {\"color\": \"#E5ECF6\", \"width\": 0.5}}, \"type\": \"barpolar\"}], \"carpet\": [{\"aaxis\": {\"endlinecolor\": \"#2a3f5f\", \"gridcolor\": \"white\", \"linecolor\": \"white\", \"minorgridcolor\": \"white\", \"startlinecolor\": \"#2a3f5f\"}, \"baxis\": {\"endlinecolor\": \"#2a3f5f\", \"gridcolor\": \"white\", \"linecolor\": \"white\", \"minorgridcolor\": \"white\", \"startlinecolor\": \"#2a3f5f\"}, \"type\": \"carpet\"}], \"choropleth\": [{\"colorbar\": {\"outlinewidth\": 0, \"ticks\": \"\"}, \"type\": \"choropleth\"}], \"contour\": [{\"colorbar\": {\"outlinewidth\": 0, \"ticks\": \"\"}, \"colorscale\": [[0.0, \"#0d0887\"], [0.1111111111111111, \"#46039f\"], [0.2222222222222222, \"#7201a8\"], [0.3333333333333333, \"#9c179e\"], [0.4444444444444444, \"#bd3786\"], [0.5555555555555556, \"#d8576b\"], [0.6666666666666666, \"#ed7953\"], [0.7777777777777778, \"#fb9f3a\"], [0.8888888888888888, \"#fdca26\"], [1.0, \"#f0f921\"]], \"type\": \"contour\"}], \"contourcarpet\": [{\"colorbar\": {\"outlinewidth\": 0, \"ticks\": \"\"}, \"type\": \"contourcarpet\"}], \"heatmap\": [{\"colorbar\": {\"outlinewidth\": 0, \"ticks\": \"\"}, \"colorscale\": [[0.0, \"#0d0887\"], [0.1111111111111111, \"#46039f\"], [0.2222222222222222, \"#7201a8\"], [0.3333333333333333, \"#9c179e\"], [0.4444444444444444, \"#bd3786\"], [0.5555555555555556, \"#d8576b\"], [0.6666666666666666, \"#ed7953\"], [0.7777777777777778, \"#fb9f3a\"], [0.8888888888888888, \"#fdca26\"], [1.0, \"#f0f921\"]], \"type\": \"heatmap\"}], \"heatmapgl\": [{\"colorbar\": {\"outlinewidth\": 0, \"ticks\": \"\"}, \"colorscale\": [[0.0, \"#0d0887\"], [0.1111111111111111, \"#46039f\"], [0.2222222222222222, \"#7201a8\"], [0.3333333333333333, \"#9c179e\"], [0.4444444444444444, \"#bd3786\"], [0.5555555555555556, \"#d8576b\"], [0.6666666666666666, \"#ed7953\"], [0.7777777777777778, \"#fb9f3a\"], [0.8888888888888888, \"#fdca26\"], [1.0, \"#f0f921\"]], \"type\": \"heatmapgl\"}], \"histogram\": [{\"marker\": {\"colorbar\": {\"outlinewidth\": 0, \"ticks\": \"\"}}, \"type\": \"histogram\"}], \"histogram2d\": [{\"colorbar\": {\"outlinewidth\": 0, \"ticks\": \"\"}, \"colorscale\": [[0.0, \"#0d0887\"], [0.1111111111111111, \"#46039f\"], [0.2222222222222222, \"#7201a8\"], [0.3333333333333333, \"#9c179e\"], [0.4444444444444444, \"#bd3786\"], [0.5555555555555556, \"#d8576b\"], [0.6666666666666666, \"#ed7953\"], [0.7777777777777778, \"#fb9f3a\"], [0.8888888888888888, \"#fdca26\"], [1.0, \"#f0f921\"]], \"type\": \"histogram2d\"}], \"histogram2dcontour\": [{\"colorbar\": {\"outlinewidth\": 0, \"ticks\": \"\"}, \"colorscale\": [[0.0, \"#0d0887\"], [0.1111111111111111, \"#46039f\"], [0.2222222222222222, \"#7201a8\"], [0.3333333333333333, \"#9c179e\"], [0.4444444444444444, \"#bd3786\"], [0.5555555555555556, \"#d8576b\"], [0.6666666666666666, \"#ed7953\"], [0.7777777777777778, \"#fb9f3a\"], [0.8888888888888888, \"#fdca26\"], [1.0, \"#f0f921\"]], \"type\": \"histogram2dcontour\"}], \"mesh3d\": [{\"colorbar\": {\"outlinewidth\": 0, \"ticks\": \"\"}, \"type\": \"mesh3d\"}], \"parcoords\": [{\"line\": {\"colorbar\": {\"outlinewidth\": 0, \"ticks\": \"\"}}, \"type\": \"parcoords\"}], \"pie\": [{\"automargin\": true, \"type\": \"pie\"}], \"scatter\": [{\"marker\": {\"colorbar\": {\"outlinewidth\": 0, \"ticks\": \"\"}}, \"type\": \"scatter\"}], \"scatter3d\": [{\"line\": {\"colorbar\": {\"outlinewidth\": 0, \"ticks\": \"\"}}, \"marker\": {\"colorbar\": {\"outlinewidth\": 0, \"ticks\": \"\"}}, \"type\": \"scatter3d\"}], \"scattercarpet\": [{\"marker\": {\"colorbar\": {\"outlinewidth\": 0, \"ticks\": \"\"}}, \"type\": \"scattercarpet\"}], \"scattergeo\": [{\"marker\": {\"colorbar\": {\"outlinewidth\": 0, \"ticks\": \"\"}}, \"type\": \"scattergeo\"}], \"scattergl\": [{\"marker\": {\"colorbar\": {\"outlinewidth\": 0, \"ticks\": \"\"}}, \"type\": \"scattergl\"}], \"scattermapbox\": [{\"marker\": {\"colorbar\": {\"outlinewidth\": 0, \"ticks\": \"\"}}, \"type\": \"scattermapbox\"}], \"scatterpolar\": [{\"marker\": {\"colorbar\": {\"outlinewidth\": 0, \"ticks\": \"\"}}, \"type\": \"scatterpolar\"}], \"scatterpolargl\": [{\"marker\": {\"colorbar\": {\"outlinewidth\": 0, \"ticks\": \"\"}}, \"type\": \"scatterpolargl\"}], \"scatterternary\": [{\"marker\": {\"colorbar\": {\"outlinewidth\": 0, \"ticks\": \"\"}}, \"type\": \"scatterternary\"}], \"surface\": [{\"colorbar\": {\"outlinewidth\": 0, \"ticks\": \"\"}, \"colorscale\": [[0.0, \"#0d0887\"], [0.1111111111111111, \"#46039f\"], [0.2222222222222222, \"#7201a8\"], [0.3333333333333333, \"#9c179e\"], [0.4444444444444444, \"#bd3786\"], [0.5555555555555556, \"#d8576b\"], [0.6666666666666666, \"#ed7953\"], [0.7777777777777778, \"#fb9f3a\"], [0.8888888888888888, \"#fdca26\"], [1.0, \"#f0f921\"]], \"type\": \"surface\"}], \"table\": [{\"cells\": {\"fill\": {\"color\": \"#EBF0F8\"}, \"line\": {\"color\": \"white\"}}, \"header\": {\"fill\": {\"color\": \"#C8D4E3\"}, \"line\": {\"color\": \"white\"}}, \"type\": \"table\"}]}, \"layout\": {\"annotationdefaults\": {\"arrowcolor\": \"#2a3f5f\", \"arrowhead\": 0, \"arrowwidth\": 1}, \"coloraxis\": {\"colorbar\": {\"outlinewidth\": 0, \"ticks\": \"\"}}, \"colorscale\": {\"diverging\": [[0, \"#8e0152\"], [0.1, \"#c51b7d\"], [0.2, \"#de77ae\"], [0.3, \"#f1b6da\"], [0.4, \"#fde0ef\"], [0.5, \"#f7f7f7\"], [0.6, \"#e6f5d0\"], [0.7, \"#b8e186\"], [0.8, \"#7fbc41\"], [0.9, \"#4d9221\"], [1, \"#276419\"]], \"sequential\": [[0.0, \"#0d0887\"], [0.1111111111111111, \"#46039f\"], [0.2222222222222222, \"#7201a8\"], [0.3333333333333333, \"#9c179e\"], [0.4444444444444444, \"#bd3786\"], [0.5555555555555556, \"#d8576b\"], [0.6666666666666666, \"#ed7953\"], [0.7777777777777778, \"#fb9f3a\"], [0.8888888888888888, \"#fdca26\"], [1.0, \"#f0f921\"]], \"sequentialminus\": [[0.0, \"#0d0887\"], [0.1111111111111111, \"#46039f\"], [0.2222222222222222, \"#7201a8\"], [0.3333333333333333, \"#9c179e\"], [0.4444444444444444, \"#bd3786\"], [0.5555555555555556, \"#d8576b\"], [0.6666666666666666, \"#ed7953\"], [0.7777777777777778, \"#fb9f3a\"], [0.8888888888888888, \"#fdca26\"], [1.0, \"#f0f921\"]]}, \"colorway\": [\"#636efa\", \"#EF553B\", \"#00cc96\", \"#ab63fa\", \"#FFA15A\", \"#19d3f3\", \"#FF6692\", \"#B6E880\", \"#FF97FF\", \"#FECB52\"], \"font\": {\"color\": \"#2a3f5f\"}, \"geo\": {\"bgcolor\": \"white\", \"lakecolor\": \"white\", \"landcolor\": \"#E5ECF6\", \"showlakes\": true, \"showland\": true, \"subunitcolor\": \"white\"}, \"hoverlabel\": {\"align\": \"left\"}, \"hovermode\": \"closest\", \"mapbox\": {\"style\": \"light\"}, \"paper_bgcolor\": \"white\", \"plot_bgcolor\": \"#E5ECF6\", \"polar\": {\"angularaxis\": {\"gridcolor\": \"white\", \"linecolor\": \"white\", \"ticks\": \"\"}, \"bgcolor\": \"#E5ECF6\", \"radialaxis\": {\"gridcolor\": \"white\", \"linecolor\": \"white\", \"ticks\": \"\"}}, \"scene\": {\"xaxis\": {\"backgroundcolor\": \"#E5ECF6\", \"gridcolor\": \"white\", \"gridwidth\": 2, \"linecolor\": \"white\", \"showbackground\": true, \"ticks\": \"\", \"zerolinecolor\": \"white\"}, \"yaxis\": {\"backgroundcolor\": \"#E5ECF6\", \"gridcolor\": \"white\", \"gridwidth\": 2, \"linecolor\": \"white\", \"showbackground\": true, \"ticks\": \"\", \"zerolinecolor\": \"white\"}, \"zaxis\": {\"backgroundcolor\": \"#E5ECF6\", \"gridcolor\": \"white\", \"gridwidth\": 2, \"linecolor\": \"white\", \"showbackground\": true, \"ticks\": \"\", \"zerolinecolor\": \"white\"}}, \"shapedefaults\": {\"line\": {\"color\": \"#2a3f5f\"}}, \"ternary\": {\"aaxis\": {\"gridcolor\": \"white\", \"linecolor\": \"white\", \"ticks\": \"\"}, \"baxis\": {\"gridcolor\": \"white\", \"linecolor\": \"white\", \"ticks\": \"\"}, \"bgcolor\": \"#E5ECF6\", \"caxis\": {\"gridcolor\": \"white\", \"linecolor\": \"white\", \"ticks\": \"\"}}, \"title\": {\"x\": 0.05}, \"xaxis\": {\"automargin\": true, \"gridcolor\": \"white\", \"linecolor\": \"white\", \"ticks\": \"\", \"title\": {\"standoff\": 15}, \"zerolinecolor\": \"white\", \"zerolinewidth\": 2}, \"yaxis\": {\"automargin\": true, \"gridcolor\": \"white\", \"linecolor\": \"white\", \"ticks\": \"\", \"title\": {\"standoff\": 15}, \"zerolinecolor\": \"white\", \"zerolinewidth\": 2}}}, \"xaxis\": {\"anchor\": \"y\", \"categoryarray\": [\"GPE\", \"DATE\", \"ORG\", \"NORP\", \"TIME\", \"WORK_OF_ART\", \"PERSON\", \"CARDINAL\", \"QUANTITY\", \"ORDINAL\", \"PRODUCT\", \"FAC\", \"MONEY\", \"LOC\", \"EVENT\", \"LANGUAGE\", \"LAW\"], \"categoryorder\": \"array\", \"domain\": [0.0, 1.0], \"title\": {\"text\": \"label\"}}, \"yaxis\": {\"anchor\": \"x\", \"domain\": [0.0, 1.0], \"title\": {\"text\": \"count\"}}},\n",
              "                        {\"responsive\": true}\n",
              "                    ).then(function(){\n",
              "                            \n",
              "var gd = document.getElementById('8273ebdd-0047-4a72-9aea-73777a0ff95d');\n",
              "var x = new MutationObserver(function (mutations, observer) {{\n",
              "        var display = window.getComputedStyle(gd).display;\n",
              "        if (!display || display === 'none') {{\n",
              "            console.log([gd, 'removed!']);\n",
              "            Plotly.purge(gd);\n",
              "            observer.disconnect();\n",
              "        }}\n",
              "}});\n",
              "\n",
              "// Listen for the removal of the full notebook cells\n",
              "var notebookContainer = gd.closest('#notebook-container');\n",
              "if (notebookContainer) {{\n",
              "    x.observe(notebookContainer, {childList: true});\n",
              "}}\n",
              "\n",
              "// Listen for the clearing of the current output cell\n",
              "var outputEl = gd.closest('.output');\n",
              "if (outputEl) {{\n",
              "    x.observe(outputEl, {childList: true});\n",
              "}}\n",
              "\n",
              "                        })\n",
              "                };\n",
              "                \n",
              "            </script>\n",
              "        </div>\n",
              "</body>\n",
              "</html>"
            ]
          },
          "metadata": {
            "tags": []
          }
        }
      ]
    },
    {
      "cell_type": "code",
      "metadata": {
        "colab": {
          "base_uri": "https://localhost:8080/",
          "height": 402
        },
        "id": "vQz1Y7GHGi6I",
        "outputId": "ad026534-cb76-4980-92a3-c738f25cfc65"
      },
      "source": [
        "df2 = pd.DataFrame(entities2, columns = ['text','label'], dtype=str)\r\n",
        "df2"
      ],
      "execution_count": 215,
      "outputs": [
        {
          "output_type": "execute_result",
          "data": {
            "text/html": [
              "<div>\n",
              "<style scoped>\n",
              "    .dataframe tbody tr th:only-of-type {\n",
              "        vertical-align: middle;\n",
              "    }\n",
              "\n",
              "    .dataframe tbody tr th {\n",
              "        vertical-align: top;\n",
              "    }\n",
              "\n",
              "    .dataframe thead th {\n",
              "        text-align: right;\n",
              "    }\n",
              "</style>\n",
              "<table border=\"1\" class=\"dataframe\">\n",
              "  <thead>\n",
              "    <tr style=\"text-align: right;\">\n",
              "      <th></th>\n",
              "      <th>text</th>\n",
              "      <th>label</th>\n",
              "    </tr>\n",
              "  </thead>\n",
              "  <tbody>\n",
              "    <tr>\n",
              "      <th>0</th>\n",
              "      <td>Buck Mulligan</td>\n",
              "      <td>PERSON</td>\n",
              "    </tr>\n",
              "    <tr>\n",
              "      <th>1</th>\n",
              "      <td>the mild morning air</td>\n",
              "      <td>TIME</td>\n",
              "    </tr>\n",
              "    <tr>\n",
              "      <th>2</th>\n",
              "      <td>Dei_</td>\n",
              "      <td>PERSON</td>\n",
              "    </tr>\n",
              "    <tr>\n",
              "      <th>3</th>\n",
              "      <td>Kinch</td>\n",
              "      <td>PERSON</td>\n",
              "    </tr>\n",
              "    <tr>\n",
              "      <th>4</th>\n",
              "      <td>Stephen Dedalus</td>\n",
              "      <td>PERSON</td>\n",
              "    </tr>\n",
              "    <tr>\n",
              "      <th>...</th>\n",
              "      <td>...</td>\n",
              "      <td>...</td>\n",
              "    </tr>\n",
              "    <tr>\n",
              "      <th>15614</th>\n",
              "      <td>Alameda</td>\n",
              "      <td>GPE</td>\n",
              "    </tr>\n",
              "    <tr>\n",
              "      <th>15615</th>\n",
              "      <td>Gibraltar</td>\n",
              "      <td>ORG</td>\n",
              "    </tr>\n",
              "    <tr>\n",
              "      <th>15616</th>\n",
              "      <td>Andalusian</td>\n",
              "      <td>NORP</td>\n",
              "    </tr>\n",
              "    <tr>\n",
              "      <th>15617</th>\n",
              "      <td>Moorish</td>\n",
              "      <td>NORP</td>\n",
              "    </tr>\n",
              "    <tr>\n",
              "      <th>15618</th>\n",
              "      <td>1914-1921</td>\n",
              "      <td>DATE</td>\n",
              "    </tr>\n",
              "  </tbody>\n",
              "</table>\n",
              "<p>15619 rows × 2 columns</p>\n",
              "</div>"
            ],
            "text/plain": [
              "                       text   label\n",
              "0             Buck Mulligan  PERSON\n",
              "1      the mild morning air    TIME\n",
              "2                      Dei_  PERSON\n",
              "3                     Kinch  PERSON\n",
              "4           Stephen Dedalus  PERSON\n",
              "...                     ...     ...\n",
              "15614               Alameda     GPE\n",
              "15615             Gibraltar     ORG\n",
              "15616            Andalusian    NORP\n",
              "15617               Moorish    NORP\n",
              "15618             1914-1921    DATE\n",
              "\n",
              "[15619 rows x 2 columns]"
            ]
          },
          "metadata": {
            "tags": []
          },
          "execution_count": 215
        }
      ]
    },
    {
      "cell_type": "code",
      "metadata": {
        "colab": {
          "base_uri": "https://localhost:8080/",
          "height": 542
        },
        "id": "5AS9hVbuJfe2",
        "outputId": "acc27fc8-f61a-4e55-813e-c7f99c51356f"
      },
      "source": [
        "fig = px.histogram(df2, x=\"label\", color='label')\r\n",
        "fig.show()"
      ],
      "execution_count": 216,
      "outputs": [
        {
          "output_type": "display_data",
          "data": {
            "text/html": [
              "<html>\n",
              "<head><meta charset=\"utf-8\" /></head>\n",
              "<body>\n",
              "    <div>\n",
              "            <script src=\"https://cdnjs.cloudflare.com/ajax/libs/mathjax/2.7.5/MathJax.js?config=TeX-AMS-MML_SVG\"></script><script type=\"text/javascript\">if (window.MathJax) {MathJax.Hub.Config({SVG: {font: \"STIX-Web\"}});}</script>\n",
              "                <script type=\"text/javascript\">window.PlotlyConfig = {MathJaxConfig: 'local'};</script>\n",
              "        <script src=\"https://cdn.plot.ly/plotly-latest.min.js\"></script>    \n",
              "            <div id=\"462e6d4b-c489-4572-8bf5-7beb43101eea\" class=\"plotly-graph-div\" style=\"height:525px; width:100%;\"></div>\n",
              "            <script type=\"text/javascript\">\n",
              "                \n",
              "                    window.PLOTLYENV=window.PLOTLYENV || {};\n",
              "                    \n",
              "                if (document.getElementById(\"462e6d4b-c489-4572-8bf5-7beb43101eea\")) {\n",
              "                    Plotly.newPlot(\n",
              "                        '462e6d4b-c489-4572-8bf5-7beb43101eea',\n",
              "                        [{\"alignmentgroup\": \"True\", \"bingroup\": \"x\", \"hoverlabel\": {\"namelength\": 0}, \"hovertemplate\": \"label=%{x}<br>count=%{y}\", \"legendgroup\": \"label=PERSON\", \"marker\": {\"color\": \"#636efa\"}, \"name\": \"label=PERSON\", \"offsetgroup\": \"label=PERSON\", \"orientation\": \"v\", \"showlegend\": true, \"type\": \"histogram\", \"x\": [\"PERSON\", \"PERSON\", \"PERSON\", \"PERSON\", \"PERSON\", \"PERSON\", \"PERSON\", \"PERSON\", \"PERSON\", \"PERSON\", \"PERSON\", \"PERSON\", \"PERSON\", \"PERSON\", \"PERSON\", \"PERSON\", \"PERSON\", \"PERSON\", \"PERSON\", \"PERSON\", \"PERSON\", \"PERSON\", \"PERSON\", \"PERSON\", \"PERSON\", \"PERSON\", \"PERSON\", \"PERSON\", \"PERSON\", \"PERSON\", \"PERSON\", \"PERSON\", \"PERSON\", \"PERSON\", \"PERSON\", \"PERSON\", \"PERSON\", \"PERSON\", \"PERSON\", \"PERSON\", \"PERSON\", \"PERSON\", \"PERSON\", \"PERSON\", \"PERSON\", \"PERSON\", \"PERSON\", \"PERSON\", \"PERSON\", \"PERSON\", \"PERSON\", \"PERSON\", \"PERSON\", \"PERSON\", \"PERSON\", \"PERSON\", \"PERSON\", \"PERSON\", \"PERSON\", \"PERSON\", \"PERSON\", \"PERSON\", \"PERSON\", \"PERSON\", \"PERSON\", \"PERSON\", \"PERSON\", \"PERSON\", \"PERSON\", \"PERSON\", \"PERSON\", \"PERSON\", \"PERSON\", \"PERSON\", \"PERSON\", \"PERSON\", \"PERSON\", \"PERSON\", \"PERSON\", \"PERSON\", \"PERSON\", \"PERSON\", \"PERSON\", \"PERSON\", \"PERSON\", \"PERSON\", \"PERSON\", \"PERSON\", \"PERSON\", \"PERSON\", \"PERSON\", \"PERSON\", \"PERSON\", \"PERSON\", \"PERSON\", \"PERSON\", \"PERSON\", \"PERSON\", \"PERSON\", \"PERSON\", \"PERSON\", \"PERSON\", \"PERSON\", \"PERSON\", \"PERSON\", \"PERSON\", \"PERSON\", \"PERSON\", \"PERSON\", \"PERSON\", \"PERSON\", \"PERSON\", \"PERSON\", \"PERSON\", \"PERSON\", \"PERSON\", \"PERSON\", \"PERSON\", \"PERSON\", \"PERSON\", \"PERSON\", \"PERSON\", \"PERSON\", \"PERSON\", \"PERSON\", \"PERSON\", \"PERSON\", \"PERSON\", \"PERSON\", \"PERSON\", \"PERSON\", \"PERSON\", \"PERSON\", \"PERSON\", \"PERSON\", \"PERSON\", \"PERSON\", \"PERSON\", \"PERSON\", \"PERSON\", \"PERSON\", \"PERSON\", \"PERSON\", \"PERSON\", \"PERSON\", \"PERSON\", \"PERSON\", \"PERSON\", \"PERSON\", \"PERSON\", \"PERSON\", \"PERSON\", \"PERSON\", \"PERSON\", \"PERSON\", \"PERSON\", \"PERSON\", \"PERSON\", \"PERSON\", \"PERSON\", \"PERSON\", \"PERSON\", \"PERSON\", \"PERSON\", \"PERSON\", \"PERSON\", \"PERSON\", \"PERSON\", \"PERSON\", \"PERSON\", \"PERSON\", \"PERSON\", \"PERSON\", \"PERSON\", \"PERSON\", \"PERSON\", \"PERSON\", \"PERSON\", \"PERSON\", \"PERSON\", \"PERSON\", \"PERSON\", \"PERSON\", \"PERSON\", \"PERSON\", \"PERSON\", \"PERSON\", \"PERSON\", \"PERSON\", \"PERSON\", \"PERSON\", \"PERSON\", \"PERSON\", \"PERSON\", \"PERSON\", \"PERSON\", \"PERSON\", \"PERSON\", \"PERSON\", \"PERSON\", \"PERSON\", \"PERSON\", \"PERSON\", \"PERSON\", \"PERSON\", \"PERSON\", \"PERSON\", \"PERSON\", \"PERSON\", \"PERSON\", \"PERSON\", \"PERSON\", \"PERSON\", \"PERSON\", \"PERSON\", \"PERSON\", \"PERSON\", \"PERSON\", \"PERSON\", \"PERSON\", \"PERSON\", \"PERSON\", \"PERSON\", \"PERSON\", \"PERSON\", \"PERSON\", \"PERSON\", \"PERSON\", \"PERSON\", \"PERSON\", \"PERSON\", \"PERSON\", \"PERSON\", \"PERSON\", \"PERSON\", \"PERSON\", \"PERSON\", \"PERSON\", \"PERSON\", \"PERSON\", \"PERSON\", \"PERSON\", \"PERSON\", \"PERSON\", \"PERSON\", \"PERSON\", \"PERSON\", \"PERSON\", \"PERSON\", \"PERSON\", \"PERSON\", \"PERSON\", \"PERSON\", \"PERSON\", \"PERSON\", \"PERSON\", \"PERSON\", \"PERSON\", \"PERSON\", \"PERSON\", \"PERSON\", \"PERSON\", \"PERSON\", \"PERSON\", \"PERSON\", \"PERSON\", \"PERSON\", \"PERSON\", \"PERSON\", \"PERSON\", \"PERSON\", \"PERSON\", \"PERSON\", \"PERSON\", \"PERSON\", \"PERSON\", \"PERSON\", \"PERSON\", \"PERSON\", \"PERSON\", \"PERSON\", \"PERSON\", \"PERSON\", \"PERSON\", \"PERSON\", \"PERSON\", \"PERSON\", \"PERSON\", \"PERSON\", \"PERSON\", \"PERSON\", \"PERSON\", \"PERSON\", \"PERSON\", \"PERSON\", \"PERSON\", \"PERSON\", \"PERSON\", \"PERSON\", \"PERSON\", \"PERSON\", \"PERSON\", \"PERSON\", \"PERSON\", \"PERSON\", \"PERSON\", \"PERSON\", \"PERSON\", \"PERSON\", \"PERSON\", \"PERSON\", \"PERSON\", \"PERSON\", \"PERSON\", \"PERSON\", \"PERSON\", \"PERSON\", \"PERSON\", \"PERSON\", \"PERSON\", \"PERSON\", \"PERSON\", \"PERSON\", \"PERSON\", \"PERSON\", \"PERSON\", \"PERSON\", \"PERSON\", \"PERSON\", \"PERSON\", \"PERSON\", \"PERSON\", \"PERSON\", \"PERSON\", \"PERSON\", \"PERSON\", \"PERSON\", \"PERSON\", \"PERSON\", \"PERSON\", \"PERSON\", \"PERSON\", \"PERSON\", \"PERSON\", \"PERSON\", \"PERSON\", \"PERSON\", \"PERSON\", \"PERSON\", \"PERSON\", \"PERSON\", \"PERSON\", \"PERSON\", \"PERSON\", \"PERSON\", \"PERSON\", \"PERSON\", \"PERSON\", \"PERSON\", \"PERSON\", \"PERSON\", \"PERSON\", \"PERSON\", \"PERSON\", \"PERSON\", \"PERSON\", \"PERSON\", \"PERSON\", \"PERSON\", \"PERSON\", \"PERSON\", \"PERSON\", \"PERSON\", \"PERSON\", \"PERSON\", \"PERSON\", \"PERSON\", \"PERSON\", \"PERSON\", \"PERSON\", \"PERSON\", \"PERSON\", \"PERSON\", \"PERSON\", \"PERSON\", \"PERSON\", \"PERSON\", \"PERSON\", \"PERSON\", \"PERSON\", \"PERSON\", \"PERSON\", \"PERSON\", \"PERSON\", \"PERSON\", \"PERSON\", \"PERSON\", \"PERSON\", \"PERSON\", \"PERSON\", \"PERSON\", \"PERSON\", \"PERSON\", \"PERSON\", \"PERSON\", \"PERSON\", \"PERSON\", \"PERSON\", \"PERSON\", \"PERSON\", \"PERSON\", \"PERSON\", \"PERSON\", \"PERSON\", \"PERSON\", \"PERSON\", \"PERSON\", \"PERSON\", \"PERSON\", \"PERSON\", \"PERSON\", \"PERSON\", \"PERSON\", \"PERSON\", \"PERSON\", \"PERSON\", \"PERSON\", \"PERSON\", \"PERSON\", \"PERSON\", \"PERSON\", \"PERSON\", \"PERSON\", \"PERSON\", \"PERSON\", \"PERSON\", \"PERSON\", \"PERSON\", \"PERSON\", \"PERSON\", \"PERSON\", \"PERSON\", \"PERSON\", \"PERSON\", \"PERSON\", \"PERSON\", \"PERSON\", \"PERSON\", \"PERSON\", \"PERSON\", \"PERSON\", \"PERSON\", \"PERSON\", \"PERSON\", \"PERSON\", \"PERSON\", \"PERSON\", \"PERSON\", \"PERSON\", \"PERSON\", \"PERSON\", \"PERSON\", \"PERSON\", \"PERSON\", \"PERSON\", \"PERSON\", \"PERSON\", \"PERSON\", \"PERSON\", \"PERSON\", \"PERSON\", \"PERSON\", \"PERSON\", \"PERSON\", \"PERSON\", \"PERSON\", \"PERSON\", \"PERSON\", \"PERSON\", \"PERSON\", \"PERSON\", \"PERSON\", \"PERSON\", \"PERSON\", \"PERSON\", \"PERSON\", \"PERSON\", \"PERSON\", \"PERSON\", \"PERSON\", \"PERSON\", \"PERSON\", \"PERSON\", \"PERSON\", \"PERSON\", \"PERSON\", \"PERSON\", \"PERSON\", \"PERSON\", \"PERSON\", \"PERSON\", \"PERSON\", \"PERSON\", \"PERSON\", \"PERSON\", \"PERSON\", \"PERSON\", \"PERSON\", \"PERSON\", \"PERSON\", \"PERSON\", \"PERSON\", \"PERSON\", \"PERSON\", \"PERSON\", \"PERSON\", \"PERSON\", \"PERSON\", \"PERSON\", \"PERSON\", \"PERSON\", \"PERSON\", \"PERSON\", \"PERSON\", \"PERSON\", \"PERSON\", \"PERSON\", \"PERSON\", \"PERSON\", \"PERSON\", \"PERSON\", \"PERSON\", \"PERSON\", \"PERSON\", \"PERSON\", \"PERSON\", \"PERSON\", \"PERSON\", \"PERSON\", \"PERSON\", \"PERSON\", \"PERSON\", \"PERSON\", \"PERSON\", \"PERSON\", \"PERSON\", \"PERSON\", \"PERSON\", \"PERSON\", \"PERSON\", \"PERSON\", \"PERSON\", \"PERSON\", \"PERSON\", \"PERSON\", \"PERSON\", \"PERSON\", \"PERSON\", \"PERSON\", \"PERSON\", \"PERSON\", \"PERSON\", \"PERSON\", \"PERSON\", \"PERSON\", \"PERSON\", \"PERSON\", \"PERSON\", \"PERSON\", \"PERSON\", \"PERSON\", \"PERSON\", \"PERSON\", \"PERSON\", \"PERSON\", \"PERSON\", \"PERSON\", \"PERSON\", \"PERSON\", \"PERSON\", \"PERSON\", \"PERSON\", \"PERSON\", \"PERSON\", \"PERSON\", \"PERSON\", \"PERSON\", \"PERSON\", \"PERSON\", \"PERSON\", \"PERSON\", \"PERSON\", \"PERSON\", \"PERSON\", \"PERSON\", \"PERSON\", \"PERSON\", \"PERSON\", \"PERSON\", \"PERSON\", \"PERSON\", \"PERSON\", \"PERSON\", \"PERSON\", \"PERSON\", \"PERSON\", \"PERSON\", \"PERSON\", \"PERSON\", \"PERSON\", \"PERSON\", \"PERSON\", \"PERSON\", \"PERSON\", \"PERSON\", \"PERSON\", \"PERSON\", \"PERSON\", \"PERSON\", \"PERSON\", \"PERSON\", \"PERSON\", \"PERSON\", \"PERSON\", \"PERSON\", \"PERSON\", \"PERSON\", \"PERSON\", \"PERSON\", \"PERSON\", \"PERSON\", \"PERSON\", \"PERSON\", \"PERSON\", \"PERSON\", \"PERSON\", \"PERSON\", \"PERSON\", \"PERSON\", \"PERSON\", \"PERSON\", \"PERSON\", \"PERSON\", \"PERSON\", \"PERSON\", \"PERSON\", \"PERSON\", \"PERSON\", \"PERSON\", \"PERSON\", \"PERSON\", \"PERSON\", \"PERSON\", \"PERSON\", \"PERSON\", \"PERSON\", \"PERSON\", \"PERSON\", \"PERSON\", \"PERSON\", \"PERSON\", \"PERSON\", \"PERSON\", \"PERSON\", \"PERSON\", \"PERSON\", \"PERSON\", \"PERSON\", \"PERSON\", \"PERSON\", \"PERSON\", \"PERSON\", \"PERSON\", \"PERSON\", \"PERSON\", \"PERSON\", \"PERSON\", \"PERSON\", \"PERSON\", \"PERSON\", \"PERSON\", \"PERSON\", \"PERSON\", \"PERSON\", \"PERSON\", \"PERSON\", \"PERSON\", \"PERSON\", \"PERSON\", \"PERSON\", \"PERSON\", \"PERSON\", \"PERSON\", \"PERSON\", \"PERSON\", \"PERSON\", \"PERSON\", \"PERSON\", \"PERSON\", \"PERSON\", \"PERSON\", \"PERSON\", \"PERSON\", \"PERSON\", \"PERSON\", \"PERSON\", \"PERSON\", \"PERSON\", \"PERSON\", \"PERSON\", \"PERSON\", \"PERSON\", \"PERSON\", \"PERSON\", \"PERSON\", \"PERSON\", \"PERSON\", \"PERSON\", \"PERSON\", \"PERSON\", \"PERSON\", \"PERSON\", \"PERSON\", \"PERSON\", \"PERSON\", \"PERSON\", \"PERSON\", \"PERSON\", \"PERSON\", \"PERSON\", \"PERSON\", \"PERSON\", \"PERSON\", \"PERSON\", \"PERSON\", \"PERSON\", \"PERSON\", \"PERSON\", \"PERSON\", \"PERSON\", \"PERSON\", \"PERSON\", \"PERSON\", \"PERSON\", \"PERSON\", \"PERSON\", \"PERSON\", \"PERSON\", \"PERSON\", \"PERSON\", \"PERSON\", \"PERSON\", \"PERSON\", \"PERSON\", \"PERSON\", \"PERSON\", \"PERSON\", \"PERSON\", \"PERSON\", \"PERSON\", \"PERSON\", \"PERSON\", \"PERSON\", \"PERSON\", \"PERSON\", \"PERSON\", \"PERSON\", \"PERSON\", \"PERSON\", \"PERSON\", \"PERSON\", \"PERSON\", \"PERSON\", \"PERSON\", \"PERSON\", \"PERSON\", \"PERSON\", \"PERSON\", \"PERSON\", \"PERSON\", \"PERSON\", \"PERSON\", \"PERSON\", \"PERSON\", \"PERSON\", \"PERSON\", \"PERSON\", \"PERSON\", \"PERSON\", \"PERSON\", \"PERSON\", \"PERSON\", \"PERSON\", \"PERSON\", \"PERSON\", \"PERSON\", \"PERSON\", \"PERSON\", \"PERSON\", \"PERSON\", \"PERSON\", \"PERSON\", \"PERSON\", \"PERSON\", \"PERSON\", \"PERSON\", \"PERSON\", \"PERSON\", \"PERSON\", \"PERSON\", \"PERSON\", \"PERSON\", \"PERSON\", \"PERSON\", \"PERSON\", \"PERSON\", \"PERSON\", \"PERSON\", \"PERSON\", \"PERSON\", \"PERSON\", \"PERSON\", \"PERSON\", \"PERSON\", \"PERSON\", \"PERSON\", \"PERSON\", \"PERSON\", \"PERSON\", \"PERSON\", \"PERSON\", \"PERSON\", \"PERSON\", \"PERSON\", \"PERSON\", \"PERSON\", \"PERSON\", \"PERSON\", \"PERSON\", \"PERSON\", \"PERSON\", \"PERSON\", \"PERSON\", \"PERSON\", \"PERSON\", \"PERSON\", \"PERSON\", \"PERSON\", \"PERSON\", \"PERSON\", \"PERSON\", \"PERSON\", \"PERSON\", \"PERSON\", \"PERSON\", \"PERSON\", \"PERSON\", \"PERSON\", \"PERSON\", \"PERSON\", \"PERSON\", \"PERSON\", \"PERSON\", \"PERSON\", \"PERSON\", \"PERSON\", \"PERSON\", \"PERSON\", \"PERSON\", \"PERSON\", \"PERSON\", \"PERSON\", \"PERSON\", \"PERSON\", \"PERSON\", \"PERSON\", \"PERSON\", \"PERSON\", \"PERSON\", \"PERSON\", \"PERSON\", \"PERSON\", \"PERSON\", \"PERSON\", \"PERSON\", \"PERSON\", \"PERSON\", \"PERSON\", \"PERSON\", \"PERSON\", \"PERSON\", \"PERSON\", \"PERSON\", \"PERSON\", \"PERSON\", \"PERSON\", \"PERSON\", \"PERSON\", \"PERSON\", \"PERSON\", \"PERSON\", \"PERSON\", \"PERSON\", \"PERSON\", \"PERSON\", \"PERSON\", \"PERSON\", \"PERSON\", \"PERSON\", \"PERSON\", \"PERSON\", \"PERSON\", \"PERSON\", \"PERSON\", \"PERSON\", \"PERSON\", \"PERSON\", \"PERSON\", \"PERSON\", \"PERSON\", \"PERSON\", \"PERSON\", \"PERSON\", \"PERSON\", \"PERSON\", \"PERSON\", \"PERSON\", \"PERSON\", \"PERSON\", \"PERSON\", \"PERSON\", \"PERSON\", \"PERSON\", \"PERSON\", \"PERSON\", \"PERSON\", \"PERSON\", \"PERSON\", \"PERSON\", \"PERSON\", \"PERSON\", \"PERSON\", \"PERSON\", \"PERSON\", \"PERSON\", \"PERSON\", \"PERSON\", \"PERSON\", \"PERSON\", \"PERSON\", \"PERSON\", \"PERSON\", \"PERSON\", \"PERSON\", \"PERSON\", \"PERSON\", \"PERSON\", \"PERSON\", \"PERSON\", \"PERSON\", \"PERSON\", \"PERSON\", \"PERSON\", \"PERSON\", \"PERSON\", \"PERSON\", \"PERSON\", \"PERSON\", \"PERSON\", \"PERSON\", \"PERSON\", \"PERSON\", \"PERSON\", \"PERSON\", \"PERSON\", \"PERSON\", \"PERSON\", \"PERSON\", \"PERSON\", \"PERSON\", \"PERSON\", \"PERSON\", \"PERSON\", \"PERSON\", \"PERSON\", \"PERSON\", \"PERSON\", \"PERSON\", \"PERSON\", \"PERSON\", \"PERSON\", \"PERSON\", \"PERSON\", \"PERSON\", \"PERSON\", \"PERSON\", \"PERSON\", \"PERSON\", \"PERSON\", \"PERSON\", \"PERSON\", \"PERSON\", \"PERSON\", \"PERSON\", \"PERSON\", \"PERSON\", \"PERSON\", \"PERSON\", \"PERSON\", \"PERSON\", \"PERSON\", \"PERSON\", \"PERSON\", \"PERSON\", \"PERSON\", \"PERSON\", \"PERSON\", \"PERSON\", \"PERSON\", \"PERSON\", \"PERSON\", \"PERSON\", \"PERSON\", \"PERSON\", \"PERSON\", \"PERSON\", \"PERSON\", \"PERSON\", \"PERSON\", \"PERSON\", \"PERSON\", \"PERSON\", \"PERSON\", \"PERSON\", \"PERSON\", \"PERSON\", \"PERSON\", \"PERSON\", \"PERSON\", \"PERSON\", \"PERSON\", \"PERSON\", \"PERSON\", \"PERSON\", \"PERSON\", \"PERSON\", \"PERSON\", \"PERSON\", \"PERSON\", \"PERSON\", \"PERSON\", \"PERSON\", \"PERSON\", \"PERSON\", \"PERSON\", \"PERSON\", \"PERSON\", \"PERSON\", \"PERSON\", \"PERSON\", \"PERSON\", \"PERSON\", \"PERSON\", \"PERSON\", \"PERSON\", \"PERSON\", \"PERSON\", \"PERSON\", \"PERSON\", \"PERSON\", \"PERSON\", \"PERSON\", \"PERSON\", \"PERSON\", \"PERSON\", \"PERSON\", \"PERSON\", \"PERSON\", \"PERSON\", \"PERSON\", \"PERSON\", \"PERSON\", \"PERSON\", \"PERSON\", \"PERSON\", \"PERSON\", \"PERSON\", \"PERSON\", \"PERSON\", \"PERSON\", \"PERSON\", \"PERSON\", \"PERSON\", \"PERSON\", \"PERSON\", \"PERSON\", \"PERSON\", \"PERSON\", \"PERSON\", \"PERSON\", \"PERSON\", \"PERSON\", \"PERSON\", \"PERSON\", \"PERSON\", \"PERSON\", \"PERSON\", \"PERSON\", \"PERSON\", \"PERSON\", \"PERSON\", \"PERSON\", \"PERSON\", \"PERSON\", \"PERSON\", \"PERSON\", \"PERSON\", \"PERSON\", \"PERSON\", \"PERSON\", \"PERSON\", \"PERSON\", \"PERSON\", \"PERSON\", \"PERSON\", \"PERSON\", \"PERSON\", \"PERSON\", \"PERSON\", \"PERSON\", \"PERSON\", \"PERSON\", \"PERSON\", \"PERSON\", \"PERSON\", \"PERSON\", \"PERSON\", \"PERSON\", \"PERSON\", \"PERSON\", \"PERSON\", \"PERSON\", \"PERSON\", \"PERSON\", \"PERSON\", \"PERSON\", \"PERSON\", \"PERSON\", \"PERSON\", \"PERSON\", \"PERSON\", \"PERSON\", \"PERSON\", \"PERSON\", \"PERSON\", \"PERSON\", \"PERSON\", \"PERSON\", \"PERSON\", \"PERSON\", \"PERSON\", \"PERSON\", \"PERSON\", \"PERSON\", \"PERSON\", \"PERSON\", \"PERSON\", \"PERSON\", \"PERSON\", \"PERSON\", \"PERSON\", \"PERSON\", \"PERSON\", \"PERSON\", \"PERSON\", \"PERSON\", \"PERSON\", \"PERSON\", \"PERSON\", \"PERSON\", \"PERSON\", \"PERSON\", \"PERSON\", \"PERSON\", \"PERSON\", \"PERSON\", \"PERSON\", \"PERSON\", \"PERSON\", \"PERSON\", \"PERSON\", \"PERSON\", \"PERSON\", \"PERSON\", \"PERSON\", \"PERSON\", \"PERSON\", \"PERSON\", \"PERSON\", \"PERSON\", \"PERSON\", \"PERSON\", \"PERSON\", \"PERSON\", \"PERSON\", \"PERSON\", \"PERSON\", \"PERSON\", \"PERSON\", \"PERSON\", \"PERSON\", \"PERSON\", \"PERSON\", \"PERSON\", \"PERSON\", \"PERSON\", \"PERSON\", \"PERSON\", \"PERSON\", \"PERSON\", \"PERSON\", \"PERSON\", \"PERSON\", \"PERSON\", \"PERSON\", \"PERSON\", \"PERSON\", \"PERSON\", \"PERSON\", \"PERSON\", \"PERSON\", \"PERSON\", \"PERSON\", \"PERSON\", \"PERSON\", \"PERSON\", \"PERSON\", \"PERSON\", \"PERSON\", \"PERSON\", \"PERSON\", \"PERSON\", \"PERSON\", \"PERSON\", \"PERSON\", \"PERSON\", \"PERSON\", \"PERSON\", \"PERSON\", \"PERSON\", \"PERSON\", \"PERSON\", \"PERSON\", \"PERSON\", \"PERSON\", \"PERSON\", \"PERSON\", \"PERSON\", \"PERSON\", \"PERSON\", \"PERSON\", \"PERSON\", \"PERSON\", \"PERSON\", \"PERSON\", \"PERSON\", \"PERSON\", \"PERSON\", \"PERSON\", \"PERSON\", \"PERSON\", \"PERSON\", \"PERSON\", \"PERSON\", \"PERSON\", \"PERSON\", \"PERSON\", \"PERSON\", \"PERSON\", \"PERSON\", \"PERSON\", \"PERSON\", \"PERSON\", \"PERSON\", \"PERSON\", \"PERSON\", \"PERSON\", \"PERSON\", \"PERSON\", \"PERSON\", \"PERSON\", \"PERSON\", \"PERSON\", \"PERSON\", \"PERSON\", \"PERSON\", \"PERSON\", \"PERSON\", \"PERSON\", \"PERSON\", \"PERSON\", \"PERSON\", \"PERSON\", \"PERSON\", \"PERSON\", \"PERSON\", \"PERSON\", \"PERSON\", \"PERSON\", \"PERSON\", \"PERSON\", \"PERSON\", \"PERSON\", \"PERSON\", \"PERSON\", \"PERSON\", \"PERSON\", \"PERSON\", \"PERSON\", \"PERSON\", \"PERSON\", \"PERSON\", \"PERSON\", \"PERSON\", \"PERSON\", \"PERSON\", \"PERSON\", \"PERSON\", \"PERSON\", \"PERSON\", \"PERSON\", \"PERSON\", \"PERSON\", \"PERSON\", \"PERSON\", \"PERSON\", \"PERSON\", \"PERSON\", \"PERSON\", \"PERSON\", \"PERSON\", \"PERSON\", \"PERSON\", \"PERSON\", \"PERSON\", \"PERSON\", \"PERSON\", \"PERSON\", \"PERSON\", \"PERSON\", \"PERSON\", \"PERSON\", \"PERSON\", \"PERSON\", \"PERSON\", \"PERSON\", \"PERSON\", \"PERSON\", \"PERSON\", \"PERSON\", \"PERSON\", \"PERSON\", \"PERSON\", \"PERSON\", \"PERSON\", \"PERSON\", \"PERSON\", \"PERSON\", \"PERSON\", \"PERSON\", \"PERSON\", \"PERSON\", \"PERSON\", \"PERSON\", \"PERSON\", \"PERSON\", \"PERSON\", \"PERSON\", \"PERSON\", \"PERSON\", \"PERSON\", \"PERSON\", \"PERSON\", \"PERSON\", \"PERSON\", \"PERSON\", \"PERSON\", \"PERSON\", \"PERSON\", \"PERSON\", \"PERSON\", \"PERSON\", \"PERSON\", \"PERSON\", \"PERSON\", \"PERSON\", \"PERSON\", \"PERSON\", \"PERSON\", \"PERSON\", \"PERSON\", \"PERSON\", \"PERSON\", \"PERSON\", \"PERSON\", \"PERSON\", \"PERSON\", \"PERSON\", \"PERSON\", \"PERSON\", \"PERSON\", \"PERSON\", \"PERSON\", \"PERSON\", \"PERSON\", \"PERSON\", \"PERSON\", \"PERSON\", \"PERSON\", \"PERSON\", \"PERSON\", \"PERSON\", \"PERSON\", \"PERSON\", \"PERSON\", \"PERSON\", \"PERSON\", \"PERSON\", \"PERSON\", \"PERSON\", \"PERSON\", \"PERSON\", \"PERSON\", \"PERSON\", \"PERSON\", \"PERSON\", \"PERSON\", \"PERSON\", \"PERSON\", \"PERSON\", \"PERSON\", \"PERSON\", \"PERSON\", \"PERSON\", \"PERSON\", \"PERSON\", \"PERSON\", \"PERSON\", \"PERSON\", \"PERSON\", \"PERSON\", \"PERSON\", \"PERSON\", \"PERSON\", \"PERSON\", \"PERSON\", \"PERSON\", \"PERSON\", \"PERSON\", \"PERSON\", \"PERSON\", \"PERSON\", \"PERSON\", \"PERSON\", \"PERSON\", \"PERSON\", \"PERSON\", \"PERSON\", \"PERSON\", \"PERSON\", \"PERSON\", \"PERSON\", \"PERSON\", \"PERSON\", \"PERSON\", \"PERSON\", \"PERSON\", \"PERSON\", \"PERSON\", \"PERSON\", \"PERSON\", \"PERSON\", \"PERSON\", \"PERSON\", \"PERSON\", \"PERSON\", \"PERSON\", \"PERSON\", \"PERSON\", \"PERSON\", \"PERSON\", \"PERSON\", \"PERSON\", \"PERSON\", \"PERSON\", \"PERSON\", \"PERSON\", \"PERSON\", \"PERSON\", \"PERSON\", \"PERSON\", \"PERSON\", \"PERSON\", \"PERSON\", \"PERSON\", \"PERSON\", \"PERSON\", \"PERSON\", \"PERSON\", \"PERSON\", \"PERSON\", \"PERSON\", \"PERSON\", \"PERSON\", \"PERSON\", \"PERSON\", \"PERSON\", \"PERSON\", \"PERSON\", \"PERSON\", \"PERSON\", \"PERSON\", \"PERSON\", \"PERSON\", \"PERSON\", \"PERSON\", \"PERSON\", \"PERSON\", \"PERSON\", \"PERSON\", \"PERSON\", \"PERSON\", \"PERSON\", \"PERSON\", \"PERSON\", \"PERSON\", \"PERSON\", \"PERSON\", \"PERSON\", \"PERSON\", \"PERSON\", \"PERSON\", \"PERSON\", \"PERSON\", \"PERSON\", \"PERSON\", \"PERSON\", \"PERSON\", \"PERSON\", \"PERSON\", \"PERSON\", \"PERSON\", \"PERSON\", \"PERSON\", \"PERSON\", \"PERSON\", \"PERSON\", \"PERSON\", \"PERSON\", \"PERSON\", \"PERSON\", \"PERSON\", \"PERSON\", \"PERSON\", \"PERSON\", \"PERSON\", \"PERSON\", \"PERSON\", \"PERSON\", \"PERSON\", \"PERSON\", \"PERSON\", \"PERSON\", \"PERSON\", \"PERSON\", \"PERSON\", \"PERSON\", \"PERSON\", \"PERSON\", \"PERSON\", \"PERSON\", \"PERSON\", \"PERSON\", \"PERSON\", \"PERSON\", \"PERSON\", \"PERSON\", \"PERSON\", \"PERSON\", \"PERSON\", \"PERSON\", \"PERSON\", \"PERSON\", \"PERSON\", \"PERSON\", \"PERSON\", \"PERSON\", \"PERSON\", \"PERSON\", \"PERSON\", \"PERSON\", \"PERSON\", \"PERSON\", \"PERSON\", \"PERSON\", \"PERSON\", \"PERSON\", \"PERSON\", \"PERSON\", \"PERSON\", \"PERSON\", \"PERSON\", \"PERSON\", \"PERSON\", \"PERSON\", \"PERSON\", \"PERSON\", \"PERSON\", \"PERSON\", \"PERSON\", \"PERSON\", \"PERSON\", \"PERSON\", \"PERSON\", \"PERSON\", \"PERSON\", \"PERSON\", \"PERSON\", \"PERSON\", \"PERSON\", \"PERSON\", \"PERSON\", \"PERSON\", \"PERSON\", \"PERSON\", \"PERSON\", \"PERSON\", \"PERSON\", \"PERSON\", \"PERSON\", \"PERSON\", \"PERSON\", \"PERSON\", \"PERSON\", \"PERSON\", \"PERSON\", \"PERSON\", \"PERSON\", \"PERSON\", \"PERSON\", \"PERSON\", \"PERSON\", \"PERSON\", \"PERSON\", \"PERSON\", \"PERSON\", \"PERSON\", \"PERSON\", \"PERSON\", \"PERSON\", \"PERSON\", \"PERSON\", \"PERSON\", \"PERSON\", \"PERSON\", \"PERSON\", \"PERSON\", \"PERSON\", \"PERSON\", \"PERSON\", \"PERSON\", \"PERSON\", \"PERSON\", \"PERSON\", \"PERSON\", \"PERSON\", \"PERSON\", \"PERSON\", \"PERSON\", \"PERSON\", \"PERSON\", \"PERSON\", \"PERSON\", \"PERSON\", \"PERSON\", \"PERSON\", \"PERSON\", \"PERSON\", \"PERSON\", \"PERSON\", \"PERSON\", \"PERSON\", \"PERSON\", \"PERSON\", \"PERSON\", \"PERSON\", \"PERSON\", \"PERSON\", \"PERSON\", \"PERSON\", \"PERSON\", \"PERSON\", \"PERSON\", \"PERSON\", \"PERSON\", \"PERSON\", \"PERSON\", \"PERSON\", \"PERSON\", \"PERSON\", \"PERSON\", \"PERSON\", \"PERSON\", \"PERSON\", \"PERSON\", \"PERSON\", \"PERSON\", \"PERSON\", \"PERSON\", \"PERSON\", \"PERSON\", \"PERSON\", \"PERSON\", \"PERSON\", \"PERSON\", \"PERSON\", \"PERSON\", \"PERSON\", \"PERSON\", \"PERSON\", \"PERSON\", \"PERSON\", \"PERSON\", \"PERSON\", \"PERSON\", \"PERSON\", \"PERSON\", \"PERSON\", \"PERSON\", \"PERSON\", \"PERSON\", \"PERSON\", \"PERSON\", \"PERSON\", \"PERSON\", \"PERSON\", \"PERSON\", \"PERSON\", \"PERSON\", \"PERSON\", \"PERSON\", \"PERSON\", \"PERSON\", \"PERSON\", \"PERSON\", \"PERSON\", \"PERSON\", \"PERSON\", \"PERSON\", \"PERSON\", \"PERSON\", \"PERSON\", \"PERSON\", \"PERSON\", \"PERSON\", \"PERSON\", \"PERSON\", \"PERSON\", \"PERSON\", \"PERSON\", \"PERSON\", \"PERSON\", \"PERSON\", \"PERSON\", \"PERSON\", \"PERSON\", \"PERSON\", \"PERSON\", \"PERSON\", \"PERSON\", \"PERSON\", \"PERSON\", \"PERSON\", \"PERSON\", \"PERSON\", \"PERSON\", \"PERSON\", \"PERSON\", \"PERSON\", \"PERSON\", \"PERSON\", \"PERSON\", \"PERSON\", \"PERSON\", \"PERSON\", \"PERSON\", \"PERSON\", \"PERSON\", \"PERSON\", \"PERSON\", \"PERSON\", \"PERSON\", \"PERSON\", \"PERSON\", \"PERSON\", \"PERSON\", \"PERSON\", \"PERSON\", \"PERSON\", \"PERSON\", \"PERSON\", \"PERSON\", \"PERSON\", \"PERSON\", \"PERSON\", \"PERSON\", \"PERSON\", \"PERSON\", \"PERSON\", \"PERSON\", \"PERSON\", \"PERSON\", \"PERSON\", \"PERSON\", \"PERSON\", \"PERSON\", \"PERSON\", \"PERSON\", \"PERSON\", \"PERSON\", \"PERSON\", \"PERSON\", \"PERSON\", \"PERSON\", \"PERSON\", \"PERSON\", \"PERSON\", \"PERSON\", \"PERSON\", \"PERSON\", \"PERSON\", \"PERSON\", \"PERSON\", \"PERSON\", \"PERSON\", \"PERSON\", \"PERSON\", \"PERSON\", \"PERSON\", \"PERSON\", \"PERSON\", \"PERSON\", \"PERSON\", \"PERSON\", \"PERSON\", \"PERSON\", \"PERSON\", \"PERSON\", \"PERSON\", \"PERSON\", \"PERSON\", \"PERSON\", \"PERSON\", \"PERSON\", \"PERSON\", \"PERSON\", \"PERSON\", \"PERSON\", \"PERSON\", \"PERSON\", \"PERSON\", \"PERSON\", \"PERSON\", \"PERSON\", \"PERSON\", \"PERSON\", \"PERSON\", \"PERSON\", \"PERSON\", \"PERSON\", \"PERSON\", \"PERSON\", \"PERSON\", \"PERSON\", \"PERSON\", \"PERSON\", \"PERSON\", \"PERSON\", \"PERSON\", \"PERSON\", \"PERSON\", \"PERSON\", \"PERSON\", \"PERSON\", \"PERSON\", \"PERSON\", \"PERSON\", \"PERSON\", \"PERSON\", \"PERSON\", \"PERSON\", \"PERSON\", \"PERSON\", \"PERSON\", \"PERSON\", \"PERSON\", \"PERSON\", \"PERSON\", \"PERSON\", \"PERSON\", \"PERSON\", \"PERSON\", \"PERSON\", \"PERSON\", \"PERSON\", \"PERSON\", \"PERSON\", \"PERSON\", \"PERSON\", \"PERSON\", \"PERSON\", \"PERSON\", \"PERSON\", \"PERSON\", \"PERSON\", \"PERSON\", \"PERSON\", \"PERSON\", \"PERSON\", \"PERSON\", \"PERSON\", \"PERSON\", \"PERSON\", \"PERSON\", \"PERSON\", \"PERSON\", \"PERSON\", \"PERSON\", \"PERSON\", \"PERSON\", \"PERSON\", \"PERSON\", \"PERSON\", \"PERSON\", \"PERSON\", \"PERSON\", \"PERSON\", \"PERSON\", \"PERSON\", \"PERSON\", \"PERSON\", \"PERSON\", \"PERSON\", \"PERSON\", \"PERSON\", \"PERSON\", \"PERSON\", \"PERSON\", \"PERSON\", \"PERSON\", \"PERSON\", \"PERSON\", \"PERSON\", \"PERSON\", \"PERSON\", \"PERSON\", \"PERSON\", \"PERSON\", \"PERSON\", \"PERSON\", \"PERSON\", \"PERSON\", \"PERSON\", \"PERSON\", \"PERSON\", \"PERSON\", \"PERSON\", \"PERSON\", \"PERSON\", \"PERSON\", \"PERSON\", \"PERSON\", \"PERSON\", \"PERSON\", \"PERSON\", \"PERSON\", \"PERSON\", \"PERSON\", \"PERSON\", \"PERSON\", \"PERSON\", \"PERSON\", \"PERSON\", \"PERSON\", \"PERSON\", \"PERSON\", \"PERSON\", \"PERSON\", \"PERSON\", \"PERSON\", \"PERSON\", \"PERSON\", \"PERSON\", \"PERSON\", \"PERSON\", \"PERSON\", \"PERSON\", \"PERSON\", \"PERSON\", \"PERSON\", \"PERSON\", \"PERSON\", \"PERSON\", \"PERSON\", \"PERSON\", \"PERSON\", \"PERSON\", \"PERSON\", \"PERSON\", \"PERSON\", \"PERSON\", \"PERSON\", \"PERSON\", \"PERSON\", \"PERSON\", \"PERSON\", \"PERSON\", \"PERSON\", \"PERSON\", \"PERSON\", \"PERSON\", \"PERSON\", \"PERSON\", \"PERSON\", \"PERSON\", \"PERSON\", \"PERSON\", \"PERSON\", \"PERSON\", \"PERSON\", \"PERSON\", \"PERSON\", \"PERSON\", \"PERSON\", \"PERSON\", \"PERSON\", \"PERSON\", \"PERSON\", \"PERSON\", \"PERSON\", \"PERSON\", \"PERSON\", \"PERSON\", \"PERSON\", \"PERSON\", \"PERSON\", \"PERSON\", \"PERSON\", \"PERSON\", \"PERSON\", \"PERSON\", \"PERSON\", \"PERSON\", \"PERSON\", \"PERSON\", \"PERSON\", \"PERSON\", \"PERSON\", \"PERSON\", \"PERSON\", \"PERSON\", \"PERSON\", \"PERSON\", \"PERSON\", \"PERSON\", \"PERSON\", \"PERSON\", \"PERSON\", \"PERSON\", \"PERSON\", \"PERSON\", \"PERSON\", \"PERSON\", \"PERSON\", \"PERSON\", \"PERSON\", \"PERSON\", \"PERSON\", \"PERSON\", \"PERSON\", \"PERSON\", \"PERSON\", \"PERSON\", \"PERSON\", \"PERSON\", \"PERSON\", \"PERSON\", \"PERSON\", \"PERSON\", \"PERSON\", \"PERSON\", \"PERSON\", \"PERSON\", \"PERSON\", \"PERSON\", \"PERSON\", \"PERSON\", \"PERSON\", \"PERSON\", \"PERSON\", \"PERSON\", \"PERSON\", \"PERSON\", \"PERSON\", \"PERSON\", \"PERSON\", \"PERSON\", \"PERSON\", \"PERSON\", \"PERSON\", \"PERSON\", \"PERSON\", \"PERSON\", \"PERSON\", \"PERSON\", \"PERSON\", \"PERSON\", \"PERSON\", \"PERSON\", \"PERSON\", \"PERSON\", \"PERSON\", \"PERSON\", \"PERSON\", \"PERSON\", \"PERSON\", \"PERSON\", \"PERSON\", \"PERSON\", \"PERSON\", \"PERSON\", \"PERSON\", \"PERSON\", \"PERSON\", \"PERSON\", \"PERSON\", \"PERSON\", \"PERSON\", \"PERSON\", \"PERSON\", \"PERSON\", \"PERSON\", \"PERSON\", \"PERSON\", \"PERSON\", \"PERSON\", \"PERSON\", \"PERSON\", \"PERSON\", \"PERSON\", \"PERSON\", \"PERSON\", \"PERSON\", \"PERSON\", \"PERSON\", \"PERSON\", \"PERSON\", \"PERSON\", \"PERSON\", \"PERSON\", \"PERSON\", \"PERSON\", \"PERSON\", \"PERSON\", \"PERSON\", \"PERSON\", \"PERSON\", \"PERSON\", \"PERSON\", \"PERSON\", \"PERSON\", \"PERSON\", \"PERSON\", \"PERSON\", \"PERSON\", \"PERSON\", \"PERSON\", \"PERSON\", \"PERSON\", \"PERSON\", \"PERSON\", \"PERSON\", \"PERSON\", \"PERSON\", \"PERSON\", \"PERSON\", \"PERSON\", \"PERSON\", \"PERSON\", \"PERSON\", \"PERSON\", \"PERSON\", \"PERSON\", \"PERSON\", \"PERSON\", \"PERSON\", \"PERSON\", \"PERSON\", \"PERSON\", \"PERSON\", \"PERSON\", \"PERSON\", \"PERSON\", \"PERSON\", \"PERSON\", \"PERSON\", \"PERSON\", \"PERSON\", \"PERSON\", \"PERSON\", \"PERSON\", \"PERSON\", \"PERSON\", \"PERSON\", \"PERSON\", \"PERSON\", \"PERSON\", \"PERSON\", \"PERSON\", \"PERSON\", \"PERSON\", \"PERSON\", \"PERSON\", \"PERSON\", \"PERSON\", \"PERSON\", \"PERSON\", \"PERSON\", \"PERSON\", \"PERSON\", \"PERSON\", \"PERSON\", \"PERSON\", \"PERSON\", \"PERSON\", \"PERSON\", \"PERSON\", \"PERSON\", \"PERSON\", \"PERSON\", \"PERSON\", \"PERSON\", \"PERSON\", \"PERSON\", \"PERSON\", \"PERSON\", \"PERSON\", \"PERSON\", \"PERSON\", \"PERSON\", \"PERSON\", \"PERSON\", \"PERSON\", \"PERSON\", \"PERSON\", \"PERSON\", \"PERSON\", \"PERSON\", \"PERSON\", \"PERSON\", \"PERSON\", \"PERSON\", \"PERSON\", \"PERSON\", \"PERSON\", \"PERSON\", \"PERSON\", \"PERSON\", \"PERSON\", \"PERSON\", \"PERSON\", \"PERSON\", \"PERSON\", \"PERSON\", \"PERSON\", \"PERSON\", \"PERSON\", \"PERSON\", \"PERSON\", \"PERSON\", \"PERSON\", \"PERSON\", \"PERSON\", \"PERSON\", \"PERSON\", \"PERSON\", \"PERSON\", \"PERSON\", \"PERSON\", \"PERSON\", \"PERSON\", \"PERSON\", \"PERSON\", \"PERSON\", \"PERSON\", \"PERSON\", \"PERSON\", \"PERSON\", \"PERSON\", \"PERSON\", \"PERSON\", \"PERSON\", \"PERSON\", \"PERSON\", \"PERSON\", \"PERSON\", \"PERSON\", \"PERSON\", \"PERSON\", \"PERSON\", \"PERSON\", \"PERSON\", \"PERSON\", \"PERSON\", \"PERSON\", \"PERSON\", \"PERSON\", \"PERSON\", \"PERSON\", \"PERSON\", \"PERSON\", \"PERSON\", \"PERSON\", \"PERSON\", \"PERSON\", \"PERSON\", \"PERSON\", \"PERSON\", \"PERSON\", \"PERSON\", \"PERSON\", \"PERSON\", \"PERSON\", \"PERSON\", \"PERSON\", \"PERSON\", \"PERSON\", \"PERSON\", \"PERSON\", \"PERSON\", \"PERSON\", \"PERSON\", \"PERSON\", \"PERSON\", \"PERSON\", \"PERSON\", \"PERSON\", \"PERSON\", \"PERSON\", \"PERSON\", \"PERSON\", \"PERSON\", \"PERSON\", \"PERSON\", \"PERSON\", \"PERSON\", \"PERSON\", \"PERSON\", \"PERSON\", \"PERSON\", \"PERSON\", \"PERSON\", \"PERSON\", \"PERSON\", \"PERSON\", \"PERSON\", \"PERSON\", \"PERSON\", \"PERSON\", \"PERSON\", \"PERSON\", \"PERSON\", \"PERSON\", \"PERSON\", \"PERSON\", \"PERSON\", \"PERSON\", \"PERSON\", \"PERSON\", \"PERSON\", \"PERSON\", \"PERSON\", \"PERSON\", \"PERSON\", \"PERSON\", \"PERSON\", \"PERSON\", \"PERSON\", \"PERSON\", \"PERSON\", \"PERSON\", \"PERSON\", \"PERSON\", \"PERSON\", \"PERSON\", \"PERSON\", \"PERSON\", \"PERSON\", \"PERSON\", \"PERSON\", \"PERSON\", \"PERSON\", \"PERSON\", \"PERSON\", \"PERSON\", \"PERSON\", \"PERSON\", \"PERSON\", \"PERSON\", \"PERSON\", \"PERSON\", \"PERSON\", \"PERSON\", \"PERSON\", \"PERSON\", \"PERSON\", \"PERSON\", \"PERSON\", \"PERSON\", \"PERSON\", \"PERSON\", \"PERSON\", \"PERSON\", \"PERSON\", \"PERSON\", \"PERSON\", \"PERSON\", \"PERSON\", \"PERSON\", \"PERSON\", \"PERSON\", \"PERSON\", \"PERSON\", \"PERSON\", \"PERSON\", \"PERSON\", \"PERSON\", \"PERSON\", \"PERSON\", \"PERSON\", \"PERSON\", \"PERSON\", \"PERSON\", \"PERSON\", \"PERSON\", \"PERSON\", \"PERSON\", \"PERSON\", \"PERSON\", \"PERSON\", \"PERSON\", \"PERSON\", \"PERSON\", \"PERSON\", \"PERSON\", \"PERSON\", \"PERSON\", \"PERSON\", \"PERSON\", \"PERSON\", \"PERSON\", \"PERSON\", \"PERSON\", \"PERSON\", \"PERSON\", \"PERSON\", \"PERSON\", \"PERSON\", \"PERSON\", \"PERSON\", \"PERSON\", \"PERSON\", \"PERSON\", \"PERSON\", \"PERSON\", \"PERSON\", \"PERSON\", \"PERSON\", \"PERSON\", \"PERSON\", \"PERSON\", \"PERSON\", \"PERSON\", \"PERSON\", \"PERSON\", \"PERSON\", \"PERSON\", \"PERSON\", \"PERSON\", \"PERSON\", \"PERSON\", \"PERSON\", \"PERSON\", \"PERSON\", \"PERSON\", \"PERSON\", \"PERSON\", \"PERSON\", \"PERSON\", \"PERSON\", \"PERSON\", \"PERSON\", \"PERSON\", \"PERSON\", \"PERSON\", \"PERSON\", \"PERSON\", \"PERSON\", \"PERSON\", \"PERSON\", \"PERSON\", \"PERSON\", \"PERSON\", \"PERSON\", \"PERSON\", \"PERSON\", \"PERSON\", \"PERSON\", \"PERSON\", \"PERSON\", \"PERSON\", \"PERSON\", \"PERSON\", \"PERSON\", \"PERSON\", \"PERSON\", \"PERSON\", \"PERSON\", \"PERSON\", \"PERSON\", \"PERSON\", \"PERSON\", \"PERSON\", \"PERSON\", \"PERSON\", \"PERSON\", \"PERSON\", \"PERSON\", \"PERSON\", \"PERSON\", \"PERSON\", \"PERSON\", \"PERSON\", \"PERSON\", \"PERSON\", \"PERSON\", \"PERSON\", \"PERSON\", \"PERSON\", \"PERSON\", \"PERSON\", \"PERSON\", \"PERSON\", \"PERSON\", \"PERSON\", \"PERSON\", \"PERSON\", \"PERSON\", \"PERSON\", \"PERSON\", \"PERSON\", \"PERSON\", \"PERSON\", \"PERSON\", \"PERSON\", \"PERSON\", \"PERSON\", \"PERSON\", \"PERSON\", \"PERSON\", \"PERSON\", \"PERSON\", \"PERSON\", \"PERSON\", \"PERSON\", \"PERSON\", \"PERSON\", \"PERSON\", \"PERSON\", \"PERSON\", \"PERSON\", \"PERSON\", \"PERSON\", \"PERSON\", \"PERSON\", \"PERSON\", \"PERSON\", \"PERSON\", \"PERSON\", \"PERSON\", \"PERSON\", \"PERSON\", \"PERSON\", \"PERSON\", \"PERSON\", \"PERSON\", \"PERSON\", \"PERSON\", \"PERSON\", \"PERSON\", \"PERSON\", \"PERSON\", \"PERSON\", \"PERSON\", \"PERSON\", \"PERSON\", \"PERSON\", \"PERSON\", \"PERSON\", \"PERSON\", \"PERSON\", \"PERSON\", \"PERSON\", \"PERSON\", \"PERSON\", \"PERSON\", \"PERSON\", \"PERSON\", \"PERSON\", \"PERSON\", \"PERSON\", \"PERSON\", \"PERSON\", \"PERSON\", \"PERSON\", \"PERSON\", \"PERSON\", \"PERSON\", \"PERSON\", \"PERSON\", \"PERSON\", \"PERSON\", \"PERSON\", \"PERSON\", \"PERSON\", \"PERSON\", \"PERSON\", \"PERSON\", \"PERSON\", \"PERSON\", \"PERSON\", \"PERSON\", \"PERSON\", \"PERSON\", \"PERSON\", \"PERSON\", \"PERSON\", \"PERSON\", \"PERSON\", \"PERSON\", \"PERSON\", \"PERSON\", \"PERSON\", \"PERSON\", \"PERSON\", \"PERSON\", \"PERSON\", \"PERSON\", \"PERSON\", \"PERSON\", \"PERSON\", \"PERSON\", \"PERSON\", \"PERSON\", \"PERSON\", \"PERSON\", \"PERSON\", \"PERSON\", \"PERSON\", \"PERSON\", \"PERSON\", \"PERSON\", \"PERSON\", \"PERSON\", \"PERSON\", \"PERSON\", \"PERSON\", \"PERSON\", \"PERSON\", \"PERSON\", \"PERSON\", \"PERSON\", \"PERSON\", \"PERSON\", \"PERSON\", \"PERSON\", \"PERSON\", \"PERSON\", \"PERSON\", \"PERSON\", \"PERSON\", \"PERSON\", \"PERSON\", \"PERSON\", \"PERSON\", \"PERSON\", \"PERSON\", \"PERSON\", \"PERSON\", \"PERSON\", \"PERSON\", \"PERSON\", \"PERSON\", \"PERSON\", \"PERSON\", \"PERSON\", \"PERSON\", \"PERSON\", \"PERSON\", \"PERSON\", \"PERSON\", \"PERSON\", \"PERSON\", \"PERSON\", \"PERSON\", \"PERSON\", \"PERSON\", \"PERSON\", \"PERSON\", \"PERSON\", \"PERSON\", \"PERSON\", \"PERSON\", \"PERSON\", \"PERSON\", \"PERSON\", \"PERSON\", \"PERSON\", \"PERSON\", \"PERSON\", \"PERSON\", \"PERSON\", \"PERSON\", \"PERSON\", \"PERSON\", \"PERSON\", \"PERSON\", \"PERSON\", \"PERSON\", \"PERSON\", \"PERSON\", \"PERSON\", \"PERSON\", \"PERSON\", \"PERSON\", \"PERSON\", \"PERSON\", \"PERSON\", \"PERSON\", \"PERSON\", \"PERSON\", \"PERSON\", \"PERSON\", \"PERSON\", \"PERSON\", \"PERSON\", \"PERSON\", \"PERSON\", \"PERSON\", \"PERSON\", \"PERSON\", \"PERSON\", \"PERSON\", \"PERSON\", \"PERSON\", \"PERSON\", \"PERSON\", \"PERSON\", \"PERSON\", \"PERSON\", \"PERSON\", \"PERSON\", \"PERSON\", \"PERSON\", \"PERSON\", \"PERSON\", \"PERSON\", \"PERSON\", \"PERSON\", \"PERSON\", \"PERSON\", \"PERSON\", \"PERSON\", \"PERSON\", \"PERSON\", \"PERSON\", \"PERSON\", \"PERSON\", \"PERSON\", \"PERSON\", \"PERSON\", \"PERSON\", \"PERSON\", \"PERSON\", \"PERSON\", \"PERSON\", \"PERSON\", \"PERSON\", \"PERSON\", \"PERSON\", \"PERSON\", \"PERSON\", \"PERSON\", \"PERSON\", \"PERSON\", \"PERSON\", \"PERSON\", \"PERSON\", \"PERSON\", \"PERSON\", \"PERSON\", \"PERSON\", \"PERSON\", \"PERSON\", \"PERSON\", \"PERSON\", \"PERSON\", \"PERSON\", \"PERSON\", \"PERSON\", \"PERSON\", \"PERSON\", \"PERSON\", \"PERSON\", \"PERSON\", \"PERSON\", \"PERSON\", \"PERSON\", \"PERSON\", \"PERSON\", \"PERSON\", \"PERSON\", \"PERSON\", \"PERSON\", \"PERSON\", \"PERSON\", \"PERSON\", \"PERSON\", \"PERSON\", \"PERSON\", \"PERSON\", \"PERSON\", \"PERSON\", \"PERSON\", \"PERSON\", \"PERSON\", \"PERSON\", \"PERSON\", \"PERSON\", \"PERSON\", \"PERSON\", \"PERSON\", \"PERSON\", \"PERSON\", \"PERSON\", \"PERSON\", \"PERSON\", \"PERSON\", \"PERSON\", \"PERSON\", \"PERSON\", \"PERSON\", \"PERSON\", \"PERSON\", \"PERSON\", \"PERSON\", \"PERSON\", \"PERSON\", \"PERSON\", \"PERSON\", \"PERSON\", \"PERSON\", \"PERSON\", \"PERSON\", \"PERSON\", \"PERSON\", \"PERSON\", \"PERSON\", \"PERSON\", \"PERSON\", \"PERSON\", \"PERSON\", \"PERSON\", \"PERSON\", \"PERSON\", \"PERSON\", \"PERSON\", \"PERSON\", \"PERSON\", \"PERSON\", \"PERSON\", \"PERSON\", \"PERSON\", \"PERSON\", \"PERSON\", \"PERSON\", \"PERSON\", \"PERSON\", \"PERSON\", \"PERSON\", \"PERSON\", \"PERSON\", \"PERSON\", \"PERSON\", \"PERSON\", \"PERSON\", \"PERSON\", \"PERSON\", \"PERSON\", \"PERSON\", \"PERSON\", \"PERSON\", \"PERSON\", \"PERSON\", \"PERSON\", \"PERSON\", \"PERSON\", \"PERSON\", \"PERSON\", \"PERSON\", \"PERSON\", \"PERSON\", \"PERSON\", \"PERSON\", \"PERSON\", \"PERSON\", \"PERSON\", \"PERSON\", \"PERSON\", \"PERSON\", \"PERSON\", \"PERSON\", \"PERSON\", \"PERSON\", \"PERSON\", \"PERSON\", \"PERSON\", \"PERSON\", \"PERSON\", \"PERSON\", \"PERSON\", \"PERSON\", \"PERSON\", \"PERSON\", \"PERSON\", \"PERSON\", \"PERSON\", \"PERSON\", \"PERSON\", \"PERSON\", \"PERSON\", \"PERSON\", \"PERSON\", \"PERSON\", \"PERSON\", \"PERSON\", \"PERSON\", \"PERSON\", \"PERSON\", \"PERSON\", \"PERSON\", \"PERSON\", \"PERSON\", \"PERSON\", \"PERSON\", \"PERSON\", \"PERSON\", \"PERSON\", \"PERSON\", \"PERSON\", \"PERSON\", \"PERSON\", \"PERSON\", \"PERSON\", \"PERSON\", \"PERSON\", \"PERSON\", \"PERSON\", \"PERSON\", \"PERSON\", \"PERSON\", \"PERSON\", \"PERSON\", \"PERSON\", \"PERSON\", \"PERSON\", \"PERSON\", \"PERSON\", \"PERSON\", \"PERSON\", \"PERSON\", \"PERSON\", \"PERSON\", \"PERSON\", \"PERSON\", \"PERSON\", \"PERSON\", \"PERSON\", \"PERSON\", \"PERSON\", \"PERSON\", \"PERSON\", \"PERSON\", \"PERSON\", \"PERSON\", \"PERSON\", \"PERSON\", \"PERSON\", \"PERSON\", \"PERSON\", \"PERSON\", \"PERSON\", \"PERSON\", \"PERSON\", \"PERSON\", \"PERSON\", \"PERSON\", \"PERSON\", \"PERSON\", \"PERSON\", \"PERSON\", \"PERSON\", \"PERSON\", \"PERSON\", \"PERSON\", \"PERSON\", \"PERSON\", \"PERSON\", \"PERSON\", \"PERSON\", \"PERSON\", \"PERSON\", \"PERSON\", \"PERSON\", \"PERSON\", \"PERSON\", \"PERSON\", \"PERSON\", \"PERSON\", \"PERSON\", \"PERSON\", \"PERSON\", \"PERSON\", \"PERSON\", \"PERSON\", \"PERSON\", \"PERSON\", \"PERSON\", \"PERSON\", \"PERSON\", \"PERSON\", \"PERSON\", \"PERSON\", \"PERSON\", \"PERSON\", \"PERSON\", \"PERSON\", \"PERSON\", \"PERSON\", \"PERSON\", \"PERSON\", \"PERSON\", \"PERSON\", \"PERSON\", \"PERSON\", \"PERSON\", \"PERSON\", \"PERSON\", \"PERSON\", \"PERSON\", \"PERSON\", \"PERSON\", \"PERSON\", \"PERSON\", \"PERSON\", \"PERSON\", \"PERSON\", \"PERSON\", \"PERSON\", \"PERSON\", \"PERSON\", \"PERSON\", \"PERSON\", \"PERSON\", \"PERSON\", \"PERSON\", \"PERSON\", \"PERSON\", \"PERSON\", \"PERSON\", \"PERSON\", \"PERSON\", \"PERSON\", \"PERSON\", \"PERSON\", \"PERSON\", \"PERSON\", \"PERSON\", \"PERSON\", \"PERSON\", \"PERSON\", \"PERSON\", \"PERSON\", \"PERSON\", \"PERSON\", \"PERSON\", \"PERSON\", \"PERSON\", \"PERSON\", \"PERSON\", \"PERSON\", \"PERSON\", \"PERSON\", \"PERSON\", \"PERSON\", \"PERSON\", \"PERSON\", \"PERSON\", \"PERSON\", \"PERSON\", \"PERSON\", \"PERSON\", \"PERSON\", \"PERSON\", \"PERSON\", \"PERSON\", \"PERSON\", \"PERSON\", \"PERSON\", \"PERSON\", \"PERSON\", \"PERSON\", \"PERSON\", \"PERSON\", \"PERSON\", \"PERSON\", \"PERSON\", \"PERSON\", \"PERSON\", \"PERSON\", \"PERSON\", \"PERSON\", \"PERSON\", \"PERSON\", \"PERSON\", \"PERSON\", \"PERSON\", \"PERSON\", \"PERSON\", \"PERSON\", \"PERSON\", \"PERSON\", \"PERSON\", \"PERSON\", \"PERSON\", \"PERSON\", \"PERSON\", \"PERSON\", \"PERSON\", \"PERSON\", \"PERSON\", \"PERSON\", \"PERSON\", \"PERSON\", \"PERSON\", \"PERSON\", \"PERSON\", \"PERSON\", \"PERSON\", \"PERSON\", \"PERSON\", \"PERSON\", \"PERSON\", \"PERSON\", \"PERSON\", \"PERSON\", \"PERSON\", \"PERSON\", \"PERSON\", \"PERSON\", \"PERSON\", \"PERSON\", \"PERSON\", \"PERSON\", \"PERSON\", \"PERSON\", \"PERSON\", \"PERSON\", \"PERSON\", \"PERSON\", \"PERSON\", \"PERSON\", \"PERSON\", \"PERSON\", \"PERSON\", \"PERSON\", \"PERSON\", \"PERSON\", \"PERSON\", \"PERSON\", \"PERSON\", \"PERSON\", \"PERSON\", \"PERSON\", \"PERSON\", \"PERSON\", \"PERSON\", \"PERSON\", \"PERSON\", \"PERSON\", \"PERSON\", \"PERSON\", \"PERSON\", \"PERSON\", \"PERSON\", \"PERSON\", \"PERSON\", \"PERSON\", \"PERSON\", \"PERSON\", \"PERSON\", \"PERSON\", \"PERSON\", \"PERSON\", \"PERSON\", \"PERSON\", \"PERSON\", \"PERSON\", \"PERSON\", \"PERSON\", \"PERSON\", \"PERSON\", \"PERSON\", \"PERSON\", \"PERSON\", \"PERSON\", \"PERSON\", \"PERSON\", \"PERSON\", \"PERSON\", \"PERSON\", \"PERSON\", \"PERSON\", \"PERSON\", \"PERSON\", \"PERSON\", \"PERSON\", \"PERSON\", \"PERSON\", \"PERSON\", \"PERSON\", \"PERSON\", \"PERSON\", \"PERSON\", \"PERSON\", \"PERSON\", \"PERSON\", \"PERSON\", \"PERSON\", \"PERSON\", \"PERSON\", \"PERSON\", \"PERSON\", \"PERSON\", \"PERSON\", \"PERSON\", \"PERSON\", \"PERSON\", \"PERSON\", \"PERSON\", \"PERSON\", \"PERSON\", \"PERSON\", \"PERSON\", \"PERSON\", \"PERSON\", \"PERSON\", \"PERSON\", \"PERSON\", \"PERSON\", \"PERSON\", \"PERSON\", \"PERSON\", \"PERSON\", \"PERSON\", \"PERSON\", \"PERSON\", \"PERSON\", \"PERSON\", \"PERSON\", \"PERSON\", \"PERSON\", \"PERSON\", \"PERSON\", \"PERSON\", \"PERSON\", \"PERSON\", \"PERSON\", \"PERSON\", \"PERSON\", \"PERSON\", \"PERSON\", \"PERSON\", \"PERSON\", \"PERSON\", \"PERSON\", \"PERSON\", \"PERSON\", \"PERSON\", \"PERSON\", \"PERSON\", \"PERSON\", \"PERSON\", \"PERSON\", \"PERSON\", \"PERSON\", \"PERSON\", \"PERSON\", \"PERSON\", \"PERSON\", \"PERSON\", \"PERSON\", \"PERSON\", \"PERSON\", \"PERSON\", \"PERSON\", \"PERSON\", \"PERSON\", \"PERSON\", \"PERSON\", \"PERSON\", \"PERSON\", \"PERSON\", \"PERSON\", \"PERSON\", \"PERSON\", \"PERSON\", \"PERSON\", \"PERSON\", \"PERSON\", \"PERSON\", \"PERSON\", \"PERSON\", \"PERSON\", \"PERSON\", \"PERSON\", \"PERSON\", \"PERSON\", \"PERSON\", \"PERSON\", \"PERSON\", \"PERSON\", \"PERSON\", \"PERSON\", \"PERSON\", \"PERSON\", \"PERSON\", \"PERSON\", \"PERSON\", \"PERSON\", \"PERSON\", \"PERSON\", \"PERSON\", \"PERSON\", \"PERSON\", \"PERSON\", \"PERSON\", \"PERSON\", \"PERSON\", \"PERSON\", \"PERSON\", \"PERSON\", \"PERSON\", \"PERSON\", \"PERSON\", \"PERSON\", \"PERSON\", \"PERSON\", \"PERSON\", \"PERSON\", \"PERSON\", \"PERSON\", \"PERSON\", \"PERSON\", \"PERSON\", \"PERSON\", \"PERSON\", \"PERSON\", \"PERSON\", \"PERSON\", \"PERSON\", \"PERSON\", \"PERSON\", \"PERSON\", \"PERSON\", \"PERSON\", \"PERSON\", \"PERSON\", \"PERSON\", \"PERSON\", \"PERSON\", \"PERSON\", \"PERSON\", \"PERSON\", \"PERSON\", \"PERSON\", \"PERSON\", \"PERSON\", \"PERSON\", \"PERSON\", \"PERSON\", \"PERSON\", \"PERSON\", \"PERSON\", \"PERSON\", \"PERSON\", \"PERSON\", \"PERSON\", \"PERSON\", \"PERSON\", \"PERSON\", \"PERSON\", \"PERSON\", \"PERSON\", \"PERSON\", \"PERSON\", \"PERSON\", \"PERSON\", \"PERSON\", \"PERSON\", \"PERSON\", \"PERSON\", \"PERSON\", \"PERSON\", \"PERSON\", \"PERSON\", \"PERSON\", \"PERSON\", \"PERSON\", \"PERSON\", \"PERSON\", \"PERSON\", \"PERSON\", \"PERSON\", \"PERSON\", \"PERSON\", \"PERSON\", \"PERSON\", \"PERSON\", \"PERSON\", \"PERSON\", \"PERSON\", \"PERSON\", \"PERSON\", \"PERSON\", \"PERSON\", \"PERSON\", \"PERSON\", \"PERSON\", \"PERSON\", \"PERSON\", \"PERSON\", \"PERSON\", \"PERSON\", \"PERSON\", \"PERSON\", \"PERSON\", \"PERSON\", \"PERSON\", \"PERSON\", \"PERSON\", \"PERSON\", \"PERSON\", \"PERSON\", \"PERSON\", \"PERSON\", \"PERSON\", \"PERSON\", \"PERSON\", \"PERSON\", \"PERSON\", \"PERSON\", \"PERSON\", \"PERSON\", \"PERSON\", \"PERSON\", \"PERSON\", \"PERSON\", \"PERSON\", \"PERSON\", \"PERSON\", \"PERSON\", \"PERSON\", \"PERSON\", \"PERSON\", \"PERSON\", \"PERSON\", \"PERSON\", \"PERSON\", \"PERSON\", \"PERSON\", \"PERSON\", \"PERSON\", \"PERSON\", \"PERSON\", \"PERSON\", \"PERSON\", \"PERSON\", \"PERSON\", \"PERSON\", \"PERSON\", \"PERSON\", \"PERSON\", \"PERSON\", \"PERSON\", \"PERSON\", \"PERSON\", \"PERSON\", \"PERSON\", \"PERSON\", \"PERSON\", \"PERSON\", \"PERSON\", \"PERSON\", \"PERSON\", \"PERSON\", \"PERSON\", \"PERSON\", \"PERSON\", \"PERSON\", \"PERSON\", \"PERSON\", \"PERSON\", \"PERSON\", \"PERSON\", \"PERSON\", \"PERSON\", \"PERSON\", \"PERSON\", \"PERSON\", \"PERSON\", \"PERSON\", \"PERSON\", \"PERSON\", \"PERSON\", \"PERSON\", \"PERSON\", \"PERSON\", \"PERSON\", \"PERSON\", \"PERSON\", \"PERSON\", \"PERSON\", \"PERSON\", \"PERSON\", \"PERSON\", \"PERSON\", \"PERSON\", \"PERSON\", \"PERSON\", \"PERSON\", \"PERSON\", \"PERSON\", \"PERSON\", \"PERSON\", \"PERSON\", \"PERSON\", \"PERSON\", \"PERSON\", \"PERSON\", \"PERSON\", \"PERSON\", \"PERSON\", \"PERSON\", \"PERSON\", \"PERSON\", \"PERSON\", \"PERSON\", \"PERSON\", \"PERSON\", \"PERSON\", \"PERSON\", \"PERSON\", \"PERSON\", \"PERSON\", \"PERSON\", \"PERSON\", \"PERSON\", \"PERSON\", \"PERSON\", \"PERSON\", \"PERSON\", \"PERSON\", \"PERSON\", \"PERSON\", \"PERSON\", \"PERSON\", \"PERSON\", \"PERSON\", \"PERSON\", \"PERSON\", \"PERSON\", \"PERSON\", \"PERSON\", \"PERSON\", \"PERSON\", \"PERSON\", \"PERSON\", \"PERSON\", \"PERSON\", \"PERSON\", \"PERSON\", \"PERSON\", \"PERSON\", \"PERSON\", \"PERSON\", \"PERSON\", \"PERSON\", \"PERSON\", \"PERSON\", \"PERSON\", \"PERSON\", \"PERSON\", \"PERSON\", \"PERSON\", \"PERSON\", \"PERSON\", \"PERSON\", \"PERSON\", \"PERSON\", \"PERSON\", \"PERSON\", \"PERSON\", \"PERSON\", \"PERSON\", \"PERSON\", \"PERSON\", \"PERSON\", \"PERSON\", \"PERSON\", \"PERSON\", \"PERSON\", \"PERSON\", \"PERSON\", \"PERSON\", \"PERSON\", \"PERSON\", \"PERSON\", \"PERSON\", \"PERSON\", \"PERSON\", \"PERSON\", \"PERSON\", \"PERSON\", \"PERSON\", \"PERSON\", \"PERSON\", \"PERSON\", \"PERSON\", \"PERSON\", \"PERSON\", \"PERSON\", \"PERSON\", \"PERSON\", \"PERSON\", \"PERSON\", \"PERSON\", \"PERSON\", \"PERSON\", \"PERSON\", \"PERSON\", \"PERSON\", \"PERSON\", \"PERSON\", \"PERSON\", \"PERSON\", \"PERSON\", \"PERSON\", \"PERSON\", \"PERSON\", \"PERSON\", \"PERSON\", \"PERSON\", \"PERSON\", \"PERSON\", \"PERSON\", \"PERSON\", \"PERSON\", \"PERSON\", \"PERSON\", \"PERSON\", \"PERSON\", \"PERSON\", \"PERSON\", \"PERSON\", \"PERSON\", \"PERSON\", \"PERSON\", \"PERSON\", \"PERSON\", \"PERSON\", \"PERSON\", \"PERSON\", \"PERSON\", \"PERSON\", \"PERSON\", \"PERSON\", \"PERSON\", \"PERSON\", \"PERSON\", \"PERSON\", \"PERSON\", \"PERSON\", \"PERSON\", \"PERSON\", \"PERSON\", \"PERSON\", \"PERSON\", \"PERSON\", \"PERSON\", \"PERSON\", \"PERSON\", \"PERSON\", \"PERSON\", \"PERSON\", \"PERSON\", \"PERSON\", \"PERSON\", \"PERSON\", \"PERSON\", \"PERSON\", \"PERSON\", \"PERSON\", \"PERSON\", \"PERSON\", \"PERSON\", \"PERSON\", \"PERSON\", \"PERSON\", \"PERSON\", \"PERSON\", \"PERSON\", \"PERSON\", \"PERSON\", \"PERSON\", \"PERSON\", \"PERSON\", \"PERSON\", \"PERSON\", \"PERSON\", \"PERSON\", \"PERSON\", \"PERSON\", \"PERSON\", \"PERSON\", \"PERSON\", \"PERSON\", \"PERSON\", \"PERSON\", \"PERSON\", \"PERSON\", \"PERSON\", \"PERSON\", \"PERSON\", \"PERSON\", \"PERSON\", \"PERSON\", \"PERSON\", \"PERSON\", \"PERSON\", \"PERSON\", \"PERSON\", \"PERSON\", \"PERSON\", \"PERSON\", \"PERSON\", \"PERSON\", \"PERSON\", \"PERSON\", \"PERSON\", \"PERSON\", \"PERSON\", \"PERSON\", \"PERSON\", \"PERSON\", \"PERSON\", \"PERSON\", \"PERSON\", \"PERSON\", \"PERSON\", \"PERSON\", \"PERSON\", \"PERSON\", \"PERSON\", \"PERSON\", \"PERSON\", \"PERSON\", \"PERSON\", \"PERSON\", \"PERSON\", \"PERSON\", \"PERSON\", \"PERSON\", \"PERSON\", \"PERSON\", \"PERSON\", \"PERSON\", \"PERSON\", \"PERSON\", \"PERSON\", \"PERSON\", \"PERSON\", \"PERSON\", \"PERSON\", \"PERSON\", \"PERSON\", \"PERSON\", \"PERSON\", \"PERSON\", \"PERSON\", \"PERSON\", \"PERSON\", \"PERSON\", \"PERSON\", \"PERSON\", \"PERSON\", \"PERSON\", \"PERSON\", \"PERSON\", \"PERSON\", \"PERSON\", \"PERSON\", \"PERSON\", \"PERSON\", \"PERSON\", \"PERSON\", \"PERSON\", \"PERSON\", \"PERSON\", \"PERSON\", \"PERSON\", \"PERSON\", \"PERSON\", \"PERSON\", \"PERSON\", \"PERSON\", \"PERSON\", \"PERSON\", \"PERSON\", \"PERSON\", \"PERSON\", \"PERSON\", \"PERSON\", \"PERSON\", \"PERSON\", \"PERSON\", \"PERSON\", \"PERSON\", \"PERSON\", \"PERSON\", \"PERSON\", \"PERSON\", \"PERSON\", \"PERSON\", \"PERSON\", \"PERSON\", \"PERSON\", \"PERSON\", \"PERSON\", \"PERSON\", \"PERSON\", \"PERSON\", \"PERSON\", \"PERSON\", \"PERSON\", \"PERSON\", \"PERSON\", \"PERSON\", \"PERSON\", \"PERSON\", \"PERSON\", \"PERSON\", \"PERSON\", \"PERSON\", \"PERSON\", \"PERSON\", \"PERSON\", \"PERSON\", \"PERSON\", \"PERSON\", \"PERSON\", \"PERSON\", \"PERSON\", \"PERSON\", \"PERSON\", \"PERSON\", \"PERSON\", \"PERSON\", \"PERSON\", \"PERSON\", \"PERSON\", \"PERSON\", \"PERSON\", \"PERSON\", \"PERSON\", \"PERSON\", \"PERSON\", \"PERSON\", \"PERSON\", \"PERSON\", \"PERSON\", \"PERSON\", \"PERSON\", \"PERSON\", \"PERSON\", \"PERSON\", \"PERSON\", \"PERSON\", \"PERSON\", \"PERSON\", \"PERSON\", \"PERSON\", \"PERSON\", \"PERSON\", \"PERSON\", \"PERSON\", \"PERSON\", \"PERSON\", \"PERSON\", \"PERSON\", \"PERSON\", \"PERSON\", \"PERSON\", \"PERSON\", \"PERSON\", \"PERSON\", \"PERSON\", \"PERSON\", \"PERSON\", \"PERSON\", \"PERSON\", \"PERSON\", \"PERSON\", \"PERSON\", \"PERSON\", \"PERSON\", \"PERSON\", \"PERSON\", \"PERSON\", \"PERSON\", \"PERSON\", \"PERSON\", \"PERSON\", \"PERSON\", \"PERSON\", \"PERSON\", \"PERSON\", \"PERSON\", \"PERSON\", \"PERSON\", \"PERSON\", \"PERSON\", \"PERSON\", \"PERSON\", \"PERSON\", \"PERSON\", \"PERSON\", \"PERSON\", \"PERSON\", \"PERSON\", \"PERSON\", \"PERSON\", \"PERSON\", \"PERSON\", \"PERSON\", \"PERSON\", \"PERSON\", \"PERSON\", \"PERSON\", \"PERSON\", \"PERSON\", \"PERSON\", \"PERSON\", \"PERSON\", \"PERSON\", \"PERSON\", \"PERSON\", \"PERSON\", \"PERSON\", \"PERSON\", \"PERSON\", \"PERSON\", \"PERSON\", \"PERSON\", \"PERSON\", \"PERSON\", \"PERSON\", \"PERSON\", \"PERSON\", \"PERSON\", \"PERSON\", \"PERSON\", \"PERSON\", \"PERSON\", \"PERSON\", \"PERSON\", \"PERSON\", \"PERSON\", \"PERSON\", \"PERSON\", \"PERSON\", \"PERSON\", \"PERSON\", \"PERSON\", \"PERSON\", \"PERSON\", \"PERSON\", \"PERSON\", \"PERSON\", \"PERSON\", \"PERSON\", \"PERSON\", \"PERSON\", \"PERSON\", \"PERSON\", \"PERSON\", \"PERSON\", \"PERSON\", \"PERSON\", \"PERSON\", \"PERSON\", \"PERSON\", \"PERSON\", \"PERSON\", \"PERSON\", \"PERSON\", \"PERSON\", \"PERSON\", \"PERSON\", \"PERSON\", \"PERSON\", \"PERSON\", \"PERSON\", \"PERSON\", \"PERSON\", \"PERSON\", \"PERSON\", \"PERSON\", \"PERSON\", \"PERSON\", \"PERSON\", \"PERSON\", \"PERSON\", \"PERSON\", \"PERSON\", \"PERSON\", \"PERSON\", \"PERSON\", \"PERSON\", \"PERSON\", \"PERSON\", \"PERSON\", \"PERSON\", \"PERSON\", \"PERSON\", \"PERSON\", \"PERSON\", \"PERSON\", \"PERSON\", \"PERSON\", \"PERSON\", \"PERSON\", \"PERSON\", \"PERSON\", \"PERSON\", \"PERSON\", \"PERSON\", \"PERSON\", \"PERSON\", \"PERSON\", \"PERSON\", \"PERSON\", \"PERSON\", \"PERSON\", \"PERSON\", \"PERSON\", \"PERSON\", \"PERSON\", \"PERSON\", \"PERSON\", \"PERSON\", \"PERSON\", \"PERSON\", \"PERSON\", \"PERSON\", \"PERSON\", \"PERSON\", \"PERSON\", \"PERSON\", \"PERSON\", \"PERSON\", \"PERSON\", \"PERSON\", \"PERSON\", \"PERSON\", \"PERSON\", \"PERSON\", \"PERSON\", \"PERSON\", \"PERSON\", \"PERSON\", \"PERSON\", \"PERSON\", \"PERSON\", \"PERSON\", \"PERSON\", \"PERSON\", \"PERSON\", \"PERSON\", \"PERSON\", \"PERSON\", \"PERSON\", \"PERSON\", \"PERSON\", \"PERSON\", \"PERSON\", \"PERSON\", \"PERSON\", \"PERSON\", \"PERSON\", \"PERSON\", \"PERSON\", \"PERSON\", \"PERSON\", \"PERSON\", \"PERSON\", \"PERSON\", \"PERSON\", \"PERSON\", \"PERSON\", \"PERSON\", \"PERSON\", \"PERSON\", \"PERSON\", \"PERSON\", \"PERSON\", \"PERSON\", \"PERSON\", \"PERSON\", \"PERSON\", \"PERSON\", \"PERSON\", \"PERSON\", \"PERSON\", \"PERSON\", \"PERSON\", \"PERSON\", \"PERSON\", \"PERSON\", \"PERSON\", \"PERSON\", \"PERSON\", \"PERSON\", \"PERSON\", \"PERSON\", \"PERSON\", \"PERSON\", \"PERSON\", \"PERSON\", \"PERSON\", \"PERSON\", \"PERSON\", \"PERSON\", \"PERSON\", \"PERSON\", \"PERSON\", \"PERSON\", \"PERSON\", \"PERSON\", \"PERSON\", \"PERSON\", \"PERSON\", \"PERSON\", \"PERSON\", \"PERSON\", \"PERSON\", \"PERSON\", \"PERSON\", \"PERSON\", \"PERSON\", \"PERSON\", \"PERSON\", \"PERSON\", \"PERSON\", \"PERSON\", \"PERSON\", \"PERSON\", \"PERSON\", \"PERSON\", \"PERSON\", \"PERSON\", \"PERSON\", \"PERSON\", \"PERSON\", \"PERSON\", \"PERSON\", \"PERSON\", \"PERSON\", \"PERSON\", \"PERSON\", \"PERSON\", \"PERSON\", \"PERSON\", \"PERSON\", \"PERSON\", \"PERSON\", \"PERSON\", \"PERSON\", \"PERSON\", \"PERSON\", \"PERSON\", \"PERSON\", \"PERSON\", \"PERSON\", \"PERSON\", \"PERSON\", \"PERSON\", \"PERSON\", \"PERSON\", \"PERSON\", \"PERSON\", \"PERSON\", \"PERSON\", \"PERSON\", \"PERSON\", \"PERSON\", \"PERSON\", \"PERSON\", \"PERSON\", \"PERSON\", \"PERSON\", \"PERSON\", \"PERSON\", \"PERSON\", \"PERSON\", \"PERSON\", \"PERSON\", \"PERSON\", \"PERSON\", \"PERSON\", \"PERSON\", \"PERSON\", \"PERSON\", \"PERSON\", \"PERSON\", \"PERSON\", \"PERSON\", \"PERSON\", \"PERSON\", \"PERSON\", \"PERSON\", \"PERSON\", \"PERSON\", \"PERSON\", \"PERSON\", \"PERSON\", \"PERSON\", \"PERSON\", \"PERSON\", \"PERSON\", \"PERSON\", \"PERSON\", \"PERSON\", \"PERSON\", \"PERSON\", \"PERSON\", \"PERSON\", \"PERSON\", \"PERSON\", \"PERSON\", \"PERSON\", \"PERSON\", \"PERSON\", \"PERSON\", \"PERSON\", \"PERSON\", \"PERSON\", \"PERSON\", \"PERSON\", \"PERSON\", \"PERSON\", \"PERSON\", \"PERSON\", \"PERSON\", \"PERSON\", \"PERSON\", \"PERSON\", \"PERSON\", \"PERSON\", \"PERSON\", \"PERSON\", \"PERSON\", \"PERSON\", \"PERSON\", \"PERSON\", \"PERSON\", \"PERSON\", \"PERSON\", \"PERSON\", \"PERSON\", \"PERSON\", \"PERSON\", \"PERSON\", \"PERSON\", \"PERSON\", \"PERSON\", \"PERSON\", \"PERSON\", \"PERSON\", \"PERSON\", \"PERSON\", \"PERSON\", \"PERSON\", \"PERSON\", \"PERSON\", \"PERSON\", \"PERSON\", \"PERSON\", \"PERSON\", \"PERSON\", \"PERSON\", \"PERSON\", \"PERSON\", \"PERSON\", \"PERSON\", \"PERSON\", \"PERSON\", \"PERSON\", \"PERSON\", \"PERSON\", \"PERSON\", \"PERSON\", \"PERSON\", \"PERSON\", \"PERSON\", \"PERSON\", \"PERSON\", \"PERSON\", \"PERSON\", \"PERSON\", \"PERSON\", \"PERSON\", \"PERSON\", \"PERSON\", \"PERSON\", \"PERSON\", \"PERSON\", \"PERSON\", \"PERSON\", \"PERSON\", \"PERSON\", \"PERSON\", \"PERSON\", \"PERSON\", \"PERSON\", \"PERSON\", \"PERSON\", \"PERSON\", \"PERSON\", \"PERSON\", \"PERSON\", \"PERSON\", \"PERSON\", \"PERSON\", \"PERSON\", \"PERSON\", \"PERSON\", \"PERSON\", \"PERSON\", \"PERSON\", \"PERSON\", \"PERSON\", \"PERSON\", \"PERSON\", \"PERSON\", \"PERSON\", \"PERSON\", \"PERSON\", \"PERSON\", \"PERSON\", \"PERSON\", \"PERSON\", \"PERSON\", \"PERSON\", \"PERSON\", \"PERSON\", \"PERSON\", \"PERSON\", \"PERSON\", \"PERSON\", \"PERSON\", \"PERSON\", \"PERSON\", \"PERSON\", \"PERSON\", \"PERSON\", \"PERSON\", \"PERSON\", \"PERSON\", \"PERSON\", \"PERSON\", \"PERSON\", \"PERSON\", \"PERSON\", \"PERSON\", \"PERSON\", \"PERSON\", \"PERSON\", \"PERSON\", \"PERSON\", \"PERSON\", \"PERSON\", \"PERSON\", \"PERSON\", \"PERSON\", \"PERSON\", \"PERSON\", \"PERSON\", \"PERSON\", \"PERSON\", \"PERSON\", \"PERSON\", \"PERSON\", \"PERSON\", \"PERSON\", \"PERSON\", \"PERSON\", \"PERSON\", \"PERSON\", \"PERSON\", \"PERSON\", \"PERSON\", \"PERSON\", \"PERSON\", \"PERSON\", \"PERSON\", \"PERSON\", \"PERSON\", \"PERSON\", \"PERSON\", \"PERSON\", \"PERSON\", \"PERSON\", \"PERSON\", \"PERSON\", \"PERSON\", \"PERSON\", \"PERSON\", \"PERSON\", \"PERSON\", \"PERSON\", \"PERSON\", \"PERSON\", \"PERSON\", \"PERSON\", \"PERSON\", \"PERSON\", \"PERSON\", \"PERSON\", \"PERSON\", \"PERSON\", \"PERSON\", \"PERSON\", \"PERSON\", \"PERSON\", \"PERSON\", \"PERSON\", \"PERSON\", \"PERSON\", \"PERSON\", \"PERSON\", \"PERSON\", \"PERSON\", \"PERSON\", \"PERSON\", \"PERSON\", \"PERSON\", \"PERSON\", \"PERSON\", \"PERSON\", \"PERSON\", \"PERSON\", \"PERSON\", \"PERSON\", \"PERSON\", \"PERSON\", \"PERSON\", \"PERSON\", \"PERSON\", \"PERSON\", \"PERSON\", \"PERSON\", \"PERSON\", \"PERSON\", \"PERSON\", \"PERSON\", \"PERSON\", \"PERSON\", \"PERSON\", \"PERSON\", \"PERSON\", \"PERSON\", \"PERSON\", \"PERSON\", \"PERSON\", \"PERSON\", \"PERSON\", \"PERSON\", \"PERSON\", \"PERSON\", \"PERSON\", \"PERSON\", \"PERSON\", \"PERSON\", \"PERSON\", \"PERSON\", \"PERSON\", \"PERSON\", \"PERSON\", \"PERSON\", \"PERSON\", \"PERSON\", \"PERSON\", \"PERSON\", \"PERSON\", \"PERSON\", \"PERSON\", \"PERSON\", \"PERSON\", \"PERSON\", \"PERSON\", \"PERSON\", \"PERSON\", \"PERSON\", \"PERSON\", \"PERSON\", \"PERSON\", \"PERSON\", \"PERSON\", \"PERSON\", \"PERSON\", \"PERSON\", \"PERSON\", \"PERSON\", \"PERSON\", \"PERSON\", \"PERSON\", \"PERSON\", \"PERSON\", \"PERSON\", \"PERSON\", \"PERSON\", \"PERSON\", \"PERSON\", \"PERSON\", \"PERSON\", \"PERSON\", \"PERSON\", \"PERSON\", \"PERSON\", \"PERSON\", \"PERSON\", \"PERSON\", \"PERSON\", \"PERSON\", \"PERSON\", \"PERSON\", \"PERSON\", \"PERSON\", \"PERSON\", \"PERSON\", \"PERSON\", \"PERSON\", \"PERSON\", \"PERSON\", \"PERSON\", \"PERSON\", \"PERSON\", \"PERSON\", \"PERSON\", \"PERSON\", \"PERSON\", \"PERSON\", \"PERSON\", \"PERSON\", \"PERSON\", \"PERSON\", \"PERSON\", \"PERSON\", \"PERSON\", \"PERSON\", \"PERSON\", \"PERSON\", \"PERSON\", \"PERSON\", \"PERSON\", \"PERSON\", \"PERSON\", \"PERSON\", \"PERSON\", \"PERSON\", \"PERSON\", \"PERSON\", \"PERSON\", \"PERSON\", \"PERSON\", \"PERSON\", \"PERSON\", \"PERSON\", \"PERSON\", \"PERSON\", \"PERSON\", \"PERSON\", \"PERSON\", \"PERSON\", \"PERSON\", \"PERSON\", \"PERSON\", \"PERSON\", \"PERSON\", \"PERSON\", \"PERSON\", \"PERSON\", \"PERSON\", \"PERSON\", \"PERSON\", \"PERSON\", \"PERSON\", \"PERSON\", \"PERSON\", \"PERSON\", \"PERSON\", \"PERSON\", \"PERSON\", \"PERSON\", \"PERSON\", \"PERSON\", \"PERSON\", \"PERSON\", \"PERSON\", \"PERSON\", \"PERSON\", \"PERSON\", \"PERSON\", \"PERSON\", \"PERSON\", \"PERSON\", \"PERSON\", \"PERSON\", \"PERSON\", \"PERSON\", \"PERSON\", \"PERSON\", \"PERSON\", \"PERSON\", \"PERSON\", \"PERSON\", \"PERSON\", \"PERSON\", \"PERSON\", \"PERSON\", \"PERSON\", \"PERSON\", \"PERSON\", \"PERSON\", \"PERSON\", \"PERSON\", \"PERSON\", \"PERSON\", \"PERSON\", \"PERSON\", \"PERSON\", \"PERSON\", \"PERSON\", \"PERSON\", \"PERSON\", \"PERSON\", \"PERSON\", \"PERSON\", \"PERSON\", \"PERSON\", \"PERSON\", \"PERSON\", \"PERSON\", \"PERSON\", \"PERSON\", \"PERSON\", \"PERSON\", \"PERSON\", \"PERSON\", \"PERSON\", \"PERSON\", \"PERSON\", \"PERSON\", \"PERSON\", \"PERSON\", \"PERSON\", \"PERSON\", \"PERSON\", \"PERSON\", \"PERSON\", \"PERSON\", \"PERSON\", \"PERSON\", \"PERSON\", \"PERSON\", \"PERSON\", \"PERSON\", \"PERSON\", \"PERSON\", \"PERSON\", \"PERSON\", \"PERSON\", \"PERSON\", \"PERSON\", \"PERSON\", \"PERSON\", \"PERSON\", \"PERSON\", \"PERSON\", \"PERSON\", \"PERSON\", \"PERSON\", \"PERSON\", \"PERSON\", \"PERSON\", \"PERSON\", \"PERSON\", \"PERSON\", \"PERSON\", \"PERSON\", \"PERSON\", \"PERSON\", \"PERSON\", \"PERSON\", \"PERSON\", \"PERSON\", \"PERSON\", \"PERSON\", \"PERSON\", \"PERSON\", \"PERSON\", \"PERSON\", \"PERSON\", \"PERSON\", \"PERSON\", \"PERSON\", \"PERSON\", \"PERSON\", \"PERSON\", \"PERSON\", \"PERSON\", \"PERSON\", \"PERSON\", \"PERSON\", \"PERSON\", \"PERSON\", \"PERSON\", \"PERSON\", \"PERSON\", \"PERSON\", \"PERSON\", \"PERSON\", \"PERSON\", \"PERSON\", \"PERSON\", \"PERSON\", \"PERSON\", \"PERSON\", \"PERSON\", \"PERSON\", \"PERSON\", \"PERSON\", \"PERSON\", \"PERSON\", \"PERSON\", \"PERSON\", \"PERSON\", \"PERSON\", \"PERSON\", \"PERSON\", \"PERSON\", \"PERSON\", \"PERSON\", \"PERSON\", \"PERSON\", \"PERSON\", \"PERSON\", \"PERSON\", \"PERSON\", \"PERSON\", \"PERSON\", \"PERSON\", \"PERSON\", \"PERSON\", \"PERSON\", \"PERSON\", \"PERSON\", \"PERSON\", \"PERSON\", \"PERSON\", \"PERSON\", \"PERSON\", \"PERSON\", \"PERSON\", \"PERSON\", \"PERSON\", \"PERSON\", \"PERSON\", \"PERSON\", \"PERSON\", \"PERSON\", \"PERSON\", \"PERSON\", \"PERSON\", \"PERSON\", \"PERSON\", \"PERSON\", \"PERSON\", \"PERSON\", \"PERSON\", \"PERSON\", \"PERSON\", \"PERSON\", \"PERSON\", \"PERSON\", \"PERSON\", \"PERSON\", \"PERSON\", \"PERSON\", \"PERSON\", \"PERSON\", \"PERSON\", \"PERSON\", \"PERSON\", \"PERSON\", \"PERSON\", \"PERSON\", \"PERSON\", \"PERSON\", \"PERSON\", \"PERSON\", \"PERSON\", \"PERSON\", \"PERSON\", \"PERSON\", \"PERSON\", \"PERSON\", \"PERSON\", \"PERSON\", \"PERSON\", \"PERSON\", \"PERSON\", \"PERSON\", \"PERSON\", \"PERSON\", \"PERSON\", \"PERSON\", \"PERSON\", \"PERSON\", \"PERSON\", \"PERSON\", \"PERSON\", \"PERSON\", \"PERSON\", \"PERSON\", \"PERSON\", \"PERSON\", \"PERSON\", \"PERSON\", \"PERSON\", \"PERSON\", \"PERSON\", \"PERSON\", \"PERSON\", \"PERSON\", \"PERSON\", \"PERSON\", \"PERSON\", \"PERSON\", \"PERSON\", \"PERSON\", \"PERSON\", \"PERSON\", \"PERSON\", \"PERSON\", \"PERSON\", \"PERSON\", \"PERSON\", \"PERSON\", \"PERSON\", \"PERSON\", \"PERSON\", \"PERSON\", \"PERSON\", \"PERSON\", \"PERSON\", \"PERSON\", \"PERSON\", \"PERSON\", \"PERSON\", \"PERSON\", \"PERSON\", \"PERSON\", \"PERSON\", \"PERSON\", \"PERSON\", \"PERSON\", \"PERSON\", \"PERSON\", \"PERSON\", \"PERSON\", \"PERSON\", \"PERSON\", \"PERSON\", \"PERSON\", \"PERSON\", \"PERSON\", \"PERSON\", \"PERSON\", \"PERSON\", \"PERSON\", \"PERSON\", \"PERSON\", \"PERSON\", \"PERSON\", \"PERSON\", \"PERSON\", \"PERSON\", \"PERSON\", \"PERSON\", \"PERSON\", \"PERSON\", \"PERSON\", \"PERSON\", \"PERSON\", \"PERSON\", \"PERSON\", \"PERSON\", \"PERSON\", \"PERSON\", \"PERSON\", \"PERSON\", \"PERSON\", \"PERSON\", \"PERSON\", \"PERSON\", \"PERSON\", \"PERSON\", \"PERSON\", \"PERSON\", \"PERSON\", \"PERSON\", \"PERSON\", \"PERSON\", \"PERSON\", \"PERSON\", \"PERSON\", \"PERSON\", \"PERSON\", \"PERSON\", \"PERSON\", \"PERSON\", \"PERSON\", \"PERSON\", \"PERSON\", \"PERSON\", \"PERSON\", \"PERSON\", \"PERSON\", \"PERSON\", \"PERSON\", \"PERSON\", \"PERSON\", \"PERSON\", \"PERSON\", \"PERSON\", \"PERSON\", \"PERSON\", \"PERSON\", \"PERSON\", \"PERSON\", \"PERSON\", \"PERSON\", \"PERSON\", \"PERSON\", \"PERSON\", \"PERSON\", \"PERSON\", \"PERSON\", \"PERSON\", \"PERSON\", \"PERSON\", \"PERSON\", \"PERSON\", \"PERSON\", \"PERSON\", \"PERSON\", \"PERSON\", \"PERSON\", \"PERSON\", \"PERSON\", \"PERSON\", \"PERSON\", \"PERSON\", \"PERSON\", \"PERSON\", \"PERSON\", \"PERSON\", \"PERSON\", \"PERSON\", \"PERSON\", \"PERSON\", \"PERSON\", \"PERSON\", \"PERSON\", \"PERSON\", \"PERSON\", \"PERSON\", \"PERSON\", \"PERSON\", \"PERSON\", \"PERSON\", \"PERSON\", \"PERSON\", \"PERSON\", \"PERSON\", \"PERSON\", \"PERSON\", \"PERSON\", \"PERSON\", \"PERSON\", \"PERSON\", \"PERSON\", \"PERSON\", \"PERSON\", \"PERSON\", \"PERSON\", \"PERSON\", \"PERSON\", \"PERSON\", \"PERSON\", \"PERSON\", \"PERSON\", \"PERSON\", \"PERSON\", \"PERSON\", \"PERSON\", \"PERSON\", \"PERSON\", \"PERSON\", \"PERSON\", \"PERSON\", \"PERSON\", \"PERSON\", \"PERSON\", \"PERSON\", \"PERSON\", \"PERSON\", \"PERSON\", \"PERSON\", \"PERSON\", \"PERSON\", \"PERSON\", \"PERSON\", \"PERSON\", \"PERSON\", \"PERSON\", \"PERSON\", \"PERSON\", \"PERSON\", \"PERSON\", \"PERSON\", \"PERSON\", \"PERSON\", \"PERSON\", \"PERSON\", \"PERSON\", \"PERSON\", \"PERSON\", \"PERSON\", \"PERSON\", \"PERSON\", \"PERSON\", \"PERSON\", \"PERSON\", \"PERSON\", \"PERSON\", \"PERSON\", \"PERSON\", \"PERSON\", \"PERSON\", \"PERSON\", \"PERSON\", \"PERSON\", \"PERSON\", \"PERSON\", \"PERSON\", \"PERSON\", \"PERSON\", \"PERSON\", \"PERSON\", \"PERSON\", \"PERSON\", \"PERSON\", \"PERSON\", \"PERSON\", \"PERSON\", \"PERSON\", \"PERSON\", \"PERSON\", \"PERSON\", \"PERSON\", \"PERSON\", \"PERSON\", \"PERSON\", \"PERSON\", \"PERSON\", \"PERSON\", \"PERSON\", \"PERSON\", \"PERSON\", \"PERSON\", \"PERSON\", \"PERSON\", \"PERSON\", \"PERSON\", \"PERSON\", \"PERSON\", \"PERSON\", \"PERSON\", \"PERSON\", \"PERSON\", \"PERSON\", \"PERSON\", \"PERSON\", \"PERSON\", \"PERSON\", \"PERSON\", \"PERSON\", \"PERSON\", \"PERSON\", \"PERSON\", \"PERSON\", \"PERSON\", \"PERSON\", \"PERSON\", \"PERSON\", \"PERSON\", \"PERSON\", \"PERSON\", \"PERSON\", \"PERSON\", \"PERSON\", \"PERSON\", \"PERSON\", \"PERSON\", \"PERSON\", \"PERSON\", \"PERSON\", \"PERSON\", \"PERSON\", \"PERSON\", \"PERSON\", \"PERSON\", \"PERSON\", \"PERSON\", \"PERSON\", \"PERSON\", \"PERSON\", \"PERSON\", \"PERSON\", \"PERSON\", \"PERSON\", \"PERSON\", \"PERSON\", \"PERSON\", \"PERSON\", \"PERSON\", \"PERSON\", \"PERSON\", \"PERSON\", \"PERSON\", \"PERSON\", \"PERSON\", \"PERSON\", \"PERSON\", \"PERSON\", \"PERSON\", \"PERSON\", \"PERSON\", \"PERSON\", \"PERSON\", \"PERSON\", \"PERSON\", \"PERSON\", \"PERSON\", \"PERSON\", \"PERSON\", \"PERSON\", \"PERSON\", \"PERSON\", \"PERSON\", \"PERSON\", \"PERSON\", \"PERSON\", \"PERSON\", \"PERSON\", \"PERSON\", \"PERSON\", \"PERSON\", \"PERSON\", \"PERSON\", \"PERSON\", \"PERSON\", \"PERSON\", \"PERSON\", \"PERSON\", \"PERSON\", \"PERSON\", \"PERSON\", \"PERSON\", \"PERSON\", \"PERSON\", \"PERSON\", \"PERSON\", \"PERSON\", \"PERSON\", \"PERSON\", \"PERSON\", \"PERSON\", \"PERSON\", \"PERSON\", \"PERSON\", \"PERSON\", \"PERSON\", \"PERSON\", \"PERSON\", \"PERSON\", \"PERSON\", \"PERSON\", \"PERSON\", \"PERSON\", \"PERSON\", \"PERSON\", \"PERSON\", \"PERSON\", \"PERSON\", \"PERSON\", \"PERSON\", \"PERSON\", \"PERSON\", \"PERSON\", \"PERSON\", \"PERSON\", \"PERSON\", \"PERSON\", \"PERSON\", \"PERSON\", \"PERSON\", \"PERSON\", \"PERSON\", \"PERSON\", \"PERSON\", \"PERSON\", \"PERSON\", \"PERSON\", \"PERSON\", \"PERSON\", \"PERSON\", \"PERSON\", \"PERSON\", \"PERSON\", \"PERSON\", \"PERSON\", \"PERSON\", \"PERSON\", \"PERSON\", \"PERSON\", \"PERSON\", \"PERSON\", \"PERSON\", \"PERSON\", \"PERSON\", \"PERSON\", \"PERSON\", \"PERSON\", \"PERSON\", \"PERSON\", \"PERSON\", \"PERSON\", \"PERSON\", \"PERSON\", \"PERSON\", \"PERSON\", \"PERSON\", \"PERSON\", \"PERSON\", \"PERSON\", \"PERSON\", \"PERSON\", \"PERSON\", \"PERSON\", \"PERSON\", \"PERSON\", \"PERSON\", \"PERSON\", \"PERSON\", \"PERSON\", \"PERSON\", \"PERSON\", \"PERSON\", \"PERSON\", \"PERSON\", \"PERSON\", \"PERSON\", \"PERSON\", \"PERSON\", \"PERSON\", \"PERSON\", \"PERSON\", \"PERSON\", \"PERSON\", \"PERSON\", \"PERSON\", \"PERSON\", \"PERSON\", \"PERSON\", \"PERSON\", \"PERSON\", \"PERSON\", \"PERSON\", \"PERSON\", \"PERSON\", \"PERSON\", \"PERSON\", \"PERSON\", \"PERSON\", \"PERSON\", \"PERSON\", \"PERSON\", \"PERSON\", \"PERSON\", \"PERSON\", \"PERSON\", \"PERSON\", \"PERSON\", \"PERSON\", \"PERSON\", \"PERSON\", \"PERSON\", \"PERSON\", \"PERSON\", \"PERSON\", \"PERSON\", \"PERSON\", \"PERSON\", \"PERSON\", \"PERSON\", \"PERSON\", \"PERSON\", \"PERSON\", \"PERSON\", \"PERSON\", \"PERSON\", \"PERSON\", \"PERSON\", \"PERSON\", \"PERSON\", \"PERSON\", \"PERSON\", \"PERSON\", \"PERSON\", \"PERSON\", \"PERSON\", \"PERSON\", \"PERSON\", \"PERSON\", \"PERSON\", \"PERSON\", \"PERSON\", \"PERSON\", \"PERSON\", \"PERSON\", \"PERSON\", \"PERSON\", \"PERSON\", \"PERSON\", \"PERSON\", \"PERSON\", \"PERSON\", \"PERSON\", \"PERSON\", \"PERSON\", \"PERSON\", \"PERSON\", \"PERSON\", \"PERSON\", \"PERSON\", \"PERSON\", \"PERSON\", \"PERSON\", \"PERSON\", \"PERSON\", \"PERSON\", \"PERSON\", \"PERSON\", \"PERSON\", \"PERSON\", \"PERSON\", \"PERSON\", \"PERSON\", \"PERSON\", \"PERSON\", \"PERSON\", \"PERSON\", \"PERSON\", \"PERSON\", \"PERSON\", \"PERSON\", \"PERSON\", \"PERSON\", \"PERSON\", \"PERSON\", \"PERSON\", \"PERSON\", \"PERSON\", \"PERSON\", \"PERSON\", \"PERSON\", \"PERSON\", \"PERSON\", \"PERSON\", \"PERSON\", \"PERSON\", \"PERSON\", \"PERSON\", \"PERSON\", \"PERSON\", \"PERSON\", \"PERSON\", \"PERSON\", \"PERSON\", \"PERSON\", \"PERSON\", \"PERSON\", \"PERSON\", \"PERSON\", \"PERSON\", \"PERSON\", \"PERSON\", \"PERSON\", \"PERSON\", \"PERSON\", \"PERSON\", \"PERSON\", \"PERSON\", \"PERSON\", \"PERSON\", \"PERSON\", \"PERSON\", \"PERSON\", \"PERSON\", \"PERSON\", \"PERSON\", \"PERSON\", \"PERSON\", \"PERSON\", \"PERSON\", \"PERSON\", \"PERSON\", \"PERSON\", \"PERSON\", \"PERSON\", \"PERSON\", \"PERSON\", \"PERSON\", \"PERSON\", \"PERSON\", \"PERSON\", \"PERSON\", \"PERSON\", \"PERSON\", \"PERSON\", \"PERSON\", \"PERSON\", \"PERSON\", \"PERSON\", \"PERSON\", \"PERSON\", \"PERSON\", \"PERSON\", \"PERSON\", \"PERSON\", \"PERSON\", \"PERSON\", \"PERSON\", \"PERSON\", \"PERSON\", \"PERSON\", \"PERSON\", \"PERSON\", \"PERSON\", \"PERSON\", \"PERSON\", \"PERSON\", \"PERSON\", \"PERSON\", \"PERSON\", \"PERSON\", \"PERSON\", \"PERSON\", \"PERSON\", \"PERSON\", \"PERSON\", \"PERSON\", \"PERSON\", \"PERSON\", \"PERSON\", \"PERSON\", \"PERSON\", \"PERSON\", \"PERSON\", \"PERSON\", \"PERSON\", \"PERSON\", \"PERSON\", \"PERSON\", \"PERSON\", \"PERSON\", \"PERSON\", \"PERSON\", \"PERSON\", \"PERSON\", \"PERSON\", \"PERSON\", \"PERSON\", \"PERSON\", \"PERSON\", \"PERSON\", \"PERSON\", \"PERSON\", \"PERSON\", \"PERSON\", \"PERSON\", \"PERSON\", \"PERSON\", \"PERSON\", \"PERSON\", \"PERSON\", \"PERSON\", \"PERSON\", \"PERSON\", \"PERSON\", \"PERSON\", \"PERSON\", \"PERSON\", \"PERSON\", \"PERSON\", \"PERSON\", \"PERSON\", \"PERSON\", \"PERSON\", \"PERSON\", \"PERSON\", \"PERSON\", \"PERSON\", \"PERSON\", \"PERSON\", \"PERSON\", \"PERSON\", \"PERSON\", \"PERSON\", \"PERSON\", \"PERSON\", \"PERSON\", \"PERSON\", \"PERSON\", \"PERSON\", \"PERSON\", \"PERSON\", \"PERSON\", \"PERSON\", \"PERSON\", \"PERSON\", \"PERSON\", \"PERSON\", \"PERSON\", \"PERSON\", \"PERSON\", \"PERSON\", \"PERSON\", \"PERSON\", \"PERSON\", \"PERSON\", \"PERSON\", \"PERSON\", \"PERSON\", \"PERSON\", \"PERSON\", \"PERSON\", \"PERSON\", \"PERSON\", \"PERSON\", \"PERSON\", \"PERSON\", \"PERSON\", \"PERSON\", \"PERSON\", \"PERSON\", \"PERSON\", \"PERSON\", \"PERSON\", \"PERSON\", \"PERSON\", \"PERSON\", \"PERSON\", \"PERSON\", \"PERSON\", \"PERSON\", \"PERSON\", \"PERSON\", \"PERSON\", \"PERSON\", \"PERSON\", \"PERSON\", \"PERSON\", \"PERSON\", \"PERSON\", \"PERSON\", \"PERSON\", \"PERSON\", \"PERSON\", \"PERSON\", \"PERSON\", \"PERSON\", \"PERSON\", \"PERSON\", \"PERSON\", \"PERSON\", \"PERSON\", \"PERSON\", \"PERSON\", \"PERSON\", \"PERSON\", \"PERSON\", \"PERSON\", \"PERSON\", \"PERSON\", \"PERSON\", \"PERSON\", \"PERSON\", \"PERSON\", \"PERSON\", \"PERSON\", \"PERSON\", \"PERSON\", \"PERSON\", \"PERSON\", \"PERSON\", \"PERSON\", \"PERSON\", \"PERSON\", \"PERSON\", \"PERSON\", \"PERSON\", \"PERSON\", \"PERSON\", \"PERSON\", \"PERSON\", \"PERSON\", \"PERSON\", \"PERSON\", \"PERSON\", \"PERSON\", \"PERSON\", \"PERSON\", \"PERSON\", \"PERSON\", \"PERSON\", \"PERSON\", \"PERSON\", \"PERSON\", \"PERSON\", \"PERSON\", \"PERSON\", \"PERSON\", \"PERSON\", \"PERSON\", \"PERSON\", \"PERSON\", \"PERSON\", \"PERSON\", \"PERSON\", \"PERSON\", \"PERSON\", \"PERSON\", \"PERSON\", \"PERSON\", \"PERSON\", \"PERSON\", \"PERSON\", \"PERSON\", \"PERSON\", \"PERSON\", \"PERSON\", \"PERSON\", \"PERSON\", \"PERSON\", \"PERSON\", \"PERSON\", \"PERSON\", \"PERSON\", \"PERSON\", \"PERSON\", \"PERSON\", \"PERSON\", \"PERSON\", \"PERSON\", \"PERSON\", \"PERSON\", \"PERSON\", \"PERSON\", \"PERSON\", \"PERSON\", \"PERSON\", \"PERSON\", \"PERSON\", \"PERSON\", \"PERSON\", \"PERSON\", \"PERSON\", \"PERSON\", \"PERSON\", \"PERSON\", \"PERSON\", \"PERSON\", \"PERSON\", \"PERSON\", \"PERSON\", \"PERSON\", \"PERSON\", \"PERSON\", \"PERSON\", \"PERSON\", \"PERSON\", \"PERSON\", \"PERSON\", \"PERSON\", \"PERSON\", \"PERSON\", \"PERSON\", \"PERSON\", \"PERSON\", \"PERSON\", \"PERSON\", \"PERSON\", \"PERSON\", \"PERSON\", \"PERSON\", \"PERSON\", \"PERSON\", \"PERSON\", \"PERSON\", \"PERSON\", \"PERSON\", \"PERSON\", \"PERSON\", \"PERSON\", \"PERSON\", \"PERSON\", \"PERSON\", \"PERSON\", \"PERSON\", \"PERSON\", \"PERSON\", \"PERSON\", \"PERSON\", \"PERSON\", \"PERSON\", \"PERSON\", \"PERSON\", \"PERSON\", \"PERSON\", \"PERSON\", \"PERSON\", \"PERSON\", \"PERSON\", \"PERSON\", \"PERSON\", \"PERSON\", \"PERSON\", \"PERSON\", \"PERSON\", \"PERSON\", \"PERSON\", \"PERSON\", \"PERSON\", \"PERSON\", \"PERSON\", \"PERSON\", \"PERSON\", \"PERSON\", \"PERSON\", \"PERSON\", \"PERSON\", \"PERSON\", \"PERSON\", \"PERSON\", \"PERSON\", \"PERSON\", \"PERSON\", \"PERSON\", \"PERSON\", \"PERSON\", \"PERSON\", \"PERSON\", \"PERSON\", \"PERSON\", \"PERSON\", \"PERSON\", \"PERSON\", \"PERSON\", \"PERSON\", \"PERSON\", \"PERSON\", \"PERSON\", \"PERSON\", \"PERSON\", \"PERSON\", \"PERSON\", \"PERSON\", \"PERSON\", \"PERSON\", \"PERSON\", \"PERSON\", \"PERSON\", \"PERSON\", \"PERSON\", \"PERSON\", \"PERSON\", \"PERSON\", \"PERSON\", \"PERSON\", \"PERSON\", \"PERSON\", \"PERSON\", \"PERSON\", \"PERSON\", \"PERSON\", \"PERSON\", \"PERSON\", \"PERSON\", \"PERSON\", \"PERSON\", \"PERSON\", \"PERSON\", \"PERSON\", \"PERSON\", \"PERSON\", \"PERSON\", \"PERSON\", \"PERSON\", \"PERSON\", \"PERSON\", \"PERSON\", \"PERSON\", \"PERSON\", \"PERSON\", \"PERSON\", \"PERSON\", \"PERSON\", \"PERSON\", \"PERSON\", \"PERSON\", \"PERSON\", \"PERSON\", \"PERSON\", \"PERSON\", \"PERSON\", \"PERSON\", \"PERSON\", \"PERSON\", \"PERSON\", \"PERSON\", \"PERSON\", \"PERSON\", \"PERSON\", \"PERSON\", \"PERSON\", \"PERSON\", \"PERSON\", \"PERSON\", \"PERSON\", \"PERSON\", \"PERSON\", \"PERSON\", \"PERSON\", \"PERSON\", \"PERSON\", \"PERSON\", \"PERSON\", \"PERSON\", \"PERSON\", \"PERSON\", \"PERSON\", \"PERSON\", \"PERSON\", \"PERSON\", \"PERSON\", \"PERSON\", \"PERSON\", \"PERSON\", \"PERSON\", \"PERSON\", \"PERSON\", \"PERSON\", \"PERSON\", \"PERSON\", \"PERSON\", \"PERSON\", \"PERSON\", \"PERSON\", \"PERSON\", \"PERSON\", \"PERSON\", \"PERSON\", \"PERSON\", \"PERSON\", \"PERSON\", \"PERSON\", \"PERSON\", \"PERSON\", \"PERSON\", \"PERSON\", \"PERSON\", \"PERSON\", \"PERSON\", \"PERSON\", \"PERSON\", \"PERSON\", \"PERSON\", \"PERSON\", \"PERSON\", \"PERSON\", \"PERSON\", \"PERSON\", \"PERSON\", \"PERSON\", \"PERSON\", \"PERSON\", \"PERSON\", \"PERSON\", \"PERSON\", \"PERSON\", \"PERSON\", \"PERSON\", \"PERSON\", \"PERSON\", \"PERSON\", \"PERSON\", \"PERSON\", \"PERSON\", \"PERSON\", \"PERSON\", \"PERSON\", \"PERSON\", \"PERSON\", \"PERSON\", \"PERSON\", \"PERSON\", \"PERSON\", \"PERSON\", \"PERSON\", \"PERSON\", \"PERSON\", \"PERSON\", \"PERSON\", \"PERSON\", \"PERSON\", \"PERSON\", \"PERSON\", \"PERSON\", \"PERSON\", \"PERSON\", \"PERSON\", \"PERSON\", \"PERSON\", \"PERSON\", \"PERSON\", \"PERSON\", \"PERSON\", \"PERSON\", \"PERSON\", \"PERSON\", \"PERSON\", \"PERSON\", \"PERSON\", \"PERSON\", \"PERSON\", \"PERSON\", \"PERSON\", \"PERSON\", \"PERSON\", \"PERSON\", \"PERSON\", \"PERSON\", \"PERSON\", \"PERSON\", \"PERSON\", \"PERSON\", \"PERSON\", \"PERSON\", \"PERSON\", \"PERSON\", \"PERSON\", \"PERSON\", \"PERSON\", \"PERSON\", \"PERSON\", \"PERSON\", \"PERSON\", \"PERSON\", \"PERSON\", \"PERSON\", \"PERSON\", \"PERSON\", \"PERSON\", \"PERSON\", \"PERSON\", \"PERSON\", \"PERSON\", \"PERSON\", \"PERSON\", \"PERSON\", \"PERSON\", \"PERSON\", \"PERSON\", \"PERSON\", \"PERSON\", \"PERSON\", \"PERSON\", \"PERSON\", \"PERSON\", \"PERSON\", \"PERSON\", \"PERSON\", \"PERSON\", \"PERSON\", \"PERSON\", \"PERSON\", \"PERSON\", \"PERSON\", \"PERSON\", \"PERSON\", \"PERSON\", \"PERSON\", \"PERSON\", \"PERSON\", \"PERSON\", \"PERSON\", \"PERSON\", \"PERSON\", \"PERSON\", \"PERSON\", \"PERSON\", \"PERSON\", \"PERSON\", \"PERSON\", \"PERSON\", \"PERSON\", \"PERSON\", \"PERSON\", \"PERSON\", \"PERSON\", \"PERSON\", \"PERSON\", \"PERSON\", \"PERSON\", \"PERSON\", \"PERSON\", \"PERSON\", \"PERSON\", \"PERSON\", \"PERSON\", \"PERSON\", \"PERSON\", \"PERSON\", \"PERSON\", \"PERSON\", \"PERSON\", \"PERSON\", \"PERSON\", \"PERSON\", \"PERSON\", \"PERSON\", \"PERSON\", \"PERSON\", \"PERSON\", \"PERSON\", \"PERSON\", \"PERSON\", \"PERSON\", \"PERSON\", \"PERSON\", \"PERSON\", \"PERSON\", \"PERSON\", \"PERSON\", \"PERSON\", \"PERSON\", \"PERSON\", \"PERSON\", \"PERSON\", \"PERSON\", \"PERSON\", \"PERSON\", \"PERSON\", \"PERSON\", \"PERSON\", \"PERSON\", \"PERSON\", \"PERSON\", \"PERSON\", \"PERSON\", \"PERSON\", \"PERSON\", \"PERSON\", \"PERSON\", \"PERSON\", \"PERSON\", \"PERSON\", \"PERSON\", \"PERSON\", \"PERSON\", \"PERSON\", \"PERSON\", \"PERSON\", \"PERSON\", \"PERSON\", \"PERSON\", \"PERSON\", \"PERSON\", \"PERSON\", \"PERSON\", \"PERSON\", \"PERSON\", \"PERSON\", \"PERSON\", \"PERSON\", \"PERSON\", \"PERSON\", \"PERSON\", \"PERSON\", \"PERSON\", \"PERSON\", \"PERSON\", \"PERSON\", \"PERSON\", \"PERSON\", \"PERSON\", \"PERSON\", \"PERSON\", \"PERSON\", \"PERSON\", \"PERSON\", \"PERSON\", \"PERSON\", \"PERSON\", \"PERSON\", \"PERSON\", \"PERSON\", \"PERSON\", \"PERSON\", \"PERSON\", \"PERSON\", \"PERSON\", \"PERSON\", \"PERSON\", \"PERSON\", \"PERSON\", \"PERSON\", \"PERSON\", \"PERSON\", \"PERSON\", \"PERSON\", \"PERSON\", \"PERSON\", \"PERSON\", \"PERSON\", \"PERSON\", \"PERSON\", \"PERSON\", \"PERSON\", \"PERSON\", \"PERSON\", \"PERSON\", \"PERSON\", \"PERSON\", \"PERSON\", \"PERSON\", \"PERSON\", \"PERSON\", \"PERSON\", \"PERSON\", \"PERSON\", \"PERSON\", \"PERSON\", \"PERSON\", \"PERSON\", \"PERSON\", \"PERSON\", \"PERSON\", \"PERSON\", \"PERSON\", \"PERSON\", \"PERSON\", \"PERSON\", \"PERSON\", \"PERSON\", \"PERSON\", \"PERSON\", \"PERSON\", \"PERSON\", \"PERSON\", \"PERSON\", \"PERSON\", \"PERSON\", \"PERSON\", \"PERSON\", \"PERSON\", \"PERSON\", \"PERSON\", \"PERSON\", \"PERSON\", \"PERSON\", \"PERSON\", \"PERSON\", \"PERSON\", \"PERSON\", \"PERSON\", \"PERSON\", \"PERSON\", \"PERSON\", \"PERSON\", \"PERSON\", \"PERSON\", \"PERSON\", \"PERSON\", \"PERSON\", \"PERSON\", \"PERSON\", \"PERSON\", \"PERSON\", \"PERSON\", \"PERSON\", \"PERSON\", \"PERSON\", \"PERSON\", \"PERSON\", \"PERSON\", \"PERSON\", \"PERSON\", \"PERSON\", \"PERSON\", \"PERSON\", \"PERSON\", \"PERSON\", \"PERSON\", \"PERSON\", \"PERSON\", \"PERSON\", \"PERSON\", \"PERSON\", \"PERSON\", \"PERSON\", \"PERSON\", \"PERSON\", \"PERSON\", \"PERSON\", \"PERSON\", \"PERSON\", \"PERSON\", \"PERSON\", \"PERSON\", \"PERSON\", \"PERSON\", \"PERSON\", \"PERSON\", \"PERSON\", \"PERSON\", \"PERSON\", \"PERSON\", \"PERSON\", \"PERSON\", \"PERSON\", \"PERSON\", \"PERSON\", \"PERSON\", \"PERSON\", \"PERSON\", \"PERSON\", \"PERSON\", \"PERSON\", \"PERSON\", \"PERSON\", \"PERSON\", \"PERSON\", \"PERSON\", \"PERSON\", \"PERSON\", \"PERSON\", \"PERSON\", \"PERSON\", \"PERSON\", \"PERSON\", \"PERSON\", \"PERSON\", \"PERSON\", \"PERSON\", \"PERSON\", \"PERSON\", \"PERSON\", \"PERSON\", \"PERSON\", \"PERSON\", \"PERSON\", \"PERSON\", \"PERSON\", \"PERSON\", \"PERSON\", \"PERSON\", \"PERSON\", \"PERSON\", \"PERSON\", \"PERSON\", \"PERSON\", \"PERSON\", \"PERSON\", \"PERSON\", \"PERSON\", \"PERSON\", \"PERSON\", \"PERSON\", \"PERSON\", \"PERSON\", \"PERSON\", \"PERSON\", \"PERSON\", \"PERSON\", \"PERSON\", \"PERSON\", \"PERSON\", \"PERSON\", \"PERSON\", \"PERSON\", \"PERSON\", \"PERSON\", \"PERSON\", \"PERSON\", \"PERSON\", \"PERSON\", \"PERSON\", \"PERSON\", \"PERSON\", \"PERSON\", \"PERSON\", \"PERSON\", \"PERSON\", \"PERSON\", \"PERSON\", \"PERSON\", \"PERSON\", \"PERSON\", \"PERSON\", \"PERSON\", \"PERSON\", \"PERSON\", \"PERSON\", \"PERSON\", \"PERSON\", \"PERSON\", \"PERSON\", \"PERSON\", \"PERSON\", \"PERSON\", \"PERSON\", \"PERSON\", \"PERSON\", \"PERSON\", \"PERSON\", \"PERSON\", \"PERSON\", \"PERSON\", \"PERSON\", \"PERSON\", \"PERSON\", \"PERSON\", \"PERSON\", \"PERSON\", \"PERSON\", \"PERSON\", \"PERSON\", \"PERSON\", \"PERSON\", \"PERSON\", \"PERSON\", \"PERSON\", \"PERSON\", \"PERSON\", \"PERSON\", \"PERSON\", \"PERSON\", \"PERSON\", \"PERSON\", \"PERSON\", \"PERSON\", \"PERSON\", \"PERSON\", \"PERSON\", \"PERSON\", \"PERSON\", \"PERSON\", \"PERSON\", \"PERSON\", \"PERSON\", \"PERSON\", \"PERSON\", \"PERSON\", \"PERSON\", \"PERSON\", \"PERSON\", \"PERSON\", \"PERSON\", \"PERSON\", \"PERSON\", \"PERSON\", \"PERSON\", \"PERSON\", \"PERSON\", \"PERSON\", \"PERSON\", \"PERSON\", \"PERSON\", \"PERSON\", \"PERSON\", \"PERSON\", \"PERSON\", \"PERSON\", \"PERSON\", \"PERSON\", \"PERSON\", \"PERSON\", \"PERSON\", \"PERSON\", \"PERSON\", \"PERSON\", \"PERSON\", \"PERSON\", \"PERSON\", \"PERSON\", \"PERSON\", \"PERSON\", \"PERSON\", \"PERSON\", \"PERSON\", \"PERSON\", \"PERSON\", \"PERSON\", \"PERSON\", \"PERSON\", \"PERSON\", \"PERSON\", \"PERSON\", \"PERSON\", \"PERSON\", \"PERSON\", \"PERSON\", \"PERSON\", \"PERSON\", \"PERSON\", \"PERSON\", \"PERSON\", \"PERSON\", \"PERSON\", \"PERSON\", \"PERSON\", \"PERSON\", \"PERSON\", \"PERSON\", \"PERSON\", \"PERSON\", \"PERSON\", \"PERSON\", \"PERSON\", \"PERSON\", \"PERSON\", \"PERSON\", \"PERSON\", \"PERSON\", \"PERSON\", \"PERSON\", \"PERSON\", \"PERSON\", \"PERSON\", \"PERSON\", \"PERSON\", \"PERSON\", \"PERSON\", \"PERSON\", \"PERSON\", \"PERSON\", \"PERSON\", \"PERSON\", \"PERSON\", \"PERSON\", \"PERSON\", \"PERSON\", \"PERSON\", \"PERSON\", \"PERSON\", \"PERSON\", \"PERSON\", \"PERSON\", \"PERSON\", \"PERSON\", \"PERSON\", \"PERSON\", \"PERSON\", \"PERSON\", \"PERSON\", \"PERSON\", \"PERSON\", \"PERSON\", \"PERSON\", \"PERSON\", \"PERSON\", \"PERSON\", \"PERSON\", \"PERSON\", \"PERSON\", \"PERSON\", \"PERSON\", \"PERSON\", \"PERSON\", \"PERSON\", \"PERSON\", \"PERSON\", \"PERSON\", \"PERSON\", \"PERSON\", \"PERSON\", \"PERSON\", \"PERSON\", \"PERSON\", \"PERSON\", \"PERSON\", \"PERSON\", \"PERSON\", \"PERSON\", \"PERSON\", \"PERSON\", \"PERSON\", \"PERSON\", \"PERSON\", \"PERSON\", \"PERSON\", \"PERSON\", \"PERSON\", \"PERSON\", \"PERSON\", \"PERSON\", \"PERSON\", \"PERSON\", \"PERSON\", \"PERSON\", \"PERSON\", \"PERSON\", \"PERSON\", \"PERSON\", \"PERSON\", \"PERSON\", \"PERSON\", \"PERSON\", \"PERSON\", \"PERSON\", \"PERSON\", \"PERSON\", \"PERSON\", \"PERSON\", \"PERSON\", \"PERSON\", \"PERSON\", \"PERSON\", \"PERSON\", \"PERSON\", \"PERSON\", \"PERSON\", \"PERSON\", \"PERSON\", \"PERSON\", \"PERSON\", \"PERSON\", \"PERSON\", \"PERSON\", \"PERSON\", \"PERSON\", \"PERSON\", \"PERSON\", \"PERSON\", \"PERSON\", \"PERSON\", \"PERSON\", \"PERSON\", \"PERSON\", \"PERSON\", \"PERSON\", \"PERSON\", \"PERSON\", \"PERSON\", \"PERSON\", \"PERSON\", \"PERSON\", \"PERSON\", \"PERSON\", \"PERSON\", \"PERSON\", \"PERSON\", \"PERSON\", \"PERSON\", \"PERSON\", \"PERSON\", \"PERSON\", \"PERSON\", \"PERSON\", \"PERSON\", \"PERSON\", \"PERSON\", \"PERSON\", \"PERSON\", \"PERSON\", \"PERSON\", \"PERSON\", \"PERSON\", \"PERSON\", \"PERSON\", \"PERSON\", \"PERSON\", \"PERSON\", \"PERSON\", \"PERSON\", \"PERSON\", \"PERSON\", \"PERSON\", \"PERSON\", \"PERSON\", \"PERSON\", \"PERSON\", \"PERSON\", \"PERSON\", \"PERSON\", \"PERSON\", \"PERSON\", \"PERSON\", \"PERSON\", \"PERSON\", \"PERSON\", \"PERSON\"], \"xaxis\": \"x\", \"yaxis\": \"y\"}, {\"alignmentgroup\": \"True\", \"bingroup\": \"x\", \"hoverlabel\": {\"namelength\": 0}, \"hovertemplate\": \"label=%{x}<br>count=%{y}\", \"legendgroup\": \"label=TIME\", \"marker\": {\"color\": \"#EF553B\"}, \"name\": \"label=TIME\", \"offsetgroup\": \"label=TIME\", \"orientation\": \"v\", \"showlegend\": true, \"type\": \"histogram\", \"x\": [\"TIME\", \"TIME\", \"TIME\", \"TIME\", \"TIME\", \"TIME\", \"TIME\", \"TIME\", \"TIME\", \"TIME\", \"TIME\", \"TIME\", \"TIME\", \"TIME\", \"TIME\", \"TIME\", \"TIME\", \"TIME\", \"TIME\", \"TIME\", \"TIME\", \"TIME\", \"TIME\", \"TIME\", \"TIME\", \"TIME\", \"TIME\", \"TIME\", \"TIME\", \"TIME\", \"TIME\", \"TIME\", \"TIME\", \"TIME\", \"TIME\", \"TIME\", \"TIME\", \"TIME\", \"TIME\", \"TIME\", \"TIME\", \"TIME\", \"TIME\", \"TIME\", \"TIME\", \"TIME\", \"TIME\", \"TIME\", \"TIME\", \"TIME\", \"TIME\", \"TIME\", \"TIME\", \"TIME\", \"TIME\", \"TIME\", \"TIME\", \"TIME\", \"TIME\", \"TIME\", \"TIME\", \"TIME\", \"TIME\", \"TIME\", \"TIME\", \"TIME\", \"TIME\", \"TIME\", \"TIME\", \"TIME\", \"TIME\", \"TIME\", \"TIME\", \"TIME\", \"TIME\", \"TIME\", \"TIME\", \"TIME\", \"TIME\", \"TIME\", \"TIME\", \"TIME\", \"TIME\", \"TIME\", \"TIME\", \"TIME\", \"TIME\", \"TIME\", \"TIME\", \"TIME\", \"TIME\", \"TIME\", \"TIME\", \"TIME\", \"TIME\", \"TIME\", \"TIME\", \"TIME\", \"TIME\", \"TIME\", \"TIME\", \"TIME\", \"TIME\", \"TIME\", \"TIME\", \"TIME\", \"TIME\", \"TIME\", \"TIME\", \"TIME\", \"TIME\", \"TIME\", \"TIME\", \"TIME\", \"TIME\", \"TIME\", \"TIME\", \"TIME\", \"TIME\", \"TIME\", \"TIME\", \"TIME\", \"TIME\", \"TIME\", \"TIME\", \"TIME\", \"TIME\", \"TIME\", \"TIME\", \"TIME\", \"TIME\", \"TIME\", \"TIME\", \"TIME\", \"TIME\", \"TIME\", \"TIME\", \"TIME\", \"TIME\", \"TIME\", \"TIME\", \"TIME\", \"TIME\", \"TIME\", \"TIME\", \"TIME\", \"TIME\", \"TIME\", \"TIME\", \"TIME\", \"TIME\", \"TIME\", \"TIME\", \"TIME\", \"TIME\", \"TIME\", \"TIME\", \"TIME\", \"TIME\", \"TIME\", \"TIME\", \"TIME\", \"TIME\", \"TIME\", \"TIME\", \"TIME\", \"TIME\", \"TIME\", \"TIME\", \"TIME\", \"TIME\", \"TIME\", \"TIME\", \"TIME\", \"TIME\", \"TIME\", \"TIME\", \"TIME\", \"TIME\", \"TIME\", \"TIME\", \"TIME\", \"TIME\", \"TIME\", \"TIME\", \"TIME\", \"TIME\", \"TIME\", \"TIME\", \"TIME\", \"TIME\", \"TIME\", \"TIME\", \"TIME\", \"TIME\", \"TIME\", \"TIME\", \"TIME\", \"TIME\", \"TIME\", \"TIME\", \"TIME\", \"TIME\", \"TIME\", \"TIME\", \"TIME\", \"TIME\", \"TIME\", \"TIME\", \"TIME\", \"TIME\", \"TIME\", \"TIME\", \"TIME\", \"TIME\", \"TIME\", \"TIME\", \"TIME\", \"TIME\", \"TIME\", \"TIME\", \"TIME\", \"TIME\", \"TIME\", \"TIME\", \"TIME\", \"TIME\", \"TIME\", \"TIME\", \"TIME\", \"TIME\", \"TIME\", \"TIME\", \"TIME\", \"TIME\", \"TIME\", \"TIME\", \"TIME\", \"TIME\", \"TIME\", \"TIME\", \"TIME\", \"TIME\", \"TIME\", \"TIME\", \"TIME\", \"TIME\", \"TIME\", \"TIME\", \"TIME\", \"TIME\", \"TIME\", \"TIME\", \"TIME\", \"TIME\", \"TIME\", \"TIME\", \"TIME\", \"TIME\", \"TIME\", \"TIME\", \"TIME\", \"TIME\", \"TIME\", \"TIME\", \"TIME\", \"TIME\", \"TIME\", \"TIME\", \"TIME\", \"TIME\", \"TIME\", \"TIME\", \"TIME\", \"TIME\", \"TIME\", \"TIME\", \"TIME\", \"TIME\", \"TIME\", \"TIME\", \"TIME\", \"TIME\", \"TIME\", \"TIME\", \"TIME\", \"TIME\", \"TIME\", \"TIME\", \"TIME\", \"TIME\", \"TIME\", \"TIME\", \"TIME\", \"TIME\", \"TIME\", \"TIME\", \"TIME\", \"TIME\", \"TIME\", \"TIME\", \"TIME\", \"TIME\", \"TIME\", \"TIME\", \"TIME\", \"TIME\", \"TIME\", \"TIME\", \"TIME\", \"TIME\", \"TIME\", \"TIME\", \"TIME\", \"TIME\", \"TIME\", \"TIME\", \"TIME\", \"TIME\", \"TIME\", \"TIME\", \"TIME\", \"TIME\", \"TIME\", \"TIME\", \"TIME\", \"TIME\", \"TIME\", \"TIME\", \"TIME\", \"TIME\", \"TIME\", \"TIME\", \"TIME\", \"TIME\", \"TIME\", \"TIME\", \"TIME\", \"TIME\", \"TIME\", \"TIME\", \"TIME\", \"TIME\", \"TIME\", \"TIME\", \"TIME\", \"TIME\", \"TIME\", \"TIME\", \"TIME\", \"TIME\", \"TIME\", \"TIME\", \"TIME\", \"TIME\", \"TIME\", \"TIME\", \"TIME\", \"TIME\", \"TIME\", \"TIME\", \"TIME\", \"TIME\", \"TIME\", \"TIME\", \"TIME\", \"TIME\", \"TIME\", \"TIME\", \"TIME\", \"TIME\", \"TIME\", \"TIME\", \"TIME\", \"TIME\", \"TIME\", \"TIME\", \"TIME\", \"TIME\", \"TIME\", \"TIME\", \"TIME\", \"TIME\", \"TIME\", \"TIME\", \"TIME\", \"TIME\", \"TIME\", \"TIME\", \"TIME\", \"TIME\", \"TIME\", \"TIME\", \"TIME\", \"TIME\", \"TIME\", \"TIME\", \"TIME\", \"TIME\", \"TIME\", \"TIME\", \"TIME\", \"TIME\", \"TIME\", \"TIME\", \"TIME\", \"TIME\", \"TIME\", \"TIME\", \"TIME\", \"TIME\", \"TIME\", \"TIME\", \"TIME\", \"TIME\", \"TIME\", \"TIME\", \"TIME\", \"TIME\", \"TIME\", \"TIME\", \"TIME\", \"TIME\", \"TIME\", \"TIME\", \"TIME\", \"TIME\", \"TIME\", \"TIME\", \"TIME\", \"TIME\", \"TIME\", \"TIME\", \"TIME\", \"TIME\", \"TIME\", \"TIME\", \"TIME\", \"TIME\", \"TIME\", \"TIME\", \"TIME\", \"TIME\", \"TIME\", \"TIME\", \"TIME\", \"TIME\", \"TIME\", \"TIME\", \"TIME\", \"TIME\", \"TIME\", \"TIME\", \"TIME\", \"TIME\", \"TIME\", \"TIME\", \"TIME\", \"TIME\", \"TIME\", \"TIME\", \"TIME\", \"TIME\", \"TIME\", \"TIME\", \"TIME\", \"TIME\", \"TIME\", \"TIME\", \"TIME\", \"TIME\", \"TIME\", \"TIME\", \"TIME\", \"TIME\", \"TIME\", \"TIME\", \"TIME\", \"TIME\", \"TIME\", \"TIME\", \"TIME\", \"TIME\", \"TIME\", \"TIME\", \"TIME\", \"TIME\", \"TIME\", \"TIME\", \"TIME\", \"TIME\", \"TIME\", \"TIME\", \"TIME\"], \"xaxis\": \"x\", \"yaxis\": \"y\"}, {\"alignmentgroup\": \"True\", \"bingroup\": \"x\", \"hoverlabel\": {\"namelength\": 0}, \"hovertemplate\": \"label=%{x}<br>count=%{y}\", \"legendgroup\": \"label=CARDINAL\", \"marker\": {\"color\": \"#00cc96\"}, \"name\": \"label=CARDINAL\", \"offsetgroup\": \"label=CARDINAL\", \"orientation\": \"v\", \"showlegend\": true, \"type\": \"histogram\", \"x\": [\"CARDINAL\", \"CARDINAL\", \"CARDINAL\", \"CARDINAL\", \"CARDINAL\", \"CARDINAL\", \"CARDINAL\", \"CARDINAL\", \"CARDINAL\", \"CARDINAL\", \"CARDINAL\", \"CARDINAL\", \"CARDINAL\", \"CARDINAL\", \"CARDINAL\", \"CARDINAL\", \"CARDINAL\", \"CARDINAL\", \"CARDINAL\", \"CARDINAL\", \"CARDINAL\", \"CARDINAL\", \"CARDINAL\", \"CARDINAL\", \"CARDINAL\", \"CARDINAL\", \"CARDINAL\", \"CARDINAL\", \"CARDINAL\", \"CARDINAL\", \"CARDINAL\", \"CARDINAL\", \"CARDINAL\", \"CARDINAL\", \"CARDINAL\", \"CARDINAL\", \"CARDINAL\", \"CARDINAL\", \"CARDINAL\", \"CARDINAL\", \"CARDINAL\", \"CARDINAL\", \"CARDINAL\", \"CARDINAL\", \"CARDINAL\", \"CARDINAL\", \"CARDINAL\", \"CARDINAL\", \"CARDINAL\", \"CARDINAL\", \"CARDINAL\", \"CARDINAL\", \"CARDINAL\", \"CARDINAL\", \"CARDINAL\", \"CARDINAL\", \"CARDINAL\", \"CARDINAL\", \"CARDINAL\", \"CARDINAL\", \"CARDINAL\", \"CARDINAL\", \"CARDINAL\", \"CARDINAL\", \"CARDINAL\", \"CARDINAL\", \"CARDINAL\", \"CARDINAL\", \"CARDINAL\", \"CARDINAL\", \"CARDINAL\", \"CARDINAL\", \"CARDINAL\", \"CARDINAL\", \"CARDINAL\", \"CARDINAL\", \"CARDINAL\", \"CARDINAL\", \"CARDINAL\", \"CARDINAL\", \"CARDINAL\", \"CARDINAL\", \"CARDINAL\", \"CARDINAL\", \"CARDINAL\", \"CARDINAL\", \"CARDINAL\", \"CARDINAL\", \"CARDINAL\", \"CARDINAL\", \"CARDINAL\", \"CARDINAL\", \"CARDINAL\", \"CARDINAL\", \"CARDINAL\", \"CARDINAL\", \"CARDINAL\", \"CARDINAL\", \"CARDINAL\", \"CARDINAL\", \"CARDINAL\", \"CARDINAL\", \"CARDINAL\", \"CARDINAL\", \"CARDINAL\", \"CARDINAL\", \"CARDINAL\", \"CARDINAL\", \"CARDINAL\", \"CARDINAL\", \"CARDINAL\", \"CARDINAL\", \"CARDINAL\", \"CARDINAL\", \"CARDINAL\", \"CARDINAL\", \"CARDINAL\", \"CARDINAL\", \"CARDINAL\", \"CARDINAL\", \"CARDINAL\", \"CARDINAL\", \"CARDINAL\", \"CARDINAL\", \"CARDINAL\", \"CARDINAL\", \"CARDINAL\", \"CARDINAL\", \"CARDINAL\", \"CARDINAL\", \"CARDINAL\", \"CARDINAL\", \"CARDINAL\", \"CARDINAL\", \"CARDINAL\", \"CARDINAL\", \"CARDINAL\", \"CARDINAL\", \"CARDINAL\", \"CARDINAL\", \"CARDINAL\", \"CARDINAL\", \"CARDINAL\", \"CARDINAL\", \"CARDINAL\", \"CARDINAL\", \"CARDINAL\", \"CARDINAL\", \"CARDINAL\", \"CARDINAL\", \"CARDINAL\", \"CARDINAL\", \"CARDINAL\", \"CARDINAL\", \"CARDINAL\", \"CARDINAL\", \"CARDINAL\", \"CARDINAL\", \"CARDINAL\", \"CARDINAL\", \"CARDINAL\", \"CARDINAL\", \"CARDINAL\", \"CARDINAL\", \"CARDINAL\", \"CARDINAL\", \"CARDINAL\", \"CARDINAL\", \"CARDINAL\", \"CARDINAL\", \"CARDINAL\", \"CARDINAL\", \"CARDINAL\", \"CARDINAL\", \"CARDINAL\", \"CARDINAL\", \"CARDINAL\", \"CARDINAL\", \"CARDINAL\", \"CARDINAL\", \"CARDINAL\", \"CARDINAL\", \"CARDINAL\", \"CARDINAL\", \"CARDINAL\", \"CARDINAL\", \"CARDINAL\", \"CARDINAL\", \"CARDINAL\", \"CARDINAL\", \"CARDINAL\", \"CARDINAL\", \"CARDINAL\", \"CARDINAL\", \"CARDINAL\", \"CARDINAL\", \"CARDINAL\", \"CARDINAL\", \"CARDINAL\", \"CARDINAL\", \"CARDINAL\", \"CARDINAL\", \"CARDINAL\", \"CARDINAL\", \"CARDINAL\", \"CARDINAL\", \"CARDINAL\", \"CARDINAL\", \"CARDINAL\", \"CARDINAL\", \"CARDINAL\", \"CARDINAL\", \"CARDINAL\", \"CARDINAL\", \"CARDINAL\", \"CARDINAL\", \"CARDINAL\", \"CARDINAL\", \"CARDINAL\", \"CARDINAL\", \"CARDINAL\", \"CARDINAL\", \"CARDINAL\", \"CARDINAL\", \"CARDINAL\", \"CARDINAL\", \"CARDINAL\", \"CARDINAL\", \"CARDINAL\", \"CARDINAL\", \"CARDINAL\", \"CARDINAL\", \"CARDINAL\", \"CARDINAL\", \"CARDINAL\", \"CARDINAL\", \"CARDINAL\", \"CARDINAL\", \"CARDINAL\", \"CARDINAL\", \"CARDINAL\", \"CARDINAL\", \"CARDINAL\", \"CARDINAL\", \"CARDINAL\", \"CARDINAL\", \"CARDINAL\", \"CARDINAL\", \"CARDINAL\", \"CARDINAL\", \"CARDINAL\", \"CARDINAL\", \"CARDINAL\", \"CARDINAL\", \"CARDINAL\", \"CARDINAL\", \"CARDINAL\", \"CARDINAL\", \"CARDINAL\", \"CARDINAL\", \"CARDINAL\", \"CARDINAL\", \"CARDINAL\", \"CARDINAL\", \"CARDINAL\", \"CARDINAL\", \"CARDINAL\", \"CARDINAL\", \"CARDINAL\", \"CARDINAL\", \"CARDINAL\", \"CARDINAL\", \"CARDINAL\", \"CARDINAL\", \"CARDINAL\", \"CARDINAL\", \"CARDINAL\", \"CARDINAL\", \"CARDINAL\", \"CARDINAL\", \"CARDINAL\", \"CARDINAL\", \"CARDINAL\", \"CARDINAL\", \"CARDINAL\", \"CARDINAL\", \"CARDINAL\", \"CARDINAL\", \"CARDINAL\", \"CARDINAL\", \"CARDINAL\", \"CARDINAL\", \"CARDINAL\", \"CARDINAL\", \"CARDINAL\", \"CARDINAL\", \"CARDINAL\", \"CARDINAL\", \"CARDINAL\", \"CARDINAL\", \"CARDINAL\", \"CARDINAL\", \"CARDINAL\", \"CARDINAL\", \"CARDINAL\", \"CARDINAL\", \"CARDINAL\", \"CARDINAL\", \"CARDINAL\", \"CARDINAL\", \"CARDINAL\", \"CARDINAL\", \"CARDINAL\", \"CARDINAL\", \"CARDINAL\", \"CARDINAL\", \"CARDINAL\", \"CARDINAL\", \"CARDINAL\", \"CARDINAL\", \"CARDINAL\", \"CARDINAL\", \"CARDINAL\", \"CARDINAL\", \"CARDINAL\", \"CARDINAL\", \"CARDINAL\", \"CARDINAL\", \"CARDINAL\", \"CARDINAL\", \"CARDINAL\", \"CARDINAL\", \"CARDINAL\", \"CARDINAL\", \"CARDINAL\", \"CARDINAL\", \"CARDINAL\", \"CARDINAL\", \"CARDINAL\", \"CARDINAL\", \"CARDINAL\", \"CARDINAL\", \"CARDINAL\", \"CARDINAL\", \"CARDINAL\", \"CARDINAL\", \"CARDINAL\", \"CARDINAL\", \"CARDINAL\", \"CARDINAL\", \"CARDINAL\", \"CARDINAL\", \"CARDINAL\", \"CARDINAL\", \"CARDINAL\", \"CARDINAL\", \"CARDINAL\", \"CARDINAL\", \"CARDINAL\", \"CARDINAL\", \"CARDINAL\", \"CARDINAL\", \"CARDINAL\", \"CARDINAL\", \"CARDINAL\", \"CARDINAL\", \"CARDINAL\", \"CARDINAL\", \"CARDINAL\", \"CARDINAL\", \"CARDINAL\", \"CARDINAL\", \"CARDINAL\", \"CARDINAL\", \"CARDINAL\", \"CARDINAL\", \"CARDINAL\", \"CARDINAL\", \"CARDINAL\", \"CARDINAL\", \"CARDINAL\", \"CARDINAL\", \"CARDINAL\", \"CARDINAL\", \"CARDINAL\", \"CARDINAL\", \"CARDINAL\", \"CARDINAL\", \"CARDINAL\", \"CARDINAL\", \"CARDINAL\", \"CARDINAL\", \"CARDINAL\", \"CARDINAL\", \"CARDINAL\", \"CARDINAL\", \"CARDINAL\", \"CARDINAL\", \"CARDINAL\", \"CARDINAL\", \"CARDINAL\", \"CARDINAL\", \"CARDINAL\", \"CARDINAL\", \"CARDINAL\", \"CARDINAL\", \"CARDINAL\", \"CARDINAL\", \"CARDINAL\", \"CARDINAL\", \"CARDINAL\", \"CARDINAL\", \"CARDINAL\", \"CARDINAL\", \"CARDINAL\", \"CARDINAL\", \"CARDINAL\", \"CARDINAL\", \"CARDINAL\", \"CARDINAL\", \"CARDINAL\", \"CARDINAL\", \"CARDINAL\", \"CARDINAL\", \"CARDINAL\", \"CARDINAL\", \"CARDINAL\", \"CARDINAL\", \"CARDINAL\", \"CARDINAL\", \"CARDINAL\", \"CARDINAL\", \"CARDINAL\", \"CARDINAL\", \"CARDINAL\", \"CARDINAL\", \"CARDINAL\", \"CARDINAL\", \"CARDINAL\", \"CARDINAL\", \"CARDINAL\", \"CARDINAL\", \"CARDINAL\", \"CARDINAL\", \"CARDINAL\", \"CARDINAL\", \"CARDINAL\", \"CARDINAL\", \"CARDINAL\", \"CARDINAL\", \"CARDINAL\", \"CARDINAL\", \"CARDINAL\", \"CARDINAL\", \"CARDINAL\", \"CARDINAL\", \"CARDINAL\", \"CARDINAL\", \"CARDINAL\", \"CARDINAL\", \"CARDINAL\", \"CARDINAL\", \"CARDINAL\", \"CARDINAL\", \"CARDINAL\", \"CARDINAL\", \"CARDINAL\", \"CARDINAL\", \"CARDINAL\", \"CARDINAL\", \"CARDINAL\", \"CARDINAL\", \"CARDINAL\", \"CARDINAL\", \"CARDINAL\", \"CARDINAL\", \"CARDINAL\", \"CARDINAL\", \"CARDINAL\", \"CARDINAL\", \"CARDINAL\", \"CARDINAL\", \"CARDINAL\", \"CARDINAL\", \"CARDINAL\", \"CARDINAL\", \"CARDINAL\", \"CARDINAL\", \"CARDINAL\", \"CARDINAL\", \"CARDINAL\", \"CARDINAL\", \"CARDINAL\", \"CARDINAL\", \"CARDINAL\", \"CARDINAL\", \"CARDINAL\", \"CARDINAL\", \"CARDINAL\", \"CARDINAL\", \"CARDINAL\", \"CARDINAL\", \"CARDINAL\", \"CARDINAL\", \"CARDINAL\", \"CARDINAL\", \"CARDINAL\", \"CARDINAL\", \"CARDINAL\", \"CARDINAL\", \"CARDINAL\", \"CARDINAL\", \"CARDINAL\", \"CARDINAL\", \"CARDINAL\", \"CARDINAL\", \"CARDINAL\", \"CARDINAL\", \"CARDINAL\", \"CARDINAL\", \"CARDINAL\", \"CARDINAL\", \"CARDINAL\", \"CARDINAL\", \"CARDINAL\", \"CARDINAL\", \"CARDINAL\", \"CARDINAL\", \"CARDINAL\", \"CARDINAL\", \"CARDINAL\", \"CARDINAL\", \"CARDINAL\", \"CARDINAL\", \"CARDINAL\", \"CARDINAL\", \"CARDINAL\", \"CARDINAL\", \"CARDINAL\", \"CARDINAL\", \"CARDINAL\", \"CARDINAL\", \"CARDINAL\", \"CARDINAL\", \"CARDINAL\", \"CARDINAL\", \"CARDINAL\", \"CARDINAL\", \"CARDINAL\", \"CARDINAL\", \"CARDINAL\", \"CARDINAL\", \"CARDINAL\", \"CARDINAL\", \"CARDINAL\", \"CARDINAL\", \"CARDINAL\", \"CARDINAL\", \"CARDINAL\", \"CARDINAL\", \"CARDINAL\", \"CARDINAL\", \"CARDINAL\", \"CARDINAL\", \"CARDINAL\", \"CARDINAL\", \"CARDINAL\", \"CARDINAL\", \"CARDINAL\", \"CARDINAL\", \"CARDINAL\", \"CARDINAL\", \"CARDINAL\", \"CARDINAL\", \"CARDINAL\", \"CARDINAL\", \"CARDINAL\", \"CARDINAL\", \"CARDINAL\", \"CARDINAL\", \"CARDINAL\", \"CARDINAL\", \"CARDINAL\", \"CARDINAL\", \"CARDINAL\", \"CARDINAL\", \"CARDINAL\", \"CARDINAL\", \"CARDINAL\", \"CARDINAL\", \"CARDINAL\", \"CARDINAL\", \"CARDINAL\", \"CARDINAL\", \"CARDINAL\", \"CARDINAL\", \"CARDINAL\", \"CARDINAL\", \"CARDINAL\", \"CARDINAL\", \"CARDINAL\", \"CARDINAL\", \"CARDINAL\", \"CARDINAL\", \"CARDINAL\", \"CARDINAL\", \"CARDINAL\", \"CARDINAL\", \"CARDINAL\", \"CARDINAL\", \"CARDINAL\", \"CARDINAL\", \"CARDINAL\", \"CARDINAL\", \"CARDINAL\", \"CARDINAL\", \"CARDINAL\", \"CARDINAL\", \"CARDINAL\", \"CARDINAL\", \"CARDINAL\", \"CARDINAL\", \"CARDINAL\", \"CARDINAL\", \"CARDINAL\", \"CARDINAL\", \"CARDINAL\", \"CARDINAL\", \"CARDINAL\", \"CARDINAL\", \"CARDINAL\", \"CARDINAL\", \"CARDINAL\", \"CARDINAL\", \"CARDINAL\", \"CARDINAL\", \"CARDINAL\", \"CARDINAL\", \"CARDINAL\", \"CARDINAL\", \"CARDINAL\", \"CARDINAL\", \"CARDINAL\", \"CARDINAL\", \"CARDINAL\", \"CARDINAL\", \"CARDINAL\", \"CARDINAL\", \"CARDINAL\", \"CARDINAL\", \"CARDINAL\", \"CARDINAL\", \"CARDINAL\", \"CARDINAL\", \"CARDINAL\", \"CARDINAL\", \"CARDINAL\", \"CARDINAL\", \"CARDINAL\", \"CARDINAL\", \"CARDINAL\", \"CARDINAL\", \"CARDINAL\", \"CARDINAL\", \"CARDINAL\", \"CARDINAL\", \"CARDINAL\", \"CARDINAL\", \"CARDINAL\", \"CARDINAL\", \"CARDINAL\", \"CARDINAL\", \"CARDINAL\", \"CARDINAL\", \"CARDINAL\", \"CARDINAL\", \"CARDINAL\", \"CARDINAL\", \"CARDINAL\", \"CARDINAL\", \"CARDINAL\", \"CARDINAL\", \"CARDINAL\", \"CARDINAL\", \"CARDINAL\", \"CARDINAL\", \"CARDINAL\", \"CARDINAL\", \"CARDINAL\", \"CARDINAL\", \"CARDINAL\", \"CARDINAL\", \"CARDINAL\", \"CARDINAL\", \"CARDINAL\", \"CARDINAL\", \"CARDINAL\", \"CARDINAL\", \"CARDINAL\", \"CARDINAL\", \"CARDINAL\", \"CARDINAL\", \"CARDINAL\", \"CARDINAL\", \"CARDINAL\", \"CARDINAL\", \"CARDINAL\", \"CARDINAL\", \"CARDINAL\", \"CARDINAL\", \"CARDINAL\", \"CARDINAL\", \"CARDINAL\", \"CARDINAL\", \"CARDINAL\", \"CARDINAL\", \"CARDINAL\", \"CARDINAL\", \"CARDINAL\", \"CARDINAL\", \"CARDINAL\", \"CARDINAL\", \"CARDINAL\", \"CARDINAL\", \"CARDINAL\", \"CARDINAL\", \"CARDINAL\", \"CARDINAL\", \"CARDINAL\", \"CARDINAL\", \"CARDINAL\", \"CARDINAL\", \"CARDINAL\", \"CARDINAL\", \"CARDINAL\", \"CARDINAL\", \"CARDINAL\", \"CARDINAL\", \"CARDINAL\", \"CARDINAL\", \"CARDINAL\", \"CARDINAL\", \"CARDINAL\", \"CARDINAL\", \"CARDINAL\", \"CARDINAL\", \"CARDINAL\", \"CARDINAL\", \"CARDINAL\", \"CARDINAL\", \"CARDINAL\", \"CARDINAL\", \"CARDINAL\", \"CARDINAL\", \"CARDINAL\", \"CARDINAL\", \"CARDINAL\", \"CARDINAL\", \"CARDINAL\", \"CARDINAL\", \"CARDINAL\", \"CARDINAL\", \"CARDINAL\", \"CARDINAL\", \"CARDINAL\", \"CARDINAL\", \"CARDINAL\", \"CARDINAL\", \"CARDINAL\", \"CARDINAL\", \"CARDINAL\", \"CARDINAL\", \"CARDINAL\", \"CARDINAL\", \"CARDINAL\", \"CARDINAL\", \"CARDINAL\", \"CARDINAL\", \"CARDINAL\", \"CARDINAL\", \"CARDINAL\", \"CARDINAL\", \"CARDINAL\", \"CARDINAL\", \"CARDINAL\", \"CARDINAL\", \"CARDINAL\", \"CARDINAL\", \"CARDINAL\", \"CARDINAL\", \"CARDINAL\", \"CARDINAL\", \"CARDINAL\", \"CARDINAL\", \"CARDINAL\", \"CARDINAL\", \"CARDINAL\", \"CARDINAL\", \"CARDINAL\", \"CARDINAL\", \"CARDINAL\", \"CARDINAL\", \"CARDINAL\", \"CARDINAL\", \"CARDINAL\", \"CARDINAL\", \"CARDINAL\", \"CARDINAL\", \"CARDINAL\", \"CARDINAL\", \"CARDINAL\", \"CARDINAL\", \"CARDINAL\", \"CARDINAL\", \"CARDINAL\", \"CARDINAL\", \"CARDINAL\", \"CARDINAL\", \"CARDINAL\", \"CARDINAL\", \"CARDINAL\", \"CARDINAL\", \"CARDINAL\", \"CARDINAL\", \"CARDINAL\", \"CARDINAL\", \"CARDINAL\", \"CARDINAL\", \"CARDINAL\", \"CARDINAL\", \"CARDINAL\", \"CARDINAL\", \"CARDINAL\", \"CARDINAL\", \"CARDINAL\", \"CARDINAL\", \"CARDINAL\", \"CARDINAL\", \"CARDINAL\", \"CARDINAL\", \"CARDINAL\", \"CARDINAL\", \"CARDINAL\", \"CARDINAL\", \"CARDINAL\", \"CARDINAL\", \"CARDINAL\", \"CARDINAL\", \"CARDINAL\", \"CARDINAL\", \"CARDINAL\", \"CARDINAL\", \"CARDINAL\", \"CARDINAL\", \"CARDINAL\", \"CARDINAL\", \"CARDINAL\", \"CARDINAL\", \"CARDINAL\", \"CARDINAL\", \"CARDINAL\", \"CARDINAL\", \"CARDINAL\", \"CARDINAL\", \"CARDINAL\", \"CARDINAL\", \"CARDINAL\", \"CARDINAL\", \"CARDINAL\", \"CARDINAL\", \"CARDINAL\", \"CARDINAL\", \"CARDINAL\", \"CARDINAL\", \"CARDINAL\", \"CARDINAL\", \"CARDINAL\", \"CARDINAL\", \"CARDINAL\", \"CARDINAL\", \"CARDINAL\", \"CARDINAL\", \"CARDINAL\", \"CARDINAL\", \"CARDINAL\", \"CARDINAL\", \"CARDINAL\", \"CARDINAL\", \"CARDINAL\", \"CARDINAL\", \"CARDINAL\", \"CARDINAL\", \"CARDINAL\", \"CARDINAL\", \"CARDINAL\", \"CARDINAL\", \"CARDINAL\", \"CARDINAL\", \"CARDINAL\", \"CARDINAL\", \"CARDINAL\", \"CARDINAL\", \"CARDINAL\", \"CARDINAL\", \"CARDINAL\", \"CARDINAL\", \"CARDINAL\", \"CARDINAL\", \"CARDINAL\", \"CARDINAL\", \"CARDINAL\", \"CARDINAL\", \"CARDINAL\", \"CARDINAL\", \"CARDINAL\", \"CARDINAL\", \"CARDINAL\", \"CARDINAL\", \"CARDINAL\", \"CARDINAL\", \"CARDINAL\", \"CARDINAL\", \"CARDINAL\", \"CARDINAL\", \"CARDINAL\", \"CARDINAL\", \"CARDINAL\", \"CARDINAL\", \"CARDINAL\", \"CARDINAL\", \"CARDINAL\", \"CARDINAL\", \"CARDINAL\", \"CARDINAL\", \"CARDINAL\", \"CARDINAL\", \"CARDINAL\", \"CARDINAL\", \"CARDINAL\", \"CARDINAL\", \"CARDINAL\", \"CARDINAL\", \"CARDINAL\", \"CARDINAL\", \"CARDINAL\", \"CARDINAL\", \"CARDINAL\", \"CARDINAL\", \"CARDINAL\", \"CARDINAL\", \"CARDINAL\", \"CARDINAL\", \"CARDINAL\", \"CARDINAL\", \"CARDINAL\", \"CARDINAL\", \"CARDINAL\", \"CARDINAL\", \"CARDINAL\", \"CARDINAL\", \"CARDINAL\", \"CARDINAL\", \"CARDINAL\", \"CARDINAL\", \"CARDINAL\", \"CARDINAL\", \"CARDINAL\", \"CARDINAL\", \"CARDINAL\", \"CARDINAL\", \"CARDINAL\", \"CARDINAL\", \"CARDINAL\", \"CARDINAL\", \"CARDINAL\", \"CARDINAL\", \"CARDINAL\", \"CARDINAL\", \"CARDINAL\", \"CARDINAL\", \"CARDINAL\", \"CARDINAL\", \"CARDINAL\", \"CARDINAL\", \"CARDINAL\", \"CARDINAL\", \"CARDINAL\", \"CARDINAL\", \"CARDINAL\", \"CARDINAL\", \"CARDINAL\", \"CARDINAL\", \"CARDINAL\", \"CARDINAL\", \"CARDINAL\", \"CARDINAL\", \"CARDINAL\", \"CARDINAL\", \"CARDINAL\", \"CARDINAL\", \"CARDINAL\", \"CARDINAL\", \"CARDINAL\", \"CARDINAL\", \"CARDINAL\", \"CARDINAL\", \"CARDINAL\", \"CARDINAL\", \"CARDINAL\", \"CARDINAL\", \"CARDINAL\", \"CARDINAL\", \"CARDINAL\", \"CARDINAL\", \"CARDINAL\", \"CARDINAL\", \"CARDINAL\", \"CARDINAL\", \"CARDINAL\", \"CARDINAL\", \"CARDINAL\", \"CARDINAL\", \"CARDINAL\", \"CARDINAL\", \"CARDINAL\", \"CARDINAL\", \"CARDINAL\", \"CARDINAL\", \"CARDINAL\", \"CARDINAL\", \"CARDINAL\", \"CARDINAL\", \"CARDINAL\", \"CARDINAL\", \"CARDINAL\", \"CARDINAL\", \"CARDINAL\", \"CARDINAL\", \"CARDINAL\", \"CARDINAL\", \"CARDINAL\", \"CARDINAL\", \"CARDINAL\", \"CARDINAL\", \"CARDINAL\", \"CARDINAL\", \"CARDINAL\", \"CARDINAL\", \"CARDINAL\", \"CARDINAL\", \"CARDINAL\", \"CARDINAL\", \"CARDINAL\", \"CARDINAL\", \"CARDINAL\", \"CARDINAL\", \"CARDINAL\", \"CARDINAL\", \"CARDINAL\", \"CARDINAL\", \"CARDINAL\", \"CARDINAL\", \"CARDINAL\", \"CARDINAL\", \"CARDINAL\", \"CARDINAL\", \"CARDINAL\", \"CARDINAL\", \"CARDINAL\", \"CARDINAL\", \"CARDINAL\", \"CARDINAL\", \"CARDINAL\", \"CARDINAL\", \"CARDINAL\", \"CARDINAL\", \"CARDINAL\", \"CARDINAL\", \"CARDINAL\", \"CARDINAL\", \"CARDINAL\", \"CARDINAL\", \"CARDINAL\", \"CARDINAL\", \"CARDINAL\", \"CARDINAL\", \"CARDINAL\", \"CARDINAL\", \"CARDINAL\", \"CARDINAL\", \"CARDINAL\", \"CARDINAL\", \"CARDINAL\", \"CARDINAL\", \"CARDINAL\", \"CARDINAL\", \"CARDINAL\", \"CARDINAL\", \"CARDINAL\", \"CARDINAL\", \"CARDINAL\", \"CARDINAL\", \"CARDINAL\", \"CARDINAL\", \"CARDINAL\", \"CARDINAL\", \"CARDINAL\", \"CARDINAL\", \"CARDINAL\", \"CARDINAL\", \"CARDINAL\", \"CARDINAL\", \"CARDINAL\", \"CARDINAL\", \"CARDINAL\", \"CARDINAL\", \"CARDINAL\", \"CARDINAL\", \"CARDINAL\", \"CARDINAL\", \"CARDINAL\", \"CARDINAL\", \"CARDINAL\", \"CARDINAL\", \"CARDINAL\", \"CARDINAL\", \"CARDINAL\", \"CARDINAL\", \"CARDINAL\", \"CARDINAL\", \"CARDINAL\", \"CARDINAL\", \"CARDINAL\", \"CARDINAL\", \"CARDINAL\", \"CARDINAL\", \"CARDINAL\", \"CARDINAL\", \"CARDINAL\", \"CARDINAL\", \"CARDINAL\", \"CARDINAL\", \"CARDINAL\", \"CARDINAL\", \"CARDINAL\", \"CARDINAL\", \"CARDINAL\", \"CARDINAL\", \"CARDINAL\", \"CARDINAL\", \"CARDINAL\", \"CARDINAL\", \"CARDINAL\", \"CARDINAL\", \"CARDINAL\", \"CARDINAL\", \"CARDINAL\", \"CARDINAL\", \"CARDINAL\", \"CARDINAL\", \"CARDINAL\", \"CARDINAL\", \"CARDINAL\", \"CARDINAL\", \"CARDINAL\", \"CARDINAL\", \"CARDINAL\", \"CARDINAL\", \"CARDINAL\", \"CARDINAL\", \"CARDINAL\", \"CARDINAL\", \"CARDINAL\", \"CARDINAL\", \"CARDINAL\", \"CARDINAL\", \"CARDINAL\", \"CARDINAL\", \"CARDINAL\", \"CARDINAL\", \"CARDINAL\", \"CARDINAL\", \"CARDINAL\", \"CARDINAL\", \"CARDINAL\", \"CARDINAL\", \"CARDINAL\", \"CARDINAL\", \"CARDINAL\", \"CARDINAL\", \"CARDINAL\", \"CARDINAL\", \"CARDINAL\", \"CARDINAL\", \"CARDINAL\", \"CARDINAL\", \"CARDINAL\", \"CARDINAL\", \"CARDINAL\", \"CARDINAL\", \"CARDINAL\", \"CARDINAL\", \"CARDINAL\", \"CARDINAL\", \"CARDINAL\", \"CARDINAL\", \"CARDINAL\", \"CARDINAL\", \"CARDINAL\", \"CARDINAL\", \"CARDINAL\", \"CARDINAL\", \"CARDINAL\", \"CARDINAL\", \"CARDINAL\", \"CARDINAL\", \"CARDINAL\", \"CARDINAL\", \"CARDINAL\", \"CARDINAL\", \"CARDINAL\", \"CARDINAL\", \"CARDINAL\", \"CARDINAL\", \"CARDINAL\", \"CARDINAL\", \"CARDINAL\", \"CARDINAL\", \"CARDINAL\", \"CARDINAL\", \"CARDINAL\", \"CARDINAL\", \"CARDINAL\", \"CARDINAL\", \"CARDINAL\", \"CARDINAL\", \"CARDINAL\", \"CARDINAL\", \"CARDINAL\", \"CARDINAL\", \"CARDINAL\", \"CARDINAL\", \"CARDINAL\", \"CARDINAL\", \"CARDINAL\", \"CARDINAL\", \"CARDINAL\", \"CARDINAL\", \"CARDINAL\", \"CARDINAL\", \"CARDINAL\", \"CARDINAL\", \"CARDINAL\", \"CARDINAL\", \"CARDINAL\", \"CARDINAL\", \"CARDINAL\", \"CARDINAL\", \"CARDINAL\", \"CARDINAL\", \"CARDINAL\", \"CARDINAL\", \"CARDINAL\", \"CARDINAL\", \"CARDINAL\", \"CARDINAL\", \"CARDINAL\", \"CARDINAL\", \"CARDINAL\", \"CARDINAL\", \"CARDINAL\", \"CARDINAL\", \"CARDINAL\", \"CARDINAL\", \"CARDINAL\", \"CARDINAL\", \"CARDINAL\", \"CARDINAL\", \"CARDINAL\", \"CARDINAL\", \"CARDINAL\", \"CARDINAL\", \"CARDINAL\", \"CARDINAL\", \"CARDINAL\", \"CARDINAL\", \"CARDINAL\", \"CARDINAL\", \"CARDINAL\", \"CARDINAL\", \"CARDINAL\", \"CARDINAL\", \"CARDINAL\", \"CARDINAL\", \"CARDINAL\", \"CARDINAL\", \"CARDINAL\", \"CARDINAL\", \"CARDINAL\", \"CARDINAL\", \"CARDINAL\", \"CARDINAL\", \"CARDINAL\", \"CARDINAL\", \"CARDINAL\", \"CARDINAL\", \"CARDINAL\", \"CARDINAL\", \"CARDINAL\", \"CARDINAL\", \"CARDINAL\", \"CARDINAL\", \"CARDINAL\", \"CARDINAL\", \"CARDINAL\", \"CARDINAL\", \"CARDINAL\", \"CARDINAL\", \"CARDINAL\", \"CARDINAL\", \"CARDINAL\", \"CARDINAL\", \"CARDINAL\", \"CARDINAL\", \"CARDINAL\", \"CARDINAL\", \"CARDINAL\", \"CARDINAL\", \"CARDINAL\", \"CARDINAL\", \"CARDINAL\", \"CARDINAL\", \"CARDINAL\", \"CARDINAL\", \"CARDINAL\", \"CARDINAL\", \"CARDINAL\", \"CARDINAL\", \"CARDINAL\", \"CARDINAL\", \"CARDINAL\", \"CARDINAL\", \"CARDINAL\", \"CARDINAL\", \"CARDINAL\", \"CARDINAL\", \"CARDINAL\", \"CARDINAL\", \"CARDINAL\", \"CARDINAL\", \"CARDINAL\", \"CARDINAL\", \"CARDINAL\", \"CARDINAL\", \"CARDINAL\", \"CARDINAL\", \"CARDINAL\", \"CARDINAL\", \"CARDINAL\", \"CARDINAL\", \"CARDINAL\", \"CARDINAL\", \"CARDINAL\", \"CARDINAL\", \"CARDINAL\", \"CARDINAL\", \"CARDINAL\", \"CARDINAL\", \"CARDINAL\", \"CARDINAL\", \"CARDINAL\", \"CARDINAL\", \"CARDINAL\", \"CARDINAL\", \"CARDINAL\", \"CARDINAL\", \"CARDINAL\", \"CARDINAL\", \"CARDINAL\", \"CARDINAL\", \"CARDINAL\", \"CARDINAL\", \"CARDINAL\", \"CARDINAL\", \"CARDINAL\", \"CARDINAL\", \"CARDINAL\", \"CARDINAL\", \"CARDINAL\", \"CARDINAL\", \"CARDINAL\", \"CARDINAL\", \"CARDINAL\", \"CARDINAL\", \"CARDINAL\", \"CARDINAL\", \"CARDINAL\", \"CARDINAL\", \"CARDINAL\", \"CARDINAL\", \"CARDINAL\", \"CARDINAL\", \"CARDINAL\", \"CARDINAL\", \"CARDINAL\", \"CARDINAL\", \"CARDINAL\", \"CARDINAL\", \"CARDINAL\", \"CARDINAL\", \"CARDINAL\", \"CARDINAL\", \"CARDINAL\", \"CARDINAL\", \"CARDINAL\", \"CARDINAL\", \"CARDINAL\", \"CARDINAL\", \"CARDINAL\", \"CARDINAL\", \"CARDINAL\", \"CARDINAL\", \"CARDINAL\", \"CARDINAL\", \"CARDINAL\", \"CARDINAL\", \"CARDINAL\", \"CARDINAL\", \"CARDINAL\", \"CARDINAL\", \"CARDINAL\", \"CARDINAL\", \"CARDINAL\", \"CARDINAL\", \"CARDINAL\", \"CARDINAL\", \"CARDINAL\", \"CARDINAL\", \"CARDINAL\", \"CARDINAL\", \"CARDINAL\", \"CARDINAL\", \"CARDINAL\", \"CARDINAL\", \"CARDINAL\", \"CARDINAL\", \"CARDINAL\", \"CARDINAL\", \"CARDINAL\", \"CARDINAL\", \"CARDINAL\", \"CARDINAL\", \"CARDINAL\", \"CARDINAL\", \"CARDINAL\", \"CARDINAL\", \"CARDINAL\", \"CARDINAL\", \"CARDINAL\", \"CARDINAL\", \"CARDINAL\", \"CARDINAL\", \"CARDINAL\", \"CARDINAL\", \"CARDINAL\", \"CARDINAL\", \"CARDINAL\", \"CARDINAL\", \"CARDINAL\", \"CARDINAL\", \"CARDINAL\", \"CARDINAL\", \"CARDINAL\", \"CARDINAL\", \"CARDINAL\", \"CARDINAL\", \"CARDINAL\", \"CARDINAL\", \"CARDINAL\", \"CARDINAL\", \"CARDINAL\", \"CARDINAL\", \"CARDINAL\", \"CARDINAL\", \"CARDINAL\", \"CARDINAL\", \"CARDINAL\", \"CARDINAL\", \"CARDINAL\", \"CARDINAL\", \"CARDINAL\", \"CARDINAL\", \"CARDINAL\", \"CARDINAL\", \"CARDINAL\", \"CARDINAL\", \"CARDINAL\", \"CARDINAL\", \"CARDINAL\", \"CARDINAL\", \"CARDINAL\", \"CARDINAL\", \"CARDINAL\", \"CARDINAL\", \"CARDINAL\", \"CARDINAL\", \"CARDINAL\", \"CARDINAL\", \"CARDINAL\", \"CARDINAL\", \"CARDINAL\", \"CARDINAL\", \"CARDINAL\", \"CARDINAL\", \"CARDINAL\", \"CARDINAL\", \"CARDINAL\", \"CARDINAL\", \"CARDINAL\", \"CARDINAL\", \"CARDINAL\", \"CARDINAL\", \"CARDINAL\", \"CARDINAL\", \"CARDINAL\", \"CARDINAL\", \"CARDINAL\", \"CARDINAL\", \"CARDINAL\", \"CARDINAL\", \"CARDINAL\", \"CARDINAL\", \"CARDINAL\", \"CARDINAL\", \"CARDINAL\", \"CARDINAL\", \"CARDINAL\", \"CARDINAL\", \"CARDINAL\", \"CARDINAL\", \"CARDINAL\", \"CARDINAL\", \"CARDINAL\", \"CARDINAL\", \"CARDINAL\", \"CARDINAL\", \"CARDINAL\", \"CARDINAL\", \"CARDINAL\", \"CARDINAL\", \"CARDINAL\", \"CARDINAL\", \"CARDINAL\", \"CARDINAL\", \"CARDINAL\", \"CARDINAL\", \"CARDINAL\", \"CARDINAL\", \"CARDINAL\", \"CARDINAL\", \"CARDINAL\", \"CARDINAL\", \"CARDINAL\", \"CARDINAL\", \"CARDINAL\", \"CARDINAL\", \"CARDINAL\", \"CARDINAL\", \"CARDINAL\", \"CARDINAL\", \"CARDINAL\", \"CARDINAL\", \"CARDINAL\", \"CARDINAL\", \"CARDINAL\", \"CARDINAL\", \"CARDINAL\", \"CARDINAL\", \"CARDINAL\", \"CARDINAL\", \"CARDINAL\", \"CARDINAL\", \"CARDINAL\", \"CARDINAL\", \"CARDINAL\", \"CARDINAL\", \"CARDINAL\", \"CARDINAL\", \"CARDINAL\", \"CARDINAL\", \"CARDINAL\", \"CARDINAL\", \"CARDINAL\", \"CARDINAL\", \"CARDINAL\", \"CARDINAL\", \"CARDINAL\", \"CARDINAL\", \"CARDINAL\", \"CARDINAL\", \"CARDINAL\", \"CARDINAL\", \"CARDINAL\", \"CARDINAL\", \"CARDINAL\", \"CARDINAL\", \"CARDINAL\", \"CARDINAL\", \"CARDINAL\", \"CARDINAL\", \"CARDINAL\", \"CARDINAL\", \"CARDINAL\", \"CARDINAL\", \"CARDINAL\", \"CARDINAL\", \"CARDINAL\", \"CARDINAL\", \"CARDINAL\", \"CARDINAL\", \"CARDINAL\", \"CARDINAL\", \"CARDINAL\", \"CARDINAL\", \"CARDINAL\", \"CARDINAL\", \"CARDINAL\", \"CARDINAL\", \"CARDINAL\", \"CARDINAL\", \"CARDINAL\", \"CARDINAL\", \"CARDINAL\", \"CARDINAL\", \"CARDINAL\", \"CARDINAL\", \"CARDINAL\", \"CARDINAL\", \"CARDINAL\", \"CARDINAL\", \"CARDINAL\", \"CARDINAL\", \"CARDINAL\", \"CARDINAL\", \"CARDINAL\", \"CARDINAL\", \"CARDINAL\", \"CARDINAL\", \"CARDINAL\", \"CARDINAL\", \"CARDINAL\", \"CARDINAL\", \"CARDINAL\", \"CARDINAL\", \"CARDINAL\", \"CARDINAL\", \"CARDINAL\", \"CARDINAL\", \"CARDINAL\", \"CARDINAL\", \"CARDINAL\", \"CARDINAL\", \"CARDINAL\", \"CARDINAL\", \"CARDINAL\", \"CARDINAL\", \"CARDINAL\", \"CARDINAL\", \"CARDINAL\", \"CARDINAL\", \"CARDINAL\", \"CARDINAL\", \"CARDINAL\", \"CARDINAL\", \"CARDINAL\", \"CARDINAL\", \"CARDINAL\", \"CARDINAL\", \"CARDINAL\", \"CARDINAL\", \"CARDINAL\", \"CARDINAL\", \"CARDINAL\", \"CARDINAL\", \"CARDINAL\", \"CARDINAL\", \"CARDINAL\", \"CARDINAL\", \"CARDINAL\", \"CARDINAL\", \"CARDINAL\", \"CARDINAL\", \"CARDINAL\", \"CARDINAL\", \"CARDINAL\", \"CARDINAL\", \"CARDINAL\", \"CARDINAL\", \"CARDINAL\", \"CARDINAL\", \"CARDINAL\", \"CARDINAL\", \"CARDINAL\", \"CARDINAL\", \"CARDINAL\", \"CARDINAL\", \"CARDINAL\", \"CARDINAL\", \"CARDINAL\", \"CARDINAL\", \"CARDINAL\", \"CARDINAL\", \"CARDINAL\", \"CARDINAL\", \"CARDINAL\", \"CARDINAL\", \"CARDINAL\", \"CARDINAL\", \"CARDINAL\", \"CARDINAL\", \"CARDINAL\", \"CARDINAL\", \"CARDINAL\", \"CARDINAL\", \"CARDINAL\", \"CARDINAL\", \"CARDINAL\", \"CARDINAL\", \"CARDINAL\", \"CARDINAL\", \"CARDINAL\", \"CARDINAL\", \"CARDINAL\", \"CARDINAL\", \"CARDINAL\", \"CARDINAL\", \"CARDINAL\", \"CARDINAL\", \"CARDINAL\", \"CARDINAL\", \"CARDINAL\", \"CARDINAL\", \"CARDINAL\", \"CARDINAL\", \"CARDINAL\", \"CARDINAL\", \"CARDINAL\", \"CARDINAL\", \"CARDINAL\", \"CARDINAL\", \"CARDINAL\", \"CARDINAL\", \"CARDINAL\", \"CARDINAL\", \"CARDINAL\", \"CARDINAL\", \"CARDINAL\", \"CARDINAL\", \"CARDINAL\", \"CARDINAL\", \"CARDINAL\", \"CARDINAL\", \"CARDINAL\", \"CARDINAL\", \"CARDINAL\", \"CARDINAL\", \"CARDINAL\", \"CARDINAL\", \"CARDINAL\", \"CARDINAL\", \"CARDINAL\", \"CARDINAL\", \"CARDINAL\", \"CARDINAL\", \"CARDINAL\", \"CARDINAL\", \"CARDINAL\", \"CARDINAL\", \"CARDINAL\", \"CARDINAL\", \"CARDINAL\", \"CARDINAL\", \"CARDINAL\", \"CARDINAL\", \"CARDINAL\", \"CARDINAL\", \"CARDINAL\", \"CARDINAL\", \"CARDINAL\", \"CARDINAL\", \"CARDINAL\", \"CARDINAL\", \"CARDINAL\", \"CARDINAL\", \"CARDINAL\", \"CARDINAL\", \"CARDINAL\", \"CARDINAL\", \"CARDINAL\", \"CARDINAL\", \"CARDINAL\", \"CARDINAL\", \"CARDINAL\", \"CARDINAL\", \"CARDINAL\", \"CARDINAL\", \"CARDINAL\", \"CARDINAL\", \"CARDINAL\", \"CARDINAL\", \"CARDINAL\", \"CARDINAL\", \"CARDINAL\", \"CARDINAL\", \"CARDINAL\", \"CARDINAL\", \"CARDINAL\", \"CARDINAL\", \"CARDINAL\", \"CARDINAL\", \"CARDINAL\", \"CARDINAL\", \"CARDINAL\", \"CARDINAL\", \"CARDINAL\", \"CARDINAL\", \"CARDINAL\", \"CARDINAL\", \"CARDINAL\", \"CARDINAL\", \"CARDINAL\", \"CARDINAL\", \"CARDINAL\", \"CARDINAL\", \"CARDINAL\", \"CARDINAL\", \"CARDINAL\", \"CARDINAL\", \"CARDINAL\", \"CARDINAL\", \"CARDINAL\", \"CARDINAL\", \"CARDINAL\", \"CARDINAL\", \"CARDINAL\", \"CARDINAL\", \"CARDINAL\", \"CARDINAL\", \"CARDINAL\", \"CARDINAL\", \"CARDINAL\", \"CARDINAL\", \"CARDINAL\", \"CARDINAL\", \"CARDINAL\", \"CARDINAL\", \"CARDINAL\", \"CARDINAL\", \"CARDINAL\", \"CARDINAL\", \"CARDINAL\", \"CARDINAL\", \"CARDINAL\", \"CARDINAL\", \"CARDINAL\", \"CARDINAL\", \"CARDINAL\", \"CARDINAL\", \"CARDINAL\", \"CARDINAL\", \"CARDINAL\", \"CARDINAL\", \"CARDINAL\", \"CARDINAL\", \"CARDINAL\", \"CARDINAL\", \"CARDINAL\", \"CARDINAL\", \"CARDINAL\", \"CARDINAL\", \"CARDINAL\", \"CARDINAL\", \"CARDINAL\", \"CARDINAL\", \"CARDINAL\", \"CARDINAL\", \"CARDINAL\", \"CARDINAL\", \"CARDINAL\", \"CARDINAL\", \"CARDINAL\", \"CARDINAL\", \"CARDINAL\", \"CARDINAL\", \"CARDINAL\", \"CARDINAL\", \"CARDINAL\", \"CARDINAL\", \"CARDINAL\", \"CARDINAL\", \"CARDINAL\", \"CARDINAL\", \"CARDINAL\", \"CARDINAL\", \"CARDINAL\", \"CARDINAL\", \"CARDINAL\", \"CARDINAL\", \"CARDINAL\", \"CARDINAL\", \"CARDINAL\", \"CARDINAL\", \"CARDINAL\", \"CARDINAL\", \"CARDINAL\", \"CARDINAL\", \"CARDINAL\", \"CARDINAL\", \"CARDINAL\", \"CARDINAL\", \"CARDINAL\", \"CARDINAL\", \"CARDINAL\", \"CARDINAL\", \"CARDINAL\", \"CARDINAL\", \"CARDINAL\", \"CARDINAL\", \"CARDINAL\", \"CARDINAL\", \"CARDINAL\", \"CARDINAL\", \"CARDINAL\", \"CARDINAL\", \"CARDINAL\", \"CARDINAL\", \"CARDINAL\", \"CARDINAL\", \"CARDINAL\", \"CARDINAL\", \"CARDINAL\", \"CARDINAL\", \"CARDINAL\"], \"xaxis\": \"x\", \"yaxis\": \"y\"}, {\"alignmentgroup\": \"True\", \"bingroup\": \"x\", \"hoverlabel\": {\"namelength\": 0}, \"hovertemplate\": \"label=%{x}<br>count=%{y}\", \"legendgroup\": \"label=ORG\", \"marker\": {\"color\": \"#ab63fa\"}, \"name\": \"label=ORG\", \"offsetgroup\": \"label=ORG\", \"orientation\": \"v\", \"showlegend\": true, \"type\": \"histogram\", \"x\": [\"ORG\", \"ORG\", \"ORG\", \"ORG\", \"ORG\", \"ORG\", \"ORG\", \"ORG\", \"ORG\", \"ORG\", \"ORG\", \"ORG\", \"ORG\", \"ORG\", \"ORG\", \"ORG\", \"ORG\", \"ORG\", \"ORG\", \"ORG\", \"ORG\", \"ORG\", \"ORG\", \"ORG\", \"ORG\", \"ORG\", \"ORG\", \"ORG\", \"ORG\", \"ORG\", \"ORG\", \"ORG\", \"ORG\", \"ORG\", \"ORG\", \"ORG\", \"ORG\", \"ORG\", \"ORG\", \"ORG\", \"ORG\", \"ORG\", \"ORG\", \"ORG\", \"ORG\", \"ORG\", \"ORG\", \"ORG\", \"ORG\", \"ORG\", \"ORG\", \"ORG\", \"ORG\", \"ORG\", \"ORG\", \"ORG\", \"ORG\", \"ORG\", \"ORG\", \"ORG\", \"ORG\", \"ORG\", \"ORG\", \"ORG\", \"ORG\", \"ORG\", \"ORG\", \"ORG\", \"ORG\", \"ORG\", \"ORG\", \"ORG\", \"ORG\", \"ORG\", \"ORG\", \"ORG\", \"ORG\", \"ORG\", \"ORG\", \"ORG\", \"ORG\", \"ORG\", \"ORG\", \"ORG\", \"ORG\", \"ORG\", \"ORG\", \"ORG\", \"ORG\", \"ORG\", \"ORG\", \"ORG\", \"ORG\", \"ORG\", \"ORG\", \"ORG\", \"ORG\", \"ORG\", \"ORG\", \"ORG\", \"ORG\", \"ORG\", \"ORG\", \"ORG\", \"ORG\", \"ORG\", \"ORG\", \"ORG\", \"ORG\", \"ORG\", \"ORG\", \"ORG\", \"ORG\", \"ORG\", \"ORG\", \"ORG\", \"ORG\", \"ORG\", \"ORG\", \"ORG\", \"ORG\", \"ORG\", \"ORG\", \"ORG\", \"ORG\", \"ORG\", \"ORG\", \"ORG\", \"ORG\", \"ORG\", \"ORG\", \"ORG\", \"ORG\", \"ORG\", \"ORG\", \"ORG\", \"ORG\", \"ORG\", \"ORG\", \"ORG\", \"ORG\", \"ORG\", \"ORG\", \"ORG\", \"ORG\", \"ORG\", \"ORG\", \"ORG\", \"ORG\", \"ORG\", \"ORG\", \"ORG\", \"ORG\", \"ORG\", \"ORG\", \"ORG\", \"ORG\", \"ORG\", \"ORG\", \"ORG\", \"ORG\", \"ORG\", \"ORG\", \"ORG\", \"ORG\", \"ORG\", \"ORG\", \"ORG\", \"ORG\", \"ORG\", \"ORG\", \"ORG\", \"ORG\", \"ORG\", \"ORG\", \"ORG\", \"ORG\", \"ORG\", \"ORG\", \"ORG\", \"ORG\", \"ORG\", \"ORG\", \"ORG\", \"ORG\", \"ORG\", \"ORG\", \"ORG\", \"ORG\", \"ORG\", \"ORG\", \"ORG\", \"ORG\", \"ORG\", \"ORG\", \"ORG\", \"ORG\", \"ORG\", \"ORG\", \"ORG\", \"ORG\", \"ORG\", \"ORG\", \"ORG\", \"ORG\", \"ORG\", \"ORG\", \"ORG\", \"ORG\", \"ORG\", \"ORG\", \"ORG\", \"ORG\", \"ORG\", \"ORG\", \"ORG\", \"ORG\", \"ORG\", \"ORG\", \"ORG\", \"ORG\", \"ORG\", \"ORG\", \"ORG\", \"ORG\", \"ORG\", \"ORG\", \"ORG\", \"ORG\", \"ORG\", \"ORG\", \"ORG\", \"ORG\", \"ORG\", \"ORG\", \"ORG\", \"ORG\", \"ORG\", \"ORG\", \"ORG\", \"ORG\", \"ORG\", \"ORG\", \"ORG\", \"ORG\", \"ORG\", \"ORG\", \"ORG\", \"ORG\", \"ORG\", \"ORG\", \"ORG\", \"ORG\", \"ORG\", \"ORG\", \"ORG\", \"ORG\", \"ORG\", \"ORG\", \"ORG\", \"ORG\", \"ORG\", \"ORG\", \"ORG\", \"ORG\", \"ORG\", \"ORG\", \"ORG\", \"ORG\", \"ORG\", \"ORG\", \"ORG\", \"ORG\", \"ORG\", \"ORG\", \"ORG\", \"ORG\", \"ORG\", \"ORG\", \"ORG\", \"ORG\", \"ORG\", \"ORG\", \"ORG\", \"ORG\", \"ORG\", \"ORG\", \"ORG\", \"ORG\", \"ORG\", \"ORG\", \"ORG\", \"ORG\", \"ORG\", \"ORG\", \"ORG\", \"ORG\", \"ORG\", \"ORG\", \"ORG\", \"ORG\", \"ORG\", \"ORG\", \"ORG\", \"ORG\", \"ORG\", \"ORG\", \"ORG\", \"ORG\", \"ORG\", \"ORG\", \"ORG\", \"ORG\", \"ORG\", \"ORG\", \"ORG\", \"ORG\", \"ORG\", \"ORG\", \"ORG\", \"ORG\", \"ORG\", \"ORG\", \"ORG\", \"ORG\", \"ORG\", \"ORG\", \"ORG\", \"ORG\", \"ORG\", \"ORG\", \"ORG\", \"ORG\", \"ORG\", \"ORG\", \"ORG\", \"ORG\", \"ORG\", \"ORG\", \"ORG\", \"ORG\", \"ORG\", \"ORG\", \"ORG\", \"ORG\", \"ORG\", \"ORG\", \"ORG\", \"ORG\", \"ORG\", \"ORG\", \"ORG\", \"ORG\", \"ORG\", \"ORG\", \"ORG\", \"ORG\", \"ORG\", \"ORG\", \"ORG\", \"ORG\", \"ORG\", \"ORG\", \"ORG\", \"ORG\", \"ORG\", \"ORG\", \"ORG\", \"ORG\", \"ORG\", \"ORG\", \"ORG\", \"ORG\", \"ORG\", \"ORG\", \"ORG\", \"ORG\", \"ORG\", \"ORG\", \"ORG\", \"ORG\", \"ORG\", \"ORG\", \"ORG\", \"ORG\", \"ORG\", \"ORG\", \"ORG\", \"ORG\", \"ORG\", \"ORG\", \"ORG\", \"ORG\", \"ORG\", \"ORG\", \"ORG\", \"ORG\", \"ORG\", \"ORG\", \"ORG\", \"ORG\", \"ORG\", \"ORG\", \"ORG\", \"ORG\", \"ORG\", \"ORG\", \"ORG\", \"ORG\", \"ORG\", \"ORG\", \"ORG\", \"ORG\", \"ORG\", \"ORG\", \"ORG\", \"ORG\", \"ORG\", \"ORG\", \"ORG\", \"ORG\", \"ORG\", \"ORG\", \"ORG\", \"ORG\", \"ORG\", \"ORG\", \"ORG\", \"ORG\", \"ORG\", \"ORG\", \"ORG\", \"ORG\", \"ORG\", \"ORG\", \"ORG\", \"ORG\", \"ORG\", \"ORG\", \"ORG\", \"ORG\", \"ORG\", \"ORG\", \"ORG\", \"ORG\", \"ORG\", \"ORG\", \"ORG\", \"ORG\", \"ORG\", \"ORG\", \"ORG\", \"ORG\", \"ORG\", \"ORG\", \"ORG\", \"ORG\", \"ORG\", \"ORG\", \"ORG\", \"ORG\", \"ORG\", \"ORG\", \"ORG\", \"ORG\", \"ORG\", \"ORG\", \"ORG\", \"ORG\", \"ORG\", \"ORG\", \"ORG\", \"ORG\", \"ORG\", \"ORG\", \"ORG\", \"ORG\", \"ORG\", \"ORG\", \"ORG\", \"ORG\", \"ORG\", \"ORG\", \"ORG\", \"ORG\", \"ORG\", \"ORG\", \"ORG\", \"ORG\", \"ORG\", \"ORG\", \"ORG\", \"ORG\", \"ORG\", \"ORG\", \"ORG\", \"ORG\", \"ORG\", \"ORG\", \"ORG\", \"ORG\", \"ORG\", \"ORG\", \"ORG\", \"ORG\", \"ORG\", \"ORG\", \"ORG\", \"ORG\", \"ORG\", \"ORG\", \"ORG\", \"ORG\", \"ORG\", \"ORG\", \"ORG\", \"ORG\", \"ORG\", \"ORG\", \"ORG\", \"ORG\", \"ORG\", \"ORG\", \"ORG\", \"ORG\", \"ORG\", \"ORG\", \"ORG\", \"ORG\", \"ORG\", \"ORG\", \"ORG\", \"ORG\", \"ORG\", \"ORG\", \"ORG\", \"ORG\", \"ORG\", \"ORG\", \"ORG\", \"ORG\", \"ORG\", \"ORG\", \"ORG\", \"ORG\", \"ORG\", \"ORG\", \"ORG\", \"ORG\", \"ORG\", \"ORG\", \"ORG\", \"ORG\", \"ORG\", \"ORG\", \"ORG\", \"ORG\", \"ORG\", \"ORG\", \"ORG\", \"ORG\", \"ORG\", \"ORG\", \"ORG\", \"ORG\", \"ORG\", \"ORG\", \"ORG\", \"ORG\", \"ORG\", \"ORG\", \"ORG\", \"ORG\", \"ORG\", \"ORG\", \"ORG\", \"ORG\", \"ORG\", \"ORG\", \"ORG\", \"ORG\", \"ORG\", \"ORG\", \"ORG\", \"ORG\", \"ORG\", \"ORG\", \"ORG\", \"ORG\", \"ORG\", \"ORG\", \"ORG\", \"ORG\", \"ORG\", \"ORG\", \"ORG\", \"ORG\", \"ORG\", \"ORG\", \"ORG\", \"ORG\", \"ORG\", \"ORG\", \"ORG\", \"ORG\", \"ORG\", \"ORG\", \"ORG\", \"ORG\", \"ORG\", \"ORG\", \"ORG\", \"ORG\", \"ORG\", \"ORG\", \"ORG\", \"ORG\", \"ORG\", \"ORG\", \"ORG\", \"ORG\", \"ORG\", \"ORG\", \"ORG\", \"ORG\", \"ORG\", \"ORG\", \"ORG\", \"ORG\", \"ORG\", \"ORG\", \"ORG\", \"ORG\", \"ORG\", \"ORG\", \"ORG\", \"ORG\", \"ORG\", \"ORG\", \"ORG\", \"ORG\", \"ORG\", \"ORG\", \"ORG\", \"ORG\", \"ORG\", \"ORG\", \"ORG\", \"ORG\", \"ORG\", \"ORG\", \"ORG\", \"ORG\", \"ORG\", \"ORG\", \"ORG\", \"ORG\", \"ORG\", \"ORG\", \"ORG\", \"ORG\", \"ORG\", \"ORG\", \"ORG\", \"ORG\", \"ORG\", \"ORG\", \"ORG\", \"ORG\", \"ORG\", \"ORG\", \"ORG\", \"ORG\", \"ORG\", \"ORG\", \"ORG\", \"ORG\", \"ORG\", \"ORG\", \"ORG\", \"ORG\", \"ORG\", \"ORG\", \"ORG\", \"ORG\", \"ORG\", \"ORG\", \"ORG\", \"ORG\", \"ORG\", \"ORG\", \"ORG\", \"ORG\", \"ORG\", \"ORG\", \"ORG\", \"ORG\", \"ORG\", \"ORG\", \"ORG\", \"ORG\", \"ORG\", \"ORG\", \"ORG\", \"ORG\", \"ORG\", \"ORG\", \"ORG\", \"ORG\", \"ORG\", \"ORG\", \"ORG\", \"ORG\", \"ORG\", \"ORG\", \"ORG\", \"ORG\", \"ORG\", \"ORG\", \"ORG\", \"ORG\", \"ORG\", \"ORG\", \"ORG\", \"ORG\", \"ORG\", \"ORG\", \"ORG\", \"ORG\", \"ORG\", \"ORG\", \"ORG\", \"ORG\", \"ORG\", \"ORG\", \"ORG\", \"ORG\", \"ORG\", \"ORG\", \"ORG\", \"ORG\", \"ORG\", \"ORG\", \"ORG\", \"ORG\", \"ORG\", \"ORG\", \"ORG\", \"ORG\", \"ORG\", \"ORG\", \"ORG\", \"ORG\", \"ORG\", \"ORG\", \"ORG\", \"ORG\", \"ORG\", \"ORG\", \"ORG\", \"ORG\", \"ORG\", \"ORG\", \"ORG\", \"ORG\", \"ORG\", \"ORG\", \"ORG\", \"ORG\", \"ORG\", \"ORG\", \"ORG\", \"ORG\", \"ORG\", \"ORG\", \"ORG\", \"ORG\", \"ORG\", \"ORG\", \"ORG\", \"ORG\", \"ORG\", \"ORG\", \"ORG\", \"ORG\", \"ORG\", \"ORG\", \"ORG\", \"ORG\", \"ORG\", \"ORG\", \"ORG\", \"ORG\", \"ORG\", \"ORG\", \"ORG\", \"ORG\", \"ORG\", \"ORG\", \"ORG\", \"ORG\", \"ORG\", \"ORG\", \"ORG\", \"ORG\", \"ORG\", \"ORG\", \"ORG\", \"ORG\", \"ORG\", \"ORG\", \"ORG\", \"ORG\", \"ORG\", \"ORG\", \"ORG\", \"ORG\", \"ORG\", \"ORG\", \"ORG\", \"ORG\", \"ORG\", \"ORG\", \"ORG\", \"ORG\", \"ORG\", \"ORG\", \"ORG\", \"ORG\", \"ORG\", \"ORG\", \"ORG\", \"ORG\", \"ORG\", \"ORG\", \"ORG\", \"ORG\", \"ORG\", \"ORG\", \"ORG\", \"ORG\", \"ORG\", \"ORG\", \"ORG\", \"ORG\", \"ORG\", \"ORG\", \"ORG\", \"ORG\", \"ORG\", \"ORG\", \"ORG\", \"ORG\", \"ORG\", \"ORG\", \"ORG\", \"ORG\", \"ORG\", \"ORG\", \"ORG\", \"ORG\", \"ORG\", \"ORG\", \"ORG\", \"ORG\", \"ORG\", \"ORG\", \"ORG\", \"ORG\", \"ORG\", \"ORG\", \"ORG\", \"ORG\", \"ORG\", \"ORG\", \"ORG\", \"ORG\", \"ORG\", \"ORG\", \"ORG\", \"ORG\", \"ORG\", \"ORG\", \"ORG\", \"ORG\", \"ORG\", \"ORG\", \"ORG\", \"ORG\", \"ORG\", \"ORG\", \"ORG\", \"ORG\", \"ORG\", \"ORG\", \"ORG\", \"ORG\", \"ORG\", \"ORG\", \"ORG\", \"ORG\", \"ORG\", \"ORG\", \"ORG\", \"ORG\", \"ORG\", \"ORG\", \"ORG\", \"ORG\", \"ORG\", \"ORG\", \"ORG\", \"ORG\", \"ORG\", \"ORG\", \"ORG\", \"ORG\", \"ORG\", \"ORG\", \"ORG\", \"ORG\", \"ORG\", \"ORG\", \"ORG\", \"ORG\", \"ORG\", \"ORG\", \"ORG\", \"ORG\", \"ORG\", \"ORG\", \"ORG\", \"ORG\", \"ORG\", \"ORG\", \"ORG\", \"ORG\", \"ORG\", \"ORG\", \"ORG\", \"ORG\", \"ORG\", \"ORG\", \"ORG\", \"ORG\", \"ORG\", \"ORG\", \"ORG\", \"ORG\", \"ORG\", \"ORG\", \"ORG\", \"ORG\", \"ORG\", \"ORG\", \"ORG\", \"ORG\", \"ORG\", \"ORG\", \"ORG\", \"ORG\", \"ORG\", \"ORG\", \"ORG\", \"ORG\", \"ORG\", \"ORG\", \"ORG\", \"ORG\", \"ORG\", \"ORG\", \"ORG\", \"ORG\", \"ORG\", \"ORG\", \"ORG\", \"ORG\", \"ORG\", \"ORG\", \"ORG\", \"ORG\", \"ORG\", \"ORG\", \"ORG\", \"ORG\", \"ORG\", \"ORG\", \"ORG\", \"ORG\", \"ORG\", \"ORG\", \"ORG\", \"ORG\", \"ORG\", \"ORG\", \"ORG\", \"ORG\", \"ORG\", \"ORG\", \"ORG\", \"ORG\", \"ORG\", \"ORG\", \"ORG\", \"ORG\", \"ORG\", \"ORG\", \"ORG\", \"ORG\", \"ORG\", \"ORG\", \"ORG\", \"ORG\", \"ORG\", \"ORG\", \"ORG\", \"ORG\", \"ORG\", \"ORG\", \"ORG\", \"ORG\", \"ORG\", \"ORG\", \"ORG\", \"ORG\", \"ORG\", \"ORG\", \"ORG\", \"ORG\", \"ORG\", \"ORG\", \"ORG\", \"ORG\", \"ORG\", \"ORG\", \"ORG\", \"ORG\", \"ORG\", \"ORG\", \"ORG\", \"ORG\", \"ORG\", \"ORG\", \"ORG\", \"ORG\", \"ORG\", \"ORG\", \"ORG\", \"ORG\", \"ORG\", \"ORG\", \"ORG\", \"ORG\", \"ORG\", \"ORG\", \"ORG\", \"ORG\", \"ORG\", \"ORG\", \"ORG\", \"ORG\", \"ORG\", \"ORG\", \"ORG\", \"ORG\", \"ORG\", \"ORG\", \"ORG\", \"ORG\", \"ORG\", \"ORG\", \"ORG\", \"ORG\", \"ORG\", \"ORG\", \"ORG\", \"ORG\", \"ORG\", \"ORG\", \"ORG\", \"ORG\", \"ORG\", \"ORG\", \"ORG\", \"ORG\", \"ORG\", \"ORG\", \"ORG\", \"ORG\", \"ORG\", \"ORG\", \"ORG\", \"ORG\", \"ORG\", \"ORG\", \"ORG\", \"ORG\", \"ORG\", \"ORG\", \"ORG\", \"ORG\", \"ORG\", \"ORG\", \"ORG\", \"ORG\", \"ORG\", \"ORG\", \"ORG\", \"ORG\", \"ORG\", \"ORG\", \"ORG\", \"ORG\", \"ORG\", \"ORG\", \"ORG\", \"ORG\", \"ORG\", \"ORG\", \"ORG\", \"ORG\", \"ORG\", \"ORG\", \"ORG\", \"ORG\", \"ORG\", \"ORG\", \"ORG\", \"ORG\", \"ORG\", \"ORG\", \"ORG\", \"ORG\", \"ORG\", \"ORG\", \"ORG\", \"ORG\", \"ORG\", \"ORG\", \"ORG\", \"ORG\", \"ORG\", \"ORG\", \"ORG\", \"ORG\", \"ORG\", \"ORG\", \"ORG\", \"ORG\", \"ORG\", \"ORG\", \"ORG\", \"ORG\", \"ORG\", \"ORG\", \"ORG\", \"ORG\", \"ORG\", \"ORG\", \"ORG\", \"ORG\", \"ORG\", \"ORG\", \"ORG\", \"ORG\", \"ORG\", \"ORG\", \"ORG\", \"ORG\", \"ORG\", \"ORG\", \"ORG\", \"ORG\", \"ORG\", \"ORG\", \"ORG\", \"ORG\", \"ORG\", \"ORG\", \"ORG\", \"ORG\", \"ORG\", \"ORG\", \"ORG\", \"ORG\", \"ORG\", \"ORG\", \"ORG\", \"ORG\", \"ORG\", \"ORG\", \"ORG\", \"ORG\", \"ORG\", \"ORG\", \"ORG\", \"ORG\", \"ORG\", \"ORG\", \"ORG\", \"ORG\", \"ORG\", \"ORG\", \"ORG\", \"ORG\", \"ORG\", \"ORG\", \"ORG\", \"ORG\", \"ORG\", \"ORG\", \"ORG\", \"ORG\", \"ORG\", \"ORG\", \"ORG\", \"ORG\", \"ORG\", \"ORG\", \"ORG\", \"ORG\", \"ORG\", \"ORG\", \"ORG\", \"ORG\", \"ORG\", \"ORG\", \"ORG\", \"ORG\", \"ORG\", \"ORG\", \"ORG\", \"ORG\", \"ORG\", \"ORG\", \"ORG\", \"ORG\", \"ORG\", \"ORG\", \"ORG\", \"ORG\", \"ORG\", \"ORG\", \"ORG\", \"ORG\", \"ORG\", \"ORG\", \"ORG\", \"ORG\", \"ORG\", \"ORG\", \"ORG\", \"ORG\", \"ORG\", \"ORG\", \"ORG\", \"ORG\", \"ORG\", \"ORG\", \"ORG\", \"ORG\", \"ORG\", \"ORG\", \"ORG\", \"ORG\", \"ORG\", \"ORG\", \"ORG\", \"ORG\", \"ORG\", \"ORG\", \"ORG\", \"ORG\", \"ORG\", \"ORG\", \"ORG\", \"ORG\", \"ORG\", \"ORG\", \"ORG\", \"ORG\", \"ORG\", \"ORG\", \"ORG\", \"ORG\", \"ORG\", \"ORG\", \"ORG\", \"ORG\", \"ORG\", \"ORG\", \"ORG\", \"ORG\", \"ORG\", \"ORG\", \"ORG\", \"ORG\", \"ORG\", \"ORG\", \"ORG\", \"ORG\", \"ORG\", \"ORG\", \"ORG\", \"ORG\", \"ORG\", \"ORG\", \"ORG\", \"ORG\", \"ORG\", \"ORG\", \"ORG\", \"ORG\", \"ORG\", \"ORG\", \"ORG\", \"ORG\", \"ORG\", \"ORG\", \"ORG\", \"ORG\", \"ORG\", \"ORG\", \"ORG\", \"ORG\", \"ORG\", \"ORG\", \"ORG\", \"ORG\", \"ORG\", \"ORG\", \"ORG\", \"ORG\", \"ORG\", \"ORG\", \"ORG\", \"ORG\", \"ORG\", \"ORG\", \"ORG\", \"ORG\", \"ORG\", \"ORG\", \"ORG\", \"ORG\", \"ORG\", \"ORG\", \"ORG\", \"ORG\", \"ORG\", \"ORG\", \"ORG\", \"ORG\", \"ORG\", \"ORG\", \"ORG\", \"ORG\", \"ORG\", \"ORG\", \"ORG\", \"ORG\", \"ORG\", \"ORG\", \"ORG\", \"ORG\", \"ORG\", \"ORG\", \"ORG\", \"ORG\", \"ORG\", \"ORG\", \"ORG\", \"ORG\", \"ORG\", \"ORG\", \"ORG\", \"ORG\", \"ORG\", \"ORG\", \"ORG\", \"ORG\", \"ORG\", \"ORG\", \"ORG\", \"ORG\", \"ORG\", \"ORG\", \"ORG\", \"ORG\", \"ORG\", \"ORG\", \"ORG\", \"ORG\", \"ORG\", \"ORG\", \"ORG\", \"ORG\", \"ORG\", \"ORG\", \"ORG\", \"ORG\", \"ORG\", \"ORG\", \"ORG\", \"ORG\", \"ORG\", \"ORG\", \"ORG\", \"ORG\", \"ORG\", \"ORG\", \"ORG\", \"ORG\", \"ORG\", \"ORG\", \"ORG\", \"ORG\", \"ORG\", \"ORG\", \"ORG\", \"ORG\", \"ORG\", \"ORG\", \"ORG\", \"ORG\", \"ORG\", \"ORG\", \"ORG\", \"ORG\", \"ORG\", \"ORG\", \"ORG\", \"ORG\", \"ORG\", \"ORG\", \"ORG\", \"ORG\", \"ORG\", \"ORG\", \"ORG\", \"ORG\", \"ORG\", \"ORG\", \"ORG\", \"ORG\", \"ORG\", \"ORG\", \"ORG\", \"ORG\", \"ORG\", \"ORG\", \"ORG\", \"ORG\", \"ORG\", \"ORG\", \"ORG\", \"ORG\", \"ORG\", \"ORG\", \"ORG\", \"ORG\", \"ORG\", \"ORG\", \"ORG\", \"ORG\", \"ORG\", \"ORG\", \"ORG\", \"ORG\", \"ORG\", \"ORG\", \"ORG\", \"ORG\", \"ORG\", \"ORG\", \"ORG\", \"ORG\", \"ORG\", \"ORG\", \"ORG\", \"ORG\", \"ORG\", \"ORG\", \"ORG\", \"ORG\", \"ORG\", \"ORG\", \"ORG\", \"ORG\", \"ORG\", \"ORG\", \"ORG\", \"ORG\", \"ORG\", \"ORG\", \"ORG\", \"ORG\", \"ORG\", \"ORG\", \"ORG\", \"ORG\", \"ORG\", \"ORG\", \"ORG\", \"ORG\", \"ORG\", \"ORG\", \"ORG\", \"ORG\", \"ORG\", \"ORG\", \"ORG\", \"ORG\", \"ORG\", \"ORG\", \"ORG\", \"ORG\", \"ORG\", \"ORG\", \"ORG\", \"ORG\", \"ORG\", \"ORG\", \"ORG\", \"ORG\", \"ORG\", \"ORG\", \"ORG\", \"ORG\", \"ORG\", \"ORG\", \"ORG\", \"ORG\", \"ORG\", \"ORG\", \"ORG\", \"ORG\", \"ORG\", \"ORG\", \"ORG\", \"ORG\", \"ORG\", \"ORG\", \"ORG\", \"ORG\", \"ORG\", \"ORG\", \"ORG\", \"ORG\", \"ORG\", \"ORG\", \"ORG\", \"ORG\", \"ORG\", \"ORG\", \"ORG\", \"ORG\", \"ORG\", \"ORG\", \"ORG\", \"ORG\", \"ORG\", \"ORG\", \"ORG\", \"ORG\", \"ORG\", \"ORG\", \"ORG\", \"ORG\", \"ORG\", \"ORG\", \"ORG\", \"ORG\", \"ORG\", \"ORG\", \"ORG\", \"ORG\", \"ORG\", \"ORG\", \"ORG\", \"ORG\", \"ORG\", \"ORG\", \"ORG\", \"ORG\", \"ORG\", \"ORG\", \"ORG\", \"ORG\", \"ORG\", \"ORG\", \"ORG\", \"ORG\", \"ORG\", \"ORG\", \"ORG\", \"ORG\", \"ORG\", \"ORG\", \"ORG\", \"ORG\", \"ORG\", \"ORG\", \"ORG\", \"ORG\", \"ORG\", \"ORG\", \"ORG\", \"ORG\", \"ORG\", \"ORG\", \"ORG\", \"ORG\", \"ORG\", \"ORG\", \"ORG\", \"ORG\", \"ORG\", \"ORG\", \"ORG\", \"ORG\", \"ORG\", \"ORG\", \"ORG\", \"ORG\", \"ORG\", \"ORG\", \"ORG\", \"ORG\", \"ORG\", \"ORG\", \"ORG\", \"ORG\", \"ORG\", \"ORG\", \"ORG\", \"ORG\", \"ORG\", \"ORG\", \"ORG\", \"ORG\", \"ORG\", \"ORG\", \"ORG\", \"ORG\", \"ORG\", \"ORG\", \"ORG\", \"ORG\", \"ORG\", \"ORG\", \"ORG\", \"ORG\", \"ORG\", \"ORG\", \"ORG\", \"ORG\", \"ORG\", \"ORG\", \"ORG\", \"ORG\", \"ORG\", \"ORG\", \"ORG\", \"ORG\", \"ORG\", \"ORG\", \"ORG\", \"ORG\", \"ORG\", \"ORG\", \"ORG\", \"ORG\", \"ORG\", \"ORG\", \"ORG\", \"ORG\", \"ORG\", \"ORG\", \"ORG\", \"ORG\", \"ORG\", \"ORG\", \"ORG\", \"ORG\", \"ORG\", \"ORG\", \"ORG\", \"ORG\", \"ORG\", \"ORG\", \"ORG\", \"ORG\", \"ORG\", \"ORG\", \"ORG\", \"ORG\", \"ORG\", \"ORG\", \"ORG\", \"ORG\", \"ORG\", \"ORG\", \"ORG\", \"ORG\", \"ORG\", \"ORG\", \"ORG\", \"ORG\", \"ORG\", \"ORG\", \"ORG\", \"ORG\", \"ORG\", \"ORG\", \"ORG\", \"ORG\", \"ORG\", \"ORG\", \"ORG\", \"ORG\", \"ORG\", \"ORG\", \"ORG\", \"ORG\", \"ORG\", \"ORG\", \"ORG\", \"ORG\", \"ORG\", \"ORG\", \"ORG\", \"ORG\", \"ORG\", \"ORG\", \"ORG\", \"ORG\", \"ORG\", \"ORG\", \"ORG\", \"ORG\", \"ORG\", \"ORG\", \"ORG\", \"ORG\", \"ORG\", \"ORG\", \"ORG\", \"ORG\", \"ORG\", \"ORG\", \"ORG\", \"ORG\", \"ORG\", \"ORG\", \"ORG\", \"ORG\", \"ORG\", \"ORG\", \"ORG\", \"ORG\", \"ORG\", \"ORG\", \"ORG\", \"ORG\", \"ORG\", \"ORG\", \"ORG\", \"ORG\", \"ORG\", \"ORG\", \"ORG\", \"ORG\", \"ORG\", \"ORG\", \"ORG\", \"ORG\", \"ORG\", \"ORG\", \"ORG\", \"ORG\", \"ORG\", \"ORG\", \"ORG\", \"ORG\", \"ORG\", \"ORG\", \"ORG\", \"ORG\", \"ORG\", \"ORG\", \"ORG\", \"ORG\", \"ORG\", \"ORG\", \"ORG\", \"ORG\", \"ORG\", \"ORG\", \"ORG\", \"ORG\", \"ORG\", \"ORG\", \"ORG\", \"ORG\", \"ORG\", \"ORG\", \"ORG\", \"ORG\", \"ORG\", \"ORG\", \"ORG\", \"ORG\", \"ORG\", \"ORG\", \"ORG\", \"ORG\", \"ORG\", \"ORG\", \"ORG\", \"ORG\", \"ORG\", \"ORG\", \"ORG\", \"ORG\", \"ORG\", \"ORG\", \"ORG\", \"ORG\", \"ORG\", \"ORG\", \"ORG\", \"ORG\", \"ORG\", \"ORG\", \"ORG\", \"ORG\", \"ORG\", \"ORG\", \"ORG\", \"ORG\", \"ORG\", \"ORG\", \"ORG\", \"ORG\", \"ORG\", \"ORG\", \"ORG\", \"ORG\", \"ORG\", \"ORG\", \"ORG\", \"ORG\", \"ORG\", \"ORG\", \"ORG\", \"ORG\", \"ORG\", \"ORG\", \"ORG\", \"ORG\", \"ORG\", \"ORG\", \"ORG\", \"ORG\", \"ORG\", \"ORG\", \"ORG\", \"ORG\", \"ORG\", \"ORG\", \"ORG\", \"ORG\", \"ORG\", \"ORG\", \"ORG\", \"ORG\", \"ORG\", \"ORG\", \"ORG\", \"ORG\", \"ORG\", \"ORG\", \"ORG\", \"ORG\", \"ORG\", \"ORG\", \"ORG\", \"ORG\", \"ORG\", \"ORG\", \"ORG\", \"ORG\", \"ORG\", \"ORG\", \"ORG\", \"ORG\", \"ORG\", \"ORG\", \"ORG\", \"ORG\", \"ORG\", \"ORG\", \"ORG\", \"ORG\", \"ORG\", \"ORG\", \"ORG\", \"ORG\", \"ORG\", \"ORG\", \"ORG\", \"ORG\", \"ORG\", \"ORG\", \"ORG\", \"ORG\", \"ORG\", \"ORG\", \"ORG\", \"ORG\", \"ORG\", \"ORG\", \"ORG\", \"ORG\", \"ORG\", \"ORG\", \"ORG\", \"ORG\", \"ORG\", \"ORG\", \"ORG\", \"ORG\", \"ORG\", \"ORG\", \"ORG\", \"ORG\", \"ORG\", \"ORG\", \"ORG\", \"ORG\", \"ORG\", \"ORG\", \"ORG\", \"ORG\", \"ORG\", \"ORG\", \"ORG\", \"ORG\", \"ORG\", \"ORG\", \"ORG\", \"ORG\", \"ORG\", \"ORG\", \"ORG\", \"ORG\", \"ORG\", \"ORG\", \"ORG\", \"ORG\", \"ORG\", \"ORG\", \"ORG\", \"ORG\", \"ORG\", \"ORG\", \"ORG\", \"ORG\", \"ORG\", \"ORG\", \"ORG\", \"ORG\", \"ORG\", \"ORG\", \"ORG\", \"ORG\", \"ORG\", \"ORG\", \"ORG\", \"ORG\", \"ORG\", \"ORG\", \"ORG\", \"ORG\", \"ORG\", \"ORG\", \"ORG\", \"ORG\", \"ORG\", \"ORG\", \"ORG\", \"ORG\"], \"xaxis\": \"x\", \"yaxis\": \"y\"}, {\"alignmentgroup\": \"True\", \"bingroup\": \"x\", \"hoverlabel\": {\"namelength\": 0}, \"hovertemplate\": \"label=%{x}<br>count=%{y}\", \"legendgroup\": \"label=DATE\", \"marker\": {\"color\": \"#FFA15A\"}, \"name\": \"label=DATE\", \"offsetgroup\": \"label=DATE\", \"orientation\": \"v\", \"showlegend\": true, \"type\": \"histogram\", \"x\": [\"DATE\", \"DATE\", \"DATE\", \"DATE\", \"DATE\", \"DATE\", \"DATE\", \"DATE\", \"DATE\", \"DATE\", \"DATE\", \"DATE\", \"DATE\", \"DATE\", \"DATE\", \"DATE\", \"DATE\", \"DATE\", \"DATE\", \"DATE\", \"DATE\", \"DATE\", \"DATE\", \"DATE\", \"DATE\", \"DATE\", \"DATE\", \"DATE\", \"DATE\", \"DATE\", \"DATE\", \"DATE\", \"DATE\", \"DATE\", \"DATE\", \"DATE\", \"DATE\", \"DATE\", \"DATE\", \"DATE\", \"DATE\", \"DATE\", \"DATE\", \"DATE\", \"DATE\", \"DATE\", \"DATE\", \"DATE\", \"DATE\", \"DATE\", \"DATE\", \"DATE\", \"DATE\", \"DATE\", \"DATE\", \"DATE\", \"DATE\", \"DATE\", \"DATE\", \"DATE\", \"DATE\", \"DATE\", \"DATE\", \"DATE\", \"DATE\", \"DATE\", \"DATE\", \"DATE\", \"DATE\", \"DATE\", \"DATE\", \"DATE\", \"DATE\", \"DATE\", \"DATE\", \"DATE\", \"DATE\", \"DATE\", \"DATE\", \"DATE\", \"DATE\", \"DATE\", \"DATE\", \"DATE\", \"DATE\", \"DATE\", \"DATE\", \"DATE\", \"DATE\", \"DATE\", \"DATE\", \"DATE\", \"DATE\", \"DATE\", \"DATE\", \"DATE\", \"DATE\", \"DATE\", \"DATE\", \"DATE\", \"DATE\", \"DATE\", \"DATE\", \"DATE\", \"DATE\", \"DATE\", \"DATE\", \"DATE\", \"DATE\", \"DATE\", \"DATE\", \"DATE\", \"DATE\", \"DATE\", \"DATE\", \"DATE\", \"DATE\", \"DATE\", \"DATE\", \"DATE\", \"DATE\", \"DATE\", \"DATE\", \"DATE\", \"DATE\", \"DATE\", \"DATE\", \"DATE\", \"DATE\", \"DATE\", \"DATE\", \"DATE\", \"DATE\", \"DATE\", \"DATE\", \"DATE\", \"DATE\", \"DATE\", \"DATE\", \"DATE\", \"DATE\", \"DATE\", \"DATE\", \"DATE\", \"DATE\", \"DATE\", \"DATE\", \"DATE\", \"DATE\", \"DATE\", \"DATE\", \"DATE\", \"DATE\", \"DATE\", \"DATE\", \"DATE\", \"DATE\", \"DATE\", \"DATE\", \"DATE\", \"DATE\", \"DATE\", \"DATE\", \"DATE\", \"DATE\", \"DATE\", \"DATE\", \"DATE\", \"DATE\", \"DATE\", \"DATE\", \"DATE\", \"DATE\", \"DATE\", \"DATE\", \"DATE\", \"DATE\", \"DATE\", \"DATE\", \"DATE\", \"DATE\", \"DATE\", \"DATE\", \"DATE\", \"DATE\", \"DATE\", \"DATE\", \"DATE\", \"DATE\", \"DATE\", \"DATE\", \"DATE\", \"DATE\", \"DATE\", \"DATE\", \"DATE\", \"DATE\", \"DATE\", \"DATE\", \"DATE\", \"DATE\", \"DATE\", \"DATE\", \"DATE\", \"DATE\", \"DATE\", \"DATE\", \"DATE\", \"DATE\", \"DATE\", \"DATE\", \"DATE\", \"DATE\", \"DATE\", \"DATE\", \"DATE\", \"DATE\", \"DATE\", \"DATE\", \"DATE\", \"DATE\", \"DATE\", \"DATE\", \"DATE\", \"DATE\", \"DATE\", \"DATE\", \"DATE\", \"DATE\", \"DATE\", \"DATE\", \"DATE\", \"DATE\", \"DATE\", \"DATE\", \"DATE\", \"DATE\", \"DATE\", \"DATE\", \"DATE\", \"DATE\", \"DATE\", \"DATE\", \"DATE\", \"DATE\", \"DATE\", \"DATE\", \"DATE\", \"DATE\", \"DATE\", \"DATE\", \"DATE\", \"DATE\", \"DATE\", \"DATE\", \"DATE\", \"DATE\", \"DATE\", \"DATE\", \"DATE\", \"DATE\", \"DATE\", \"DATE\", \"DATE\", \"DATE\", \"DATE\", \"DATE\", \"DATE\", \"DATE\", \"DATE\", \"DATE\", \"DATE\", \"DATE\", \"DATE\", \"DATE\", \"DATE\", \"DATE\", \"DATE\", \"DATE\", \"DATE\", \"DATE\", \"DATE\", \"DATE\", \"DATE\", \"DATE\", \"DATE\", \"DATE\", \"DATE\", \"DATE\", \"DATE\", \"DATE\", \"DATE\", \"DATE\", \"DATE\", \"DATE\", \"DATE\", \"DATE\", \"DATE\", \"DATE\", \"DATE\", \"DATE\", \"DATE\", \"DATE\", \"DATE\", \"DATE\", \"DATE\", \"DATE\", \"DATE\", \"DATE\", \"DATE\", \"DATE\", \"DATE\", \"DATE\", \"DATE\", \"DATE\", \"DATE\", \"DATE\", \"DATE\", \"DATE\", \"DATE\", \"DATE\", \"DATE\", \"DATE\", \"DATE\", \"DATE\", \"DATE\", \"DATE\", \"DATE\", \"DATE\", \"DATE\", \"DATE\", \"DATE\", \"DATE\", \"DATE\", \"DATE\", \"DATE\", \"DATE\", \"DATE\", \"DATE\", \"DATE\", \"DATE\", \"DATE\", \"DATE\", \"DATE\", \"DATE\", \"DATE\", \"DATE\", \"DATE\", \"DATE\", \"DATE\", \"DATE\", \"DATE\", \"DATE\", \"DATE\", \"DATE\", \"DATE\", \"DATE\", \"DATE\", \"DATE\", \"DATE\", \"DATE\", \"DATE\", \"DATE\", \"DATE\", \"DATE\", \"DATE\", \"DATE\", \"DATE\", \"DATE\", \"DATE\", \"DATE\", \"DATE\", \"DATE\", \"DATE\", \"DATE\", \"DATE\", \"DATE\", \"DATE\", \"DATE\", \"DATE\", \"DATE\", \"DATE\", \"DATE\", \"DATE\", \"DATE\", \"DATE\", \"DATE\", \"DATE\", \"DATE\", \"DATE\", \"DATE\", \"DATE\", \"DATE\", \"DATE\", \"DATE\", \"DATE\", \"DATE\", \"DATE\", \"DATE\", \"DATE\", \"DATE\", \"DATE\", \"DATE\", \"DATE\", \"DATE\", \"DATE\", \"DATE\", \"DATE\", \"DATE\", \"DATE\", \"DATE\", \"DATE\", \"DATE\", \"DATE\", \"DATE\", \"DATE\", \"DATE\", \"DATE\", \"DATE\", \"DATE\", \"DATE\", \"DATE\", \"DATE\", \"DATE\", \"DATE\", \"DATE\", \"DATE\", \"DATE\", \"DATE\", \"DATE\", \"DATE\", \"DATE\", \"DATE\", \"DATE\", \"DATE\", \"DATE\", \"DATE\", \"DATE\", \"DATE\", \"DATE\", \"DATE\", \"DATE\", \"DATE\", \"DATE\", \"DATE\", \"DATE\", \"DATE\", \"DATE\", \"DATE\", \"DATE\", \"DATE\", \"DATE\", \"DATE\", \"DATE\", \"DATE\", \"DATE\", \"DATE\", \"DATE\", \"DATE\", \"DATE\", \"DATE\", \"DATE\", \"DATE\", \"DATE\", \"DATE\", \"DATE\", \"DATE\", \"DATE\", \"DATE\", \"DATE\", \"DATE\", \"DATE\", \"DATE\", \"DATE\", \"DATE\", \"DATE\", \"DATE\", \"DATE\", \"DATE\", \"DATE\", \"DATE\", \"DATE\", \"DATE\", \"DATE\", \"DATE\", \"DATE\", \"DATE\", \"DATE\", \"DATE\", \"DATE\", \"DATE\", \"DATE\", \"DATE\", \"DATE\", \"DATE\", \"DATE\", \"DATE\", \"DATE\", \"DATE\", \"DATE\", \"DATE\", \"DATE\", \"DATE\", \"DATE\", \"DATE\", \"DATE\", \"DATE\", \"DATE\", \"DATE\", \"DATE\", \"DATE\", \"DATE\", \"DATE\", \"DATE\", \"DATE\", \"DATE\", \"DATE\", \"DATE\", \"DATE\", \"DATE\", \"DATE\", \"DATE\", \"DATE\", \"DATE\", \"DATE\", \"DATE\", \"DATE\", \"DATE\", \"DATE\", \"DATE\", \"DATE\", \"DATE\", \"DATE\", \"DATE\", \"DATE\", \"DATE\", \"DATE\", \"DATE\", \"DATE\", \"DATE\", \"DATE\", \"DATE\", \"DATE\", \"DATE\", \"DATE\", \"DATE\", \"DATE\", \"DATE\", \"DATE\", \"DATE\", \"DATE\", \"DATE\", \"DATE\", \"DATE\", \"DATE\", \"DATE\", \"DATE\", \"DATE\", \"DATE\", \"DATE\", \"DATE\", \"DATE\", \"DATE\", \"DATE\", \"DATE\", \"DATE\", \"DATE\", \"DATE\", \"DATE\", \"DATE\", \"DATE\", \"DATE\", \"DATE\", \"DATE\", \"DATE\", \"DATE\", \"DATE\", \"DATE\", \"DATE\", \"DATE\", \"DATE\", \"DATE\", \"DATE\", \"DATE\", \"DATE\", \"DATE\", \"DATE\", \"DATE\", \"DATE\", \"DATE\", \"DATE\", \"DATE\", \"DATE\", \"DATE\", \"DATE\", \"DATE\", \"DATE\", \"DATE\", \"DATE\", \"DATE\", \"DATE\", \"DATE\", \"DATE\", \"DATE\", \"DATE\", \"DATE\", \"DATE\", \"DATE\", \"DATE\", \"DATE\", \"DATE\", \"DATE\", \"DATE\", \"DATE\", \"DATE\", \"DATE\", \"DATE\", \"DATE\", \"DATE\", \"DATE\", \"DATE\", \"DATE\", \"DATE\", \"DATE\", \"DATE\", \"DATE\", \"DATE\", \"DATE\", \"DATE\", \"DATE\", \"DATE\", \"DATE\", \"DATE\", \"DATE\", \"DATE\", \"DATE\", \"DATE\", \"DATE\", \"DATE\", \"DATE\", \"DATE\", \"DATE\", \"DATE\", \"DATE\", \"DATE\", \"DATE\", \"DATE\", \"DATE\", \"DATE\", \"DATE\", \"DATE\", \"DATE\", \"DATE\", \"DATE\", \"DATE\", \"DATE\", \"DATE\", \"DATE\", \"DATE\", \"DATE\", \"DATE\", \"DATE\", \"DATE\", \"DATE\", \"DATE\", \"DATE\", \"DATE\", \"DATE\", \"DATE\", \"DATE\", \"DATE\", \"DATE\", \"DATE\", \"DATE\", \"DATE\", \"DATE\", \"DATE\", \"DATE\", \"DATE\", \"DATE\", \"DATE\", \"DATE\", \"DATE\", \"DATE\", \"DATE\", \"DATE\", \"DATE\", \"DATE\", \"DATE\", \"DATE\", \"DATE\", \"DATE\", \"DATE\", \"DATE\", \"DATE\", \"DATE\", \"DATE\", \"DATE\", \"DATE\", \"DATE\", \"DATE\", \"DATE\", \"DATE\", \"DATE\", \"DATE\", \"DATE\", \"DATE\", \"DATE\", \"DATE\", \"DATE\", \"DATE\", \"DATE\", \"DATE\", \"DATE\", \"DATE\", \"DATE\", \"DATE\", \"DATE\", \"DATE\", \"DATE\", \"DATE\", \"DATE\", \"DATE\", \"DATE\", \"DATE\", \"DATE\", \"DATE\", \"DATE\", \"DATE\", \"DATE\", \"DATE\", \"DATE\", \"DATE\", \"DATE\", \"DATE\", \"DATE\", \"DATE\", \"DATE\", \"DATE\", \"DATE\", \"DATE\", \"DATE\", \"DATE\", \"DATE\", \"DATE\", \"DATE\", \"DATE\", \"DATE\", \"DATE\", \"DATE\", \"DATE\", \"DATE\", \"DATE\", \"DATE\", \"DATE\", \"DATE\", \"DATE\", \"DATE\", \"DATE\", \"DATE\", \"DATE\", \"DATE\", \"DATE\", \"DATE\", \"DATE\", \"DATE\", \"DATE\", \"DATE\", \"DATE\", \"DATE\", \"DATE\", \"DATE\", \"DATE\", \"DATE\", \"DATE\", \"DATE\", \"DATE\", \"DATE\", \"DATE\", \"DATE\", \"DATE\", \"DATE\", \"DATE\", \"DATE\", \"DATE\", \"DATE\", \"DATE\", \"DATE\", \"DATE\", \"DATE\", \"DATE\", \"DATE\", \"DATE\", \"DATE\", \"DATE\", \"DATE\", \"DATE\", \"DATE\", \"DATE\", \"DATE\", \"DATE\", \"DATE\", \"DATE\", \"DATE\", \"DATE\", \"DATE\", \"DATE\", \"DATE\", \"DATE\", \"DATE\", \"DATE\", \"DATE\", \"DATE\", \"DATE\", \"DATE\", \"DATE\", \"DATE\", \"DATE\", \"DATE\", \"DATE\", \"DATE\", \"DATE\", \"DATE\", \"DATE\", \"DATE\", \"DATE\", \"DATE\", \"DATE\", \"DATE\", \"DATE\", \"DATE\", \"DATE\", \"DATE\", \"DATE\", \"DATE\", \"DATE\", \"DATE\", \"DATE\", \"DATE\", \"DATE\", \"DATE\", \"DATE\", \"DATE\", \"DATE\", \"DATE\", \"DATE\", \"DATE\", \"DATE\", \"DATE\", \"DATE\", \"DATE\", \"DATE\", \"DATE\", \"DATE\", \"DATE\", \"DATE\", \"DATE\", \"DATE\", \"DATE\", \"DATE\", \"DATE\", \"DATE\", \"DATE\", \"DATE\", \"DATE\", \"DATE\", \"DATE\", \"DATE\", \"DATE\", \"DATE\", \"DATE\", \"DATE\", \"DATE\", \"DATE\", \"DATE\", \"DATE\", \"DATE\", \"DATE\", \"DATE\", \"DATE\", \"DATE\", \"DATE\", \"DATE\", \"DATE\", \"DATE\", \"DATE\", \"DATE\", \"DATE\", \"DATE\", \"DATE\", \"DATE\", \"DATE\", \"DATE\", \"DATE\", \"DATE\", \"DATE\", \"DATE\", \"DATE\", \"DATE\", \"DATE\", \"DATE\", \"DATE\", \"DATE\", \"DATE\", \"DATE\", \"DATE\", \"DATE\", \"DATE\", \"DATE\", \"DATE\", \"DATE\", \"DATE\", \"DATE\", \"DATE\", \"DATE\", \"DATE\", \"DATE\", \"DATE\", \"DATE\", \"DATE\", \"DATE\", \"DATE\", \"DATE\", \"DATE\", \"DATE\", \"DATE\", \"DATE\", \"DATE\", \"DATE\", \"DATE\", \"DATE\", \"DATE\", \"DATE\", \"DATE\", \"DATE\", \"DATE\", \"DATE\", \"DATE\", \"DATE\", \"DATE\", \"DATE\", \"DATE\", \"DATE\", \"DATE\", \"DATE\", \"DATE\", \"DATE\", \"DATE\", \"DATE\", \"DATE\", \"DATE\", \"DATE\", \"DATE\", \"DATE\", \"DATE\", \"DATE\", \"DATE\", \"DATE\", \"DATE\", \"DATE\", \"DATE\", \"DATE\", \"DATE\", \"DATE\", \"DATE\", \"DATE\", \"DATE\", \"DATE\", \"DATE\", \"DATE\", \"DATE\", \"DATE\", \"DATE\", \"DATE\", \"DATE\", \"DATE\", \"DATE\", \"DATE\", \"DATE\", \"DATE\", \"DATE\", \"DATE\", \"DATE\"], \"xaxis\": \"x\", \"yaxis\": \"y\"}, {\"alignmentgroup\": \"True\", \"bingroup\": \"x\", \"hoverlabel\": {\"namelength\": 0}, \"hovertemplate\": \"label=%{x}<br>count=%{y}\", \"legendgroup\": \"label=NORP\", \"marker\": {\"color\": \"#19d3f3\"}, \"name\": \"label=NORP\", \"offsetgroup\": \"label=NORP\", \"orientation\": \"v\", \"showlegend\": true, \"type\": \"histogram\", \"x\": [\"NORP\", \"NORP\", \"NORP\", \"NORP\", \"NORP\", \"NORP\", \"NORP\", \"NORP\", \"NORP\", \"NORP\", \"NORP\", \"NORP\", \"NORP\", \"NORP\", \"NORP\", \"NORP\", \"NORP\", \"NORP\", \"NORP\", \"NORP\", \"NORP\", \"NORP\", \"NORP\", \"NORP\", \"NORP\", \"NORP\", \"NORP\", \"NORP\", \"NORP\", \"NORP\", \"NORP\", \"NORP\", \"NORP\", \"NORP\", \"NORP\", \"NORP\", \"NORP\", \"NORP\", \"NORP\", \"NORP\", \"NORP\", \"NORP\", \"NORP\", \"NORP\", \"NORP\", \"NORP\", \"NORP\", \"NORP\", \"NORP\", \"NORP\", \"NORP\", \"NORP\", \"NORP\", \"NORP\", \"NORP\", \"NORP\", \"NORP\", \"NORP\", \"NORP\", \"NORP\", \"NORP\", \"NORP\", \"NORP\", \"NORP\", \"NORP\", \"NORP\", \"NORP\", \"NORP\", \"NORP\", \"NORP\", \"NORP\", \"NORP\", \"NORP\", \"NORP\", \"NORP\", \"NORP\", \"NORP\", \"NORP\", \"NORP\", \"NORP\", \"NORP\", \"NORP\", \"NORP\", \"NORP\", \"NORP\", \"NORP\", \"NORP\", \"NORP\", \"NORP\", \"NORP\", \"NORP\", \"NORP\", \"NORP\", \"NORP\", \"NORP\", \"NORP\", \"NORP\", \"NORP\", \"NORP\", \"NORP\", \"NORP\", \"NORP\", \"NORP\", \"NORP\", \"NORP\", \"NORP\", \"NORP\", \"NORP\", \"NORP\", \"NORP\", \"NORP\", \"NORP\", \"NORP\", \"NORP\", \"NORP\", \"NORP\", \"NORP\", \"NORP\", \"NORP\", \"NORP\", \"NORP\", \"NORP\", \"NORP\", \"NORP\", \"NORP\", \"NORP\", \"NORP\", \"NORP\", \"NORP\", \"NORP\", \"NORP\", \"NORP\", \"NORP\", \"NORP\", \"NORP\", \"NORP\", \"NORP\", \"NORP\", \"NORP\", \"NORP\", \"NORP\", \"NORP\", \"NORP\", \"NORP\", \"NORP\", \"NORP\", \"NORP\", \"NORP\", \"NORP\", \"NORP\", \"NORP\", \"NORP\", \"NORP\", \"NORP\", \"NORP\", \"NORP\", \"NORP\", \"NORP\", \"NORP\", \"NORP\", \"NORP\", \"NORP\", \"NORP\", \"NORP\", \"NORP\", \"NORP\", \"NORP\", \"NORP\", \"NORP\", \"NORP\", \"NORP\", \"NORP\", \"NORP\", \"NORP\", \"NORP\", \"NORP\", \"NORP\", \"NORP\", \"NORP\", \"NORP\", \"NORP\", \"NORP\", \"NORP\", \"NORP\", \"NORP\", \"NORP\", \"NORP\", \"NORP\", \"NORP\", \"NORP\", \"NORP\", \"NORP\", \"NORP\", \"NORP\", \"NORP\", \"NORP\", \"NORP\", \"NORP\", \"NORP\", \"NORP\", \"NORP\", \"NORP\", \"NORP\", \"NORP\", \"NORP\", \"NORP\", \"NORP\", \"NORP\", \"NORP\", \"NORP\", \"NORP\", \"NORP\", \"NORP\", \"NORP\", \"NORP\", \"NORP\", \"NORP\", \"NORP\", \"NORP\", \"NORP\", \"NORP\", \"NORP\", \"NORP\", \"NORP\", \"NORP\", \"NORP\", \"NORP\", \"NORP\", \"NORP\", \"NORP\", \"NORP\", \"NORP\", \"NORP\", \"NORP\", \"NORP\", \"NORP\", \"NORP\", \"NORP\", \"NORP\", \"NORP\", \"NORP\", \"NORP\", \"NORP\", \"NORP\", \"NORP\", \"NORP\", \"NORP\", \"NORP\", \"NORP\", \"NORP\", \"NORP\", \"NORP\", \"NORP\", \"NORP\", \"NORP\", \"NORP\", \"NORP\", \"NORP\", \"NORP\", \"NORP\", \"NORP\", \"NORP\", \"NORP\", \"NORP\", \"NORP\", \"NORP\", \"NORP\", \"NORP\", \"NORP\", \"NORP\", \"NORP\", \"NORP\", \"NORP\", \"NORP\", \"NORP\", \"NORP\", \"NORP\", \"NORP\", \"NORP\", \"NORP\", \"NORP\", \"NORP\", \"NORP\", \"NORP\", \"NORP\", \"NORP\", \"NORP\", \"NORP\", \"NORP\", \"NORP\", \"NORP\", \"NORP\", \"NORP\", \"NORP\", \"NORP\", \"NORP\", \"NORP\", \"NORP\", \"NORP\", \"NORP\", \"NORP\", \"NORP\", \"NORP\", \"NORP\", \"NORP\", \"NORP\", \"NORP\", \"NORP\", \"NORP\", \"NORP\", \"NORP\", \"NORP\", \"NORP\", \"NORP\", \"NORP\", \"NORP\", \"NORP\", \"NORP\", \"NORP\", \"NORP\", \"NORP\", \"NORP\", \"NORP\", \"NORP\", \"NORP\", \"NORP\", \"NORP\", \"NORP\", \"NORP\", \"NORP\", \"NORP\", \"NORP\", \"NORP\", \"NORP\", \"NORP\", \"NORP\", \"NORP\", \"NORP\", \"NORP\", \"NORP\", \"NORP\", \"NORP\", \"NORP\", \"NORP\", \"NORP\", \"NORP\", \"NORP\", \"NORP\", \"NORP\", \"NORP\", \"NORP\", \"NORP\", \"NORP\", \"NORP\", \"NORP\", \"NORP\", \"NORP\", \"NORP\", \"NORP\", \"NORP\", \"NORP\", \"NORP\", \"NORP\", \"NORP\", \"NORP\", \"NORP\", \"NORP\", \"NORP\", \"NORP\", \"NORP\", \"NORP\", \"NORP\", \"NORP\", \"NORP\", \"NORP\", \"NORP\", \"NORP\", \"NORP\", \"NORP\", \"NORP\", \"NORP\", \"NORP\", \"NORP\", \"NORP\", \"NORP\", \"NORP\", \"NORP\", \"NORP\", \"NORP\", \"NORP\", \"NORP\", \"NORP\", \"NORP\", \"NORP\", \"NORP\", \"NORP\", \"NORP\", \"NORP\", \"NORP\", \"NORP\", \"NORP\", \"NORP\", \"NORP\", \"NORP\", \"NORP\", \"NORP\", \"NORP\", \"NORP\", \"NORP\", \"NORP\", \"NORP\", \"NORP\", \"NORP\", \"NORP\", \"NORP\", \"NORP\", \"NORP\", \"NORP\", \"NORP\", \"NORP\", \"NORP\", \"NORP\", \"NORP\", \"NORP\", \"NORP\", \"NORP\", \"NORP\", \"NORP\", \"NORP\", \"NORP\", \"NORP\", \"NORP\", \"NORP\", \"NORP\", \"NORP\", \"NORP\", \"NORP\", \"NORP\", \"NORP\", \"NORP\", \"NORP\", \"NORP\", \"NORP\", \"NORP\", \"NORP\", \"NORP\", \"NORP\", \"NORP\", \"NORP\", \"NORP\", \"NORP\", \"NORP\", \"NORP\", \"NORP\", \"NORP\", \"NORP\", \"NORP\", \"NORP\", \"NORP\", \"NORP\", \"NORP\", \"NORP\", \"NORP\", \"NORP\", \"NORP\", \"NORP\", \"NORP\", \"NORP\", \"NORP\", \"NORP\", \"NORP\", \"NORP\", \"NORP\", \"NORP\", \"NORP\", \"NORP\", \"NORP\", \"NORP\", \"NORP\", \"NORP\", \"NORP\", \"NORP\", \"NORP\", \"NORP\", \"NORP\", \"NORP\", \"NORP\", \"NORP\", \"NORP\", \"NORP\", \"NORP\", \"NORP\", \"NORP\", \"NORP\", \"NORP\", \"NORP\", \"NORP\", \"NORP\", \"NORP\", \"NORP\", \"NORP\", \"NORP\", \"NORP\", \"NORP\", \"NORP\", \"NORP\", \"NORP\", \"NORP\", \"NORP\", \"NORP\", \"NORP\", \"NORP\", \"NORP\", \"NORP\", \"NORP\", \"NORP\", \"NORP\", \"NORP\", \"NORP\", \"NORP\", \"NORP\", \"NORP\", \"NORP\", \"NORP\", \"NORP\", \"NORP\", \"NORP\", \"NORP\", \"NORP\", \"NORP\", \"NORP\", \"NORP\", \"NORP\", \"NORP\", \"NORP\", \"NORP\", \"NORP\", \"NORP\", \"NORP\", \"NORP\", \"NORP\", \"NORP\", \"NORP\", \"NORP\", \"NORP\", \"NORP\", \"NORP\", \"NORP\", \"NORP\", \"NORP\", \"NORP\", \"NORP\", \"NORP\", \"NORP\", \"NORP\", \"NORP\", \"NORP\", \"NORP\", \"NORP\", \"NORP\", \"NORP\", \"NORP\", \"NORP\", \"NORP\", \"NORP\", \"NORP\", \"NORP\", \"NORP\", \"NORP\", \"NORP\", \"NORP\", \"NORP\", \"NORP\", \"NORP\", \"NORP\", \"NORP\", \"NORP\", \"NORP\", \"NORP\", \"NORP\", \"NORP\", \"NORP\", \"NORP\", \"NORP\", \"NORP\", \"NORP\", \"NORP\", \"NORP\", \"NORP\", \"NORP\", \"NORP\", \"NORP\", \"NORP\", \"NORP\", \"NORP\", \"NORP\", \"NORP\", \"NORP\", \"NORP\", \"NORP\", \"NORP\", \"NORP\", \"NORP\", \"NORP\", \"NORP\", \"NORP\", \"NORP\", \"NORP\", \"NORP\", \"NORP\", \"NORP\", \"NORP\", \"NORP\", \"NORP\", \"NORP\", \"NORP\", \"NORP\", \"NORP\", \"NORP\", \"NORP\", \"NORP\", \"NORP\", \"NORP\", \"NORP\", \"NORP\", \"NORP\", \"NORP\", \"NORP\", \"NORP\", \"NORP\", \"NORP\", \"NORP\", \"NORP\", \"NORP\", \"NORP\", \"NORP\", \"NORP\", \"NORP\", \"NORP\", \"NORP\", \"NORP\", \"NORP\", \"NORP\", \"NORP\", \"NORP\", \"NORP\", \"NORP\", \"NORP\", \"NORP\", \"NORP\", \"NORP\", \"NORP\", \"NORP\", \"NORP\", \"NORP\", \"NORP\", \"NORP\", \"NORP\", \"NORP\", \"NORP\", \"NORP\", \"NORP\"], \"xaxis\": \"x\", \"yaxis\": \"y\"}, {\"alignmentgroup\": \"True\", \"bingroup\": \"x\", \"hoverlabel\": {\"namelength\": 0}, \"hovertemplate\": \"label=%{x}<br>count=%{y}\", \"legendgroup\": \"label=GPE\", \"marker\": {\"color\": \"#FF6692\"}, \"name\": \"label=GPE\", \"offsetgroup\": \"label=GPE\", \"orientation\": \"v\", \"showlegend\": true, \"type\": \"histogram\", \"x\": [\"GPE\", \"GPE\", \"GPE\", \"GPE\", \"GPE\", \"GPE\", \"GPE\", \"GPE\", \"GPE\", \"GPE\", \"GPE\", \"GPE\", \"GPE\", \"GPE\", \"GPE\", \"GPE\", \"GPE\", \"GPE\", \"GPE\", \"GPE\", \"GPE\", \"GPE\", \"GPE\", \"GPE\", \"GPE\", \"GPE\", \"GPE\", \"GPE\", \"GPE\", \"GPE\", \"GPE\", \"GPE\", \"GPE\", \"GPE\", \"GPE\", \"GPE\", \"GPE\", \"GPE\", \"GPE\", \"GPE\", \"GPE\", \"GPE\", \"GPE\", \"GPE\", \"GPE\", \"GPE\", \"GPE\", \"GPE\", \"GPE\", \"GPE\", \"GPE\", \"GPE\", \"GPE\", \"GPE\", \"GPE\", \"GPE\", \"GPE\", \"GPE\", \"GPE\", \"GPE\", \"GPE\", \"GPE\", \"GPE\", \"GPE\", \"GPE\", \"GPE\", \"GPE\", \"GPE\", \"GPE\", \"GPE\", \"GPE\", \"GPE\", \"GPE\", \"GPE\", \"GPE\", \"GPE\", \"GPE\", \"GPE\", \"GPE\", \"GPE\", \"GPE\", \"GPE\", \"GPE\", \"GPE\", \"GPE\", \"GPE\", \"GPE\", \"GPE\", \"GPE\", \"GPE\", \"GPE\", \"GPE\", \"GPE\", \"GPE\", \"GPE\", \"GPE\", \"GPE\", \"GPE\", \"GPE\", \"GPE\", \"GPE\", \"GPE\", \"GPE\", \"GPE\", \"GPE\", \"GPE\", \"GPE\", \"GPE\", \"GPE\", \"GPE\", \"GPE\", \"GPE\", \"GPE\", \"GPE\", \"GPE\", \"GPE\", \"GPE\", \"GPE\", \"GPE\", \"GPE\", \"GPE\", \"GPE\", \"GPE\", \"GPE\", \"GPE\", \"GPE\", \"GPE\", \"GPE\", \"GPE\", \"GPE\", \"GPE\", \"GPE\", \"GPE\", \"GPE\", \"GPE\", \"GPE\", \"GPE\", \"GPE\", \"GPE\", \"GPE\", \"GPE\", \"GPE\", \"GPE\", \"GPE\", \"GPE\", \"GPE\", \"GPE\", \"GPE\", \"GPE\", \"GPE\", \"GPE\", \"GPE\", \"GPE\", \"GPE\", \"GPE\", \"GPE\", \"GPE\", \"GPE\", \"GPE\", \"GPE\", \"GPE\", \"GPE\", \"GPE\", \"GPE\", \"GPE\", \"GPE\", \"GPE\", \"GPE\", \"GPE\", \"GPE\", \"GPE\", \"GPE\", \"GPE\", \"GPE\", \"GPE\", \"GPE\", \"GPE\", \"GPE\", \"GPE\", \"GPE\", \"GPE\", \"GPE\", \"GPE\", \"GPE\", \"GPE\", \"GPE\", \"GPE\", \"GPE\", \"GPE\", \"GPE\", \"GPE\", \"GPE\", \"GPE\", \"GPE\", \"GPE\", \"GPE\", \"GPE\", \"GPE\", \"GPE\", \"GPE\", \"GPE\", \"GPE\", \"GPE\", \"GPE\", \"GPE\", \"GPE\", \"GPE\", \"GPE\", \"GPE\", \"GPE\", \"GPE\", \"GPE\", \"GPE\", \"GPE\", \"GPE\", \"GPE\", \"GPE\", \"GPE\", \"GPE\", \"GPE\", \"GPE\", \"GPE\", \"GPE\", \"GPE\", \"GPE\", \"GPE\", \"GPE\", \"GPE\", \"GPE\", \"GPE\", \"GPE\", \"GPE\", \"GPE\", \"GPE\", \"GPE\", \"GPE\", \"GPE\", \"GPE\", \"GPE\", \"GPE\", \"GPE\", \"GPE\", \"GPE\", \"GPE\", \"GPE\", \"GPE\", \"GPE\", \"GPE\", \"GPE\", \"GPE\", \"GPE\", \"GPE\", \"GPE\", \"GPE\", \"GPE\", \"GPE\", \"GPE\", \"GPE\", \"GPE\", \"GPE\", \"GPE\", \"GPE\", \"GPE\", \"GPE\", \"GPE\", \"GPE\", \"GPE\", \"GPE\", \"GPE\", \"GPE\", \"GPE\", \"GPE\", \"GPE\", \"GPE\", \"GPE\", \"GPE\", \"GPE\", \"GPE\", \"GPE\", \"GPE\", \"GPE\", \"GPE\", \"GPE\", \"GPE\", \"GPE\", \"GPE\", \"GPE\", \"GPE\", \"GPE\", \"GPE\", \"GPE\", \"GPE\", \"GPE\", \"GPE\", \"GPE\", \"GPE\", \"GPE\", \"GPE\", \"GPE\", \"GPE\", \"GPE\", \"GPE\", \"GPE\", \"GPE\", \"GPE\", \"GPE\", \"GPE\", \"GPE\", \"GPE\", \"GPE\", \"GPE\", \"GPE\", \"GPE\", \"GPE\", \"GPE\", \"GPE\", \"GPE\", \"GPE\", \"GPE\", \"GPE\", \"GPE\", \"GPE\", \"GPE\", \"GPE\", \"GPE\", \"GPE\", \"GPE\", \"GPE\", \"GPE\", \"GPE\", \"GPE\", \"GPE\", \"GPE\", \"GPE\", \"GPE\", \"GPE\", \"GPE\", \"GPE\", \"GPE\", \"GPE\", \"GPE\", \"GPE\", \"GPE\", \"GPE\", \"GPE\", \"GPE\", \"GPE\", \"GPE\", \"GPE\", \"GPE\", \"GPE\", \"GPE\", \"GPE\", \"GPE\", \"GPE\", \"GPE\", \"GPE\", \"GPE\", \"GPE\", \"GPE\", \"GPE\", \"GPE\", \"GPE\", \"GPE\", \"GPE\", \"GPE\", \"GPE\", \"GPE\", \"GPE\", \"GPE\", \"GPE\", \"GPE\", \"GPE\", \"GPE\", \"GPE\", \"GPE\", \"GPE\", \"GPE\", \"GPE\", \"GPE\", \"GPE\", \"GPE\", \"GPE\", \"GPE\", \"GPE\", \"GPE\", \"GPE\", \"GPE\", \"GPE\", \"GPE\", \"GPE\", \"GPE\", \"GPE\", \"GPE\", \"GPE\", \"GPE\", \"GPE\", \"GPE\", \"GPE\", \"GPE\", \"GPE\", \"GPE\", \"GPE\", \"GPE\", \"GPE\", \"GPE\", \"GPE\", \"GPE\", \"GPE\", \"GPE\", \"GPE\", \"GPE\", \"GPE\", \"GPE\", \"GPE\", \"GPE\", \"GPE\", \"GPE\", \"GPE\", \"GPE\", \"GPE\", \"GPE\", \"GPE\", \"GPE\", \"GPE\", \"GPE\", \"GPE\", \"GPE\", \"GPE\", \"GPE\", \"GPE\", \"GPE\", \"GPE\", \"GPE\", \"GPE\", \"GPE\", \"GPE\", \"GPE\", \"GPE\", \"GPE\", \"GPE\", \"GPE\", \"GPE\", \"GPE\", \"GPE\", \"GPE\", \"GPE\", \"GPE\", \"GPE\", \"GPE\", \"GPE\", \"GPE\", \"GPE\", \"GPE\", \"GPE\", \"GPE\", \"GPE\", \"GPE\", \"GPE\", \"GPE\", \"GPE\", \"GPE\", \"GPE\", \"GPE\", \"GPE\", \"GPE\", \"GPE\", \"GPE\", \"GPE\", \"GPE\", \"GPE\", \"GPE\", \"GPE\", \"GPE\", \"GPE\", \"GPE\", \"GPE\", \"GPE\", \"GPE\", \"GPE\", \"GPE\", \"GPE\", \"GPE\", \"GPE\", \"GPE\", \"GPE\", \"GPE\", \"GPE\", \"GPE\", \"GPE\", \"GPE\", \"GPE\", \"GPE\", \"GPE\", \"GPE\", \"GPE\", \"GPE\", \"GPE\", \"GPE\", \"GPE\", \"GPE\", \"GPE\", \"GPE\", \"GPE\", \"GPE\", \"GPE\", \"GPE\", \"GPE\", \"GPE\", \"GPE\", \"GPE\", \"GPE\", \"GPE\", \"GPE\", \"GPE\", \"GPE\", \"GPE\", \"GPE\", \"GPE\", \"GPE\", \"GPE\", \"GPE\", \"GPE\", \"GPE\", \"GPE\", \"GPE\", \"GPE\", \"GPE\", \"GPE\", \"GPE\", \"GPE\", \"GPE\", \"GPE\", \"GPE\", \"GPE\", \"GPE\", \"GPE\", \"GPE\", \"GPE\", \"GPE\", \"GPE\", \"GPE\", \"GPE\", \"GPE\", \"GPE\", \"GPE\", \"GPE\", \"GPE\", \"GPE\", \"GPE\", \"GPE\", \"GPE\", \"GPE\", \"GPE\", \"GPE\", \"GPE\", \"GPE\", \"GPE\", \"GPE\", \"GPE\", \"GPE\", \"GPE\", \"GPE\", \"GPE\", \"GPE\", \"GPE\", \"GPE\", \"GPE\", \"GPE\", \"GPE\", \"GPE\", \"GPE\", \"GPE\", \"GPE\", \"GPE\", \"GPE\", \"GPE\", \"GPE\", \"GPE\", \"GPE\", \"GPE\", \"GPE\", \"GPE\", \"GPE\", \"GPE\", \"GPE\", \"GPE\", \"GPE\", \"GPE\", \"GPE\", \"GPE\", \"GPE\", \"GPE\", \"GPE\", \"GPE\", \"GPE\", \"GPE\", \"GPE\", \"GPE\", \"GPE\", \"GPE\", \"GPE\", \"GPE\", \"GPE\", \"GPE\", \"GPE\", \"GPE\", \"GPE\", \"GPE\", \"GPE\", \"GPE\", \"GPE\", \"GPE\", \"GPE\", \"GPE\", \"GPE\", \"GPE\", \"GPE\", \"GPE\", \"GPE\", \"GPE\", \"GPE\", \"GPE\", \"GPE\", \"GPE\", \"GPE\", \"GPE\", \"GPE\", \"GPE\", \"GPE\", \"GPE\", \"GPE\", \"GPE\", \"GPE\", \"GPE\", \"GPE\", \"GPE\", \"GPE\", \"GPE\", \"GPE\", \"GPE\", \"GPE\", \"GPE\", \"GPE\", \"GPE\", \"GPE\", \"GPE\", \"GPE\", \"GPE\", \"GPE\", \"GPE\", \"GPE\", \"GPE\", \"GPE\", \"GPE\", \"GPE\", \"GPE\", \"GPE\", \"GPE\", \"GPE\", \"GPE\", \"GPE\", \"GPE\", \"GPE\", \"GPE\", \"GPE\", \"GPE\", \"GPE\", \"GPE\", \"GPE\", \"GPE\", \"GPE\", \"GPE\", \"GPE\", \"GPE\", \"GPE\", \"GPE\", \"GPE\", \"GPE\", \"GPE\", \"GPE\", \"GPE\", \"GPE\", \"GPE\", \"GPE\", \"GPE\", \"GPE\", \"GPE\", \"GPE\", \"GPE\", \"GPE\", \"GPE\", \"GPE\", \"GPE\", \"GPE\", \"GPE\", \"GPE\", \"GPE\", \"GPE\", \"GPE\", \"GPE\", \"GPE\", \"GPE\", \"GPE\", \"GPE\", \"GPE\", \"GPE\", \"GPE\", \"GPE\", \"GPE\", \"GPE\", \"GPE\", \"GPE\", \"GPE\", \"GPE\", \"GPE\", \"GPE\", \"GPE\", \"GPE\", \"GPE\", \"GPE\", \"GPE\", \"GPE\", \"GPE\", \"GPE\", \"GPE\", \"GPE\", \"GPE\", \"GPE\", \"GPE\", \"GPE\", \"GPE\", \"GPE\", \"GPE\", \"GPE\", \"GPE\", \"GPE\", \"GPE\", \"GPE\", \"GPE\", \"GPE\", \"GPE\", \"GPE\", \"GPE\", \"GPE\", \"GPE\", \"GPE\", \"GPE\", \"GPE\", \"GPE\", \"GPE\", \"GPE\", \"GPE\", \"GPE\", \"GPE\", \"GPE\", \"GPE\", \"GPE\", \"GPE\", \"GPE\", \"GPE\", \"GPE\", \"GPE\", \"GPE\", \"GPE\", \"GPE\", \"GPE\", \"GPE\", \"GPE\", \"GPE\", \"GPE\", \"GPE\", \"GPE\", \"GPE\", \"GPE\", \"GPE\", \"GPE\", \"GPE\", \"GPE\", \"GPE\", \"GPE\", \"GPE\", \"GPE\", \"GPE\", \"GPE\", \"GPE\", \"GPE\", \"GPE\", \"GPE\", \"GPE\", \"GPE\", \"GPE\", \"GPE\", \"GPE\", \"GPE\", \"GPE\", \"GPE\", \"GPE\", \"GPE\", \"GPE\", \"GPE\", \"GPE\", \"GPE\", \"GPE\", \"GPE\", \"GPE\", \"GPE\", \"GPE\", \"GPE\", \"GPE\", \"GPE\", \"GPE\", \"GPE\", \"GPE\", \"GPE\", \"GPE\", \"GPE\", \"GPE\", \"GPE\", \"GPE\", \"GPE\", \"GPE\", \"GPE\", \"GPE\", \"GPE\", \"GPE\", \"GPE\", \"GPE\", \"GPE\", \"GPE\", \"GPE\", \"GPE\", \"GPE\", \"GPE\", \"GPE\", \"GPE\", \"GPE\", \"GPE\", \"GPE\", \"GPE\", \"GPE\", \"GPE\", \"GPE\", \"GPE\", \"GPE\", \"GPE\", \"GPE\", \"GPE\", \"GPE\", \"GPE\", \"GPE\", \"GPE\", \"GPE\", \"GPE\", \"GPE\", \"GPE\", \"GPE\", \"GPE\", \"GPE\", \"GPE\", \"GPE\", \"GPE\", \"GPE\", \"GPE\", \"GPE\", \"GPE\", \"GPE\", \"GPE\", \"GPE\", \"GPE\", \"GPE\", \"GPE\", \"GPE\", \"GPE\", \"GPE\", \"GPE\", \"GPE\", \"GPE\", \"GPE\", \"GPE\", \"GPE\", \"GPE\", \"GPE\", \"GPE\", \"GPE\", \"GPE\", \"GPE\", \"GPE\", \"GPE\", \"GPE\", \"GPE\", \"GPE\", \"GPE\", \"GPE\", \"GPE\", \"GPE\", \"GPE\", \"GPE\", \"GPE\", \"GPE\", \"GPE\", \"GPE\", \"GPE\", \"GPE\", \"GPE\", \"GPE\", \"GPE\", \"GPE\", \"GPE\", \"GPE\", \"GPE\", \"GPE\", \"GPE\", \"GPE\", \"GPE\", \"GPE\", \"GPE\", \"GPE\", \"GPE\", \"GPE\", \"GPE\", \"GPE\", \"GPE\", \"GPE\", \"GPE\", \"GPE\", \"GPE\", \"GPE\", \"GPE\", \"GPE\", \"GPE\", \"GPE\", \"GPE\", \"GPE\", \"GPE\", \"GPE\", \"GPE\", \"GPE\", \"GPE\", \"GPE\", \"GPE\", \"GPE\", \"GPE\", \"GPE\", \"GPE\", \"GPE\", \"GPE\", \"GPE\", \"GPE\", \"GPE\", \"GPE\", \"GPE\", \"GPE\", \"GPE\", \"GPE\", \"GPE\", \"GPE\", \"GPE\", \"GPE\", \"GPE\", \"GPE\", \"GPE\", \"GPE\", \"GPE\", \"GPE\", \"GPE\", \"GPE\", \"GPE\", \"GPE\", \"GPE\", \"GPE\", \"GPE\", \"GPE\", \"GPE\", \"GPE\", \"GPE\", \"GPE\", \"GPE\", \"GPE\", \"GPE\", \"GPE\", \"GPE\", \"GPE\", \"GPE\", \"GPE\", \"GPE\", \"GPE\", \"GPE\", \"GPE\", \"GPE\", \"GPE\", \"GPE\", \"GPE\", \"GPE\", \"GPE\", \"GPE\", \"GPE\", \"GPE\", \"GPE\", \"GPE\", \"GPE\", \"GPE\", \"GPE\", \"GPE\", \"GPE\", \"GPE\", \"GPE\", \"GPE\", \"GPE\", \"GPE\", \"GPE\", \"GPE\", \"GPE\", \"GPE\", \"GPE\", \"GPE\", \"GPE\", \"GPE\", \"GPE\", \"GPE\", \"GPE\", \"GPE\", \"GPE\", \"GPE\", \"GPE\", \"GPE\", \"GPE\", \"GPE\", \"GPE\", \"GPE\", \"GPE\", \"GPE\", \"GPE\", \"GPE\", \"GPE\", \"GPE\", \"GPE\", \"GPE\", \"GPE\", \"GPE\", \"GPE\", \"GPE\", \"GPE\", \"GPE\", \"GPE\", \"GPE\", \"GPE\", \"GPE\", \"GPE\", \"GPE\", \"GPE\", \"GPE\", \"GPE\", \"GPE\", \"GPE\", \"GPE\", \"GPE\", \"GPE\", \"GPE\", \"GPE\", \"GPE\", \"GPE\", \"GPE\", \"GPE\", \"GPE\", \"GPE\", \"GPE\", \"GPE\", \"GPE\", \"GPE\", \"GPE\", \"GPE\", \"GPE\", \"GPE\", \"GPE\", \"GPE\", \"GPE\", \"GPE\", \"GPE\", \"GPE\", \"GPE\", \"GPE\", \"GPE\", \"GPE\", \"GPE\", \"GPE\", \"GPE\", \"GPE\", \"GPE\", \"GPE\", \"GPE\", \"GPE\", \"GPE\", \"GPE\", \"GPE\", \"GPE\", \"GPE\", \"GPE\", \"GPE\", \"GPE\", \"GPE\", \"GPE\", \"GPE\", \"GPE\", \"GPE\", \"GPE\", \"GPE\", \"GPE\", \"GPE\", \"GPE\", \"GPE\", \"GPE\", \"GPE\", \"GPE\", \"GPE\", \"GPE\", \"GPE\", \"GPE\", \"GPE\", \"GPE\", \"GPE\", \"GPE\", \"GPE\", \"GPE\", \"GPE\", \"GPE\", \"GPE\", \"GPE\", \"GPE\", \"GPE\", \"GPE\", \"GPE\", \"GPE\", \"GPE\", \"GPE\", \"GPE\", \"GPE\", \"GPE\", \"GPE\", \"GPE\", \"GPE\", \"GPE\", \"GPE\", \"GPE\", \"GPE\", \"GPE\", \"GPE\", \"GPE\", \"GPE\", \"GPE\", \"GPE\", \"GPE\", \"GPE\", \"GPE\", \"GPE\", \"GPE\", \"GPE\", \"GPE\", \"GPE\", \"GPE\", \"GPE\", \"GPE\", \"GPE\", \"GPE\", \"GPE\", \"GPE\", \"GPE\", \"GPE\", \"GPE\", \"GPE\", \"GPE\", \"GPE\", \"GPE\", \"GPE\", \"GPE\", \"GPE\", \"GPE\", \"GPE\", \"GPE\", \"GPE\", \"GPE\", \"GPE\", \"GPE\", \"GPE\", \"GPE\", \"GPE\", \"GPE\", \"GPE\", \"GPE\", \"GPE\", \"GPE\", \"GPE\", \"GPE\", \"GPE\", \"GPE\", \"GPE\", \"GPE\", \"GPE\", \"GPE\", \"GPE\", \"GPE\", \"GPE\", \"GPE\", \"GPE\", \"GPE\", \"GPE\", \"GPE\", \"GPE\", \"GPE\", \"GPE\", \"GPE\", \"GPE\", \"GPE\", \"GPE\", \"GPE\", \"GPE\", \"GPE\", \"GPE\", \"GPE\", \"GPE\", \"GPE\", \"GPE\", \"GPE\", \"GPE\", \"GPE\", \"GPE\", \"GPE\", \"GPE\", \"GPE\", \"GPE\", \"GPE\", \"GPE\", \"GPE\", \"GPE\", \"GPE\", \"GPE\", \"GPE\", \"GPE\", \"GPE\", \"GPE\", \"GPE\", \"GPE\", \"GPE\", \"GPE\", \"GPE\", \"GPE\", \"GPE\", \"GPE\", \"GPE\", \"GPE\", \"GPE\", \"GPE\", \"GPE\", \"GPE\", \"GPE\", \"GPE\", \"GPE\", \"GPE\", \"GPE\", \"GPE\", \"GPE\", \"GPE\", \"GPE\", \"GPE\", \"GPE\", \"GPE\", \"GPE\", \"GPE\", \"GPE\", \"GPE\", \"GPE\", \"GPE\", \"GPE\", \"GPE\", \"GPE\", \"GPE\", \"GPE\", \"GPE\", \"GPE\", \"GPE\", \"GPE\", \"GPE\", \"GPE\", \"GPE\", \"GPE\", \"GPE\", \"GPE\", \"GPE\", \"GPE\", \"GPE\", \"GPE\", \"GPE\", \"GPE\", \"GPE\", \"GPE\", \"GPE\", \"GPE\", \"GPE\", \"GPE\", \"GPE\", \"GPE\", \"GPE\", \"GPE\", \"GPE\", \"GPE\", \"GPE\", \"GPE\", \"GPE\", \"GPE\", \"GPE\", \"GPE\", \"GPE\", \"GPE\", \"GPE\", \"GPE\", \"GPE\", \"GPE\", \"GPE\", \"GPE\", \"GPE\", \"GPE\", \"GPE\", \"GPE\", \"GPE\", \"GPE\", \"GPE\", \"GPE\", \"GPE\", \"GPE\", \"GPE\", \"GPE\", \"GPE\", \"GPE\", \"GPE\", \"GPE\", \"GPE\", \"GPE\", \"GPE\", \"GPE\", \"GPE\", \"GPE\", \"GPE\", \"GPE\", \"GPE\", \"GPE\", \"GPE\", \"GPE\", \"GPE\", \"GPE\", \"GPE\", \"GPE\", \"GPE\", \"GPE\", \"GPE\", \"GPE\", \"GPE\", \"GPE\", \"GPE\", \"GPE\", \"GPE\", \"GPE\", \"GPE\", \"GPE\", \"GPE\", \"GPE\", \"GPE\", \"GPE\", \"GPE\", \"GPE\", \"GPE\", \"GPE\", \"GPE\", \"GPE\", \"GPE\", \"GPE\", \"GPE\", \"GPE\", \"GPE\", \"GPE\", \"GPE\", \"GPE\", \"GPE\", \"GPE\", \"GPE\", \"GPE\", \"GPE\", \"GPE\", \"GPE\", \"GPE\", \"GPE\", \"GPE\", \"GPE\", \"GPE\", \"GPE\", \"GPE\", \"GPE\", \"GPE\", \"GPE\", \"GPE\", \"GPE\", \"GPE\", \"GPE\", \"GPE\", \"GPE\", \"GPE\", \"GPE\", \"GPE\", \"GPE\", \"GPE\", \"GPE\", \"GPE\", \"GPE\", \"GPE\", \"GPE\", \"GPE\", \"GPE\", \"GPE\", \"GPE\", \"GPE\", \"GPE\", \"GPE\", \"GPE\", \"GPE\", \"GPE\", \"GPE\", \"GPE\", \"GPE\", \"GPE\", \"GPE\", \"GPE\", \"GPE\", \"GPE\", \"GPE\", \"GPE\", \"GPE\", \"GPE\", \"GPE\", \"GPE\", \"GPE\", \"GPE\", \"GPE\", \"GPE\", \"GPE\", \"GPE\", \"GPE\", \"GPE\", \"GPE\", \"GPE\", \"GPE\", \"GPE\", \"GPE\", \"GPE\", \"GPE\", \"GPE\", \"GPE\", \"GPE\", \"GPE\", \"GPE\", \"GPE\", \"GPE\", \"GPE\", \"GPE\", \"GPE\", \"GPE\", \"GPE\", \"GPE\"], \"xaxis\": \"x\", \"yaxis\": \"y\"}, {\"alignmentgroup\": \"True\", \"bingroup\": \"x\", \"hoverlabel\": {\"namelength\": 0}, \"hovertemplate\": \"label=%{x}<br>count=%{y}\", \"legendgroup\": \"label=LANGUAGE\", \"marker\": {\"color\": \"#B6E880\"}, \"name\": \"label=LANGUAGE\", \"offsetgroup\": \"label=LANGUAGE\", \"orientation\": \"v\", \"showlegend\": true, \"type\": \"histogram\", \"x\": [\"LANGUAGE\", \"LANGUAGE\", \"LANGUAGE\", \"LANGUAGE\", \"LANGUAGE\", \"LANGUAGE\", \"LANGUAGE\", \"LANGUAGE\", \"LANGUAGE\", \"LANGUAGE\", \"LANGUAGE\", \"LANGUAGE\", \"LANGUAGE\", \"LANGUAGE\", \"LANGUAGE\", \"LANGUAGE\", \"LANGUAGE\", \"LANGUAGE\", \"LANGUAGE\", \"LANGUAGE\", \"LANGUAGE\", \"LANGUAGE\", \"LANGUAGE\", \"LANGUAGE\", \"LANGUAGE\", \"LANGUAGE\", \"LANGUAGE\", \"LANGUAGE\", \"LANGUAGE\", \"LANGUAGE\", \"LANGUAGE\", \"LANGUAGE\", \"LANGUAGE\", \"LANGUAGE\", \"LANGUAGE\", \"LANGUAGE\", \"LANGUAGE\", \"LANGUAGE\", \"LANGUAGE\", \"LANGUAGE\", \"LANGUAGE\", \"LANGUAGE\", \"LANGUAGE\", \"LANGUAGE\", \"LANGUAGE\", \"LANGUAGE\", \"LANGUAGE\", \"LANGUAGE\"], \"xaxis\": \"x\", \"yaxis\": \"y\"}, {\"alignmentgroup\": \"True\", \"bingroup\": \"x\", \"hoverlabel\": {\"namelength\": 0}, \"hovertemplate\": \"label=%{x}<br>count=%{y}\", \"legendgroup\": \"label=FAC\", \"marker\": {\"color\": \"#FF97FF\"}, \"name\": \"label=FAC\", \"offsetgroup\": \"label=FAC\", \"orientation\": \"v\", \"showlegend\": true, \"type\": \"histogram\", \"x\": [\"FAC\", \"FAC\", \"FAC\", \"FAC\", \"FAC\", \"FAC\", \"FAC\", \"FAC\", \"FAC\", \"FAC\", \"FAC\", \"FAC\", \"FAC\", \"FAC\", \"FAC\", \"FAC\", \"FAC\", \"FAC\", \"FAC\", \"FAC\", \"FAC\", \"FAC\", \"FAC\", \"FAC\", \"FAC\", \"FAC\", \"FAC\", \"FAC\", \"FAC\", \"FAC\", \"FAC\", \"FAC\", \"FAC\", \"FAC\", \"FAC\", \"FAC\", \"FAC\", \"FAC\", \"FAC\", \"FAC\", \"FAC\", \"FAC\", \"FAC\", \"FAC\", \"FAC\", \"FAC\", \"FAC\", \"FAC\", \"FAC\", \"FAC\", \"FAC\", \"FAC\", \"FAC\", \"FAC\", \"FAC\", \"FAC\", \"FAC\", \"FAC\", \"FAC\", \"FAC\", \"FAC\", \"FAC\", \"FAC\", \"FAC\", \"FAC\", \"FAC\", \"FAC\", \"FAC\", \"FAC\", \"FAC\", \"FAC\", \"FAC\", \"FAC\", \"FAC\", \"FAC\", \"FAC\", \"FAC\", \"FAC\", \"FAC\", \"FAC\", \"FAC\", \"FAC\", \"FAC\", \"FAC\", \"FAC\", \"FAC\", \"FAC\", \"FAC\", \"FAC\", \"FAC\", \"FAC\", \"FAC\", \"FAC\", \"FAC\", \"FAC\", \"FAC\", \"FAC\", \"FAC\", \"FAC\", \"FAC\", \"FAC\", \"FAC\", \"FAC\", \"FAC\", \"FAC\", \"FAC\", \"FAC\", \"FAC\", \"FAC\", \"FAC\", \"FAC\", \"FAC\", \"FAC\", \"FAC\", \"FAC\", \"FAC\", \"FAC\", \"FAC\", \"FAC\", \"FAC\", \"FAC\", \"FAC\", \"FAC\", \"FAC\", \"FAC\", \"FAC\", \"FAC\", \"FAC\", \"FAC\", \"FAC\", \"FAC\", \"FAC\", \"FAC\", \"FAC\", \"FAC\", \"FAC\", \"FAC\", \"FAC\", \"FAC\", \"FAC\", \"FAC\", \"FAC\", \"FAC\", \"FAC\", \"FAC\", \"FAC\", \"FAC\", \"FAC\", \"FAC\", \"FAC\", \"FAC\", \"FAC\", \"FAC\", \"FAC\", \"FAC\", \"FAC\", \"FAC\", \"FAC\", \"FAC\", \"FAC\", \"FAC\", \"FAC\", \"FAC\", \"FAC\", \"FAC\", \"FAC\", \"FAC\", \"FAC\", \"FAC\", \"FAC\", \"FAC\", \"FAC\", \"FAC\", \"FAC\", \"FAC\", \"FAC\", \"FAC\", \"FAC\", \"FAC\", \"FAC\", \"FAC\", \"FAC\", \"FAC\", \"FAC\", \"FAC\", \"FAC\", \"FAC\", \"FAC\", \"FAC\", \"FAC\", \"FAC\", \"FAC\", \"FAC\", \"FAC\", \"FAC\", \"FAC\", \"FAC\", \"FAC\", \"FAC\", \"FAC\", \"FAC\", \"FAC\", \"FAC\", \"FAC\", \"FAC\", \"FAC\", \"FAC\", \"FAC\", \"FAC\", \"FAC\", \"FAC\", \"FAC\", \"FAC\", \"FAC\", \"FAC\", \"FAC\", \"FAC\", \"FAC\", \"FAC\", \"FAC\", \"FAC\", \"FAC\", \"FAC\", \"FAC\", \"FAC\", \"FAC\", \"FAC\", \"FAC\", \"FAC\", \"FAC\", \"FAC\", \"FAC\", \"FAC\", \"FAC\", \"FAC\", \"FAC\", \"FAC\", \"FAC\", \"FAC\", \"FAC\", \"FAC\", \"FAC\", \"FAC\", \"FAC\", \"FAC\", \"FAC\", \"FAC\", \"FAC\", \"FAC\", \"FAC\", \"FAC\", \"FAC\", \"FAC\", \"FAC\", \"FAC\", \"FAC\", \"FAC\", \"FAC\", \"FAC\", \"FAC\", \"FAC\", \"FAC\", \"FAC\", \"FAC\", \"FAC\", \"FAC\"], \"xaxis\": \"x\", \"yaxis\": \"y\"}, {\"alignmentgroup\": \"True\", \"bingroup\": \"x\", \"hoverlabel\": {\"namelength\": 0}, \"hovertemplate\": \"label=%{x}<br>count=%{y}\", \"legendgroup\": \"label=PRODUCT\", \"marker\": {\"color\": \"#FECB52\"}, \"name\": \"label=PRODUCT\", \"offsetgroup\": \"label=PRODUCT\", \"orientation\": \"v\", \"showlegend\": true, \"type\": \"histogram\", \"x\": [\"PRODUCT\", \"PRODUCT\", \"PRODUCT\", \"PRODUCT\", \"PRODUCT\", \"PRODUCT\", \"PRODUCT\", \"PRODUCT\", \"PRODUCT\", \"PRODUCT\", \"PRODUCT\", \"PRODUCT\", \"PRODUCT\", \"PRODUCT\", \"PRODUCT\", \"PRODUCT\", \"PRODUCT\", \"PRODUCT\", \"PRODUCT\", \"PRODUCT\", \"PRODUCT\", \"PRODUCT\", \"PRODUCT\", \"PRODUCT\", \"PRODUCT\", \"PRODUCT\", \"PRODUCT\", \"PRODUCT\", \"PRODUCT\", \"PRODUCT\", \"PRODUCT\", \"PRODUCT\", \"PRODUCT\", \"PRODUCT\", \"PRODUCT\", \"PRODUCT\", \"PRODUCT\", \"PRODUCT\", \"PRODUCT\", \"PRODUCT\", \"PRODUCT\", \"PRODUCT\", \"PRODUCT\", \"PRODUCT\", \"PRODUCT\", \"PRODUCT\", \"PRODUCT\", \"PRODUCT\", \"PRODUCT\", \"PRODUCT\", \"PRODUCT\", \"PRODUCT\", \"PRODUCT\", \"PRODUCT\", \"PRODUCT\", \"PRODUCT\", \"PRODUCT\", \"PRODUCT\", \"PRODUCT\", \"PRODUCT\", \"PRODUCT\", \"PRODUCT\", \"PRODUCT\", \"PRODUCT\", \"PRODUCT\", \"PRODUCT\", \"PRODUCT\", \"PRODUCT\", \"PRODUCT\", \"PRODUCT\", \"PRODUCT\", \"PRODUCT\", \"PRODUCT\", \"PRODUCT\", \"PRODUCT\", \"PRODUCT\", \"PRODUCT\", \"PRODUCT\", \"PRODUCT\", \"PRODUCT\", \"PRODUCT\", \"PRODUCT\", \"PRODUCT\", \"PRODUCT\", \"PRODUCT\", \"PRODUCT\", \"PRODUCT\", \"PRODUCT\", \"PRODUCT\", \"PRODUCT\", \"PRODUCT\", \"PRODUCT\", \"PRODUCT\", \"PRODUCT\", \"PRODUCT\", \"PRODUCT\", \"PRODUCT\", \"PRODUCT\", \"PRODUCT\", \"PRODUCT\", \"PRODUCT\", \"PRODUCT\", \"PRODUCT\", \"PRODUCT\", \"PRODUCT\", \"PRODUCT\", \"PRODUCT\", \"PRODUCT\", \"PRODUCT\", \"PRODUCT\", \"PRODUCT\", \"PRODUCT\", \"PRODUCT\", \"PRODUCT\", \"PRODUCT\", \"PRODUCT\", \"PRODUCT\", \"PRODUCT\", \"PRODUCT\", \"PRODUCT\", \"PRODUCT\", \"PRODUCT\", \"PRODUCT\", \"PRODUCT\", \"PRODUCT\", \"PRODUCT\", \"PRODUCT\", \"PRODUCT\", \"PRODUCT\", \"PRODUCT\", \"PRODUCT\", \"PRODUCT\", \"PRODUCT\", \"PRODUCT\", \"PRODUCT\", \"PRODUCT\", \"PRODUCT\", \"PRODUCT\", \"PRODUCT\", \"PRODUCT\", \"PRODUCT\", \"PRODUCT\", \"PRODUCT\", \"PRODUCT\", \"PRODUCT\", \"PRODUCT\", \"PRODUCT\", \"PRODUCT\", \"PRODUCT\", \"PRODUCT\", \"PRODUCT\", \"PRODUCT\", \"PRODUCT\", \"PRODUCT\"], \"xaxis\": \"x\", \"yaxis\": \"y\"}, {\"alignmentgroup\": \"True\", \"bingroup\": \"x\", \"hoverlabel\": {\"namelength\": 0}, \"hovertemplate\": \"label=%{x}<br>count=%{y}\", \"legendgroup\": \"label=LOC\", \"marker\": {\"color\": \"#636efa\"}, \"name\": \"label=LOC\", \"offsetgroup\": \"label=LOC\", \"orientation\": \"v\", \"showlegend\": true, \"type\": \"histogram\", \"x\": [\"LOC\", \"LOC\", \"LOC\", \"LOC\", \"LOC\", \"LOC\", \"LOC\", \"LOC\", \"LOC\", \"LOC\", \"LOC\", \"LOC\", \"LOC\", \"LOC\", \"LOC\", \"LOC\", \"LOC\", \"LOC\", \"LOC\", \"LOC\", \"LOC\", \"LOC\", \"LOC\", \"LOC\", \"LOC\", \"LOC\", \"LOC\", \"LOC\", \"LOC\", \"LOC\", \"LOC\", \"LOC\", \"LOC\", \"LOC\", \"LOC\", \"LOC\", \"LOC\", \"LOC\", \"LOC\", \"LOC\", \"LOC\", \"LOC\", \"LOC\", \"LOC\", \"LOC\", \"LOC\", \"LOC\", \"LOC\", \"LOC\", \"LOC\", \"LOC\", \"LOC\", \"LOC\", \"LOC\", \"LOC\", \"LOC\", \"LOC\", \"LOC\", \"LOC\", \"LOC\", \"LOC\", \"LOC\", \"LOC\", \"LOC\", \"LOC\", \"LOC\", \"LOC\", \"LOC\", \"LOC\", \"LOC\", \"LOC\", \"LOC\", \"LOC\", \"LOC\", \"LOC\", \"LOC\", \"LOC\", \"LOC\", \"LOC\", \"LOC\", \"LOC\", \"LOC\", \"LOC\", \"LOC\", \"LOC\", \"LOC\", \"LOC\", \"LOC\", \"LOC\", \"LOC\", \"LOC\", \"LOC\", \"LOC\", \"LOC\", \"LOC\", \"LOC\", \"LOC\", \"LOC\", \"LOC\", \"LOC\", \"LOC\", \"LOC\", \"LOC\", \"LOC\", \"LOC\", \"LOC\", \"LOC\", \"LOC\", \"LOC\", \"LOC\", \"LOC\", \"LOC\", \"LOC\", \"LOC\", \"LOC\", \"LOC\", \"LOC\", \"LOC\", \"LOC\", \"LOC\", \"LOC\", \"LOC\", \"LOC\", \"LOC\", \"LOC\", \"LOC\", \"LOC\", \"LOC\", \"LOC\", \"LOC\", \"LOC\", \"LOC\", \"LOC\", \"LOC\", \"LOC\", \"LOC\", \"LOC\", \"LOC\", \"LOC\", \"LOC\", \"LOC\", \"LOC\", \"LOC\", \"LOC\", \"LOC\", \"LOC\", \"LOC\", \"LOC\", \"LOC\", \"LOC\", \"LOC\", \"LOC\", \"LOC\", \"LOC\", \"LOC\", \"LOC\", \"LOC\", \"LOC\", \"LOC\", \"LOC\", \"LOC\", \"LOC\", \"LOC\", \"LOC\", \"LOC\", \"LOC\", \"LOC\", \"LOC\", \"LOC\", \"LOC\", \"LOC\", \"LOC\", \"LOC\", \"LOC\", \"LOC\", \"LOC\", \"LOC\", \"LOC\", \"LOC\", \"LOC\", \"LOC\", \"LOC\", \"LOC\", \"LOC\", \"LOC\", \"LOC\", \"LOC\", \"LOC\", \"LOC\", \"LOC\", \"LOC\", \"LOC\", \"LOC\", \"LOC\", \"LOC\", \"LOC\", \"LOC\", \"LOC\", \"LOC\", \"LOC\", \"LOC\", \"LOC\", \"LOC\", \"LOC\", \"LOC\", \"LOC\", \"LOC\", \"LOC\", \"LOC\", \"LOC\", \"LOC\", \"LOC\", \"LOC\", \"LOC\", \"LOC\", \"LOC\", \"LOC\", \"LOC\", \"LOC\", \"LOC\", \"LOC\", \"LOC\", \"LOC\", \"LOC\", \"LOC\", \"LOC\", \"LOC\", \"LOC\", \"LOC\", \"LOC\", \"LOC\", \"LOC\", \"LOC\"], \"xaxis\": \"x\", \"yaxis\": \"y\"}, {\"alignmentgroup\": \"True\", \"bingroup\": \"x\", \"hoverlabel\": {\"namelength\": 0}, \"hovertemplate\": \"label=%{x}<br>count=%{y}\", \"legendgroup\": \"label=ORDINAL\", \"marker\": {\"color\": \"#EF553B\"}, \"name\": \"label=ORDINAL\", \"offsetgroup\": \"label=ORDINAL\", \"orientation\": \"v\", \"showlegend\": true, \"type\": \"histogram\", \"x\": [\"ORDINAL\", \"ORDINAL\", \"ORDINAL\", \"ORDINAL\", \"ORDINAL\", \"ORDINAL\", \"ORDINAL\", \"ORDINAL\", \"ORDINAL\", \"ORDINAL\", \"ORDINAL\", \"ORDINAL\", \"ORDINAL\", \"ORDINAL\", \"ORDINAL\", \"ORDINAL\", \"ORDINAL\", \"ORDINAL\", \"ORDINAL\", \"ORDINAL\", \"ORDINAL\", \"ORDINAL\", \"ORDINAL\", \"ORDINAL\", \"ORDINAL\", \"ORDINAL\", \"ORDINAL\", \"ORDINAL\", \"ORDINAL\", \"ORDINAL\", \"ORDINAL\", \"ORDINAL\", \"ORDINAL\", \"ORDINAL\", \"ORDINAL\", \"ORDINAL\", \"ORDINAL\", \"ORDINAL\", \"ORDINAL\", \"ORDINAL\", \"ORDINAL\", \"ORDINAL\", \"ORDINAL\", \"ORDINAL\", \"ORDINAL\", \"ORDINAL\", \"ORDINAL\", \"ORDINAL\", \"ORDINAL\", \"ORDINAL\", \"ORDINAL\", \"ORDINAL\", \"ORDINAL\", \"ORDINAL\", \"ORDINAL\", \"ORDINAL\", \"ORDINAL\", \"ORDINAL\", \"ORDINAL\", \"ORDINAL\", \"ORDINAL\", \"ORDINAL\", \"ORDINAL\", \"ORDINAL\", \"ORDINAL\", \"ORDINAL\", \"ORDINAL\", \"ORDINAL\", \"ORDINAL\", \"ORDINAL\", \"ORDINAL\", \"ORDINAL\", \"ORDINAL\", \"ORDINAL\", \"ORDINAL\", \"ORDINAL\", \"ORDINAL\", \"ORDINAL\", \"ORDINAL\", \"ORDINAL\", \"ORDINAL\", \"ORDINAL\", \"ORDINAL\", \"ORDINAL\", \"ORDINAL\", \"ORDINAL\", \"ORDINAL\", \"ORDINAL\", \"ORDINAL\", \"ORDINAL\", \"ORDINAL\", \"ORDINAL\", \"ORDINAL\", \"ORDINAL\", \"ORDINAL\", \"ORDINAL\", \"ORDINAL\", \"ORDINAL\", \"ORDINAL\", \"ORDINAL\", \"ORDINAL\", \"ORDINAL\", \"ORDINAL\", \"ORDINAL\", \"ORDINAL\", \"ORDINAL\", \"ORDINAL\", \"ORDINAL\", \"ORDINAL\", \"ORDINAL\", \"ORDINAL\", \"ORDINAL\", \"ORDINAL\", \"ORDINAL\", \"ORDINAL\", \"ORDINAL\", \"ORDINAL\", \"ORDINAL\", \"ORDINAL\", \"ORDINAL\", \"ORDINAL\", \"ORDINAL\", \"ORDINAL\", \"ORDINAL\", \"ORDINAL\", \"ORDINAL\", \"ORDINAL\", \"ORDINAL\", \"ORDINAL\", \"ORDINAL\", \"ORDINAL\", \"ORDINAL\", \"ORDINAL\", \"ORDINAL\", \"ORDINAL\", \"ORDINAL\", \"ORDINAL\", \"ORDINAL\", \"ORDINAL\", \"ORDINAL\", \"ORDINAL\", \"ORDINAL\", \"ORDINAL\", \"ORDINAL\", \"ORDINAL\", \"ORDINAL\", \"ORDINAL\", \"ORDINAL\", \"ORDINAL\", \"ORDINAL\", \"ORDINAL\", \"ORDINAL\", \"ORDINAL\", \"ORDINAL\", \"ORDINAL\", \"ORDINAL\", \"ORDINAL\", \"ORDINAL\", \"ORDINAL\", \"ORDINAL\", \"ORDINAL\", \"ORDINAL\", \"ORDINAL\", \"ORDINAL\", \"ORDINAL\", \"ORDINAL\", \"ORDINAL\", \"ORDINAL\", \"ORDINAL\", \"ORDINAL\", \"ORDINAL\", \"ORDINAL\", \"ORDINAL\", \"ORDINAL\", \"ORDINAL\", \"ORDINAL\", \"ORDINAL\", \"ORDINAL\", \"ORDINAL\", \"ORDINAL\", \"ORDINAL\", \"ORDINAL\", \"ORDINAL\", \"ORDINAL\", \"ORDINAL\", \"ORDINAL\", \"ORDINAL\", \"ORDINAL\", \"ORDINAL\", \"ORDINAL\", \"ORDINAL\", \"ORDINAL\", \"ORDINAL\", \"ORDINAL\", \"ORDINAL\", \"ORDINAL\", \"ORDINAL\", \"ORDINAL\", \"ORDINAL\", \"ORDINAL\", \"ORDINAL\", \"ORDINAL\", \"ORDINAL\", \"ORDINAL\", \"ORDINAL\", \"ORDINAL\", \"ORDINAL\", \"ORDINAL\", \"ORDINAL\", \"ORDINAL\", \"ORDINAL\", \"ORDINAL\", \"ORDINAL\", \"ORDINAL\", \"ORDINAL\", \"ORDINAL\", \"ORDINAL\", \"ORDINAL\", \"ORDINAL\", \"ORDINAL\", \"ORDINAL\", \"ORDINAL\", \"ORDINAL\", \"ORDINAL\", \"ORDINAL\", \"ORDINAL\", \"ORDINAL\", \"ORDINAL\", \"ORDINAL\", \"ORDINAL\", \"ORDINAL\", \"ORDINAL\", \"ORDINAL\", \"ORDINAL\", \"ORDINAL\", \"ORDINAL\", \"ORDINAL\", \"ORDINAL\", \"ORDINAL\", \"ORDINAL\", \"ORDINAL\", \"ORDINAL\", \"ORDINAL\", \"ORDINAL\", \"ORDINAL\", \"ORDINAL\", \"ORDINAL\", \"ORDINAL\", \"ORDINAL\", \"ORDINAL\", \"ORDINAL\", \"ORDINAL\", \"ORDINAL\", \"ORDINAL\", \"ORDINAL\", \"ORDINAL\", \"ORDINAL\", \"ORDINAL\", \"ORDINAL\", \"ORDINAL\", \"ORDINAL\", \"ORDINAL\", \"ORDINAL\", \"ORDINAL\", \"ORDINAL\", \"ORDINAL\", \"ORDINAL\", \"ORDINAL\", \"ORDINAL\", \"ORDINAL\", \"ORDINAL\", \"ORDINAL\", \"ORDINAL\", \"ORDINAL\", \"ORDINAL\", \"ORDINAL\", \"ORDINAL\", \"ORDINAL\", \"ORDINAL\", \"ORDINAL\", \"ORDINAL\", \"ORDINAL\", \"ORDINAL\", \"ORDINAL\", \"ORDINAL\", \"ORDINAL\", \"ORDINAL\", \"ORDINAL\", \"ORDINAL\", \"ORDINAL\", \"ORDINAL\", \"ORDINAL\", \"ORDINAL\", \"ORDINAL\", \"ORDINAL\", \"ORDINAL\", \"ORDINAL\", \"ORDINAL\", \"ORDINAL\", \"ORDINAL\", \"ORDINAL\", \"ORDINAL\", \"ORDINAL\", \"ORDINAL\", \"ORDINAL\", \"ORDINAL\", \"ORDINAL\", \"ORDINAL\", \"ORDINAL\", \"ORDINAL\", \"ORDINAL\", \"ORDINAL\", \"ORDINAL\", \"ORDINAL\", \"ORDINAL\", \"ORDINAL\", \"ORDINAL\", \"ORDINAL\", \"ORDINAL\", \"ORDINAL\", \"ORDINAL\", \"ORDINAL\", \"ORDINAL\", \"ORDINAL\", \"ORDINAL\", \"ORDINAL\", \"ORDINAL\", \"ORDINAL\", \"ORDINAL\", \"ORDINAL\", \"ORDINAL\", \"ORDINAL\", \"ORDINAL\", \"ORDINAL\", \"ORDINAL\", \"ORDINAL\", \"ORDINAL\", \"ORDINAL\", \"ORDINAL\", \"ORDINAL\", \"ORDINAL\", \"ORDINAL\", \"ORDINAL\", \"ORDINAL\", \"ORDINAL\", \"ORDINAL\", \"ORDINAL\", \"ORDINAL\", \"ORDINAL\", \"ORDINAL\", \"ORDINAL\", \"ORDINAL\", \"ORDINAL\", \"ORDINAL\", \"ORDINAL\", \"ORDINAL\", \"ORDINAL\", \"ORDINAL\", \"ORDINAL\", \"ORDINAL\", \"ORDINAL\", \"ORDINAL\", \"ORDINAL\", \"ORDINAL\", \"ORDINAL\", \"ORDINAL\", \"ORDINAL\", \"ORDINAL\", \"ORDINAL\", \"ORDINAL\", \"ORDINAL\", \"ORDINAL\", \"ORDINAL\", \"ORDINAL\", \"ORDINAL\", \"ORDINAL\", \"ORDINAL\", \"ORDINAL\", \"ORDINAL\", \"ORDINAL\", \"ORDINAL\", \"ORDINAL\", \"ORDINAL\", \"ORDINAL\", \"ORDINAL\", \"ORDINAL\", \"ORDINAL\", \"ORDINAL\", \"ORDINAL\"], \"xaxis\": \"x\", \"yaxis\": \"y\"}, {\"alignmentgroup\": \"True\", \"bingroup\": \"x\", \"hoverlabel\": {\"namelength\": 0}, \"hovertemplate\": \"label=%{x}<br>count=%{y}\", \"legendgroup\": \"label=EVENT\", \"marker\": {\"color\": \"#00cc96\"}, \"name\": \"label=EVENT\", \"offsetgroup\": \"label=EVENT\", \"orientation\": \"v\", \"showlegend\": true, \"type\": \"histogram\", \"x\": [\"EVENT\", \"EVENT\", \"EVENT\", \"EVENT\", \"EVENT\", \"EVENT\", \"EVENT\", \"EVENT\", \"EVENT\", \"EVENT\", \"EVENT\", \"EVENT\", \"EVENT\", \"EVENT\", \"EVENT\", \"EVENT\", \"EVENT\", \"EVENT\"], \"xaxis\": \"x\", \"yaxis\": \"y\"}, {\"alignmentgroup\": \"True\", \"bingroup\": \"x\", \"hoverlabel\": {\"namelength\": 0}, \"hovertemplate\": \"label=%{x}<br>count=%{y}\", \"legendgroup\": \"label=WORK_OF_ART\", \"marker\": {\"color\": \"#ab63fa\"}, \"name\": \"label=WORK_OF_ART\", \"offsetgroup\": \"label=WORK_OF_ART\", \"orientation\": \"v\", \"showlegend\": true, \"type\": \"histogram\", \"x\": [\"WORK_OF_ART\", \"WORK_OF_ART\", \"WORK_OF_ART\", \"WORK_OF_ART\", \"WORK_OF_ART\", \"WORK_OF_ART\", \"WORK_OF_ART\", \"WORK_OF_ART\", \"WORK_OF_ART\", \"WORK_OF_ART\", \"WORK_OF_ART\", \"WORK_OF_ART\", \"WORK_OF_ART\", \"WORK_OF_ART\", \"WORK_OF_ART\", \"WORK_OF_ART\", \"WORK_OF_ART\", \"WORK_OF_ART\", \"WORK_OF_ART\", \"WORK_OF_ART\", \"WORK_OF_ART\", \"WORK_OF_ART\", \"WORK_OF_ART\", \"WORK_OF_ART\", \"WORK_OF_ART\", \"WORK_OF_ART\", \"WORK_OF_ART\", \"WORK_OF_ART\", \"WORK_OF_ART\", \"WORK_OF_ART\", \"WORK_OF_ART\", \"WORK_OF_ART\", \"WORK_OF_ART\", \"WORK_OF_ART\", \"WORK_OF_ART\", \"WORK_OF_ART\", \"WORK_OF_ART\", \"WORK_OF_ART\", \"WORK_OF_ART\", \"WORK_OF_ART\", \"WORK_OF_ART\", \"WORK_OF_ART\", \"WORK_OF_ART\", \"WORK_OF_ART\", \"WORK_OF_ART\", \"WORK_OF_ART\", \"WORK_OF_ART\", \"WORK_OF_ART\", \"WORK_OF_ART\", \"WORK_OF_ART\", \"WORK_OF_ART\", \"WORK_OF_ART\", \"WORK_OF_ART\", \"WORK_OF_ART\", \"WORK_OF_ART\", \"WORK_OF_ART\", \"WORK_OF_ART\", \"WORK_OF_ART\", \"WORK_OF_ART\", \"WORK_OF_ART\", \"WORK_OF_ART\", \"WORK_OF_ART\", \"WORK_OF_ART\", \"WORK_OF_ART\", \"WORK_OF_ART\", \"WORK_OF_ART\", \"WORK_OF_ART\", \"WORK_OF_ART\", \"WORK_OF_ART\", \"WORK_OF_ART\", \"WORK_OF_ART\", \"WORK_OF_ART\", \"WORK_OF_ART\", \"WORK_OF_ART\", \"WORK_OF_ART\", \"WORK_OF_ART\", \"WORK_OF_ART\", \"WORK_OF_ART\", \"WORK_OF_ART\", \"WORK_OF_ART\", \"WORK_OF_ART\", \"WORK_OF_ART\", \"WORK_OF_ART\", \"WORK_OF_ART\", \"WORK_OF_ART\", \"WORK_OF_ART\", \"WORK_OF_ART\", \"WORK_OF_ART\", \"WORK_OF_ART\", \"WORK_OF_ART\", \"WORK_OF_ART\", \"WORK_OF_ART\", \"WORK_OF_ART\", \"WORK_OF_ART\", \"WORK_OF_ART\", \"WORK_OF_ART\", \"WORK_OF_ART\", \"WORK_OF_ART\", \"WORK_OF_ART\", \"WORK_OF_ART\", \"WORK_OF_ART\", \"WORK_OF_ART\"], \"xaxis\": \"x\", \"yaxis\": \"y\"}, {\"alignmentgroup\": \"True\", \"bingroup\": \"x\", \"hoverlabel\": {\"namelength\": 0}, \"hovertemplate\": \"label=%{x}<br>count=%{y}\", \"legendgroup\": \"label=QUANTITY\", \"marker\": {\"color\": \"#FFA15A\"}, \"name\": \"label=QUANTITY\", \"offsetgroup\": \"label=QUANTITY\", \"orientation\": \"v\", \"showlegend\": true, \"type\": \"histogram\", \"x\": [\"QUANTITY\", \"QUANTITY\", \"QUANTITY\", \"QUANTITY\", \"QUANTITY\", \"QUANTITY\", \"QUANTITY\", \"QUANTITY\", \"QUANTITY\", \"QUANTITY\", \"QUANTITY\", \"QUANTITY\", \"QUANTITY\", \"QUANTITY\", \"QUANTITY\", \"QUANTITY\", \"QUANTITY\", \"QUANTITY\", \"QUANTITY\", \"QUANTITY\", \"QUANTITY\", \"QUANTITY\", \"QUANTITY\", \"QUANTITY\", \"QUANTITY\", \"QUANTITY\", \"QUANTITY\", \"QUANTITY\", \"QUANTITY\", \"QUANTITY\", \"QUANTITY\", \"QUANTITY\", \"QUANTITY\", \"QUANTITY\", \"QUANTITY\", \"QUANTITY\", \"QUANTITY\", \"QUANTITY\", \"QUANTITY\", \"QUANTITY\", \"QUANTITY\", \"QUANTITY\", \"QUANTITY\", \"QUANTITY\", \"QUANTITY\", \"QUANTITY\", \"QUANTITY\", \"QUANTITY\", \"QUANTITY\", \"QUANTITY\", \"QUANTITY\", \"QUANTITY\", \"QUANTITY\", \"QUANTITY\", \"QUANTITY\", \"QUANTITY\", \"QUANTITY\", \"QUANTITY\", \"QUANTITY\", \"QUANTITY\", \"QUANTITY\", \"QUANTITY\", \"QUANTITY\", \"QUANTITY\", \"QUANTITY\", \"QUANTITY\", \"QUANTITY\", \"QUANTITY\", \"QUANTITY\", \"QUANTITY\", \"QUANTITY\", \"QUANTITY\", \"QUANTITY\", \"QUANTITY\", \"QUANTITY\", \"QUANTITY\", \"QUANTITY\", \"QUANTITY\", \"QUANTITY\", \"QUANTITY\", \"QUANTITY\", \"QUANTITY\", \"QUANTITY\", \"QUANTITY\", \"QUANTITY\", \"QUANTITY\", \"QUANTITY\", \"QUANTITY\", \"QUANTITY\", \"QUANTITY\", \"QUANTITY\", \"QUANTITY\", \"QUANTITY\", \"QUANTITY\", \"QUANTITY\", \"QUANTITY\", \"QUANTITY\", \"QUANTITY\", \"QUANTITY\", \"QUANTITY\", \"QUANTITY\", \"QUANTITY\", \"QUANTITY\", \"QUANTITY\", \"QUANTITY\", \"QUANTITY\", \"QUANTITY\", \"QUANTITY\", \"QUANTITY\", \"QUANTITY\", \"QUANTITY\", \"QUANTITY\", \"QUANTITY\"], \"xaxis\": \"x\", \"yaxis\": \"y\"}, {\"alignmentgroup\": \"True\", \"bingroup\": \"x\", \"hoverlabel\": {\"namelength\": 0}, \"hovertemplate\": \"label=%{x}<br>count=%{y}\", \"legendgroup\": \"label=MONEY\", \"marker\": {\"color\": \"#19d3f3\"}, \"name\": \"label=MONEY\", \"offsetgroup\": \"label=MONEY\", \"orientation\": \"v\", \"showlegend\": true, \"type\": \"histogram\", \"x\": [\"MONEY\", \"MONEY\", \"MONEY\", \"MONEY\", \"MONEY\", \"MONEY\", \"MONEY\", \"MONEY\", \"MONEY\", \"MONEY\", \"MONEY\", \"MONEY\", \"MONEY\", \"MONEY\", \"MONEY\", \"MONEY\", \"MONEY\", \"MONEY\", \"MONEY\", \"MONEY\", \"MONEY\", \"MONEY\", \"MONEY\", \"MONEY\", \"MONEY\", \"MONEY\", \"MONEY\", \"MONEY\", \"MONEY\", \"MONEY\", \"MONEY\", \"MONEY\", \"MONEY\", \"MONEY\", \"MONEY\", \"MONEY\", \"MONEY\", \"MONEY\", \"MONEY\", \"MONEY\", \"MONEY\", \"MONEY\", \"MONEY\", \"MONEY\", \"MONEY\", \"MONEY\", \"MONEY\"], \"xaxis\": \"x\", \"yaxis\": \"y\"}, {\"alignmentgroup\": \"True\", \"bingroup\": \"x\", \"hoverlabel\": {\"namelength\": 0}, \"hovertemplate\": \"label=%{x}<br>count=%{y}\", \"legendgroup\": \"label=LAW\", \"marker\": {\"color\": \"#FF6692\"}, \"name\": \"label=LAW\", \"offsetgroup\": \"label=LAW\", \"orientation\": \"v\", \"showlegend\": true, \"type\": \"histogram\", \"x\": [\"LAW\", \"LAW\", \"LAW\", \"LAW\", \"LAW\", \"LAW\", \"LAW\", \"LAW\", \"LAW\", \"LAW\", \"LAW\", \"LAW\", \"LAW\", \"LAW\"], \"xaxis\": \"x\", \"yaxis\": \"y\"}, {\"alignmentgroup\": \"True\", \"bingroup\": \"x\", \"hoverlabel\": {\"namelength\": 0}, \"hovertemplate\": \"label=%{x}<br>count=%{y}\", \"legendgroup\": \"label=PERCENT\", \"marker\": {\"color\": \"#B6E880\"}, \"name\": \"label=PERCENT\", \"offsetgroup\": \"label=PERCENT\", \"orientation\": \"v\", \"showlegend\": true, \"type\": \"histogram\", \"x\": [\"PERCENT\", \"PERCENT\", \"PERCENT\", \"PERCENT\", \"PERCENT\", \"PERCENT\"], \"xaxis\": \"x\", \"yaxis\": \"y\"}],\n",
              "                        {\"barmode\": \"relative\", \"legend\": {\"tracegroupgap\": 0}, \"margin\": {\"t\": 60}, \"template\": {\"data\": {\"bar\": [{\"error_x\": {\"color\": \"#2a3f5f\"}, \"error_y\": {\"color\": \"#2a3f5f\"}, \"marker\": {\"line\": {\"color\": \"#E5ECF6\", \"width\": 0.5}}, \"type\": \"bar\"}], \"barpolar\": [{\"marker\": {\"line\": {\"color\": \"#E5ECF6\", \"width\": 0.5}}, \"type\": \"barpolar\"}], \"carpet\": [{\"aaxis\": {\"endlinecolor\": \"#2a3f5f\", \"gridcolor\": \"white\", \"linecolor\": \"white\", \"minorgridcolor\": \"white\", \"startlinecolor\": \"#2a3f5f\"}, \"baxis\": {\"endlinecolor\": \"#2a3f5f\", \"gridcolor\": \"white\", \"linecolor\": \"white\", \"minorgridcolor\": \"white\", \"startlinecolor\": \"#2a3f5f\"}, \"type\": \"carpet\"}], \"choropleth\": [{\"colorbar\": {\"outlinewidth\": 0, \"ticks\": \"\"}, \"type\": \"choropleth\"}], \"contour\": [{\"colorbar\": {\"outlinewidth\": 0, \"ticks\": \"\"}, \"colorscale\": [[0.0, \"#0d0887\"], [0.1111111111111111, \"#46039f\"], [0.2222222222222222, \"#7201a8\"], [0.3333333333333333, \"#9c179e\"], [0.4444444444444444, \"#bd3786\"], [0.5555555555555556, \"#d8576b\"], [0.6666666666666666, \"#ed7953\"], [0.7777777777777778, \"#fb9f3a\"], [0.8888888888888888, \"#fdca26\"], [1.0, \"#f0f921\"]], \"type\": \"contour\"}], \"contourcarpet\": [{\"colorbar\": {\"outlinewidth\": 0, \"ticks\": \"\"}, \"type\": \"contourcarpet\"}], \"heatmap\": [{\"colorbar\": {\"outlinewidth\": 0, \"ticks\": \"\"}, \"colorscale\": [[0.0, \"#0d0887\"], [0.1111111111111111, \"#46039f\"], [0.2222222222222222, \"#7201a8\"], [0.3333333333333333, \"#9c179e\"], [0.4444444444444444, \"#bd3786\"], [0.5555555555555556, \"#d8576b\"], [0.6666666666666666, \"#ed7953\"], [0.7777777777777778, \"#fb9f3a\"], [0.8888888888888888, \"#fdca26\"], [1.0, \"#f0f921\"]], \"type\": \"heatmap\"}], \"heatmapgl\": [{\"colorbar\": {\"outlinewidth\": 0, \"ticks\": \"\"}, \"colorscale\": [[0.0, \"#0d0887\"], [0.1111111111111111, \"#46039f\"], [0.2222222222222222, \"#7201a8\"], [0.3333333333333333, \"#9c179e\"], [0.4444444444444444, \"#bd3786\"], [0.5555555555555556, \"#d8576b\"], [0.6666666666666666, \"#ed7953\"], [0.7777777777777778, \"#fb9f3a\"], [0.8888888888888888, \"#fdca26\"], [1.0, \"#f0f921\"]], \"type\": \"heatmapgl\"}], \"histogram\": [{\"marker\": {\"colorbar\": {\"outlinewidth\": 0, \"ticks\": \"\"}}, \"type\": \"histogram\"}], \"histogram2d\": [{\"colorbar\": {\"outlinewidth\": 0, \"ticks\": \"\"}, \"colorscale\": [[0.0, \"#0d0887\"], [0.1111111111111111, \"#46039f\"], [0.2222222222222222, \"#7201a8\"], [0.3333333333333333, \"#9c179e\"], [0.4444444444444444, \"#bd3786\"], [0.5555555555555556, \"#d8576b\"], [0.6666666666666666, \"#ed7953\"], [0.7777777777777778, \"#fb9f3a\"], [0.8888888888888888, \"#fdca26\"], [1.0, \"#f0f921\"]], \"type\": \"histogram2d\"}], \"histogram2dcontour\": [{\"colorbar\": {\"outlinewidth\": 0, \"ticks\": \"\"}, \"colorscale\": [[0.0, \"#0d0887\"], [0.1111111111111111, \"#46039f\"], [0.2222222222222222, \"#7201a8\"], [0.3333333333333333, \"#9c179e\"], [0.4444444444444444, \"#bd3786\"], [0.5555555555555556, \"#d8576b\"], [0.6666666666666666, \"#ed7953\"], [0.7777777777777778, \"#fb9f3a\"], [0.8888888888888888, \"#fdca26\"], [1.0, \"#f0f921\"]], \"type\": \"histogram2dcontour\"}], \"mesh3d\": [{\"colorbar\": {\"outlinewidth\": 0, \"ticks\": \"\"}, \"type\": \"mesh3d\"}], \"parcoords\": [{\"line\": {\"colorbar\": {\"outlinewidth\": 0, \"ticks\": \"\"}}, \"type\": \"parcoords\"}], \"pie\": [{\"automargin\": true, \"type\": \"pie\"}], \"scatter\": [{\"marker\": {\"colorbar\": {\"outlinewidth\": 0, \"ticks\": \"\"}}, \"type\": \"scatter\"}], \"scatter3d\": [{\"line\": {\"colorbar\": {\"outlinewidth\": 0, \"ticks\": \"\"}}, \"marker\": {\"colorbar\": {\"outlinewidth\": 0, \"ticks\": \"\"}}, \"type\": \"scatter3d\"}], \"scattercarpet\": [{\"marker\": {\"colorbar\": {\"outlinewidth\": 0, \"ticks\": \"\"}}, \"type\": \"scattercarpet\"}], \"scattergeo\": [{\"marker\": {\"colorbar\": {\"outlinewidth\": 0, \"ticks\": \"\"}}, \"type\": \"scattergeo\"}], \"scattergl\": [{\"marker\": {\"colorbar\": {\"outlinewidth\": 0, \"ticks\": \"\"}}, \"type\": \"scattergl\"}], \"scattermapbox\": [{\"marker\": {\"colorbar\": {\"outlinewidth\": 0, \"ticks\": \"\"}}, \"type\": \"scattermapbox\"}], \"scatterpolar\": [{\"marker\": {\"colorbar\": {\"outlinewidth\": 0, \"ticks\": \"\"}}, \"type\": \"scatterpolar\"}], \"scatterpolargl\": [{\"marker\": {\"colorbar\": {\"outlinewidth\": 0, \"ticks\": \"\"}}, \"type\": \"scatterpolargl\"}], \"scatterternary\": [{\"marker\": {\"colorbar\": {\"outlinewidth\": 0, \"ticks\": \"\"}}, \"type\": \"scatterternary\"}], \"surface\": [{\"colorbar\": {\"outlinewidth\": 0, \"ticks\": \"\"}, \"colorscale\": [[0.0, \"#0d0887\"], [0.1111111111111111, \"#46039f\"], [0.2222222222222222, \"#7201a8\"], [0.3333333333333333, \"#9c179e\"], [0.4444444444444444, \"#bd3786\"], [0.5555555555555556, \"#d8576b\"], [0.6666666666666666, \"#ed7953\"], [0.7777777777777778, \"#fb9f3a\"], [0.8888888888888888, \"#fdca26\"], [1.0, \"#f0f921\"]], \"type\": \"surface\"}], \"table\": [{\"cells\": {\"fill\": {\"color\": \"#EBF0F8\"}, \"line\": {\"color\": \"white\"}}, \"header\": {\"fill\": {\"color\": \"#C8D4E3\"}, \"line\": {\"color\": \"white\"}}, \"type\": \"table\"}]}, \"layout\": {\"annotationdefaults\": {\"arrowcolor\": \"#2a3f5f\", \"arrowhead\": 0, \"arrowwidth\": 1}, \"coloraxis\": {\"colorbar\": {\"outlinewidth\": 0, \"ticks\": \"\"}}, \"colorscale\": {\"diverging\": [[0, \"#8e0152\"], [0.1, \"#c51b7d\"], [0.2, \"#de77ae\"], [0.3, \"#f1b6da\"], [0.4, \"#fde0ef\"], [0.5, \"#f7f7f7\"], [0.6, \"#e6f5d0\"], [0.7, \"#b8e186\"], [0.8, \"#7fbc41\"], [0.9, \"#4d9221\"], [1, \"#276419\"]], \"sequential\": [[0.0, \"#0d0887\"], [0.1111111111111111, \"#46039f\"], [0.2222222222222222, \"#7201a8\"], [0.3333333333333333, \"#9c179e\"], [0.4444444444444444, \"#bd3786\"], [0.5555555555555556, \"#d8576b\"], [0.6666666666666666, \"#ed7953\"], [0.7777777777777778, \"#fb9f3a\"], [0.8888888888888888, \"#fdca26\"], [1.0, \"#f0f921\"]], \"sequentialminus\": [[0.0, \"#0d0887\"], [0.1111111111111111, \"#46039f\"], [0.2222222222222222, \"#7201a8\"], [0.3333333333333333, \"#9c179e\"], [0.4444444444444444, \"#bd3786\"], [0.5555555555555556, \"#d8576b\"], [0.6666666666666666, \"#ed7953\"], [0.7777777777777778, \"#fb9f3a\"], [0.8888888888888888, \"#fdca26\"], [1.0, \"#f0f921\"]]}, \"colorway\": [\"#636efa\", \"#EF553B\", \"#00cc96\", \"#ab63fa\", \"#FFA15A\", \"#19d3f3\", \"#FF6692\", \"#B6E880\", \"#FF97FF\", \"#FECB52\"], \"font\": {\"color\": \"#2a3f5f\"}, \"geo\": {\"bgcolor\": \"white\", \"lakecolor\": \"white\", \"landcolor\": \"#E5ECF6\", \"showlakes\": true, \"showland\": true, \"subunitcolor\": \"white\"}, \"hoverlabel\": {\"align\": \"left\"}, \"hovermode\": \"closest\", \"mapbox\": {\"style\": \"light\"}, \"paper_bgcolor\": \"white\", \"plot_bgcolor\": \"#E5ECF6\", \"polar\": {\"angularaxis\": {\"gridcolor\": \"white\", \"linecolor\": \"white\", \"ticks\": \"\"}, \"bgcolor\": \"#E5ECF6\", \"radialaxis\": {\"gridcolor\": \"white\", \"linecolor\": \"white\", \"ticks\": \"\"}}, \"scene\": {\"xaxis\": {\"backgroundcolor\": \"#E5ECF6\", \"gridcolor\": \"white\", \"gridwidth\": 2, \"linecolor\": \"white\", \"showbackground\": true, \"ticks\": \"\", \"zerolinecolor\": \"white\"}, \"yaxis\": {\"backgroundcolor\": \"#E5ECF6\", \"gridcolor\": \"white\", \"gridwidth\": 2, \"linecolor\": \"white\", \"showbackground\": true, \"ticks\": \"\", \"zerolinecolor\": \"white\"}, \"zaxis\": {\"backgroundcolor\": \"#E5ECF6\", \"gridcolor\": \"white\", \"gridwidth\": 2, \"linecolor\": \"white\", \"showbackground\": true, \"ticks\": \"\", \"zerolinecolor\": \"white\"}}, \"shapedefaults\": {\"line\": {\"color\": \"#2a3f5f\"}}, \"ternary\": {\"aaxis\": {\"gridcolor\": \"white\", \"linecolor\": \"white\", \"ticks\": \"\"}, \"baxis\": {\"gridcolor\": \"white\", \"linecolor\": \"white\", \"ticks\": \"\"}, \"bgcolor\": \"#E5ECF6\", \"caxis\": {\"gridcolor\": \"white\", \"linecolor\": \"white\", \"ticks\": \"\"}}, \"title\": {\"x\": 0.05}, \"xaxis\": {\"automargin\": true, \"gridcolor\": \"white\", \"linecolor\": \"white\", \"ticks\": \"\", \"title\": {\"standoff\": 15}, \"zerolinecolor\": \"white\", \"zerolinewidth\": 2}, \"yaxis\": {\"automargin\": true, \"gridcolor\": \"white\", \"linecolor\": \"white\", \"ticks\": \"\", \"title\": {\"standoff\": 15}, \"zerolinecolor\": \"white\", \"zerolinewidth\": 2}}}, \"xaxis\": {\"anchor\": \"y\", \"categoryarray\": [\"PERSON\", \"TIME\", \"CARDINAL\", \"ORG\", \"DATE\", \"NORP\", \"GPE\", \"LANGUAGE\", \"FAC\", \"PRODUCT\", \"LOC\", \"ORDINAL\", \"EVENT\", \"WORK_OF_ART\", \"QUANTITY\", \"MONEY\", \"LAW\", \"PERCENT\"], \"categoryorder\": \"array\", \"domain\": [0.0, 1.0], \"title\": {\"text\": \"label\"}}, \"yaxis\": {\"anchor\": \"x\", \"domain\": [0.0, 1.0], \"title\": {\"text\": \"count\"}}},\n",
              "                        {\"responsive\": true}\n",
              "                    ).then(function(){\n",
              "                            \n",
              "var gd = document.getElementById('462e6d4b-c489-4572-8bf5-7beb43101eea');\n",
              "var x = new MutationObserver(function (mutations, observer) {{\n",
              "        var display = window.getComputedStyle(gd).display;\n",
              "        if (!display || display === 'none') {{\n",
              "            console.log([gd, 'removed!']);\n",
              "            Plotly.purge(gd);\n",
              "            observer.disconnect();\n",
              "        }}\n",
              "}});\n",
              "\n",
              "// Listen for the removal of the full notebook cells\n",
              "var notebookContainer = gd.closest('#notebook-container');\n",
              "if (notebookContainer) {{\n",
              "    x.observe(notebookContainer, {childList: true});\n",
              "}}\n",
              "\n",
              "// Listen for the clearing of the current output cell\n",
              "var outputEl = gd.closest('.output');\n",
              "if (outputEl) {{\n",
              "    x.observe(outputEl, {childList: true});\n",
              "}}\n",
              "\n",
              "                        })\n",
              "                };\n",
              "                \n",
              "            </script>\n",
              "        </div>\n",
              "</body>\n",
              "</html>"
            ]
          },
          "metadata": {
            "tags": []
          }
        }
      ]
    },
    {
      "cell_type": "code",
      "metadata": {
        "id": "E4RZpKqihiqJ"
      },
      "source": [
        "#code to convert a passage into dataframe of entites and its labels\r\n",
        "def ents_to_df(doc):\r\n",
        "  df100 = pd.DataFrame(columns = ['Entity', 'Label']) \r\n",
        "\r\n",
        "  if doc.ents:\r\n",
        "    for ent in doc.ents:\r\n",
        "      df100 = df100.append({'Entity': ent.text, 'Label': ent.label_},ignore_index=True)\r\n",
        "  return df100\r\n"
      ],
      "execution_count": 217,
      "outputs": []
    },
    {
      "cell_type": "code",
      "metadata": {
        "colab": {
          "base_uri": "https://localhost:8080/",
          "height": 120
        },
        "id": "4NEUJdW4Y_P2",
        "outputId": "3cf4bfef-70f9-424e-a458-5166ff29ea57"
      },
      "source": [
        "passage1_book1 = \"There was a circumstance which at first sight seemed to entangle his delirious but still methodical scheme. But not so in the reality, perhaps. Though the gregarious sperm whales have their regular seasons for particular grounds, yet in general you cannot conclude that the herds which haunted such and such a latitude or longitude this year, say, will turn out to be identically the same with those that were found there the preceding season; though there are peculiar and unquestionable instances where the contrary of this has proved true. In general, the same remark, only within a less wide limit, applies to the solitaries and hermits among the matured, aged sperm whales. So that though Moby Dick had in a former year been seen, for example, on what is called the Seychelle ground in the Indian ocean, or Volcano Bay on the Japanese Coast; yet it did not follow, that were the Pequod to visit either of those spots at any subsequent corresponding season, she would infallibly encounter him there. So, too, with some other feeding grounds, where he had at times revealed himself. But all these seemed only his casual stopping-places and ocean-inns, so to speak, not his places of prolonged abode. And where Ahab’s chances of accomplishing his object have hitherto been spoken of, allusion has only been made to whatever way-side, antecedent, extra prospects were his, ere a particular set time or place were attained, when all possibilities would become probabilities, and, as Ahab fondly thought, every possibility the next thing to a certainty. That particular set time and place were conjoined in the one technical phrase—the Season-on-the-Line. For there and then, for several consecutive years, Moby Dick had been periodically descried, lingering in those waters for awhile, as the sun, in its annual round, loiters for a predicted interval in any one sign of the Zodiac. There it was, too, that most of the deadly encounters with the white whale had taken place; there the waves were storied with his deeds; there also was that tragic spot where the monomaniac old man had found the awful motive to his vengeance. But in the cautious comprehensiveness and unloitering vigilance with which Ahab threw his brooding soul into this unfaltering hunt, he would not permit himself to rest all his hopes upon the one crowning fact above mentioned, however flattering it might be to those hopes; nor in the sleeplessness of his vow could he so tranquillize his unquiet heart as to postpone all intervening quest.\"\r\n",
        "passage1_book1"
      ],
      "execution_count": 218,
      "outputs": [
        {
          "output_type": "execute_result",
          "data": {
            "application/vnd.google.colaboratory.intrinsic+json": {
              "type": "string"
            },
            "text/plain": [
              "'There was a circumstance which at first sight seemed to entangle his delirious but still methodical scheme. But not so in the reality, perhaps. Though the gregarious sperm whales have their regular seasons for particular grounds, yet in general you cannot conclude that the herds which haunted such and such a latitude or longitude this year, say, will turn out to be identically the same with those that were found there the preceding season; though there are peculiar and unquestionable instances where the contrary of this has proved true. In general, the same remark, only within a less wide limit, applies to the solitaries and hermits among the matured, aged sperm whales. So that though Moby Dick had in a former year been seen, for example, on what is called the Seychelle ground in the Indian ocean, or Volcano Bay on the Japanese Coast; yet it did not follow, that were the Pequod to visit either of those spots at any subsequent corresponding season, she would infallibly encounter him there. So, too, with some other feeding grounds, where he had at times revealed himself. But all these seemed only his casual stopping-places and ocean-inns, so to speak, not his places of prolonged abode. And where Ahab’s chances of accomplishing his object have hitherto been spoken of, allusion has only been made to whatever way-side, antecedent, extra prospects were his, ere a particular set time or place were attained, when all possibilities would become probabilities, and, as Ahab fondly thought, every possibility the next thing to a certainty. That particular set time and place were conjoined in the one technical phrase—the Season-on-the-Line. For there and then, for several consecutive years, Moby Dick had been periodically descried, lingering in those waters for awhile, as the sun, in its annual round, loiters for a predicted interval in any one sign of the Zodiac. There it was, too, that most of the deadly encounters with the white whale had taken place; there the waves were storied with his deeds; there also was that tragic spot where the monomaniac old man had found the awful motive to his vengeance. But in the cautious comprehensiveness and unloitering vigilance with which Ahab threw his brooding soul into this unfaltering hunt, he would not permit himself to rest all his hopes upon the one crowning fact above mentioned, however flattering it might be to those hopes; nor in the sleeplessness of his vow could he so tranquillize his unquiet heart as to postpone all intervening quest.'"
            ]
          },
          "metadata": {
            "tags": []
          },
          "execution_count": 218
        }
      ]
    },
    {
      "cell_type": "code",
      "metadata": {
        "colab": {
          "base_uri": "https://localhost:8080/",
          "height": 610
        },
        "id": "lYS7ftmVh1Tc",
        "outputId": "8285a134-bcad-4b88-dcd0-61c49041aa91"
      },
      "source": [
        "manually_passage1_book1_labels = [\r\n",
        "                           ['first','ORDINAL'],\r\n",
        "                           ['Ahab','PERSON'],\r\n",
        "                           ['Ahab','PERSON'],\r\n",
        "                           ['Ahab','PERSON'],\r\n",
        "                           ['Moby Dick','PERSON'],\r\n",
        "                           ['one','CARDINAL'],\r\n",
        "                           ['one','CARDINAL'],\r\n",
        "                           ['one','CARDINAL'],\r\n",
        "                           ['Seychelle','LOC'],\r\n",
        "                           ['the Japanese Coast','LOC'],\r\n",
        "                           ['this year','DATE'],\r\n",
        "                           ['several consecutive years','DATE'],\r\n",
        "                           ['annual','DATE'],\r\n",
        "                           ['Moby Dick','PERSON'],\r\n",
        "                           ['sperm whales','ORG'],\r\n",
        "                           ['the preceding season','DATE'],\r\n",
        "                           ['Indian Ocean','LOC'],\r\n",
        "                           ['Volcano Bay','LOC'],\r\n",
        "                           ['Zodiac','FAC']\r\n",
        "\r\n",
        "\r\n",
        "                    \r\n",
        "]\r\n",
        "\r\n",
        "manually_passage1_book1_df = pd.DataFrame(manually_passage1_book1_labels,columns=['Entity','Label'])\r\n",
        "manually_passage1_book1_df"
      ],
      "execution_count": 219,
      "outputs": [
        {
          "output_type": "execute_result",
          "data": {
            "text/html": [
              "<div>\n",
              "<style scoped>\n",
              "    .dataframe tbody tr th:only-of-type {\n",
              "        vertical-align: middle;\n",
              "    }\n",
              "\n",
              "    .dataframe tbody tr th {\n",
              "        vertical-align: top;\n",
              "    }\n",
              "\n",
              "    .dataframe thead th {\n",
              "        text-align: right;\n",
              "    }\n",
              "</style>\n",
              "<table border=\"1\" class=\"dataframe\">\n",
              "  <thead>\n",
              "    <tr style=\"text-align: right;\">\n",
              "      <th></th>\n",
              "      <th>Entity</th>\n",
              "      <th>Label</th>\n",
              "    </tr>\n",
              "  </thead>\n",
              "  <tbody>\n",
              "    <tr>\n",
              "      <th>0</th>\n",
              "      <td>first</td>\n",
              "      <td>ORDINAL</td>\n",
              "    </tr>\n",
              "    <tr>\n",
              "      <th>1</th>\n",
              "      <td>Ahab</td>\n",
              "      <td>PERSON</td>\n",
              "    </tr>\n",
              "    <tr>\n",
              "      <th>2</th>\n",
              "      <td>Ahab</td>\n",
              "      <td>PERSON</td>\n",
              "    </tr>\n",
              "    <tr>\n",
              "      <th>3</th>\n",
              "      <td>Ahab</td>\n",
              "      <td>PERSON</td>\n",
              "    </tr>\n",
              "    <tr>\n",
              "      <th>4</th>\n",
              "      <td>Moby Dick</td>\n",
              "      <td>PERSON</td>\n",
              "    </tr>\n",
              "    <tr>\n",
              "      <th>5</th>\n",
              "      <td>one</td>\n",
              "      <td>CARDINAL</td>\n",
              "    </tr>\n",
              "    <tr>\n",
              "      <th>6</th>\n",
              "      <td>one</td>\n",
              "      <td>CARDINAL</td>\n",
              "    </tr>\n",
              "    <tr>\n",
              "      <th>7</th>\n",
              "      <td>one</td>\n",
              "      <td>CARDINAL</td>\n",
              "    </tr>\n",
              "    <tr>\n",
              "      <th>8</th>\n",
              "      <td>Seychelle</td>\n",
              "      <td>LOC</td>\n",
              "    </tr>\n",
              "    <tr>\n",
              "      <th>9</th>\n",
              "      <td>the Japanese Coast</td>\n",
              "      <td>LOC</td>\n",
              "    </tr>\n",
              "    <tr>\n",
              "      <th>10</th>\n",
              "      <td>this year</td>\n",
              "      <td>DATE</td>\n",
              "    </tr>\n",
              "    <tr>\n",
              "      <th>11</th>\n",
              "      <td>several consecutive years</td>\n",
              "      <td>DATE</td>\n",
              "    </tr>\n",
              "    <tr>\n",
              "      <th>12</th>\n",
              "      <td>annual</td>\n",
              "      <td>DATE</td>\n",
              "    </tr>\n",
              "    <tr>\n",
              "      <th>13</th>\n",
              "      <td>Moby Dick</td>\n",
              "      <td>PERSON</td>\n",
              "    </tr>\n",
              "    <tr>\n",
              "      <th>14</th>\n",
              "      <td>sperm whales</td>\n",
              "      <td>ORG</td>\n",
              "    </tr>\n",
              "    <tr>\n",
              "      <th>15</th>\n",
              "      <td>the preceding season</td>\n",
              "      <td>DATE</td>\n",
              "    </tr>\n",
              "    <tr>\n",
              "      <th>16</th>\n",
              "      <td>Indian Ocean</td>\n",
              "      <td>LOC</td>\n",
              "    </tr>\n",
              "    <tr>\n",
              "      <th>17</th>\n",
              "      <td>Volcano Bay</td>\n",
              "      <td>LOC</td>\n",
              "    </tr>\n",
              "    <tr>\n",
              "      <th>18</th>\n",
              "      <td>Zodiac</td>\n",
              "      <td>FAC</td>\n",
              "    </tr>\n",
              "  </tbody>\n",
              "</table>\n",
              "</div>"
            ],
            "text/plain": [
              "                       Entity     Label\n",
              "0                       first   ORDINAL\n",
              "1                        Ahab    PERSON\n",
              "2                        Ahab    PERSON\n",
              "3                        Ahab    PERSON\n",
              "4                   Moby Dick    PERSON\n",
              "5                         one  CARDINAL\n",
              "6                         one  CARDINAL\n",
              "7                         one  CARDINAL\n",
              "8                   Seychelle       LOC\n",
              "9          the Japanese Coast       LOC\n",
              "10                  this year      DATE\n",
              "11  several consecutive years      DATE\n",
              "12                     annual      DATE\n",
              "13                  Moby Dick    PERSON\n",
              "14               sperm whales       ORG\n",
              "15       the preceding season      DATE\n",
              "16               Indian Ocean       LOC\n",
              "17                Volcano Bay       LOC\n",
              "18                     Zodiac       FAC"
            ]
          },
          "metadata": {
            "tags": []
          },
          "execution_count": 219
        }
      ]
    },
    {
      "cell_type": "code",
      "metadata": {
        "colab": {
          "base_uri": "https://localhost:8080/",
          "height": 639
        },
        "id": "5OQZp3MqZBmZ",
        "outputId": "598c5ced-a6c1-4604-aac5-90baad56a905"
      },
      "source": [
        "entities = []\r\n",
        "temp = nlp(passage1_book1)\r\n",
        "df_passage11 = ents_to_df(temp)\r\n",
        "df_passage11"
      ],
      "execution_count": 220,
      "outputs": [
        {
          "output_type": "execute_result",
          "data": {
            "text/html": [
              "<div>\n",
              "<style scoped>\n",
              "    .dataframe tbody tr th:only-of-type {\n",
              "        vertical-align: middle;\n",
              "    }\n",
              "\n",
              "    .dataframe tbody tr th {\n",
              "        vertical-align: top;\n",
              "    }\n",
              "\n",
              "    .dataframe thead th {\n",
              "        text-align: right;\n",
              "    }\n",
              "</style>\n",
              "<table border=\"1\" class=\"dataframe\">\n",
              "  <thead>\n",
              "    <tr style=\"text-align: right;\">\n",
              "      <th></th>\n",
              "      <th>Entity</th>\n",
              "      <th>Label</th>\n",
              "    </tr>\n",
              "  </thead>\n",
              "  <tbody>\n",
              "    <tr>\n",
              "      <th>0</th>\n",
              "      <td>first</td>\n",
              "      <td>ORDINAL</td>\n",
              "    </tr>\n",
              "    <tr>\n",
              "      <th>1</th>\n",
              "      <td>this year</td>\n",
              "      <td>DATE</td>\n",
              "    </tr>\n",
              "    <tr>\n",
              "      <th>2</th>\n",
              "      <td>the preceding season</td>\n",
              "      <td>DATE</td>\n",
              "    </tr>\n",
              "    <tr>\n",
              "      <th>3</th>\n",
              "      <td>Moby Dick</td>\n",
              "      <td>PERSON</td>\n",
              "    </tr>\n",
              "    <tr>\n",
              "      <th>4</th>\n",
              "      <td>Seychelle</td>\n",
              "      <td>PERSON</td>\n",
              "    </tr>\n",
              "    <tr>\n",
              "      <th>5</th>\n",
              "      <td>Indian</td>\n",
              "      <td>NORP</td>\n",
              "    </tr>\n",
              "    <tr>\n",
              "      <th>6</th>\n",
              "      <td>Volcano Bay</td>\n",
              "      <td>PERSON</td>\n",
              "    </tr>\n",
              "    <tr>\n",
              "      <th>7</th>\n",
              "      <td>the Japanese Coast</td>\n",
              "      <td>LOC</td>\n",
              "    </tr>\n",
              "    <tr>\n",
              "      <th>8</th>\n",
              "      <td>Pequod</td>\n",
              "      <td>FAC</td>\n",
              "    </tr>\n",
              "    <tr>\n",
              "      <th>9</th>\n",
              "      <td>Ahab</td>\n",
              "      <td>LOC</td>\n",
              "    </tr>\n",
              "    <tr>\n",
              "      <th>10</th>\n",
              "      <td>Ahab</td>\n",
              "      <td>LOC</td>\n",
              "    </tr>\n",
              "    <tr>\n",
              "      <th>11</th>\n",
              "      <td>several consecutive years</td>\n",
              "      <td>DATE</td>\n",
              "    </tr>\n",
              "    <tr>\n",
              "      <th>12</th>\n",
              "      <td>Moby Dick</td>\n",
              "      <td>PERSON</td>\n",
              "    </tr>\n",
              "    <tr>\n",
              "      <th>13</th>\n",
              "      <td>annual</td>\n",
              "      <td>DATE</td>\n",
              "    </tr>\n",
              "    <tr>\n",
              "      <th>14</th>\n",
              "      <td>one</td>\n",
              "      <td>CARDINAL</td>\n",
              "    </tr>\n",
              "    <tr>\n",
              "      <th>15</th>\n",
              "      <td>Zodiac</td>\n",
              "      <td>FAC</td>\n",
              "    </tr>\n",
              "    <tr>\n",
              "      <th>16</th>\n",
              "      <td>the white whale</td>\n",
              "      <td>ORG</td>\n",
              "    </tr>\n",
              "    <tr>\n",
              "      <th>17</th>\n",
              "      <td>monomaniac</td>\n",
              "      <td>ORG</td>\n",
              "    </tr>\n",
              "    <tr>\n",
              "      <th>18</th>\n",
              "      <td>Ahab</td>\n",
              "      <td>ORG</td>\n",
              "    </tr>\n",
              "    <tr>\n",
              "      <th>19</th>\n",
              "      <td>one</td>\n",
              "      <td>CARDINAL</td>\n",
              "    </tr>\n",
              "  </tbody>\n",
              "</table>\n",
              "</div>"
            ],
            "text/plain": [
              "                       Entity     Label\n",
              "0                       first   ORDINAL\n",
              "1                   this year      DATE\n",
              "2        the preceding season      DATE\n",
              "3                   Moby Dick    PERSON\n",
              "4                   Seychelle    PERSON\n",
              "5                      Indian      NORP\n",
              "6                 Volcano Bay    PERSON\n",
              "7          the Japanese Coast       LOC\n",
              "8                      Pequod       FAC\n",
              "9                        Ahab       LOC\n",
              "10                       Ahab       LOC\n",
              "11  several consecutive years      DATE\n",
              "12                  Moby Dick    PERSON\n",
              "13                     annual      DATE\n",
              "14                        one  CARDINAL\n",
              "15                     Zodiac       FAC\n",
              "16            the white whale       ORG\n",
              "17                 monomaniac       ORG\n",
              "18                       Ahab       ORG\n",
              "19                        one  CARDINAL"
            ]
          },
          "metadata": {
            "tags": []
          },
          "execution_count": 220
        }
      ]
    },
    {
      "cell_type": "code",
      "metadata": {
        "colab": {
          "base_uri": "https://localhost:8080/",
          "height": 86
        },
        "id": "AHNNCIKoeQ0S",
        "outputId": "e2f55e89-244a-4758-c5d7-0bece70bcdc1"
      },
      "source": [
        "passage2_book1 = \"It was just between daybreak and sunrise of the morning of the second day, when they were washing down the decks, that a stupid Teneriffe man, drawing water in the main-chains, all at once shouted out, ‘There she rolls! there she rolls!’ Jesu, what a whale! It was Moby Dick. “‘Moby Dick!’ cried Don Sebastian; ‘St. Dominic! Sir sailor, but do whales have christenings? Whom call you Moby Dick?’ “‘A very white, and famous, and most deadly immortal monster, Don;—but that would be too long a story.’ “‘How? how?’ cried all the young Spaniards, crowding.\"\r\n",
        "passage2_book1"
      ],
      "execution_count": 221,
      "outputs": [
        {
          "output_type": "execute_result",
          "data": {
            "application/vnd.google.colaboratory.intrinsic+json": {
              "type": "string"
            },
            "text/plain": [
              "'It was just between daybreak and sunrise of the morning of the second day, when they were washing down the decks, that a stupid Teneriffe man, drawing water in the main-chains, all at once shouted out, ‘There she rolls! there she rolls!’ Jesu, what a whale! It was Moby Dick. “‘Moby Dick!’ cried Don Sebastian; ‘St. Dominic! Sir sailor, but do whales have christenings? Whom call you Moby Dick?’ “‘A very white, and famous, and most deadly immortal monster, Don;—but that would be too long a story.’ “‘How? how?’ cried all the young Spaniards, crowding.'"
            ]
          },
          "metadata": {
            "tags": []
          },
          "execution_count": 221
        }
      ]
    },
    {
      "cell_type": "code",
      "metadata": {
        "colab": {
          "base_uri": "https://localhost:8080/",
          "height": 343
        },
        "id": "MWKSwWQFyn_A",
        "outputId": "c48b6046-aa0c-4d62-a4d2-688e8e2272f8"
      },
      "source": [
        "manually_passage2_book1_labels = [\r\n",
        "                                  ['the morning of the second day','TIME'],\r\n",
        "                                  ['Teneriffe','GPE'],\r\n",
        "                                  ['Jesu','PERSON'],\r\n",
        "                                  ['Moby Dick','PERSON'],\r\n",
        "                                  ['Moby Dick','PERSON'],\r\n",
        "                                  ['Don Sebastian','PERSON'],\r\n",
        "                                  ['St. Dominic','PERSON'],\r\n",
        "                                  ['Moby Dick','PERSON'],\r\n",
        "                                  ['Don','PERSON'],\r\n",
        "                                  ['Spaniards','NORP']\r\n",
        "] \r\n",
        "manually_passage2_book1_df = pd.DataFrame(manually_passage2_book1_labels,columns=['Entity','Label'])\r\n",
        "manually_passage2_book1_df"
      ],
      "execution_count": 222,
      "outputs": [
        {
          "output_type": "execute_result",
          "data": {
            "text/html": [
              "<div>\n",
              "<style scoped>\n",
              "    .dataframe tbody tr th:only-of-type {\n",
              "        vertical-align: middle;\n",
              "    }\n",
              "\n",
              "    .dataframe tbody tr th {\n",
              "        vertical-align: top;\n",
              "    }\n",
              "\n",
              "    .dataframe thead th {\n",
              "        text-align: right;\n",
              "    }\n",
              "</style>\n",
              "<table border=\"1\" class=\"dataframe\">\n",
              "  <thead>\n",
              "    <tr style=\"text-align: right;\">\n",
              "      <th></th>\n",
              "      <th>Entity</th>\n",
              "      <th>Label</th>\n",
              "    </tr>\n",
              "  </thead>\n",
              "  <tbody>\n",
              "    <tr>\n",
              "      <th>0</th>\n",
              "      <td>the morning of the second day</td>\n",
              "      <td>TIME</td>\n",
              "    </tr>\n",
              "    <tr>\n",
              "      <th>1</th>\n",
              "      <td>Teneriffe</td>\n",
              "      <td>GPE</td>\n",
              "    </tr>\n",
              "    <tr>\n",
              "      <th>2</th>\n",
              "      <td>Jesu</td>\n",
              "      <td>PERSON</td>\n",
              "    </tr>\n",
              "    <tr>\n",
              "      <th>3</th>\n",
              "      <td>Moby Dick</td>\n",
              "      <td>PERSON</td>\n",
              "    </tr>\n",
              "    <tr>\n",
              "      <th>4</th>\n",
              "      <td>Moby Dick</td>\n",
              "      <td>PERSON</td>\n",
              "    </tr>\n",
              "    <tr>\n",
              "      <th>5</th>\n",
              "      <td>Don Sebastian</td>\n",
              "      <td>PERSON</td>\n",
              "    </tr>\n",
              "    <tr>\n",
              "      <th>6</th>\n",
              "      <td>St. Dominic</td>\n",
              "      <td>PERSON</td>\n",
              "    </tr>\n",
              "    <tr>\n",
              "      <th>7</th>\n",
              "      <td>Moby Dick</td>\n",
              "      <td>PERSON</td>\n",
              "    </tr>\n",
              "    <tr>\n",
              "      <th>8</th>\n",
              "      <td>Don</td>\n",
              "      <td>PERSON</td>\n",
              "    </tr>\n",
              "    <tr>\n",
              "      <th>9</th>\n",
              "      <td>Spaniards</td>\n",
              "      <td>NORP</td>\n",
              "    </tr>\n",
              "  </tbody>\n",
              "</table>\n",
              "</div>"
            ],
            "text/plain": [
              "                          Entity   Label\n",
              "0  the morning of the second day    TIME\n",
              "1                      Teneriffe     GPE\n",
              "2                           Jesu  PERSON\n",
              "3                      Moby Dick  PERSON\n",
              "4                      Moby Dick  PERSON\n",
              "5                  Don Sebastian  PERSON\n",
              "6                    St. Dominic  PERSON\n",
              "7                      Moby Dick  PERSON\n",
              "8                            Don  PERSON\n",
              "9                      Spaniards    NORP"
            ]
          },
          "metadata": {
            "tags": []
          },
          "execution_count": 222
        }
      ]
    },
    {
      "cell_type": "code",
      "metadata": {
        "colab": {
          "base_uri": "https://localhost:8080/",
          "height": 314
        },
        "id": "m1qvsHCyyIyv",
        "outputId": "f327c69b-e177-4733-d22e-0a563bf8d25c"
      },
      "source": [
        "entities = []\r\n",
        "temp = nlp(passage2_book1)\r\n",
        "df_passage12 = ents_to_df(temp)\r\n",
        "df_passage12"
      ],
      "execution_count": 223,
      "outputs": [
        {
          "output_type": "execute_result",
          "data": {
            "text/html": [
              "<div>\n",
              "<style scoped>\n",
              "    .dataframe tbody tr th:only-of-type {\n",
              "        vertical-align: middle;\n",
              "    }\n",
              "\n",
              "    .dataframe tbody tr th {\n",
              "        vertical-align: top;\n",
              "    }\n",
              "\n",
              "    .dataframe thead th {\n",
              "        text-align: right;\n",
              "    }\n",
              "</style>\n",
              "<table border=\"1\" class=\"dataframe\">\n",
              "  <thead>\n",
              "    <tr style=\"text-align: right;\">\n",
              "      <th></th>\n",
              "      <th>Entity</th>\n",
              "      <th>Label</th>\n",
              "    </tr>\n",
              "  </thead>\n",
              "  <tbody>\n",
              "    <tr>\n",
              "      <th>0</th>\n",
              "      <td>the morning of the second day</td>\n",
              "      <td>TIME</td>\n",
              "    </tr>\n",
              "    <tr>\n",
              "      <th>1</th>\n",
              "      <td>Jesu</td>\n",
              "      <td>PERSON</td>\n",
              "    </tr>\n",
              "    <tr>\n",
              "      <th>2</th>\n",
              "      <td>Moby Dick</td>\n",
              "      <td>PERSON</td>\n",
              "    </tr>\n",
              "    <tr>\n",
              "      <th>3</th>\n",
              "      <td>Moby Dick</td>\n",
              "      <td>PERSON</td>\n",
              "    </tr>\n",
              "    <tr>\n",
              "      <th>4</th>\n",
              "      <td>Don Sebastian</td>\n",
              "      <td>PERSON</td>\n",
              "    </tr>\n",
              "    <tr>\n",
              "      <th>5</th>\n",
              "      <td>St. Dominic</td>\n",
              "      <td>GPE</td>\n",
              "    </tr>\n",
              "    <tr>\n",
              "      <th>6</th>\n",
              "      <td>Moby Dick</td>\n",
              "      <td>PERSON</td>\n",
              "    </tr>\n",
              "    <tr>\n",
              "      <th>7</th>\n",
              "      <td>‘How? how?’ cried all the young</td>\n",
              "      <td>WORK_OF_ART</td>\n",
              "    </tr>\n",
              "    <tr>\n",
              "      <th>8</th>\n",
              "      <td>Spaniards</td>\n",
              "      <td>NORP</td>\n",
              "    </tr>\n",
              "  </tbody>\n",
              "</table>\n",
              "</div>"
            ],
            "text/plain": [
              "                            Entity        Label\n",
              "0    the morning of the second day         TIME\n",
              "1                             Jesu       PERSON\n",
              "2                        Moby Dick       PERSON\n",
              "3                        Moby Dick       PERSON\n",
              "4                    Don Sebastian       PERSON\n",
              "5                      St. Dominic          GPE\n",
              "6                        Moby Dick       PERSON\n",
              "7  ‘How? how?’ cried all the young  WORK_OF_ART\n",
              "8                        Spaniards         NORP"
            ]
          },
          "metadata": {
            "tags": []
          },
          "execution_count": 223
        }
      ]
    },
    {
      "cell_type": "code",
      "metadata": {
        "id": "tjwPCzZe-9le"
      },
      "source": [
        "passage1_book2 = \"Woodshadows floated silently by through the morning peace from the stairhead seaward where he gazed. Inshore and farther out the mirror of water whitened, spurned by lightshod hurrying feet. White breast of the dim sea. The twining stresses, two by two. A hand plucking the harpstrings, merging their twining chords. Wavewhite wedded words shimmering on the dim tide. A cloud began to cover the sun slowly, wholly, shadowing the bay in deeper green. It lay beneath him, a bowl of bitter waters. Fergus’ song: I sang it alone in the house, holding down the long dark chords. Her door was open: she wanted to hear my music. Silent with awe and pity I went to her bedside. She was crying in her wretched bed. For those words, Stephen: love’s bitter mystery. And putting on his stiff collar and rebellious tie he spoke to them, chiding them, and to his dangling watchchain. His hands plunged and rummaged in his trunk while he called for a clean handkerchief. God, we’ll simply have to dress the character. I want puce gloves and green boots. Contradiction. Do I contradict myself? Very well then, I contradict myself. Mercurial Malachi. A limp black missile flew out of his talking hands. He skipped off the gunrest and looked gravely at his watcher, gathering about his legs the loose folds of his gown. The plump shadowed face and sullen oval jowl recalled a prelate, patron of arts in the middle ages. A pleasant smile broke quietly over his lips.\""
      ],
      "execution_count": 224,
      "outputs": []
    },
    {
      "cell_type": "code",
      "metadata": {
        "colab": {
          "base_uri": "https://localhost:8080/",
          "height": 314
        },
        "id": "YXET3lc7_lJ9",
        "outputId": "d5e6bef4-d831-4d4e-db96-be9ade77c7a1"
      },
      "source": [
        "manually_passage1_book2_labels = [ ['morning','TIME'],\r\n",
        "                                   ['the dim sea','LOC'],\r\n",
        "                                   ['two','CARDINAL'],\r\n",
        "                                   ['two','CARDINAL'],\r\n",
        "                                   ['Stephen','PERSON'],\r\n",
        "                                   ['Malachi','PERSON'],\r\n",
        "                                   ['Fergus','PERSON'],\r\n",
        "                                   ['Inshore','LOC'],\r\n",
        "                                   ['the middle ages','DATE']                           \r\n",
        "]\r\n",
        "\r\n",
        "manually_passage1_book2_df = pd.DataFrame(manually_passage1_book2_labels,columns=['Entity','Label'])\r\n",
        "manually_passage1_book2_df"
      ],
      "execution_count": 225,
      "outputs": [
        {
          "output_type": "execute_result",
          "data": {
            "text/html": [
              "<div>\n",
              "<style scoped>\n",
              "    .dataframe tbody tr th:only-of-type {\n",
              "        vertical-align: middle;\n",
              "    }\n",
              "\n",
              "    .dataframe tbody tr th {\n",
              "        vertical-align: top;\n",
              "    }\n",
              "\n",
              "    .dataframe thead th {\n",
              "        text-align: right;\n",
              "    }\n",
              "</style>\n",
              "<table border=\"1\" class=\"dataframe\">\n",
              "  <thead>\n",
              "    <tr style=\"text-align: right;\">\n",
              "      <th></th>\n",
              "      <th>Entity</th>\n",
              "      <th>Label</th>\n",
              "    </tr>\n",
              "  </thead>\n",
              "  <tbody>\n",
              "    <tr>\n",
              "      <th>0</th>\n",
              "      <td>morning</td>\n",
              "      <td>TIME</td>\n",
              "    </tr>\n",
              "    <tr>\n",
              "      <th>1</th>\n",
              "      <td>the dim sea</td>\n",
              "      <td>LOC</td>\n",
              "    </tr>\n",
              "    <tr>\n",
              "      <th>2</th>\n",
              "      <td>two</td>\n",
              "      <td>CARDINAL</td>\n",
              "    </tr>\n",
              "    <tr>\n",
              "      <th>3</th>\n",
              "      <td>two</td>\n",
              "      <td>CARDINAL</td>\n",
              "    </tr>\n",
              "    <tr>\n",
              "      <th>4</th>\n",
              "      <td>Stephen</td>\n",
              "      <td>PERSON</td>\n",
              "    </tr>\n",
              "    <tr>\n",
              "      <th>5</th>\n",
              "      <td>Malachi</td>\n",
              "      <td>PERSON</td>\n",
              "    </tr>\n",
              "    <tr>\n",
              "      <th>6</th>\n",
              "      <td>Fergus</td>\n",
              "      <td>PERSON</td>\n",
              "    </tr>\n",
              "    <tr>\n",
              "      <th>7</th>\n",
              "      <td>Inshore</td>\n",
              "      <td>LOC</td>\n",
              "    </tr>\n",
              "    <tr>\n",
              "      <th>8</th>\n",
              "      <td>the middle ages</td>\n",
              "      <td>DATE</td>\n",
              "    </tr>\n",
              "  </tbody>\n",
              "</table>\n",
              "</div>"
            ],
            "text/plain": [
              "            Entity     Label\n",
              "0          morning      TIME\n",
              "1      the dim sea       LOC\n",
              "2              two  CARDINAL\n",
              "3              two  CARDINAL\n",
              "4          Stephen    PERSON\n",
              "5          Malachi    PERSON\n",
              "6           Fergus    PERSON\n",
              "7          Inshore       LOC\n",
              "8  the middle ages      DATE"
            ]
          },
          "metadata": {
            "tags": []
          },
          "execution_count": 225
        }
      ]
    },
    {
      "cell_type": "code",
      "metadata": {
        "colab": {
          "base_uri": "https://localhost:8080/",
          "height": 314
        },
        "id": "jvc4lqir--T2",
        "outputId": "1d2ead01-c809-4a45-f1cb-55f4fcc3d742"
      },
      "source": [
        "entities = []\r\n",
        "temp = nlp(passage1_book2)\r\n",
        "df_passage21 = ents_to_df(temp)\r\n",
        "df_passage21"
      ],
      "execution_count": 226,
      "outputs": [
        {
          "output_type": "execute_result",
          "data": {
            "text/html": [
              "<div>\n",
              "<style scoped>\n",
              "    .dataframe tbody tr th:only-of-type {\n",
              "        vertical-align: middle;\n",
              "    }\n",
              "\n",
              "    .dataframe tbody tr th {\n",
              "        vertical-align: top;\n",
              "    }\n",
              "\n",
              "    .dataframe thead th {\n",
              "        text-align: right;\n",
              "    }\n",
              "</style>\n",
              "<table border=\"1\" class=\"dataframe\">\n",
              "  <thead>\n",
              "    <tr style=\"text-align: right;\">\n",
              "      <th></th>\n",
              "      <th>Entity</th>\n",
              "      <th>Label</th>\n",
              "    </tr>\n",
              "  </thead>\n",
              "  <tbody>\n",
              "    <tr>\n",
              "      <th>0</th>\n",
              "      <td>morning</td>\n",
              "      <td>TIME</td>\n",
              "    </tr>\n",
              "    <tr>\n",
              "      <th>1</th>\n",
              "      <td>Inshore</td>\n",
              "      <td>PERSON</td>\n",
              "    </tr>\n",
              "    <tr>\n",
              "      <th>2</th>\n",
              "      <td>the dim sea</td>\n",
              "      <td>LOC</td>\n",
              "    </tr>\n",
              "    <tr>\n",
              "      <th>3</th>\n",
              "      <td>two</td>\n",
              "      <td>CARDINAL</td>\n",
              "    </tr>\n",
              "    <tr>\n",
              "      <th>4</th>\n",
              "      <td>two</td>\n",
              "      <td>CARDINAL</td>\n",
              "    </tr>\n",
              "    <tr>\n",
              "      <th>5</th>\n",
              "      <td>Fergus</td>\n",
              "      <td>ORG</td>\n",
              "    </tr>\n",
              "    <tr>\n",
              "      <th>6</th>\n",
              "      <td>Stephen</td>\n",
              "      <td>PERSON</td>\n",
              "    </tr>\n",
              "    <tr>\n",
              "      <th>7</th>\n",
              "      <td>Malachi</td>\n",
              "      <td>PERSON</td>\n",
              "    </tr>\n",
              "    <tr>\n",
              "      <th>8</th>\n",
              "      <td>the middle ages</td>\n",
              "      <td>DATE</td>\n",
              "    </tr>\n",
              "  </tbody>\n",
              "</table>\n",
              "</div>"
            ],
            "text/plain": [
              "            Entity     Label\n",
              "0          morning      TIME\n",
              "1          Inshore    PERSON\n",
              "2      the dim sea       LOC\n",
              "3              two  CARDINAL\n",
              "4              two  CARDINAL\n",
              "5           Fergus       ORG\n",
              "6          Stephen    PERSON\n",
              "7          Malachi    PERSON\n",
              "8  the middle ages      DATE"
            ]
          },
          "metadata": {
            "tags": []
          },
          "execution_count": 226
        }
      ]
    },
    {
      "cell_type": "code",
      "metadata": {
        "id": "tCIXwRuCAHA_"
      },
      "source": [
        "passage2_book2=\"He watched her pour into the measure and thence into the jug rich white milk, not hers. Old shrunken paps. She poured again a measureful and a tilly. Old and secret she had entered from a morning world, maybe a messenger. She praised the goodness of the milk, pouring it out. Crouching by a patient cow at daybreak in the lush field, a witch on her toadstool, her wrinkled fingers quick at the squirting dugs. They lowed about her whom they knew, dewsilky cattle. Silk of the kine and poor old woman, names given her in old times. A wandering crone, lowly form of an immortal serving her conqueror and her gay betrayer, their common cuckquean, a messenger from the secret morning. To serve or to upbraid, whether he could not tell: but scorned to beg her favour.Bill, sir? she said, halting. Well, it’s seven mornings a pint at twopence is seven twos is a shilling and twopence over and these three mornings a quart at fourpence is three quarts is a shilling. That’s a shilling and one and two is two and two, sir.\""
      ],
      "execution_count": 227,
      "outputs": []
    },
    {
      "cell_type": "code",
      "metadata": {
        "colab": {
          "base_uri": "https://localhost:8080/",
          "height": 402
        },
        "id": "tUH7Uh_bB_hW",
        "outputId": "7aef4773-c8a2-405b-f48e-af534d2ae077"
      },
      "source": [
        "manually_passage2_book2_labels=[\r\n",
        "                                ['a morning','TIME'],\r\n",
        "                                ['a secret morning','TIME'],\r\n",
        "                                ['Bill','PERSON'],\r\n",
        "                                ['seven mornings','TIME'],\r\n",
        "                                ['seven', 'CARDINAL'],\r\n",
        "                                ['twos','CARDINAL'],\r\n",
        "                                ['three mornings','TIME'],\r\n",
        "                                ['three','CARDINAL'],\r\n",
        "                                ['one','CARDINAL'],\r\n",
        "                                ['two','CARDINAL'],\r\n",
        "                                ['two','CARDINAL'],\r\n",
        "                                ['two','CARDINAL']\r\n",
        "]\r\n",
        "\r\n",
        "manually_passage2_book2_df = pd.DataFrame(manually_passage2_book2_labels,columns=['Entity','Label'])\r\n",
        "manually_passage2_book2_df"
      ],
      "execution_count": 228,
      "outputs": [
        {
          "output_type": "execute_result",
          "data": {
            "text/html": [
              "<div>\n",
              "<style scoped>\n",
              "    .dataframe tbody tr th:only-of-type {\n",
              "        vertical-align: middle;\n",
              "    }\n",
              "\n",
              "    .dataframe tbody tr th {\n",
              "        vertical-align: top;\n",
              "    }\n",
              "\n",
              "    .dataframe thead th {\n",
              "        text-align: right;\n",
              "    }\n",
              "</style>\n",
              "<table border=\"1\" class=\"dataframe\">\n",
              "  <thead>\n",
              "    <tr style=\"text-align: right;\">\n",
              "      <th></th>\n",
              "      <th>Entity</th>\n",
              "      <th>Label</th>\n",
              "    </tr>\n",
              "  </thead>\n",
              "  <tbody>\n",
              "    <tr>\n",
              "      <th>0</th>\n",
              "      <td>a morning</td>\n",
              "      <td>TIME</td>\n",
              "    </tr>\n",
              "    <tr>\n",
              "      <th>1</th>\n",
              "      <td>a secret morning</td>\n",
              "      <td>TIME</td>\n",
              "    </tr>\n",
              "    <tr>\n",
              "      <th>2</th>\n",
              "      <td>Bill</td>\n",
              "      <td>PERSON</td>\n",
              "    </tr>\n",
              "    <tr>\n",
              "      <th>3</th>\n",
              "      <td>seven mornings</td>\n",
              "      <td>TIME</td>\n",
              "    </tr>\n",
              "    <tr>\n",
              "      <th>4</th>\n",
              "      <td>seven</td>\n",
              "      <td>CARDINAL</td>\n",
              "    </tr>\n",
              "    <tr>\n",
              "      <th>5</th>\n",
              "      <td>twos</td>\n",
              "      <td>CARDINAL</td>\n",
              "    </tr>\n",
              "    <tr>\n",
              "      <th>6</th>\n",
              "      <td>three mornings</td>\n",
              "      <td>TIME</td>\n",
              "    </tr>\n",
              "    <tr>\n",
              "      <th>7</th>\n",
              "      <td>three</td>\n",
              "      <td>CARDINAL</td>\n",
              "    </tr>\n",
              "    <tr>\n",
              "      <th>8</th>\n",
              "      <td>one</td>\n",
              "      <td>CARDINAL</td>\n",
              "    </tr>\n",
              "    <tr>\n",
              "      <th>9</th>\n",
              "      <td>two</td>\n",
              "      <td>CARDINAL</td>\n",
              "    </tr>\n",
              "    <tr>\n",
              "      <th>10</th>\n",
              "      <td>two</td>\n",
              "      <td>CARDINAL</td>\n",
              "    </tr>\n",
              "    <tr>\n",
              "      <th>11</th>\n",
              "      <td>two</td>\n",
              "      <td>CARDINAL</td>\n",
              "    </tr>\n",
              "  </tbody>\n",
              "</table>\n",
              "</div>"
            ],
            "text/plain": [
              "              Entity     Label\n",
              "0          a morning      TIME\n",
              "1   a secret morning      TIME\n",
              "2               Bill    PERSON\n",
              "3     seven mornings      TIME\n",
              "4              seven  CARDINAL\n",
              "5               twos  CARDINAL\n",
              "6     three mornings      TIME\n",
              "7              three  CARDINAL\n",
              "8                one  CARDINAL\n",
              "9                two  CARDINAL\n",
              "10               two  CARDINAL\n",
              "11               two  CARDINAL"
            ]
          },
          "metadata": {
            "tags": []
          },
          "execution_count": 228
        }
      ]
    },
    {
      "cell_type": "code",
      "metadata": {
        "colab": {
          "base_uri": "https://localhost:8080/",
          "height": 402
        },
        "id": "U6PweaMKAZ5w",
        "outputId": "b2aeb55e-614c-4401-f0a6-7adc1b9c0fc1"
      },
      "source": [
        "entities = []\r\n",
        "temp = nlp(passage2_book2)\r\n",
        "df_passage22 = ents_to_df(temp)\r\n",
        "df_passage22"
      ],
      "execution_count": 229,
      "outputs": [
        {
          "output_type": "execute_result",
          "data": {
            "text/html": [
              "<div>\n",
              "<style scoped>\n",
              "    .dataframe tbody tr th:only-of-type {\n",
              "        vertical-align: middle;\n",
              "    }\n",
              "\n",
              "    .dataframe tbody tr th {\n",
              "        vertical-align: top;\n",
              "    }\n",
              "\n",
              "    .dataframe thead th {\n",
              "        text-align: right;\n",
              "    }\n",
              "</style>\n",
              "<table border=\"1\" class=\"dataframe\">\n",
              "  <thead>\n",
              "    <tr style=\"text-align: right;\">\n",
              "      <th></th>\n",
              "      <th>Entity</th>\n",
              "      <th>Label</th>\n",
              "    </tr>\n",
              "  </thead>\n",
              "  <tbody>\n",
              "    <tr>\n",
              "      <th>0</th>\n",
              "      <td>a morning</td>\n",
              "      <td>TIME</td>\n",
              "    </tr>\n",
              "    <tr>\n",
              "      <th>1</th>\n",
              "      <td>the secret morning</td>\n",
              "      <td>TIME</td>\n",
              "    </tr>\n",
              "    <tr>\n",
              "      <th>2</th>\n",
              "      <td>Bill</td>\n",
              "      <td>PERSON</td>\n",
              "    </tr>\n",
              "    <tr>\n",
              "      <th>3</th>\n",
              "      <td>seven mornings</td>\n",
              "      <td>TIME</td>\n",
              "    </tr>\n",
              "    <tr>\n",
              "      <th>4</th>\n",
              "      <td>seven</td>\n",
              "      <td>CARDINAL</td>\n",
              "    </tr>\n",
              "    <tr>\n",
              "      <th>5</th>\n",
              "      <td>twos</td>\n",
              "      <td>ORG</td>\n",
              "    </tr>\n",
              "    <tr>\n",
              "      <th>6</th>\n",
              "      <td>three mornings</td>\n",
              "      <td>TIME</td>\n",
              "    </tr>\n",
              "    <tr>\n",
              "      <th>7</th>\n",
              "      <td>three</td>\n",
              "      <td>CARDINAL</td>\n",
              "    </tr>\n",
              "    <tr>\n",
              "      <th>8</th>\n",
              "      <td>one</td>\n",
              "      <td>CARDINAL</td>\n",
              "    </tr>\n",
              "    <tr>\n",
              "      <th>9</th>\n",
              "      <td>two</td>\n",
              "      <td>CARDINAL</td>\n",
              "    </tr>\n",
              "    <tr>\n",
              "      <th>10</th>\n",
              "      <td>two</td>\n",
              "      <td>CARDINAL</td>\n",
              "    </tr>\n",
              "    <tr>\n",
              "      <th>11</th>\n",
              "      <td>two</td>\n",
              "      <td>CARDINAL</td>\n",
              "    </tr>\n",
              "  </tbody>\n",
              "</table>\n",
              "</div>"
            ],
            "text/plain": [
              "                Entity     Label\n",
              "0            a morning      TIME\n",
              "1   the secret morning      TIME\n",
              "2                 Bill    PERSON\n",
              "3       seven mornings      TIME\n",
              "4                seven  CARDINAL\n",
              "5                 twos       ORG\n",
              "6       three mornings      TIME\n",
              "7                three  CARDINAL\n",
              "8                  one  CARDINAL\n",
              "9                  two  CARDINAL\n",
              "10                 two  CARDINAL\n",
              "11                 two  CARDINAL"
            ]
          },
          "metadata": {
            "tags": []
          },
          "execution_count": 229
        }
      ]
    },
    {
      "cell_type": "code",
      "metadata": {
        "id": "LCMb3ppjyOvt"
      },
      "source": [
        "#funtion to calculate accuracy of the model\r\n",
        "def compute_accuracy(df_man,df_pred):\r\n",
        "  if (df_man.shape[0]>df_pred.shape[0]):\r\n",
        "    den = df_man.shape[0]\r\n",
        "  else:\r\n",
        "    den = df_pred.shape[0]\r\n",
        "  \r\n",
        "  num = 0\r\n",
        "\r\n",
        "  for i in range(0,df_man.shape[0]):\r\n",
        "    for j in range(0,df_pred.shape[0]):\r\n",
        "      if (df_man['Entity'][i] == df_pred['Entity'][j] and df_man['Label'][i] == df_pred['Label'][j]):\r\n",
        "        num = num+1\r\n",
        "        df_pred['Entity'][j] = 'Already Taken'\r\n",
        "  \r\n",
        "  return num,den"
      ],
      "execution_count": 230,
      "outputs": []
    },
    {
      "cell_type": "code",
      "metadata": {
        "colab": {
          "base_uri": "https://localhost:8080/"
        },
        "id": "8hQrwUgi5VbU",
        "outputId": "7830c186-9135-44c9-92ab-67bd8dc82f53"
      },
      "source": [
        "#n1=rightly labelled, d1=total labels\r\n",
        "n1,d1 = compute_accuracy(manually_passage1_book1_df,df_passage11)\r\n",
        "print(n1)\r\n",
        "print(d1)"
      ],
      "execution_count": 231,
      "outputs": [
        {
          "output_type": "stream",
          "text": [
            "11\n",
            "20\n"
          ],
          "name": "stdout"
        }
      ]
    },
    {
      "cell_type": "code",
      "metadata": {
        "colab": {
          "base_uri": "https://localhost:8080/"
        },
        "id": "beReJffv6heA",
        "outputId": "26cc9498-6e20-486c-eeb9-de794c9f0057"
      },
      "source": [
        "#n2=rightly labelled, d2=total labels\r\n",
        "n2,d2 = compute_accuracy(manually_passage2_book1_df,df_passage12)\r\n",
        "print(n2)\r\n",
        "print(d2)"
      ],
      "execution_count": 232,
      "outputs": [
        {
          "output_type": "stream",
          "text": [
            "7\n",
            "10\n"
          ],
          "name": "stdout"
        }
      ]
    },
    {
      "cell_type": "code",
      "metadata": {
        "colab": {
          "base_uri": "https://localhost:8080/"
        },
        "id": "szp2GpH6Efj5",
        "outputId": "ee83c41b-8321-43b9-f6ae-5206da54d41e"
      },
      "source": [
        "#n3=rightly labelled, d3=total labels\r\n",
        "n3,d3 = compute_accuracy(manually_passage1_book2_df,df_passage21)\r\n",
        "print(n3)\r\n",
        "print(d3)"
      ],
      "execution_count": 233,
      "outputs": [
        {
          "output_type": "stream",
          "text": [
            "7\n",
            "9\n"
          ],
          "name": "stdout"
        }
      ]
    },
    {
      "cell_type": "code",
      "metadata": {
        "colab": {
          "base_uri": "https://localhost:8080/"
        },
        "id": "EIdrH0-fEf8-",
        "outputId": "856bf6c7-3cb7-4f88-c161-fe6c81bf2262"
      },
      "source": [
        "#n4=rightly labelled, d4=total labels\r\n",
        "n4,d4 = compute_accuracy(manually_passage2_book2_df,df_passage22)\r\n",
        "print(n4)\r\n",
        "print(d4)"
      ],
      "execution_count": 234,
      "outputs": [
        {
          "output_type": "stream",
          "text": [
            "10\n",
            "12\n"
          ],
          "name": "stdout"
        }
      ]
    },
    {
      "cell_type": "code",
      "metadata": {
        "colab": {
          "base_uri": "https://localhost:8080/"
        },
        "id": "eMp6pyqVFU1X",
        "outputId": "c037f158-75fa-445a-d939-ff5d05a38c08"
      },
      "source": [
        "model_accuracy = (n1+n2+n3+n4)/(d1+d2+d3+d4)\r\n",
        "print(\"Model accuracy is: \", model_accuracy)"
      ],
      "execution_count": 235,
      "outputs": [
        {
          "output_type": "stream",
          "text": [
            "Model accuracy is:  0.6862745098039216\n"
          ],
          "name": "stdout"
        }
      ]
    },
    {
      "cell_type": "markdown",
      "metadata": {
        "id": "5f_6234P9RdU"
      },
      "source": [
        "## **Part - 3**"
      ]
    },
    {
      "cell_type": "code",
      "metadata": {
        "id": "44gdSfZrpQ9G"
      },
      "source": [
        "def filter_spans(spans):\r\n",
        "                                                                                  # Filter a sequence of spans so they don't contain overlaps\r\n",
        "    get_sort_key = lambda span: (span.end - span.start, -span.start)\r\n",
        "    sorted_spans = sorted(spans, key=get_sort_key, reverse=True)\r\n",
        "    result = []\r\n",
        "    seen_tokens = set()\r\n",
        "    for span in sorted_spans:\r\n",
        "                                                                                  # Checking for end (- 1 here because boundaries are inclusive)\r\n",
        "        if span.start not in seen_tokens and span.end - 1 not in seen_tokens:\r\n",
        "            result.append(span)\r\n",
        "        seen_tokens.update(range(span.start, span.end))\r\n",
        "    result = sorted(result, key=lambda span: span.start)\r\n",
        "    return result"
      ],
      "execution_count": 236,
      "outputs": []
    },
    {
      "cell_type": "code",
      "metadata": {
        "id": "ZuYE1Lr8n1Lc"
      },
      "source": [
        "def extract_relations(doc):\r\n",
        "                                                                                  # Merging entities and noun chunks into single token\r\n",
        "    spans = list(doc.ents) + list(doc.noun_chunks)\r\n",
        "    spans = filter_spans(spans)\r\n",
        "    with doc.retokenize() as retokenizer:\r\n",
        "        for span in spans:\r\n",
        "            retokenizer.merge(span)\r\n",
        "\r\n",
        "    relations = []\r\n",
        "    for money in filter(lambda w: w.ent_type_ == \"TIME\", doc):\r\n",
        "        if money.dep_ in (\"attr\", \"dobj\"):\r\n",
        "            subject = [w for w in money.head.lefts if w.dep_ == \"nsubj\"]\r\n",
        "            if subject:\r\n",
        "                subject = subject[0]\r\n",
        "                relations.append((subject, money))\r\n",
        "        elif money.dep_ == \"pobj\" and money.head.dep_ == \"prep\":\r\n",
        "            relations.append((money.head.head, money))\r\n",
        "    return relations"
      ],
      "execution_count": 237,
      "outputs": []
    },
    {
      "cell_type": "code",
      "metadata": {
        "colab": {
          "base_uri": "https://localhost:8080/"
        },
        "id": "5U-XxUatEDWp",
        "outputId": "f637347f-077c-405b-fb21-cd6df9ebc650"
      },
      "source": [
        "model=\"en_core_web_sm\"\r\n",
        "nlp = spacy.load(model)\r\n",
        "print(\"'%s' is loaded now:\" % model)\r\n",
        "print(\"Processing %d number of sentences\" % len(nltk.sent_tokenize(passage2_book2)))\r\n",
        "\r\n",
        "for text in nltk.sent_tokenize(passage2_book2):\r\n",
        "    doc = nlp(text)\r\n",
        "    relations = extract_relations(doc)\r\n",
        "    for r1, r2 in relations:\r\n",
        "        print(\"{:<10}\\t{}\\t{}\".format(r1.text, r2.ent_type_, r2.text))"
      ],
      "execution_count": 238,
      "outputs": [
        {
          "output_type": "stream",
          "text": [
            "'en_core_web_sm' is loaded now:\n",
            "Processing 13 number of sentences\n",
            "a messenger\tTIME\tthe secret morning\n",
            "it        \tTIME\tseven mornings\n"
          ],
          "name": "stdout"
        }
      ]
    }
  ]
}